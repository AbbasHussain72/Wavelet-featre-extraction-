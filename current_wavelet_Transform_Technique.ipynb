{
  "cells": [
    {
      "cell_type": "markdown",
      "metadata": {
        "id": "view-in-github",
        "colab_type": "text"
      },
      "source": [
        "<a href=\"https://colab.research.google.com/github/AbbasHussain72/Wavelet-featre-extraction-/blob/main/current_wavelet_Transform_Technique.ipynb\" target=\"_parent\"><img src=\"https://colab.research.google.com/assets/colab-badge.svg\" alt=\"Open In Colab\"/></a>"
      ]
    },
    {
      "cell_type": "code",
      "execution_count": 1,
      "id": "5bc96d7f",
      "metadata": {
        "id": "5bc96d7f"
      },
      "outputs": [],
      "source": [
        "import h5py\n",
        "import pandas as pd\n",
        "import numpy as np\n",
        "import math\n",
        "import matplotlib\n",
        "import matplotlib.pyplot as plt\n",
        "from scipy import stats\n",
        "from matplotlib.widgets import SpanSelector\n",
        "import glob\n",
        "import os\n",
        "import re"
      ]
    },
    {
      "cell_type": "code",
      "source": [
        "from google.colab import drive\n",
        "drive.mount('/content/drive')"
      ],
      "metadata": {
        "colab": {
          "base_uri": "https://localhost:8080/"
        },
        "id": "lua8Ww8vabiJ",
        "outputId": "f199330c-945e-468e-d06b-3d306c40005b"
      },
      "id": "lua8Ww8vabiJ",
      "execution_count": 2,
      "outputs": [
        {
          "output_type": "stream",
          "name": "stdout",
          "text": [
            "Mounted at /content/drive\n"
          ]
        }
      ]
    },
    {
      "cell_type": "code",
      "execution_count": 36,
      "id": "0bbec88d",
      "metadata": {
        "id": "0bbec88d"
      },
      "outputs": [],
      "source": [
        "#read csv to append the data and reset index\n",
        "path = '/content/drive/MyDrive/goodbaddata.csv'\n",
        "masterdata = pd.read_csv(path,sep='\\t')\n",
        "masterdata = masterdata.drop(['Unnamed: 0'], axis = 1)"
      ]
    },
    {
      "cell_type": "code",
      "execution_count": 37,
      "id": "a032198b",
      "metadata": {
        "id": "a032198b"
      },
      "outputs": [],
      "source": [
        "#To take interested data\n",
        "df = masterdata[(masterdata['Tool'] == 'OP01') | (masterdata['Tool'] == 'OP02')| (masterdata['Tool'] == 'OP04')| (masterdata['Tool'] == 'OP07')| (masterdata['Tool'] == 'OP10')]"
      ]
    },
    {
      "cell_type": "code",
      "source": [
        "df.shape"
      ],
      "metadata": {
        "colab": {
          "base_uri": "https://localhost:8080/"
        },
        "id": "FAZArVo9SbnL",
        "outputId": "bc438e02-5cfd-49fe-bd08-04f72c27d267"
      },
      "id": "FAZArVo9SbnL",
      "execution_count": 35,
      "outputs": [
        {
          "output_type": "execute_result",
          "data": {
            "text/plain": [
              "(16605837, 9)"
            ]
          },
          "metadata": {},
          "execution_count": 35
        }
      ]
    },
    {
      "cell_type": "code",
      "source": [
        "#Function for balancing the data according to condition\n",
        "def balance(df,con1,con2,con3):\n",
        "  v = []\n",
        "  v = df[(df['Tool'] == con1) & (df['Condition'] == con2)& (df['Machine'] == con3)].index\n",
        "  f = df[(df['Tool'] == 'OP02') & (df['Condition'] == 'bad') & (df['Machine'] == 'M01')].index\n",
        "\n",
        "\n",
        "  # h = df[(df['Tool'] == 'con1') & (df['Condition'] == 'con2')].shape\n",
        "  bb = abs(len(v)- len(f))\n",
        "  v = v[0:bb]\n",
        "  new = df.loc[df.index.drop(v)]\n",
        "\n",
        "  return new"
      ],
      "metadata": {
        "id": "daEUPM-rN_B5"
      },
      "id": "daEUPM-rN_B5",
      "execution_count": 38,
      "outputs": []
    },
    {
      "cell_type": "code",
      "source": [
        "df = balance(df,'OP02','good','M01')\n",
        "df = balance(df,'OP02','good','M02')\n",
        "df = balance(df,'OP02','good','M03')\n",
        "df = balance(df,'OP02','bad','M02')\n",
        "df = balance(df,'OP02','bad','M03')\n",
        "df = balance(df,'OP01','good','M01')\n",
        "df = balance(df,'OP01','good','M02')\n",
        "df = balance(df,'OP01','good','M03')\n",
        "df = balance(df,'OP01','bad','M01')\n",
        "df = balance(df,'OP01','bad','M02')\n",
        "df = balance(df,'OP01','bad','M03')\n",
        "df = balance(df,'OP04','good','M01')\n",
        "df = balance(df,'OP04','good','M02')\n",
        "df = balance(df,'OP04','good','M03')\n",
        "df = balance(df,'OP04','bad','M01')\n",
        "df = balance(df,'OP04','bad','M02')\n",
        "df = balance(df,'OP04','bad','M03')\n",
        "df = balance(df,'OP07','good','M01')\n",
        "df = balance(df,'OP07','good','M02')\n",
        "df = balance(df,'OP07','good','M03')\n",
        "df = balance(df,'OP07','bad','M01')\n",
        "df = balance(df,'OP07','bad','M02')\n",
        "df = balance(df,'OP07','bad','M03')\n",
        "df = balance(df,'OP10','good','M01')\n",
        "df = balance(df,'OP10','good','M02')\n",
        "df = balance(df,'OP10','good','M03')\n",
        "df = balance(df,'OP10','bad','M01')\n",
        "df = balance(df,'OP10','bad','M02')\n",
        "df = balance(df,'OP10','bad','M03')\n",
        "\n",
        "# df = balance(df,'OP04','bad')\n",
        "# df = balance(df,'OP06','good')\n",
        "# df = balance(df,'OP06','bad')\n",
        "# df = balance(df,'OP07','good')\n",
        "# df = balance(df,'OP07','bad')\n",
        "# df = balance(df,'OP08','good')\n",
        "# df = balance(df,'OP08','bad')\n",
        "# df = balance(df,'OP10','good')\n",
        "# df = balance(df,'OP10','bad')\n",
        "# df = balance(df,'OP11','good')\n",
        "# df = balance(df,'OP11','bad')\n",
        "# df = balance(df,'OP12','good')\n",
        "# df = balance(df,'OP12','bad')\n",
        "# df = balance(df,'OP14','good')\n",
        "#df = balance(df,'OP01','bad')\n",
        "\n"
      ],
      "metadata": {
        "id": "1XPTcwu-aC4D"
      },
      "id": "1XPTcwu-aC4D",
      "execution_count": 39,
      "outputs": []
    },
    {
      "cell_type": "code",
      "source": [
        "# Grouped the data for bar plot\n",
        "grouped = df.groupby(['Tool', 'Machine', 'Condition']).size().reset_index(name='counts')\n",
        "\n",
        "# Pivot the data to create a stacked bar plot\n",
        "pivot = grouped.pivot_table(index=['Tool', 'Machine'], columns='Condition', values='counts', aggfunc='sum', fill_value=0)\n",
        "\n",
        "# Plot the stacked bar chart\n",
        "colors = {'good': 'blue', 'bad': 'black'}\n",
        "ax = pivot.plot.bar(stacked=True, color=[colors[c] for c in pivot.columns], figsize=(10, 6))\n",
        "\n",
        "# Set the labels for the axes and the title\n",
        "ax.set_xlabel('Tool, Machine')\n",
        "ax.set_ylabel('Counts')\n",
        "ax.set_title('Counts of Good and Bad Conditions for Tools and Machines')\n",
        "\n",
        "# Show the plot\n",
        "plt.show()\n"
      ],
      "metadata": {
        "colab": {
          "base_uri": "https://localhost:8080/",
          "height": 456
        },
        "id": "CEuoEzNG_D05",
        "outputId": "721401af-addd-4b56-ba54-abc03c1b9586"
      },
      "id": "CEuoEzNG_D05",
      "execution_count": 40,
      "outputs": [
        {
          "output_type": "display_data",
          "data": {
            "text/plain": [
              "<Figure size 720x432 with 1 Axes>"
            ],
            "image/png": "[encoded data removed]"
          },
          "metadata": {}
        }
      ]
    },
    {
      "cell_type": "code",
      "source": [
        "import seaborn as sns\n",
        "# Create a grouped bar chart\n",
        "sns.catplot(x=\"Machine\", y=\"counts\", hue=\"Condition\", col=\"Tool\", data=grouped, kind=\"bar\", height=4, aspect=.7)\n"
      ],
      "metadata": {
        "id": "rXHwPxqx-KmL",
        "outputId": "59da3653-4873-4db6-b023-ed275fcd4134",
        "colab": {
          "base_uri": "https://localhost:8080/",
          "height": 213
        }
      },
      "id": "rXHwPxqx-KmL",
      "execution_count": 41,
      "outputs": [
        {
          "output_type": "execute_result",
          "data": {
            "text/plain": [
              "<seaborn.axisgrid.FacetGrid at 0x7fbc37041310>"
            ]
          },
          "metadata": {},
          "execution_count": 41
        },
        {
          "output_type": "display_data",
          "data": {
            "text/plain": [
              "<Figure size 1068.75x288 with 5 Axes>"
            ],
            "image/png": "[encoded data removed]"
          },
          "metadata": {}
        }
      ]
    },
    {
      "cell_type": "code",
      "execution_count": 60,
      "id": "a9e2fee9",
      "metadata": {
        "id": "a9e2fee9",
        "outputId": "b7e2f091-1609-4d10-bbf0-19d7ebf62ee9",
        "colab": {
          "base_uri": "https://localhost:8080/",
          "height": 470
        }
      },
      "outputs": [
        {
          "output_type": "display_data",
          "data": {
            "text/plain": [
              "<Figure size 720x504 with 1 Axes>"
            ],
            "image/png": "[encoded data removed]"
          },
          "metadata": {}
        },
        {
          "output_type": "display_data",
          "data": {
            "text/plain": [
              "<Figure size 432x288 with 0 Axes>"
            ]
          },
          "metadata": {}
        }
      ],
      "source": [
        "#plotting the data\n",
        "import seaborn as sns\n",
        "from scipy import stats\n",
        "from scipy.signal import find_peaks\n",
        "sns.set_style('whitegrid')\n",
        "plt.figure(figsize = (10, 7))\n",
        "sns.countplot(x = 'Tool',hue = 'Condition',data = df,palette=['blue', 'green'])\n",
        "#plt.title('Number of samples', fontsize=16)\n",
        "plt.xlabel('Process_Quality', fontsize=16)\n",
        "plt.ylabel('# Number of samples', fontsize=16)\n",
        "plt.xticks(fontsize=14)\n",
        "plt.yticks(fontsize=14)\n",
        "plt.grid(False)\n",
        "\n",
        "# Set the limits of the x and y axes\n",
        "#plt.xlim(left=-0.5, right=2.5)\n",
        "plt.ylim(bottom=0, top=260000)\n",
        "\n",
        "# Get the current legend handles and labels\n",
        "handles, labels = plt.gca().get_legend_handles_labels()\n",
        "\n",
        "# Modify the labels\n",
        "labels[0] = 'Good'\n",
        "labels[1] = 'Bad'\n",
        "\n",
        "# Create a new legend with the modified labels\n",
        "plt.legend(handles, labels, fontsize = 14,ncol=2)\n",
        "\n",
        "plt.show()\n",
        "plt.clf()"
      ]
    },
    {
      "cell_type": "code",
      "source": [
        "plt.savefig('plot.tiff', dpi=300)"
      ],
      "metadata": {
        "id": "I3w2LEt6ORVT",
        "outputId": "8d2d56fe-8aec-4889-95ae-19d01b60960c",
        "colab": {
          "base_uri": "https://localhost:8080/",
          "height": 34
        }
      },
      "id": "I3w2LEt6ORVT",
      "execution_count": 61,
      "outputs": [
        {
          "output_type": "display_data",
          "data": {
            "text/plain": [
              "<Figure size 432x288 with 0 Axes>"
            ]
          },
          "metadata": {}
        }
      ]
    },
    {
      "cell_type": "code",
      "source": [
        "df.to_csv('goodbaddatanewbalanced.csv', sep='\\t') # relative position"
      ],
      "metadata": {
        "id": "T0MIDQLnp7cX"
      },
      "id": "T0MIDQLnp7cX",
      "execution_count": 43,
      "outputs": []
    },
    {
      "cell_type": "markdown",
      "id": "7f40ba41",
      "metadata": {
        "id": "7f40ba41"
      },
      "source": [
        "# Feature Extraction using Wavelet Packet Analysis"
      ]
    },
    {
      "cell_type": "code",
      "execution_count": null,
      "id": "33a62338",
      "metadata": {
        "id": "33a62338"
      },
      "outputs": [],
      "source": [
        "df['Repeat'] = df['Repeat'].astype(str)\n",
        "df['newcol'] = df['Machine'] +  df['Date'] + df['Tool'] + df['Condition'] + df['Repeat']\n",
        "df = df.reset_index(drop = True)"
      ]
    },
    {
      "cell_type": "code",
      "execution_count": null,
      "id": "99227e45",
      "metadata": {
        "id": "99227e45",
        "outputId": "1dcaebcd-a326-4401-eb3b-059a930bd31d",
        "colab": {
          "base_uri": "https://localhost:8080/",
          "height": 206
        }
      },
      "outputs": [
        {
          "output_type": "execute_result",
          "data": {
            "text/plain": [
              "  Machine     Date  Tool Condition Repeat  Time (s)      X      Y       Z  \\\n",
              "0     M01  Aug2019  OP01       bad      0    4.9075  -80.0  279.0 -1091.0   \n",
              "1     M01  Aug2019  OP01       bad      0    4.9080   44.0  216.0 -1286.0   \n",
              "2     M01  Aug2019  OP01       bad      0    4.9085 -122.0  144.0 -1245.0   \n",
              "3     M01  Aug2019  OP01       bad      0    4.9090   64.0  -89.0 -1177.0   \n",
              "4     M01  Aug2019  OP01       bad      0    4.9095  -40.0 -261.0  -981.0   \n",
              "\n",
              "               newcol  \n",
              "0  M01Aug2019OP01bad0  \n",
              "1  M01Aug2019OP01bad0  \n",
              "2  M01Aug2019OP01bad0  \n",
              "3  M01Aug2019OP01bad0  \n",
              "4  M01Aug2019OP01bad0  "
            ],
            "text/html": [
              "\n",
              "  <div id=\"df-4cf3aea4-a417-4df5-a6a5-53b992ca1b2c\">\n",
              "    <div class=\"colab-df-container\">\n",
              "      <div>\n",
              "<style scoped>\n",
              "    .dataframe tbody tr th:only-of-type {\n",
              "        vertical-align: middle;\n",
              "    }\n",
              "\n",
              "    .dataframe tbody tr th {\n",
              "        vertical-align: top;\n",
              "    }\n",
              "\n",
              "    .dataframe thead th {\n",
              "        text-align: right;\n",
              "    }\n",
              "</style>\n",
              "<table border=\"1\" class=\"dataframe\">\n",
              "  <thead>\n",
              "    <tr style=\"text-align: right;\">\n",
              "      <th></th>\n",
              "      <th>Machine</th>\n",
              "      <th>Date</th>\n",
              "      <th>Tool</th>\n",
              "      <th>Condition</th>\n",
              "      <th>Repeat</th>\n",
              "      <th>Time (s)</th>\n",
              "      <th>X</th>\n",
              "      <th>Y</th>\n",
              "      <th>Z</th>\n",
              "      <th>newcol</th>\n",
              "    </tr>\n",
              "  </thead>\n",
              "  <tbody>\n",
              "    <tr>\n",
              "      <th>0</th>\n",
              "      <td>M01</td>\n",
              "      <td>Aug2019</td>\n",
              "      <td>OP01</td>\n",
              "      <td>bad</td>\n",
              "      <td>0</td>\n",
              "      <td>4.9075</td>\n",
              "      <td>-80.0</td>\n",
              "      <td>279.0</td>\n",
              "      <td>-1091.0</td>\n",
              "      <td>M01Aug2019OP01bad0</td>\n",
              "    </tr>\n",
              "    <tr>\n",
              "      <th>1</th>\n",
              "      <td>M01</td>\n",
              "      <td>Aug2019</td>\n",
              "      <td>OP01</td>\n",
              "      <td>bad</td>\n",
              "      <td>0</td>\n",
              "      <td>4.9080</td>\n",
              "      <td>44.0</td>\n",
              "      <td>216.0</td>\n",
              "      <td>-1286.0</td>\n",
              "      <td>M01Aug2019OP01bad0</td>\n",
              "    </tr>\n",
              "    <tr>\n",
              "      <th>2</th>\n",
              "      <td>M01</td>\n",
              "      <td>Aug2019</td>\n",
              "      <td>OP01</td>\n",
              "      <td>bad</td>\n",
              "      <td>0</td>\n",
              "      <td>4.9085</td>\n",
              "      <td>-122.0</td>\n",
              "      <td>144.0</td>\n",
              "      <td>-1245.0</td>\n",
              "      <td>M01Aug2019OP01bad0</td>\n",
              "    </tr>\n",
              "    <tr>\n",
              "      <th>3</th>\n",
              "      <td>M01</td>\n",
              "      <td>Aug2019</td>\n",
              "      <td>OP01</td>\n",
              "      <td>bad</td>\n",
              "      <td>0</td>\n",
              "      <td>4.9090</td>\n",
              "      <td>64.0</td>\n",
              "      <td>-89.0</td>\n",
              "      <td>-1177.0</td>\n",
              "      <td>M01Aug2019OP01bad0</td>\n",
              "    </tr>\n",
              "    <tr>\n",
              "      <th>4</th>\n",
              "      <td>M01</td>\n",
              "      <td>Aug2019</td>\n",
              "      <td>OP01</td>\n",
              "      <td>bad</td>\n",
              "      <td>0</td>\n",
              "      <td>4.9095</td>\n",
              "      <td>-40.0</td>\n",
              "      <td>-261.0</td>\n",
              "      <td>-981.0</td>\n",
              "      <td>M01Aug2019OP01bad0</td>\n",
              "    </tr>\n",
              "  </tbody>\n",
              "</table>\n",
              "</div>\n",
              "      <button class=\"colab-df-convert\" onclick=\"convertToInteractive('df-4cf3aea4-a417-4df5-a6a5-53b992ca1b2c')\"\n",
              "              title=\"Convert this dataframe to an interactive table.\"\n",
              "              style=\"display:none;\">\n",
              "        \n",
              "  <svg xmlns=\"http://www.w3.org/2000/svg\" height=\"24px\"viewBox=\"0 0 24 24\"\n",
              "       width=\"24px\">\n",
              "    <path d=\"M0 0h24v24H0V0z\" fill=\"none\"/>\n",
              "    <path d=\"M18.56 5.44l.94 2.06.94-2.06 2.06-.94-2.06-.94-.94-2.06-.94 2.06-2.06.94zm-11 1L8.5 8.5l.94-2.06 2.06-.94-2.06-.94L8.5 2.5l-.94 2.06-2.06.94zm10 10l.94 2.06.94-2.06 2.06-.94-2.06-.94-.94-2.06-.94 2.06-2.06.94z\"/><path d=\"M17.41 7.96l-1.37-1.37c-.4-.4-.92-.59-1.43-.59-.52 0-1.04.2-1.43.59L10.3 9.45l-7.72 7.72c-.78.78-.78 2.05 0 2.83L4 21.41c.39.39.9.59 1.41.59.51 0 1.02-.2 1.41-.59l7.78-7.78 2.81-2.81c.8-.78.8-2.07 0-2.86zM5.41 20L4 18.59l7.72-7.72 1.47 1.35L5.41 20z\"/>\n",
              "  </svg>\n",
              "      </button>\n",
              "      \n",
              "  <style>\n",
              "    .colab-df-container {\n",
              "      display:flex;\n",
              "      flex-wrap:wrap;\n",
              "      gap: 12px;\n",
              "    }\n",
              "\n",
              "    .colab-df-convert {\n",
              "      background-color: #E8F0FE;\n",
              "      border: none;\n",
              "      border-radius: 50%;\n",
              "      cursor: pointer;\n",
              "      display: none;\n",
              "      fill: #1967D2;\n",
              "      height: 32px;\n",
              "      padding: 0 0 0 0;\n",
              "      width: 32px;\n",
              "    }\n",
              "\n",
              "    .colab-df-convert:hover {\n",
              "      background-color: #E2EBFA;\n",
              "      box-shadow: 0px 1px 2px rgba(60, 64, 67, 0.3), 0px 1px 3px 1px rgba(60, 64, 67, 0.15);\n",
              "      fill: #174EA6;\n",
              "    }\n",
              "\n",
              "    [theme=dark] .colab-df-convert {\n",
              "      background-color: #3B4455;\n",
              "      fill: #D2E3FC;\n",
              "    }\n",
              "\n",
              "    [theme=dark] .colab-df-convert:hover {\n",
              "      background-color: #434B5C;\n",
              "      box-shadow: 0px 1px 3px 1px rgba(0, 0, 0, 0.15);\n",
              "      filter: drop-shadow(0px 1px 2px rgba(0, 0, 0, 0.3));\n",
              "      fill: #FFFFFF;\n",
              "    }\n",
              "  </style>\n",
              "\n",
              "      <script>\n",
              "        const buttonEl =\n",
              "          document.querySelector('#df-4cf3aea4-a417-4df5-a6a5-53b992ca1b2c button.colab-df-convert');\n",
              "        buttonEl.style.display =\n",
              "          google.colab.kernel.accessAllowed ? 'block' : 'none';\n",
              "\n",
              "        async function convertToInteractive(key) {\n",
              "          const element = document.querySelector('#df-4cf3aea4-a417-4df5-a6a5-53b992ca1b2c');\n",
              "          const dataTable =\n",
              "            await google.colab.kernel.invokeFunction('convertToInteractive',\n",
              "                                                     [key], {});\n",
              "          if (!dataTable) return;\n",
              "\n",
              "          const docLinkHtml = 'Like what you see? Visit the ' +\n",
              "            '<a target=\"_blank\" href=https://colab.research.google.com/notebooks/data_table.ipynb>data table notebook</a>'\n",
              "            + ' to learn more about interactive tables.';\n",
              "          element.innerHTML = '';\n",
              "          dataTable['output_type'] = 'display_data';\n",
              "          await google.colab.output.renderOutput(dataTable, element);\n",
              "          const docLink = document.createElement('div');\n",
              "          docLink.innerHTML = docLinkHtml;\n",
              "          element.appendChild(docLink);\n",
              "        }\n",
              "      </script>\n",
              "    </div>\n",
              "  </div>\n",
              "  "
            ]
          },
          "metadata": {},
          "execution_count": 89
        }
      ],
      "source": [
        "df.head()"
      ]
    },
    {
      "cell_type": "markdown",
      "id": "68b93b56",
      "metadata": {
        "id": "68b93b56"
      },
      "source": [
        "##  Number of segment for each file"
      ]
    },
    {
      "cell_type": "code",
      "execution_count": null,
      "id": "51fad062",
      "metadata": {
        "id": "51fad062",
        "outputId": "804c91a8-f47d-4b3f-92f0-26f203ceb3a8",
        "colab": {
          "base_uri": "https://localhost:8080/"
        }
      },
      "outputs": [
        {
          "output_type": "stream",
          "name": "stdout",
          "text": [
            "M01Aug2019OP01bad0\n",
            "28\n",
            "M01Feb2019OP01bad0\n",
            "46\n",
            "M01Feb2019OP02bad0\n",
            "70\n",
            "M01Aug2021OP07bad1\n",
            "38\n",
            "182\n"
          ]
        }
      ],
      "source": [
        "sum1=[]\n",
        "window_size = 2000\n",
        "step_size = 1000\n",
        "for i in df['newcol'].unique():\n",
        "    print (i)\n",
        "    master_data =df[(df['newcol'] == i)]\n",
        "    v = 0\n",
        "    for j in range(0, master_data.shape[0] - window_size, step_size):\n",
        "        v = v+1\n",
        "    print(v)\n",
        "        #num_segments = np.floor(len(master_data )/1000)\n",
        "    sum1.append(v)\n",
        "    #print(num_segments)\n",
        "print(np.sum(sum1))"
      ]
    },
    {
      "cell_type": "code",
      "execution_count": null,
      "id": "ef767a35",
      "metadata": {
        "id": "ef767a35"
      },
      "outputs": [],
      "source": [
        "# def compute_shannon_entropy(signal):\n",
        "#     return -np.nansum(signal**2 * np.log(signal**2)) # nansum to exclude pesky terms like \"0*np.log(0)\""
      ]
    },
    {
      "cell_type": "code",
      "execution_count": null,
      "id": "1e226d29",
      "metadata": {
        "id": "1e226d29"
      },
      "outputs": [],
      "source": [
        "# Function to find the entropy of the signal\n",
        "\n",
        "from scipy.stats import entropy\n",
        "from math import log, e\n",
        "import pandas as pd\n",
        "\n",
        "\n",
        "def entropy2(labels, base=None):\n",
        "  \"\"\" Computes entropy of label distribution. \"\"\"\n",
        "\n",
        "  n_labels = len(labels)\n",
        "\n",
        "  if n_labels <= 1:\n",
        "    return 0\n",
        "\n",
        "  value,counts = np.unique(labels, return_counts=True)\n",
        "  probs = counts / n_labels\n",
        "  n_classes = np.count_nonzero(probs)\n",
        "\n",
        "  if n_classes <= 1:\n",
        "    return 0\n",
        "\n",
        "  ent = 0.\n",
        "\n",
        "  # Compute entropy\n",
        "  base = e if base is None else base\n",
        "  for i in probs:\n",
        "    ent -= i * log(i, base)\n",
        "\n",
        "  return ent"
      ]
    },
    {
      "cell_type": "markdown",
      "id": "aeb9db8f",
      "metadata": {
        "id": "aeb9db8f"
      },
      "source": [
        "## Mother wavelet selection based on Minimum Entropy criteria"
      ]
    },
    {
      "cell_type": "code",
      "execution_count": null,
      "id": "02f7e4dc",
      "metadata": {
        "id": "02f7e4dc"
      },
      "outputs": [],
      "source": [
        "# import collections\n",
        " \n",
        "# from scipy.stats import entropy\n",
        "  \n",
        "# def estimate_shannon_entropy(dna_sequence):\n",
        "#     bases = collections.Counter([tmp_base for tmp_base in dna_sequence])\n",
        "#     # define distribution\n",
        "#     dist = [x/sum(bases.values()) for x in bases.values()]\n",
        " \n",
        "#     # use scipy to calculate entropy\n",
        "#     entropy_value = entropy(dist, base=2)\n",
        " \n",
        "#     return entropy_value\n",
        "\n"
      ]
    },
    {
      "cell_type": "code",
      "execution_count": null,
      "id": "aeb1882f",
      "metadata": {
        "id": "aeb1882f",
        "outputId": "e82aa945-194b-4a14-ab46-6995706d0302"
      },
      "outputs": [
        {
          "data": {
            "text/plain": [
              "257"
            ]
          },
          "execution_count": 10,
          "metadata": {},
          "output_type": "execute_result"
        }
      ],
      "source": [
        "#len(df['newcol'].unique())"
      ]
    },
    {
      "cell_type": "code",
      "execution_count": null,
      "id": "10f06686",
      "metadata": {
        "id": "10f06686"
      },
      "outputs": [],
      "source": [
        "# wavelet_feature_m = pd.DataFrame() "
      ]
    },
    {
      "cell_type": "code",
      "execution_count": null,
      "id": "537dd0f5",
      "metadata": {
        "collapsed": true,
        "id": "537dd0f5",
        "outputId": "bb6ef674-9902-4e3f-dd0b-215d33e76340"
      },
      "outputs": [
        {
          "name": "stdout",
          "output_type": "stream",
          "text": [
            "M02Aug2019OP01bad0\n",
            "M02Feb2019OP01bad0\n",
            "M02Feb2019OP01bad1\n",
            "M02Feb2019OP02bad0\n",
            "M02Feb2019OP02bad1\n",
            "M02Aug2019OP04bad0\n",
            "M02Feb2019OP04bad0\n",
            "M02Feb2019OP04bad2\n",
            "M02Aug2019OP07bad0\n",
            "M02Feb2019OP07bad0\n",
            "M02Feb2019OP07bad1\n",
            "M02Feb2019OP10bad0\n",
            "M02Feb2019OP10bad1\n",
            "M03Aug2019OP01bad0\n",
            "M03Feb2021OP01bad0\n",
            "M03Feb2021OP02bad0\n",
            "M03Aug2019OP04bad0\n",
            "M03Feb2021OP04bad0\n",
            "M03Aug2019OP07bad0\n",
            "M03Aug2021OP07bad0\n",
            "M03Feb2021OP07bad0\n",
            "M03Aug2021OP10bad0\n",
            "M02Aug2019OP01good0\n",
            "M02Aug2019OP01good1\n",
            "M02Aug2019OP01good2\n",
            "M02Aug2020OP01good0\n",
            "M02Aug2020OP01good1\n",
            "M02Aug2020OP01good2\n",
            "M02Aug2021OP01good0\n",
            "M02Aug2021OP01good1\n",
            "M02Aug2021OP01good2\n",
            "M02Feb2019OP01good0\n",
            "M02Feb2019OP01good1\n",
            "M02Feb2019OP01good2\n",
            "M02Feb2020OP01good0\n",
            "M02Feb2020OP01good1\n",
            "M02Feb2020OP01good2\n",
            "M02Feb2021OP01good0\n",
            "M02Feb2021OP01good1\n",
            "M02Feb2021OP01good2\n",
            "M02Aug2019OP02good0\n",
            "M02Aug2019OP02good1\n",
            "M02Aug2019OP02good2\n",
            "M02Aug2020OP02good0\n",
            "M02Aug2020OP02good1\n",
            "M02Aug2020OP02good2\n",
            "M02Aug2021OP02good0\n",
            "M02Aug2021OP02good1\n",
            "M02Aug2021OP02good2\n",
            "M02Feb2019OP02good0\n",
            "M02Feb2019OP02good1\n",
            "M02Feb2019OP02good2\n",
            "M02Feb2020OP02good0\n",
            "M02Feb2020OP02good1\n",
            "M02Feb2020OP02good2\n",
            "M02Feb2021OP02good0\n",
            "M02Feb2021OP02good1\n",
            "M02Feb2021OP02good2\n",
            "M02Aug2019OP04good0\n",
            "M02Aug2019OP04good1\n",
            "M02Aug2019OP04good2\n",
            "M02Aug2020OP04good0\n",
            "M02Aug2020OP04good1\n",
            "M02Aug2020OP04good2\n",
            "M02Aug2021OP04good0\n",
            "M02Aug2021OP04good1\n",
            "M02Aug2021OP04good2\n",
            "M02Feb2019OP04good0\n",
            "M02Feb2019OP04good1\n",
            "M02Feb2019OP04good2\n",
            "M02Feb2021OP04good0\n",
            "M02Feb2021OP04good1\n",
            "M02Feb2021OP04good2\n",
            "M02Aug2019OP07good0\n",
            "M02Aug2019OP07good1\n",
            "M02Aug2019OP07good2\n",
            "M02Aug2020OP07good0\n",
            "M02Aug2020OP07good1\n",
            "M02Aug2020OP07good2\n",
            "M02Aug2021OP07good0\n",
            "M02Aug2021OP07good1\n",
            "M02Aug2021OP07good2\n",
            "M02Feb2019OP07good0\n",
            "M02Feb2019OP07good1\n",
            "M02Feb2019OP07good2\n",
            "M02Feb2020OP07good0\n",
            "M02Feb2020OP07good1\n",
            "M02Feb2020OP07good2\n",
            "M02Feb2021OP07good0\n",
            "M02Feb2021OP07good1\n",
            "M02Feb2021OP07good2\n",
            "M02Aug2019OP10good0\n",
            "M02Aug2019OP10good1\n",
            "M02Aug2019OP10good2\n",
            "M02Aug2020OP10good0\n",
            "M02Aug2020OP10good1\n",
            "M02Aug2020OP10good2\n",
            "M02Aug2021OP10good0\n",
            "M02Aug2021OP10good1\n",
            "M02Feb2019OP10good0\n",
            "M02Feb2020OP10good0\n",
            "M02Feb2020OP10good1\n",
            "M02Feb2020OP10good2\n",
            "M02Feb2021OP10good0\n",
            "M02Feb2021OP10good1\n",
            "M02Feb2021OP10good2\n",
            "M03Aug2019OP01good0\n",
            "M03Aug2019OP01good1\n",
            "M03Aug2019OP01good2\n",
            "M03Aug2020OP01good0\n",
            "M03Aug2020OP01good1\n",
            "M03Aug2020OP01good2\n",
            "M03Aug2021OP01good0\n",
            "M03Aug2021OP01good1\n",
            "M03Aug2021OP01good2\n",
            "M03Feb2020OP01good0\n",
            "M03Feb2020OP01good1\n",
            "M03Feb2020OP01good2\n",
            "M03Feb2021OP01good0\n",
            "M03Feb2021OP01good1\n",
            "M03Feb2021OP01good2\n",
            "M03Aug2019OP02good0\n",
            "M03Aug2019OP02good1\n",
            "M03Aug2019OP02good2\n",
            "M03Aug2020OP02good0\n",
            "M03Aug2020OP02good1\n",
            "M03Aug2020OP02good2\n",
            "M03Aug2021OP02good0\n",
            "M03Aug2021OP02good1\n",
            "M03Aug2021OP02good2\n",
            "M03Feb2020OP02good0\n",
            "M03Feb2020OP02good1\n",
            "M03Feb2020OP02good2\n",
            "M03Feb2021OP02good0\n",
            "M03Feb2021OP02good1\n",
            "M03Feb2021OP02good2\n",
            "M03Aug2019OP04good0\n",
            "M03Aug2019OP04good1\n",
            "M03Aug2019OP04good2\n",
            "M03Aug2020OP04good0\n",
            "M03Aug2020OP04good1\n",
            "M03Aug2020OP04good2\n",
            "M03Aug2021OP04good0\n",
            "M03Aug2021OP04good1\n",
            "M03Feb2020OP04good0\n",
            "M03Feb2020OP04good1\n",
            "M03Feb2020OP04good2\n",
            "M03Feb2021OP04good0\n",
            "M03Feb2021OP04good1\n",
            "M03Feb2021OP04good2\n",
            "M03Aug2019OP07good0\n",
            "M03Aug2019OP07good1\n",
            "M03Aug2019OP07good2\n",
            "M03Aug2020OP07good0\n",
            "M03Aug2020OP07good1\n",
            "M03Aug2020OP07good2\n",
            "M03Aug2021OP07good0\n",
            "M03Aug2021OP07good1\n",
            "M03Aug2021OP07good2\n",
            "M03Feb2020OP07good0\n",
            "M03Feb2020OP07good1\n",
            "M03Feb2020OP07good2\n",
            "M03Feb2021OP07good0\n",
            "M03Feb2021OP07good1\n",
            "M03Feb2021OP07good2\n",
            "M03Aug2019OP10good0\n",
            "M03Aug2019OP10good1\n",
            "M03Aug2019OP10good2\n",
            "M03Aug2020OP10good0\n",
            "M03Aug2020OP10good1\n",
            "M03Aug2020OP10good2\n",
            "M03Aug2021OP10good0\n",
            "M03Aug2021OP10good1\n",
            "M03Feb2020OP10good0\n",
            "M03Feb2020OP10good1\n",
            "M03Feb2020OP10good2\n",
            "M03Feb2021OP10good0\n",
            "M03Feb2021OP10good1\n",
            "M03Feb2021OP10good2\n",
            "62.600600242614746\n"
          ]
        }
      ],
      "source": [
        "# #This is made for the selection of mother wavelet based on minimum entropy criteria\n",
        "# import pywt\n",
        "# data = df\n",
        "# m = 'haar'    #['db1','db2','bior4.4']   'coif1','coif3','sym4','sym2']\n",
        "# w = pywt.Wavelet (m)\n",
        "# level = 2\n",
        "# wavelet_feature_i = pd.DataFrame()\n",
        "# import time\n",
        "# start = time.time()\n",
        "# for i in data['newcol'].unique():\n",
        "#     print(i)\n",
        "#     master_data =data[(data['newcol'] == i)]      \n",
        "#     wavelet_feature = pd.DataFrame()\n",
        "#     wavelet_feature['Date'] = [max(master_data['Date'].values)]\n",
        "#     wavelet_feature['Machine'] = [max(master_data['Machine'])]\n",
        "#     wavelet_feature['Operation'] = [max(master_data['Tool'])]\n",
        "#     wavelet_feature['Condition'] = [max(master_data['Condition'])]\n",
        "#     wavelet_feature['Repeat'] = [max(master_data['Repeat'])]\n",
        "#     wavelet_feature['operationcondition'] =  wavelet_feature['Operation']  + wavelet_feature['Condition']\n",
        "#     wavelet_feature['wavelet'] = [m]\n",
        "#     df1 = pd.DataFrame()\n",
        "#     df1['X'] = master_data['X']\n",
        "#     df1['Y'] = master_data['Y']\n",
        "#     df1['Z'] = master_data['Z']\n",
        "#     colvalue = ['X','Y','Z']\n",
        "#     for val in colvalue:\n",
        "#         data_wave = df1[val].values\n",
        "#         wp = pywt.WaveletPacket(data_wave,w, maxlevel = level) # Wavelet packet transformation\n",
        "#         packet_names = [node.path for node in wp.get_level(level, \"natural\")]\n",
        "#         for v in range(len(packet_names)):\n",
        "#             new_wp = pywt.WaveletPacket(data = None , wavelet = w , maxlevel = level)\n",
        "#             new_wp[packet_names[v]] = wp[packet_names[v]].data\n",
        "#             reconstructed_signal = new_wp.reconstruct(update = False) # Signal reconstruction from wavelet packet coefficients       \n",
        "#             # Wavelet feature\n",
        "#             wavelet_feature['entropy'+ val + str(v)]  = [entropy2(reconstructed_signal)]# Entropy of reconstructed signal\n",
        "#             wavelet_feature['Energy'+ val + str(v)]  = [np.sum(reconstructed_signal**2)/len(reconstructed_signal)]\n",
        "#             wavelet_feature['Ratio'+ val + str(v)]  = wavelet_feature['Energy'+ val + str(v)] / wavelet_feature['entropy'+ val + str(v)]\n",
        "\n",
        "#     wavelet_feature_i = wavelet_feature_i.append(wavelet_feature)\n",
        "#     wavelet_feature_i = wavelet_feature_i.reset_index(drop = True)\n",
        "\n",
        "\n",
        "\n",
        "# end = time.time()\n",
        "# print(end - start)"
      ]
    },
    {
      "cell_type": "code",
      "execution_count": null,
      "id": "e70c68d7",
      "metadata": {
        "id": "e70c68d7"
      },
      "outputs": [],
      "source": [
        "# wavelet_feature_m = wavelet_feature_m.append(wavelet_feature_i)\n",
        "# wavelet_feature_m = wavelet_feature_m.reset_index(drop = True)"
      ]
    },
    {
      "cell_type": "code",
      "execution_count": null,
      "id": "4ef0c837",
      "metadata": {
        "id": "4ef0c837",
        "outputId": "607bff6f-ef21-4a18-9aa7-c87265a80b31"
      },
      "outputs": [
        {
          "data": {
            "text/plain": [
              "(1253, 43)"
            ]
          },
          "execution_count": 79,
          "metadata": {},
          "output_type": "execute_result"
        }
      ],
      "source": [
        "# wavelet_feature_m.shape"
      ]
    },
    {
      "cell_type": "code",
      "execution_count": null,
      "id": "9b051b26",
      "metadata": {
        "id": "9b051b26",
        "outputId": "2b305ef7-4da2-40fe-91d3-736ed70a9706"
      },
      "outputs": [
        {
          "name": "stderr",
          "output_type": "stream",
          "text": [
            "C:\\Users\\AHUSSAIN14\\Anaconda3\\lib\\site-packages\\ipykernel_launcher.py:10: FutureWarning: Dropping of nuisance columns in DataFrame reductions (with 'numeric_only=None') is deprecated; in a future version this will raise TypeError.  Select only valid columns before calling the reduction.\n",
            "  # Remove the CWD from sys.path while we load stuff.\n"
          ]
        }
      ],
      "source": [
        "# #FIND THE MEAN OF ENTROPY\n",
        "# a = wavelet_feature_m['operationcondition'].unique()\n",
        "# B = wavelet_feature_m['wavelet'].unique()\n",
        "# new = pd.DataFrame()\n",
        "# for i in B:\n",
        "#     new1 = pd.DataFrame()\n",
        "#     for n in a:\n",
        "#         dff = wavelet_feature_m[(wavelet_feature_m['operationcondition'] == n) & (wavelet_feature_m['wavelet'] == i)]\n",
        "#         d = dff.columns[7:]\n",
        "#         Avg = dff.mean()\n",
        "#         new1[d] = [Avg[1:]]\n",
        "#         new1['operationcondition'] = [max(dff['operationcondition'])]\n",
        "#         new1['wavelet'] = [max(dff['wavelet'])]\n",
        "#         new = new.append(new1)\n",
        "#         new = new.reset_index(drop = True)"
      ]
    },
    {
      "cell_type": "code",
      "execution_count": null,
      "id": "593eb439",
      "metadata": {
        "id": "593eb439"
      },
      "outputs": [],
      "source": [
        "# new.to_csv('selectionofwavelet.csv', sep='\\t') # relative position"
      ]
    },
    {
      "cell_type": "code",
      "execution_count": null,
      "id": "8c6b4fd9",
      "metadata": {
        "collapsed": true,
        "id": "8c6b4fd9",
        "outputId": "171d1b9d-8aab-4836-e5ed-3abc5cd9d399"
      },
      "outputs": [
        {
          "data": {
            "image/png": "[encoded data removed]",
            "text/plain": [
              "<Figure size 1500x1500 with 3 Axes>"
            ]
          },
          "metadata": {},
          "output_type": "display_data"
        },
        {
          "data": {
            "text/plain": [
              "<Figure size 640x480 with 0 Axes>"
            ]
          },
          "metadata": {},
          "output_type": "display_data"
        }
      ],
      "source": [
        "# import seaborn as sns\n",
        "# from scipy import stats\n",
        "# from scipy.signal import find_peaks\n",
        "# sns.set_style('whitegrid')\n",
        "# plt.figure(figsize = (15, 15))\n",
        "# plt.subplot(3,1,1)\n",
        "# sns.barplot(data = new, x = 'operationcondition',y = 'entropyX3', hue = 'wavelet')\n",
        "# plt.title('Number of samples')\n",
        "# plt.subplot(3,1,2)\n",
        "# sns.barplot(data = new, x = 'operationcondition',y = 'entropyY3' , hue = 'wavelet')\n",
        "# plt.title('Number of samples')\n",
        "# plt.subplot(3,1,3)\n",
        "# sns.barplot(data = new, x = 'operationcondition',y = 'entropyZ3' , hue = 'wavelet')\n",
        "# plt.title('Number of samples')\n",
        "# plt.show()\n",
        "# plt.clf()"
      ]
    },
    {
      "cell_type": "code",
      "execution_count": null,
      "id": "93548389",
      "metadata": {
        "collapsed": true,
        "id": "93548389",
        "outputId": "91ebd0c4-cd6e-4731-d674-de61c01ae237"
      },
      "outputs": [
        {
          "name": "stdout",
          "output_type": "stream",
          "text": [
            "592.5642982050135\n",
            "576.0733602190219\n",
            "567.3237733083236\n",
            "563.6747276551814\n",
            "582.9191034060606\n"
          ]
        }
      ],
      "source": [
        "# q = 'RatioX3'\n",
        "# # plotdf = new[(new['wavelet'] == 'db1')]\n",
        "# # print(plotdf[q].mean())\n",
        "# plotdf = new[(new['wavelet'] == 'db2')]\n",
        "# print(plotdf[q].mean())\n",
        "# plotdf = new[(new['wavelet'] == 'bior4.4')]\n",
        "# print(plotdf[q].mean())\n",
        "# plotdf = new[(new['wavelet'] == 'sym4')]\n",
        "# print(plotdf[q].mean())\n",
        "# plotdf = new[(new['wavelet'] == 'coif3')]\n",
        "# print(plotdf[q].mean())\n",
        "# plotdf = new[(new['wavelet'] == 'dmey')]\n",
        "# print(plotdf[q].mean())"
      ]
    },
    {
      "cell_type": "markdown",
      "id": "ef760a9a",
      "metadata": {
        "id": "ef760a9a"
      },
      "source": [
        "## Wavelet Feature Extraction"
      ]
    },
    {
      "cell_type": "code",
      "execution_count": null,
      "id": "c6e3ec78",
      "metadata": {
        "id": "c6e3ec78"
      },
      "outputs": [],
      "source": [
        "#This will create the data list according to 'newcol'\n",
        "import pywt\n",
        "w = pywt.Wavelet ('dmey')\n",
        "level = 2\n",
        "wavelet_feature_all = pd.DataFrame() \n",
        "#wavelet_feature_test = pd.DataFrame()\n",
        "data = df\n",
        "window_size = 2000\n",
        "step_size = 1000"
      ]
    },
    {
      "cell_type": "code",
      "execution_count": null,
      "id": "09e3f68b",
      "metadata": {
        "id": "09e3f68b",
        "outputId": "64e9b45a-0dfe-423e-edea-4339a2db7aae",
        "colab": {
          "base_uri": "https://localhost:8080/"
        }
      },
      "outputs": [
        {
          "output_type": "execute_result",
          "data": {
            "text/plain": [
              "(2918330, 10)"
            ]
          },
          "metadata": {},
          "execution_count": 116
        }
      ],
      "source": [
        "data.shape"
      ]
    },
    {
      "cell_type": "code",
      "source": [
        "b = ['M01Aug2019OP01bad0',\n",
        "'M01Feb2019OP01bad0',\n",
        "'M01Feb2019OP02bad0',\n",
        "'M01Aug2021OP07bad1']\n",
        "for i in b:\n",
        "    print(i)"
      ],
      "metadata": {
        "colab": {
          "base_uri": "https://localhost:8080/"
        },
        "id": "MVcmwajwr5ji",
        "outputId": "04d1b759-e0bd-4923-ebe6-4d0950a232e6"
      },
      "id": "MVcmwajwr5ji",
      "execution_count": null,
      "outputs": [
        {
          "output_type": "stream",
          "name": "stdout",
          "text": [
            "M01Aug2019OP01bad0\n",
            "M01Feb2019OP01bad0\n",
            "M01Feb2019OP02bad0\n",
            "M01Aug2021OP07bad1\n"
          ]
        }
      ]
    },
    {
      "cell_type": "code",
      "execution_count": null,
      "id": "762b32e0",
      "metadata": {
        "id": "762b32e0"
      },
      "outputs": [],
      "source": [
        "\n",
        "# for i in data['newcol'].unique():\n",
        "for i in b:\n",
        "    print(i)\n",
        "    master_data =data[(data['newcol'] == i)]\n",
        "    vff = master_data.shape\n",
        "    print(vff[0])\n",
        "    wavelet_feature_j = pd.DataFrame()\n",
        "    \n",
        "    for j in range(0, master_data.shape[0] - window_size, step_size):\n",
        "        wavelet_feature = pd.DataFrame()\n",
        "        df1 = pd.DataFrame()\n",
        "        df1['X'] = master_data['X'].values[j: j + window_size]\n",
        "        df1['Y'] = master_data['Y'].values[j: j + window_size]\n",
        "        df1['Z'] = master_data['Z'].values[j: j + window_size]\n",
        "\n",
        "        colvalue = ['X','Y','Z']\n",
        "        wavelet_feature['Date'] = [max(master_data['Date'].values[j: j + window_size])]\n",
        "        wavelet_feature['Machine'] = [max(master_data['Machine'].values[j: j + window_size])]\n",
        "        wavelet_feature['Operation'] = [max(master_data['Tool'].values[j: j + window_size])]\n",
        "        wavelet_feature['Condition'] = [max(master_data['Condition'].values[j: j + window_size])]\n",
        "        wavelet_feature['Repeat'] = [max(master_data['Repeat'].values[j: j + window_size])]\n",
        "        wavelet_feature['operationcondition'] =  wavelet_feature['Operation']  + wavelet_feature['Condition']\n",
        "        \n",
        "        for val in colvalue:\n",
        "            data_wave = df1[val].values\n",
        "            wp = pywt.WaveletPacket(data_wave,w, maxlevel = level) # Wavelet packet transformation\n",
        "            packet_names = [node.path for node in wp.get_level(level, \"natural\")]\n",
        "            for v in range(len(packet_names)):\n",
        "                new_wp = pywt.WaveletPacket(data = None , wavelet = w , maxlevel = level)\n",
        "                new_wp[packet_names[v]] = wp[packet_names[v]].data\n",
        "                reconstructed_signal = new_wp.reconstruct(update = False) # Signal reconstruction from wavelet packet coefficients       \n",
        "            \n",
        "                # Wavelet feature\n",
        "                wavelet_feature['entropy'+ val + str(v)]  = [entropy2(reconstructed_signal,2)]# Entropy of reconstructed signal\n",
        "                wavelet_feature['max'+ val + str(v)]  = [max(reconstructed_signal)] # max of signal\n",
        "                wavelet_feature['min'+ val + str(v)]  = [min(reconstructed_signal)]\n",
        "                wavelet_feature['mean'+ val + str(v)]  = [np.mean(reconstructed_signal)]\n",
        "                wavelet_feature['std'+ val + str(v)]  = [np.std (reconstructed_signal)]\n",
        "                wavelet_feature['skew'+ val + str(v)]  = [stats.skew(reconstructed_signal)]\n",
        "                #wavelet_feature['kurtosis'+ val + str(v)]  = [stats.kurtosis(reconstructed_signal)]\n",
        "                #wavelet_feature['Energy'+ val + str(v)]  = [(np.sum(reconstructed_signal**2))/len(reconstructed_signal)]\n",
        "                \n",
        "                \n",
        "        wavelet_feature_j = wavelet_feature_j.append(wavelet_feature)\n",
        "        # pd.concat([wavelet_feature_j,wavelet_feature])\n",
        "        wavelet_feature_j = wavelet_feature_j.reset_index(drop = True)\n",
        "        \n",
        "    wavelet_feature_all = wavelet_feature_all.append(wavelet_feature_j)\n",
        "    # pd.concat([wavelet_feature_all,wavelet_feature_j])\n",
        "    wavelet_feature_all = wavelet_feature_all.reset_index(drop = True)\n",
        "    \n",
        "        \n",
        "        \n",
        "\n",
        "    "
      ]
    },
    {
      "cell_type": "code",
      "execution_count": null,
      "id": "d40f0b19",
      "metadata": {
        "id": "d40f0b19",
        "outputId": "aa1e3b10-69fe-49d6-89c3-c9879b43c60b",
        "colab": {
          "base_uri": "https://localhost:8080/"
        }
      },
      "outputs": [
        {
          "output_type": "execute_result",
          "data": {
            "text/plain": [
              "(182, 78)"
            ]
          },
          "metadata": {},
          "execution_count": 149
        }
      ],
      "source": [
        "wavelet_feature_all.shape"
      ]
    },
    {
      "cell_type": "code",
      "execution_count": null,
      "id": "9b5ba0a4",
      "metadata": {
        "collapsed": true,
        "id": "9b5ba0a4",
        "outputId": "ee27528e-a360-427e-fee6-28b08edbdbd3"
      },
      "outputs": [
        {
          "name": "stdout",
          "output_type": "stream",
          "text": [
            "M01Aug2019OP01bad0\n",
            "M01Feb2019OP01bad0\n",
            "M01Feb2019OP02bad0\n",
            "M01Aug2019OP04bad0\n",
            "M01Feb2019OP04bad0\n",
            "M01Aug2019OP07bad0\n",
            "M01Aug2021OP07bad0\n",
            "M01Aug2021OP07bad1\n",
            "M01Feb2019OP07bad0\n",
            "M01Aug2021OP10bad0\n",
            "M01Feb2019OP10bad0\n",
            "M01Feb2019OP10bad1\n",
            "M01Feb2019OP10bad2\n",
            "M02Aug2019OP01bad0\n",
            "M02Feb2019OP01bad0\n",
            "M02Feb2019OP01bad1\n",
            "M02Feb2019OP02bad0\n",
            "M02Feb2019OP02bad1\n",
            "M02Aug2019OP04bad0\n",
            "M02Feb2019OP04bad0\n",
            "M02Feb2019OP04bad2\n",
            "M02Aug2019OP07bad0\n",
            "M02Feb2019OP07bad0\n",
            "M02Feb2019OP07bad1\n",
            "M02Feb2019OP10bad0\n",
            "M02Feb2019OP10bad1\n",
            "M03Aug2019OP01bad0\n",
            "M03Feb2021OP01bad0\n",
            "M03Feb2021OP02bad0\n",
            "M03Aug2019OP04bad0\n",
            "M03Feb2021OP04bad0\n",
            "M03Aug2019OP07bad0\n",
            "M03Aug2021OP07bad0\n",
            "M03Feb2021OP07bad0\n",
            "M03Aug2021OP10bad0\n",
            "M01Aug2019OP01good0\n",
            "M01Aug2019OP01good1\n",
            "M01Aug2019OP01good2\n",
            "M01Feb2019OP01good0\n",
            "M01Feb2019OP01good1\n",
            "M01Feb2019OP01good2\n",
            "M01Feb2020OP01good0\n",
            "M01Feb2020OP01good1\n",
            "M01Feb2020OP01good2\n",
            "M01Feb2021OP01good0\n",
            "M01Feb2021OP01good1\n",
            "M01Feb2021OP01good2\n",
            "M01Aug2019OP02good0\n",
            "M01Aug2019OP02good1\n",
            "M01Aug2019OP02good2\n",
            "M01Aug2021OP02good0\n",
            "M01Aug2021OP02good1\n",
            "M01Aug2021OP02good2\n",
            "M01Feb2019OP02good0\n",
            "M01Feb2019OP02good1\n",
            "M01Feb2019OP02good2\n",
            "M01Feb2020OP02good0\n",
            "M01Feb2020OP02good1\n",
            "M01Feb2020OP02good2\n",
            "M01Feb2021OP02good0\n",
            "M01Feb2021OP02good1\n",
            "M01Feb2021OP02good2\n",
            "M01Aug2019OP04good0\n",
            "M01Aug2019OP04good1\n",
            "M01Aug2019OP04good2\n",
            "M01Aug2021OP04good0\n",
            "M01Aug2021OP04good1\n",
            "M01Feb2019OP04good0\n",
            "M01Feb2019OP04good1\n",
            "M01Feb2019OP04good2\n",
            "M01Feb2021OP04good0\n",
            "M01Feb2021OP04good1\n",
            "M01Feb2021OP04good2\n",
            "M01Aug2019OP07good0\n",
            "M01Aug2019OP07good1\n",
            "M01Aug2019OP07good2\n",
            "M01Aug2021OP07good0\n",
            "M01Aug2021OP07good1\n",
            "M01Aug2021OP07good2\n",
            "M01Feb2019OP07good0\n",
            "M01Feb2019OP07good1\n",
            "M01Feb2019OP07good2\n",
            "M01Feb2020OP07good0\n",
            "M01Feb2020OP07good1\n",
            "M01Feb2020OP07good2\n",
            "M01Feb2021OP07good0\n",
            "M01Feb2021OP07good1\n",
            "M01Feb2021OP07good2\n",
            "M01Aug2019OP10good0\n",
            "M01Aug2019OP10good1\n",
            "M01Aug2019OP10good2\n",
            "M01Feb2019OP10good0\n",
            "M01Feb2019OP10good1\n",
            "M01Feb2019OP10good2\n",
            "M01Feb2020OP10good0\n",
            "M01Feb2020OP10good1\n",
            "M01Feb2020OP10good2\n",
            "M01Feb2021OP10good0\n",
            "M01Feb2021OP10good1\n",
            "M01Feb2021OP10good2\n",
            "M02Aug2019OP01good0\n",
            "M02Aug2019OP01good1\n",
            "M02Aug2019OP01good2\n",
            "M02Aug2020OP01good0\n",
            "M02Aug2020OP01good1\n",
            "M02Aug2020OP01good2\n",
            "M02Aug2021OP01good0\n",
            "M02Aug2021OP01good1\n",
            "M02Aug2021OP01good2\n",
            "M02Feb2019OP01good0\n",
            "M02Feb2019OP01good1\n",
            "M02Feb2019OP01good2\n",
            "M02Feb2020OP01good0\n",
            "M02Feb2020OP01good1\n",
            "M02Feb2020OP01good2\n",
            "M02Feb2021OP01good0\n",
            "M02Feb2021OP01good1\n",
            "M02Feb2021OP01good2\n",
            "M02Aug2019OP02good0\n",
            "M02Aug2019OP02good1\n",
            "M02Aug2019OP02good2\n",
            "M02Aug2020OP02good0\n",
            "M02Aug2020OP02good1\n",
            "M02Aug2020OP02good2\n",
            "M02Aug2021OP02good0\n",
            "M02Aug2021OP02good1\n",
            "M02Aug2021OP02good2\n",
            "M02Feb2019OP02good0\n",
            "M02Feb2019OP02good1\n",
            "M02Feb2019OP02good2\n",
            "M02Feb2020OP02good0\n",
            "M02Feb2020OP02good1\n",
            "M02Feb2020OP02good2\n",
            "M02Feb2021OP02good0\n",
            "M02Feb2021OP02good1\n",
            "M02Feb2021OP02good2\n",
            "M02Aug2019OP04good0\n",
            "M02Aug2019OP04good1\n",
            "M02Aug2019OP04good2\n",
            "M02Aug2020OP04good0\n",
            "M02Aug2020OP04good1\n",
            "M02Aug2020OP04good2\n",
            "M02Aug2021OP04good0\n",
            "M02Aug2021OP04good1\n",
            "M02Aug2021OP04good2\n",
            "M02Feb2019OP04good0\n",
            "M02Feb2019OP04good1\n",
            "M02Feb2019OP04good2\n",
            "M02Feb2021OP04good0\n",
            "M02Feb2021OP04good1\n",
            "M02Feb2021OP04good2\n",
            "M02Aug2019OP07good0\n",
            "M02Aug2019OP07good1\n",
            "M02Aug2019OP07good2\n",
            "M02Aug2020OP07good0\n",
            "M02Aug2020OP07good1\n",
            "M02Aug2020OP07good2\n",
            "M02Aug2021OP07good0\n",
            "M02Aug2021OP07good1\n",
            "M02Aug2021OP07good2\n",
            "M02Feb2019OP07good0\n",
            "M02Feb2019OP07good1\n",
            "M02Feb2019OP07good2\n",
            "M02Feb2020OP07good0\n",
            "M02Feb2020OP07good1\n",
            "M02Feb2020OP07good2\n",
            "M02Feb2021OP07good0\n",
            "M02Feb2021OP07good1\n",
            "M02Feb2021OP07good2\n",
            "M02Aug2019OP10good0\n",
            "M02Aug2019OP10good1\n",
            "M02Aug2019OP10good2\n",
            "M02Aug2020OP10good0\n",
            "M02Aug2020OP10good1\n",
            "M02Aug2020OP10good2\n",
            "M02Aug2021OP10good0\n",
            "M02Aug2021OP10good1\n",
            "M02Feb2019OP10good0\n",
            "M02Feb2020OP10good0\n",
            "M02Feb2020OP10good1\n",
            "M02Feb2020OP10good2\n",
            "M02Feb2021OP10good0\n",
            "M02Feb2021OP10good1\n",
            "M02Feb2021OP10good2\n",
            "M03Aug2019OP01good0\n",
            "M03Aug2019OP01good1\n",
            "M03Aug2019OP01good2\n",
            "M03Aug2020OP01good0\n",
            "M03Aug2020OP01good1\n",
            "M03Aug2020OP01good2\n",
            "M03Aug2021OP01good0\n",
            "M03Aug2021OP01good1\n",
            "M03Aug2021OP01good2\n",
            "M03Feb2020OP01good0\n",
            "M03Feb2020OP01good1\n",
            "M03Feb2020OP01good2\n",
            "M03Feb2021OP01good0\n",
            "M03Feb2021OP01good1\n",
            "M03Feb2021OP01good2\n",
            "M03Aug2019OP02good0\n",
            "M03Aug2019OP02good1\n",
            "M03Aug2019OP02good2\n",
            "M03Aug2020OP02good0\n",
            "M03Aug2020OP02good1\n",
            "M03Aug2020OP02good2\n",
            "M03Aug2021OP02good0\n",
            "M03Aug2021OP02good1\n",
            "M03Aug2021OP02good2\n",
            "M03Feb2020OP02good0\n",
            "M03Feb2020OP02good1\n",
            "M03Feb2020OP02good2\n",
            "M03Feb2021OP02good0\n",
            "M03Feb2021OP02good1\n",
            "M03Feb2021OP02good2\n",
            "M03Aug2019OP04good0\n",
            "M03Aug2019OP04good1\n",
            "M03Aug2019OP04good2\n",
            "M03Aug2020OP04good0\n",
            "M03Aug2020OP04good1\n",
            "M03Aug2020OP04good2\n",
            "M03Aug2021OP04good0\n",
            "M03Aug2021OP04good1\n",
            "M03Feb2020OP04good0\n",
            "M03Feb2020OP04good1\n",
            "M03Feb2020OP04good2\n",
            "M03Feb2021OP04good0\n",
            "M03Feb2021OP04good1\n",
            "M03Feb2021OP04good2\n",
            "M03Aug2019OP07good0\n",
            "M03Aug2019OP07good1\n",
            "M03Aug2019OP07good2\n",
            "M03Aug2020OP07good0\n",
            "M03Aug2020OP07good1\n",
            "M03Aug2020OP07good2\n",
            "M03Aug2021OP07good0\n",
            "M03Aug2021OP07good1\n",
            "M03Aug2021OP07good2\n",
            "M03Feb2020OP07good0\n",
            "M03Feb2020OP07good1\n",
            "M03Feb2020OP07good2\n",
            "M03Feb2021OP07good0\n",
            "M03Feb2021OP07good1\n",
            "M03Feb2021OP07good2\n",
            "M03Aug2019OP10good0\n",
            "M03Aug2019OP10good1\n",
            "M03Aug2019OP10good2\n",
            "M03Aug2020OP10good0\n",
            "M03Aug2020OP10good1\n",
            "M03Aug2020OP10good2\n",
            "M03Aug2021OP10good0\n",
            "M03Aug2021OP10good1\n",
            "M03Feb2020OP10good0\n",
            "M03Feb2020OP10good1\n",
            "M03Feb2020OP10good2\n",
            "M03Feb2021OP10good0\n",
            "M03Feb2021OP10good1\n",
            "M03Feb2021OP10good2\n"
          ]
        }
      ],
      "source": [
        "# #This will create the data list according to toolcondition\n",
        "# import pywt\n",
        "# w = pywt.Wavelet ('dmey')\n",
        "# level = 2\n",
        "# x_i = []\n",
        "# y_i = []\n",
        "# z_i = []\n",
        "# labels_i = []\n",
        "# data = df\n",
        "# window_size = 2000\n",
        "# step_size = 1000\n",
        "# # Statistical Features on raw x, y and z in time domain\n",
        "# for i in data['newcol'].unique():\n",
        "# #for v in range(0,2):\n",
        "#     #i = a[v]\n",
        "#     x_j = []\n",
        "#     y_j = []\n",
        "#     z_j = []\n",
        "#     labels_j = []\n",
        "#     dates_j = []\n",
        "#     machines_j = []\n",
        "  \n",
        "#     master_data =data[(data['newcol'] == i)]\n",
        "#     print(i)\n",
        "#     #print(master_data.shape[0])\n",
        "\n",
        "#     for j in range(0, master_data.shape[0] - window_size, step_size):\n",
        "#         xs = master_data['X'].values[j: j + window_size]\n",
        "#         ys = master_data['Y'].values[j: j + window_size]\n",
        "#         zs = master_data['Z'].values[j: j + window_size]\n",
        "#         dates = master_data['Date'].values[j: j + window_size]\n",
        "#         machines = master_data['Machine'].values[j: j + window_size]\n",
        "#         operation = master_data['Tool'].values[j: j + window_size]\n",
        "#         condition = master_data['Condition'].values[j: j + window_size]\n",
        "#         label = operation + condition\n",
        "#         colvalue = [xs,ys,zs]\n",
        "#         for val in colvalue:\n",
        "#             #print(val)\n",
        "#             data_wave = val\n",
        "#             wp = pywt.WaveletPacket(data_wave,w, maxlevel = level) # Wavelet packet transformation\n",
        "#             packet_names = [node.path for node in wp.get_level(level, \"natural\")]\n",
        "#             for v in range(len(packet_names)):\n",
        "#                 new_wp = pywt.WaveletPacket(data = None , wavelet = w , maxlevel = level)\n",
        "#                 new_wp[packet_names[v]] = wp[packet_names[v]].data\n",
        "#                 reconstructed_signal = new_wp.reconstruct(update = False) # Signal reconstruction from wavelet packet coefficients        \n",
        "#                 if (val == xs).all():\n",
        "#                     x_j.append(reconstructed_signal)\n",
        "#                     labelv = [max(label)]* len(reconstructed_signal)\n",
        "#                     labels_j.append(labelv)\n",
        "#                 elif (val == ys).all():\n",
        "#                     y_j.append(reconstructed_signal)\n",
        "#                 else:\n",
        "#                     z_j.append(reconstructed_signal)\n",
        "        \n",
        "#     x_i.append(x_j)\n",
        "#     y_i.append(y_j)\n",
        "#     z_i.append(z_j)\n",
        "#     labels_i.append(labels_j)\n",
        "    "
      ]
    },
    {
      "cell_type": "code",
      "execution_count": null,
      "id": "3b399801",
      "metadata": {
        "collapsed": true,
        "id": "3b399801",
        "outputId": "46a7c3df-56d8-47cc-c0d5-0a347c679f87"
      },
      "outputs": [
        {
          "name": "stdout",
          "output_type": "stream",
          "text": [
            "0\n",
            "1\n",
            "2\n",
            "3\n",
            "4\n",
            "5\n",
            "6\n",
            "7\n",
            "8\n",
            "9\n",
            "10\n",
            "11\n",
            "12\n",
            "13\n",
            "14\n",
            "15\n",
            "16\n",
            "17\n",
            "18\n",
            "19\n",
            "20\n",
            "21\n",
            "22\n",
            "23\n",
            "24\n",
            "25\n",
            "26\n",
            "27\n",
            "28\n",
            "29\n",
            "30\n",
            "31\n",
            "32\n",
            "33\n",
            "34\n",
            "35\n",
            "36\n",
            "37\n",
            "38\n",
            "39\n",
            "40\n",
            "41\n",
            "42\n",
            "43\n",
            "44\n",
            "45\n",
            "46\n",
            "47\n",
            "48\n",
            "49\n",
            "50\n",
            "51\n",
            "52\n",
            "53\n",
            "54\n",
            "55\n",
            "56\n",
            "57\n",
            "58\n",
            "59\n",
            "60\n",
            "61\n",
            "62\n",
            "63\n",
            "64\n",
            "65\n",
            "66\n",
            "67\n",
            "68\n",
            "69\n",
            "70\n",
            "71\n",
            "72\n",
            "73\n",
            "74\n",
            "75\n",
            "76\n",
            "77\n",
            "78\n",
            "79\n",
            "80\n",
            "81\n",
            "82\n",
            "83\n",
            "84\n",
            "85\n",
            "86\n",
            "87\n",
            "88\n",
            "89\n",
            "90\n",
            "91\n",
            "92\n",
            "93\n",
            "94\n",
            "95\n",
            "96\n",
            "97\n",
            "98\n",
            "99\n",
            "100\n",
            "101\n",
            "102\n",
            "103\n",
            "104\n",
            "105\n",
            "106\n",
            "107\n",
            "108\n",
            "109\n",
            "110\n",
            "111\n",
            "112\n",
            "113\n",
            "114\n",
            "115\n",
            "116\n",
            "117\n",
            "118\n",
            "119\n",
            "120\n",
            "121\n",
            "122\n",
            "123\n",
            "124\n",
            "125\n",
            "126\n",
            "127\n",
            "128\n",
            "129\n",
            "130\n",
            "131\n",
            "132\n",
            "133\n",
            "134\n",
            "135\n",
            "136\n",
            "137\n",
            "138\n",
            "139\n",
            "140\n",
            "141\n",
            "142\n",
            "143\n",
            "144\n",
            "145\n",
            "146\n",
            "147\n",
            "148\n",
            "149\n",
            "150\n",
            "151\n",
            "152\n",
            "153\n",
            "154\n",
            "155\n",
            "156\n",
            "157\n",
            "158\n",
            "159\n",
            "160\n",
            "161\n",
            "162\n",
            "163\n",
            "164\n",
            "165\n",
            "166\n",
            "167\n",
            "168\n",
            "169\n",
            "170\n",
            "171\n",
            "172\n",
            "173\n",
            "174\n",
            "175\n",
            "176\n",
            "177\n",
            "178\n",
            "179\n",
            "180\n",
            "181\n",
            "182\n",
            "183\n",
            "184\n",
            "185\n",
            "186\n",
            "187\n",
            "188\n",
            "189\n",
            "190\n",
            "191\n",
            "192\n",
            "193\n",
            "194\n",
            "195\n",
            "196\n",
            "197\n",
            "198\n",
            "199\n",
            "200\n",
            "201\n",
            "202\n",
            "203\n",
            "204\n",
            "205\n",
            "206\n",
            "207\n",
            "208\n",
            "209\n",
            "210\n",
            "211\n",
            "212\n",
            "213\n",
            "214\n",
            "215\n",
            "216\n",
            "217\n",
            "218\n",
            "219\n",
            "220\n",
            "221\n",
            "222\n",
            "223\n",
            "224\n",
            "225\n",
            "226\n",
            "227\n",
            "228\n",
            "229\n",
            "230\n",
            "231\n",
            "232\n",
            "233\n",
            "234\n",
            "235\n",
            "236\n",
            "237\n",
            "238\n",
            "239\n",
            "240\n",
            "241\n",
            "242\n",
            "243\n",
            "244\n",
            "245\n",
            "246\n",
            "247\n",
            "248\n",
            "249\n",
            "250\n",
            "251\n",
            "252\n",
            "253\n",
            "254\n",
            "255\n",
            "256\n"
          ]
        }
      ],
      "source": [
        "# wave_feature_all = pd.DataFrame()\n",
        "\n",
        "# #parameters\n",
        "# # wave_feature_all['Toolcondition'] = pd.Series(labels_i).apply(lambda x: x.max())\n",
        "\n",
        "# for i in range (len(x_i)):\n",
        "#     wave_feature = pd.DataFrame()\n",
        "#     print (i)\n",
        "    \n",
        "#     #parameters\n",
        "#     wave_feature['Toolcondition'] = pd.Series(labels_i[i]).apply(lambda x: max(x))\n",
        "    \n",
        "#     # mean\n",
        "#     wave_feature['x_mean'] = pd.Series(x_i[i]).apply(lambda x: x.mean())\n",
        "#     wave_feature['y_mean'] = pd.Series(y_i[i]).apply(lambda x: x.mean())\n",
        "#     wave_feature['z_mean'] = pd.Series(z_i[i]).apply(lambda x: x.mean())\n",
        "    \n",
        "#     # std dev\n",
        "#     wave_feature['x_std'] = pd.Series(x_i[i]).apply(lambda x: x.std())\n",
        "#     wave_feature['y_std'] = pd.Series(y_i[i]).apply(lambda x: x.std())\n",
        "#     wave_feature['z_std'] = pd.Series(z_i[i]).apply(lambda x: x.std())\n",
        "\n",
        "#     # min\n",
        "#     wave_feature['x_min'] = pd.Series(x_i[i]).apply(lambda x: x.min())\n",
        "#     wave_feature['y_min'] = pd.Series(y_i[i]).apply(lambda x: x.min())\n",
        "#     wave_feature['z_min'] = pd.Series(z_i[i]).apply(lambda x: x.min())\n",
        "\n",
        "#     # max\n",
        "#     wave_feature['x_max'] = pd.Series(x_i[i]).apply(lambda x: x.max())\n",
        "#     wave_feature['y_max'] = pd.Series(y_i[i]).apply(lambda x: x.max())\n",
        "#     wave_feature['z_max'] = pd.Series(z_i[i]).apply(lambda x: x.max())\n",
        "    \n",
        "#     # skewness\n",
        "#     wave_feature['x_skewness'] = pd.Series(x_i[i]).apply(lambda x: stats.skew(x))\n",
        "#     wave_feature['y_skewness'] = pd.Series(y_i[i]).apply(lambda x: stats.skew(x))\n",
        "#     wave_feature['z_skewness'] = pd.Series(z_i[i]).apply(lambda x: stats.skew(x))\n",
        "\n",
        "#     # kurtosis\n",
        "#     wave_feature['x_kurtosis'] = pd.Series(x_i[i]).apply(lambda x: stats.kurtosis(x))\n",
        "#     wave_feature['y_kurtosis'] = pd.Series(y_i[i]).apply(lambda x: stats.kurtosis(x))\n",
        "#     wave_feature['z_kurtosis'] = pd.Series(z_i[i]).apply(lambda x: stats.kurtosis(x))\n",
        "\n",
        "#     # energy\n",
        "#     wave_feature['x_energy'] = pd.Series(x_i[i]).apply(lambda x: np.sum(x**2)/len(x))\n",
        "#     wave_feature['y_energy'] = pd.Series(y_i[i]).apply(lambda x: np.sum(x**2)/len(x))\n",
        "#     wave_feature['z_energy'] = pd.Series(z_i[i]).apply(lambda x: np.sum(x**2/len(x)))\n",
        "\n",
        "#     # entropy\n",
        "#     wave_feature['x_entropy']  = pd.Series(x_i[i]).apply(lambda x: entropy2(x,2))\n",
        "#     wave_feature['y_entropy']  = pd.Series(y_i[i]).apply(lambda x: entropy2(x,2))\n",
        "#     wave_feature['z_entropy']  = pd.Series(z_i[i]).apply(lambda x: entropy2(x,2))\n",
        "    \n",
        "# #     # avg absolute diff\n",
        "# #     time_feature['x_aad'] = pd.Series(x_j).apply(lambda x: np.mean(np.absolute(x - np.mean(x))))\n",
        "# #     time_feature['y_aad'] = pd.Series(y_j).apply(lambda x: np.mean(np.absolute(x - np.mean(x))))\n",
        "# #     time_feature['z_aad'] = pd.Series(z_j).apply(lambda x: np.mean(np.absolute(x - np.mean(x))))\n",
        "\n",
        "    \n",
        "# #     # max-min diff\n",
        "# #     time_feature['x_maxmin_diff'] = time_feature['x_max'] -time_feature['x_min']\n",
        "# #     time_feature['y_maxmin_diff'] = time_feature['y_max'] - time_feature['y_min']\n",
        "# #     time_feature['z_maxmin_diff'] = time_feature['z_max'] - time_feature['z_min']\n",
        "\n",
        "# #     # median\n",
        "# #     time_feature['x_median'] = pd.Series(x_j).apply(lambda x: np.median(x))\n",
        "# #     time_feature['y_median'] = pd.Series(y_j).apply(lambda x: np.median(x))\n",
        "# #     time_feature['z_median'] = pd.Series(z_j).apply(lambda x: np.median(x))\n",
        "\n",
        "# #     # median abs dev \n",
        "# #     time_feature['x_mad'] = pd.Series(x_j).apply(lambda x: np.median(np.absolute(x - np.median(x))))\n",
        "# #     time_feature['y_mad'] = pd.Series(y_j).apply(lambda x: np.median(np.absolute(x - np.median(x))))\n",
        "# #     time_feature['z_mad'] = pd.Series(z_j).apply(lambda x: np.median(np.absolute(x - np.median(x))))\n",
        "\n",
        "# #     # interquartile range\n",
        "# #     time_feature['x_IQR'] = pd.Series(x_j).apply(lambda x: np.percentile(x, 75) - np.percentile(x, 25))\n",
        "# #     time_feature['y_IQR'] = pd.Series(y_j).apply(lambda x: np.percentile(x, 75) - np.percentile(x, 25))\n",
        "# #     time_feature['z_IQR'] = pd.Series(z_j).apply(lambda x: np.percentile(x, 75) - np.percentile(x, 25))\n",
        "\n",
        "# #     # negtive count\n",
        "# #     time_feature['x_neg_count'] = pd.Series(x_j).apply(lambda x: np.sum(x < 0))\n",
        "# #     time_feature['y_neg_count'] = pd.Series(y_j).apply(lambda x: np.sum(x < 0))\n",
        "# #     time_feature['z_neg_count'] = pd.Series(z_j).apply(lambda x: np.sum(x < 0))\n",
        "\n",
        "# #     # positive count\n",
        "# #     time_feature['x_pos_count'] = pd.Series(x_j).apply(lambda x: np.sum(x > 0))\n",
        "# #     time_feature['y_pos_count'] = pd.Series(y_j).apply(lambda x: np.sum(x > 0))\n",
        "# #     time_feature['z_pos_count'] = pd.Series(z_j).apply(lambda x: np.sum(x > 0))\n",
        "\n",
        "# #     # values above mean\n",
        "# #     time_feature['x_above_mean'] = pd.Series(x_j).apply(lambda x: np.sum(x > x.mean()))\n",
        "# #     time_feature['y_above_mean'] = pd.Series(y_j).apply(lambda x: np.sum(x > x.mean()))\n",
        "# #     time_feature['z_above_mean'] = pd.Series(z_j).apply(lambda x: np.sum(x > x.mean()))\n",
        "\n",
        "# #     # number of peaks\n",
        "# #     time_feature['x_peak_count'] = pd.Series(x_j).apply(lambda x: len(find_peaks(x)[0]))\n",
        "# #     time_feature['y_peak_count'] = pd.Series(y_j).apply(lambda x: len(find_peaks(x)[0]))\n",
        "# #     time_feature['z_peak_count'] = pd.Series(z_j).apply(lambda x: len(find_peaks(x)[0]))\n",
        "\n",
        "\n",
        "    \n",
        "    \n",
        "#     wave_feature_all = wave_feature_all.append(wave_feature)\n",
        "#     wave_feature_all = wave_feature_all.reset_index(drop = True)\n",
        "    \n",
        "    \n",
        "    \n",
        "\n",
        "# # wave_feature_all = time_feature_all.append(time_feature)\n",
        "# # wave_feature_all = time_feature_all.reset_index(drop = True)\n",
        "    \n",
        "    "
      ]
    },
    {
      "cell_type": "code",
      "execution_count": null,
      "id": "b7ed0e60",
      "metadata": {
        "id": "b7ed0e60",
        "outputId": "d80c3553-3f8c-433f-b953-c3d88bb319bd"
      },
      "outputs": [
        {
          "data": {
            "text/plain": [
              "(17228, 25)"
            ]
          },
          "execution_count": 115,
          "metadata": {},
          "output_type": "execute_result"
        }
      ],
      "source": [
        "#  wave_feature_all.shape"
      ]
    },
    {
      "cell_type": "code",
      "execution_count": null,
      "id": "b5d2380b",
      "metadata": {
        "id": "b5d2380b",
        "outputId": "dcba30fe-53ee-4a9d-cbe1-19fb891f5f2f"
      },
      "outputs": [
        {
          "name": "stdout",
          "output_type": "stream",
          "text": [
            "(0, 0)\n"
          ]
        }
      ],
      "source": [
        "print(wavelet_feature_all.shape)\n",
        "# print(wave_feature_all.shape)"
      ]
    },
    {
      "cell_type": "code",
      "execution_count": null,
      "id": "26fe3c8d",
      "metadata": {
        "id": "26fe3c8d",
        "outputId": "42b8f254-9aa6-4361-d0e4-dcc7ca83bc04"
      },
      "outputs": [
        {
          "ename": "KeyError",
          "evalue": "'operationcondition'",
          "output_type": "error",
          "traceback": [
            "\u001b[1;31m---------------------------------------------------------------------------\u001b[0m",
            "\u001b[1;31mKeyError\u001b[0m                                  Traceback (most recent call last)",
            "\u001b[1;32m~\\anaconda3\\lib\\site-packages\\pandas\\core\\indexes\\base.py\u001b[0m in \u001b[0;36mget_loc\u001b[1;34m(self, key, method, tolerance)\u001b[0m\n\u001b[0;32m   3628\u001b[0m             \u001b[1;32mtry\u001b[0m\u001b[1;33m:\u001b[0m\u001b[1;33m\u001b[0m\u001b[1;33m\u001b[0m\u001b[0m\n\u001b[1;32m-> 3629\u001b[1;33m                 \u001b[1;32mreturn\u001b[0m \u001b[0mself\u001b[0m\u001b[1;33m.\u001b[0m\u001b[0m_engine\u001b[0m\u001b[1;33m.\u001b[0m\u001b[0mget_loc\u001b[0m\u001b[1;33m(\u001b[0m\u001b[0mcasted_key\u001b[0m\u001b[1;33m)\u001b[0m\u001b[1;33m\u001b[0m\u001b[1;33m\u001b[0m\u001b[0m\n\u001b[0m\u001b[0;32m   3630\u001b[0m             \u001b[1;32mexcept\u001b[0m \u001b[0mKeyError\u001b[0m \u001b[1;32mas\u001b[0m \u001b[0merr\u001b[0m\u001b[1;33m:\u001b[0m\u001b[1;33m\u001b[0m\u001b[1;33m\u001b[0m\u001b[0m\n",
            "\u001b[1;32m~\\anaconda3\\lib\\site-packages\\pandas\\_libs\\index.pyx\u001b[0m in \u001b[0;36mpandas._libs.index.IndexEngine.get_loc\u001b[1;34m()\u001b[0m\n",
            "\u001b[1;32m~\\anaconda3\\lib\\site-packages\\pandas\\_libs\\index.pyx\u001b[0m in \u001b[0;36mpandas._libs.index.IndexEngine.get_loc\u001b[1;34m()\u001b[0m\n",
            "\u001b[1;32mpandas\\_libs\\hashtable_class_helper.pxi\u001b[0m in \u001b[0;36mpandas._libs.hashtable.PyObjectHashTable.get_item\u001b[1;34m()\u001b[0m\n",
            "\u001b[1;32mpandas\\_libs\\hashtable_class_helper.pxi\u001b[0m in \u001b[0;36mpandas._libs.hashtable.PyObjectHashTable.get_item\u001b[1;34m()\u001b[0m\n",
            "\u001b[1;31mKeyError\u001b[0m: 'operationcondition'",
            "\nThe above exception was the direct cause of the following exception:\n",
            "\u001b[1;31mKeyError\u001b[0m                                  Traceback (most recent call last)",
            "\u001b[1;32m~\\AppData\\Local\\Temp\\ipykernel_11496\\2823280547.py\u001b[0m in \u001b[0;36m<module>\u001b[1;34m\u001b[0m\n\u001b[1;32m----> 1\u001b[1;33m \u001b[0mwavelet_feature_all\u001b[0m\u001b[1;33m[\u001b[0m\u001b[1;34m'operationcondition'\u001b[0m\u001b[1;33m]\u001b[0m\u001b[1;33m.\u001b[0m\u001b[0mvalue_counts\u001b[0m\u001b[1;33m(\u001b[0m\u001b[1;33m)\u001b[0m\u001b[1;33m\u001b[0m\u001b[1;33m\u001b[0m\u001b[0m\n\u001b[0m",
            "\u001b[1;32m~\\anaconda3\\lib\\site-packages\\pandas\\core\\frame.py\u001b[0m in \u001b[0;36m__getitem__\u001b[1;34m(self, key)\u001b[0m\n\u001b[0;32m   3503\u001b[0m             \u001b[1;32mif\u001b[0m \u001b[0mself\u001b[0m\u001b[1;33m.\u001b[0m\u001b[0mcolumns\u001b[0m\u001b[1;33m.\u001b[0m\u001b[0mnlevels\u001b[0m \u001b[1;33m>\u001b[0m \u001b[1;36m1\u001b[0m\u001b[1;33m:\u001b[0m\u001b[1;33m\u001b[0m\u001b[1;33m\u001b[0m\u001b[0m\n\u001b[0;32m   3504\u001b[0m                 \u001b[1;32mreturn\u001b[0m \u001b[0mself\u001b[0m\u001b[1;33m.\u001b[0m\u001b[0m_getitem_multilevel\u001b[0m\u001b[1;33m(\u001b[0m\u001b[0mkey\u001b[0m\u001b[1;33m)\u001b[0m\u001b[1;33m\u001b[0m\u001b[1;33m\u001b[0m\u001b[0m\n\u001b[1;32m-> 3505\u001b[1;33m             \u001b[0mindexer\u001b[0m \u001b[1;33m=\u001b[0m \u001b[0mself\u001b[0m\u001b[1;33m.\u001b[0m\u001b[0mcolumns\u001b[0m\u001b[1;33m.\u001b[0m\u001b[0mget_loc\u001b[0m\u001b[1;33m(\u001b[0m\u001b[0mkey\u001b[0m\u001b[1;33m)\u001b[0m\u001b[1;33m\u001b[0m\u001b[1;33m\u001b[0m\u001b[0m\n\u001b[0m\u001b[0;32m   3506\u001b[0m             \u001b[1;32mif\u001b[0m \u001b[0mis_integer\u001b[0m\u001b[1;33m(\u001b[0m\u001b[0mindexer\u001b[0m\u001b[1;33m)\u001b[0m\u001b[1;33m:\u001b[0m\u001b[1;33m\u001b[0m\u001b[1;33m\u001b[0m\u001b[0m\n\u001b[0;32m   3507\u001b[0m                 \u001b[0mindexer\u001b[0m \u001b[1;33m=\u001b[0m \u001b[1;33m[\u001b[0m\u001b[0mindexer\u001b[0m\u001b[1;33m]\u001b[0m\u001b[1;33m\u001b[0m\u001b[1;33m\u001b[0m\u001b[0m\n",
            "\u001b[1;32m~\\anaconda3\\lib\\site-packages\\pandas\\core\\indexes\\base.py\u001b[0m in \u001b[0;36mget_loc\u001b[1;34m(self, key, method, tolerance)\u001b[0m\n\u001b[0;32m   3629\u001b[0m                 \u001b[1;32mreturn\u001b[0m \u001b[0mself\u001b[0m\u001b[1;33m.\u001b[0m\u001b[0m_engine\u001b[0m\u001b[1;33m.\u001b[0m\u001b[0mget_loc\u001b[0m\u001b[1;33m(\u001b[0m\u001b[0mcasted_key\u001b[0m\u001b[1;33m)\u001b[0m\u001b[1;33m\u001b[0m\u001b[1;33m\u001b[0m\u001b[0m\n\u001b[0;32m   3630\u001b[0m             \u001b[1;32mexcept\u001b[0m \u001b[0mKeyError\u001b[0m \u001b[1;32mas\u001b[0m \u001b[0merr\u001b[0m\u001b[1;33m:\u001b[0m\u001b[1;33m\u001b[0m\u001b[1;33m\u001b[0m\u001b[0m\n\u001b[1;32m-> 3631\u001b[1;33m                 \u001b[1;32mraise\u001b[0m \u001b[0mKeyError\u001b[0m\u001b[1;33m(\u001b[0m\u001b[0mkey\u001b[0m\u001b[1;33m)\u001b[0m \u001b[1;32mfrom\u001b[0m \u001b[0merr\u001b[0m\u001b[1;33m\u001b[0m\u001b[1;33m\u001b[0m\u001b[0m\n\u001b[0m\u001b[0;32m   3632\u001b[0m             \u001b[1;32mexcept\u001b[0m \u001b[0mTypeError\u001b[0m\u001b[1;33m:\u001b[0m\u001b[1;33m\u001b[0m\u001b[1;33m\u001b[0m\u001b[0m\n\u001b[0;32m   3633\u001b[0m                 \u001b[1;31m# If we have a listlike key, _check_indexing_error will raise\u001b[0m\u001b[1;33m\u001b[0m\u001b[1;33m\u001b[0m\u001b[0m\n",
            "\u001b[1;31mKeyError\u001b[0m: 'operationcondition'"
          ]
        }
      ],
      "source": [
        "wavelet_feature_all['operationcondition'].value_counts()"
      ]
    },
    {
      "cell_type": "markdown",
      "id": "46b3d6d4",
      "metadata": {
        "id": "46b3d6d4"
      },
      "source": [
        "# Train and Test Data"
      ]
    },
    {
      "cell_type": "code",
      "execution_count": null,
      "id": "d9c98b44",
      "metadata": {
        "id": "d9c98b44",
        "outputId": "e5c6fa83-42b7-4082-d7e7-e537b50ff56c",
        "colab": {
          "base_uri": "https://localhost:8080/",
          "height": 300
        }
      },
      "outputs": [
        {
          "output_type": "execute_result",
          "data": {
            "text/plain": [
              "      Date Machine Operation Condition Repeat operationcondition  entropyX0  \\\n",
              "0  Aug2019     M01      OP01       bad      0            OP01bad  10.965784   \n",
              "1  Aug2019     M01      OP01       bad      0            OP01bad  10.965784   \n",
              "2  Aug2019     M01      OP01       bad      0            OP01bad  10.965784   \n",
              "3  Aug2019     M01      OP01       bad      0            OP01bad  10.965784   \n",
              "4  Aug2019     M01      OP01       bad      0            OP01bad  10.965784   \n",
              "\n",
              "         maxX0        minX0     meanX0  ...       minZ2    meanZ2      stdZ2  \\\n",
              "0  1801.101386 -1402.561931  16.880632  ... -193.071076 -0.003095  29.503719   \n",
              "1  1781.163083 -1745.155495  -9.536791  ... -173.472602 -0.001026  29.252570   \n",
              "2  1781.098449 -1745.155495   0.547135  ... -173.472602  0.000540  29.752761   \n",
              "3  1743.173360 -1491.697318  10.774369  ... -249.249124 -0.000706  27.743433   \n",
              "4  1743.173360 -1699.309275 -18.986601  ... -252.261634 -0.004745  28.920070   \n",
              "\n",
              "     skewZ2  entropyZ3       maxZ3       minZ3    meanZ3      stdZ3    skewZ3  \n",
              "0  0.000312  10.965784  188.118255 -192.366201  0.001129  39.308575 -0.030426  \n",
              "1  0.000398  10.965784  202.271345 -202.044404 -0.003277  41.646482 -0.002293  \n",
              "2  0.000379  10.965784  202.251967 -202.058919  0.009320  42.609385 -0.006876  \n",
              "3  0.000025  10.965784  178.925942 -183.094042  0.018576  35.280894  0.005064  \n",
              "4  0.000824  10.965784  179.691133 -173.143189 -0.005987  39.474065 -0.002637  \n",
              "\n",
              "[5 rows x 78 columns]"
            ],
            "text/html": [
              "\n",
              "  <div id=\"df-fe565830-520e-45ec-86f6-fee19df56518\">\n",
              "    <div class=\"colab-df-container\">\n",
              "      <div>\n",
              "<style scoped>\n",
              "    .dataframe tbody tr th:only-of-type {\n",
              "        vertical-align: middle;\n",
              "    }\n",
              "\n",
              "    .dataframe tbody tr th {\n",
              "        vertical-align: top;\n",
              "    }\n",
              "\n",
              "    .dataframe thead th {\n",
              "        text-align: right;\n",
              "    }\n",
              "</style>\n",
              "<table border=\"1\" class=\"dataframe\">\n",
              "  <thead>\n",
              "    <tr style=\"text-align: right;\">\n",
              "      <th></th>\n",
              "      <th>Date</th>\n",
              "      <th>Machine</th>\n",
              "      <th>Operation</th>\n",
              "      <th>Condition</th>\n",
              "      <th>Repeat</th>\n",
              "      <th>operationcondition</th>\n",
              "      <th>entropyX0</th>\n",
              "      <th>maxX0</th>\n",
              "      <th>minX0</th>\n",
              "      <th>meanX0</th>\n",
              "      <th>...</th>\n",
              "      <th>minZ2</th>\n",
              "      <th>meanZ2</th>\n",
              "      <th>stdZ2</th>\n",
              "      <th>skewZ2</th>\n",
              "      <th>entropyZ3</th>\n",
              "      <th>maxZ3</th>\n",
              "      <th>minZ3</th>\n",
              "      <th>meanZ3</th>\n",
              "      <th>stdZ3</th>\n",
              "      <th>skewZ3</th>\n",
              "    </tr>\n",
              "  </thead>\n",
              "  <tbody>\n",
              "    <tr>\n",
              "      <th>0</th>\n",
              "      <td>Aug2019</td>\n",
              "      <td>M01</td>\n",
              "      <td>OP01</td>\n",
              "      <td>bad</td>\n",
              "      <td>0</td>\n",
              "      <td>OP01bad</td>\n",
              "      <td>10.965784</td>\n",
              "      <td>1801.101386</td>\n",
              "      <td>-1402.561931</td>\n",
              "      <td>16.880632</td>\n",
              "      <td>...</td>\n",
              "      <td>-193.071076</td>\n",
              "      <td>-0.003095</td>\n",
              "      <td>29.503719</td>\n",
              "      <td>0.000312</td>\n",
              "      <td>10.965784</td>\n",
              "      <td>188.118255</td>\n",
              "      <td>-192.366201</td>\n",
              "      <td>0.001129</td>\n",
              "      <td>39.308575</td>\n",
              "      <td>-0.030426</td>\n",
              "    </tr>\n",
              "    <tr>\n",
              "      <th>1</th>\n",
              "      <td>Aug2019</td>\n",
              "      <td>M01</td>\n",
              "      <td>OP01</td>\n",
              "      <td>bad</td>\n",
              "      <td>0</td>\n",
              "      <td>OP01bad</td>\n",
              "      <td>10.965784</td>\n",
              "      <td>1781.163083</td>\n",
              "      <td>-1745.155495</td>\n",
              "      <td>-9.536791</td>\n",
              "      <td>...</td>\n",
              "      <td>-173.472602</td>\n",
              "      <td>-0.001026</td>\n",
              "      <td>29.252570</td>\n",
              "      <td>0.000398</td>\n",
              "      <td>10.965784</td>\n",
              "      <td>202.271345</td>\n",
              "      <td>-202.044404</td>\n",
              "      <td>-0.003277</td>\n",
              "      <td>41.646482</td>\n",
              "      <td>-0.002293</td>\n",
              "    </tr>\n",
              "    <tr>\n",
              "      <th>2</th>\n",
              "      <td>Aug2019</td>\n",
              "      <td>M01</td>\n",
              "      <td>OP01</td>\n",
              "      <td>bad</td>\n",
              "      <td>0</td>\n",
              "      <td>OP01bad</td>\n",
              "      <td>10.965784</td>\n",
              "      <td>1781.098449</td>\n",
              "      <td>-1745.155495</td>\n",
              "      <td>0.547135</td>\n",
              "      <td>...</td>\n",
              "      <td>-173.472602</td>\n",
              "      <td>0.000540</td>\n",
              "      <td>29.752761</td>\n",
              "      <td>0.000379</td>\n",
              "      <td>10.965784</td>\n",
              "      <td>202.251967</td>\n",
              "      <td>-202.058919</td>\n",
              "      <td>0.009320</td>\n",
              "      <td>42.609385</td>\n",
              "      <td>-0.006876</td>\n",
              "    </tr>\n",
              "    <tr>\n",
              "      <th>3</th>\n",
              "      <td>Aug2019</td>\n",
              "      <td>M01</td>\n",
              "      <td>OP01</td>\n",
              "      <td>bad</td>\n",
              "      <td>0</td>\n",
              "      <td>OP01bad</td>\n",
              "      <td>10.965784</td>\n",
              "      <td>1743.173360</td>\n",
              "      <td>-1491.697318</td>\n",
              "      <td>10.774369</td>\n",
              "      <td>...</td>\n",
              "      <td>-249.249124</td>\n",
              "      <td>-0.000706</td>\n",
              "      <td>27.743433</td>\n",
              "      <td>0.000025</td>\n",
              "      <td>10.965784</td>\n",
              "      <td>178.925942</td>\n",
              "      <td>-183.094042</td>\n",
              "      <td>0.018576</td>\n",
              "      <td>35.280894</td>\n",
              "      <td>0.005064</td>\n",
              "    </tr>\n",
              "    <tr>\n",
              "      <th>4</th>\n",
              "      <td>Aug2019</td>\n",
              "      <td>M01</td>\n",
              "      <td>OP01</td>\n",
              "      <td>bad</td>\n",
              "      <td>0</td>\n",
              "      <td>OP01bad</td>\n",
              "      <td>10.965784</td>\n",
              "      <td>1743.173360</td>\n",
              "      <td>-1699.309275</td>\n",
              "      <td>-18.986601</td>\n",
              "      <td>...</td>\n",
              "      <td>-252.261634</td>\n",
              "      <td>-0.004745</td>\n",
              "      <td>28.920070</td>\n",
              "      <td>0.000824</td>\n",
              "      <td>10.965784</td>\n",
              "      <td>179.691133</td>\n",
              "      <td>-173.143189</td>\n",
              "      <td>-0.005987</td>\n",
              "      <td>39.474065</td>\n",
              "      <td>-0.002637</td>\n",
              "    </tr>\n",
              "  </tbody>\n",
              "</table>\n",
              "<p>5 rows × 78 columns</p>\n",
              "</div>\n",
              "      <button class=\"colab-df-convert\" onclick=\"convertToInteractive('df-fe565830-520e-45ec-86f6-fee19df56518')\"\n",
              "              title=\"Convert this dataframe to an interactive table.\"\n",
              "              style=\"display:none;\">\n",
              "        \n",
              "  <svg xmlns=\"http://www.w3.org/2000/svg\" height=\"24px\"viewBox=\"0 0 24 24\"\n",
              "       width=\"24px\">\n",
              "    <path d=\"M0 0h24v24H0V0z\" fill=\"none\"/>\n",
              "    <path d=\"M18.56 5.44l.94 2.06.94-2.06 2.06-.94-2.06-.94-.94-2.06-.94 2.06-2.06.94zm-11 1L8.5 8.5l.94-2.06 2.06-.94-2.06-.94L8.5 2.5l-.94 2.06-2.06.94zm10 10l.94 2.06.94-2.06 2.06-.94-2.06-.94-.94-2.06-.94 2.06-2.06.94z\"/><path d=\"M17.41 7.96l-1.37-1.37c-.4-.4-.92-.59-1.43-.59-.52 0-1.04.2-1.43.59L10.3 9.45l-7.72 7.72c-.78.78-.78 2.05 0 2.83L4 21.41c.39.39.9.59 1.41.59.51 0 1.02-.2 1.41-.59l7.78-7.78 2.81-2.81c.8-.78.8-2.07 0-2.86zM5.41 20L4 18.59l7.72-7.72 1.47 1.35L5.41 20z\"/>\n",
              "  </svg>\n",
              "      </button>\n",
              "      \n",
              "  <style>\n",
              "    .colab-df-container {\n",
              "      display:flex;\n",
              "      flex-wrap:wrap;\n",
              "      gap: 12px;\n",
              "    }\n",
              "\n",
              "    .colab-df-convert {\n",
              "      background-color: #E8F0FE;\n",
              "      border: none;\n",
              "      border-radius: 50%;\n",
              "      cursor: pointer;\n",
              "      display: none;\n",
              "      fill: #1967D2;\n",
              "      height: 32px;\n",
              "      padding: 0 0 0 0;\n",
              "      width: 32px;\n",
              "    }\n",
              "\n",
              "    .colab-df-convert:hover {\n",
              "      background-color: #E2EBFA;\n",
              "      box-shadow: 0px 1px 2px rgba(60, 64, 67, 0.3), 0px 1px 3px 1px rgba(60, 64, 67, 0.15);\n",
              "      fill: #174EA6;\n",
              "    }\n",
              "\n",
              "    [theme=dark] .colab-df-convert {\n",
              "      background-color: #3B4455;\n",
              "      fill: #D2E3FC;\n",
              "    }\n",
              "\n",
              "    [theme=dark] .colab-df-convert:hover {\n",
              "      background-color: #434B5C;\n",
              "      box-shadow: 0px 1px 3px 1px rgba(0, 0, 0, 0.15);\n",
              "      filter: drop-shadow(0px 1px 2px rgba(0, 0, 0, 0.3));\n",
              "      fill: #FFFFFF;\n",
              "    }\n",
              "  </style>\n",
              "\n",
              "      <script>\n",
              "        const buttonEl =\n",
              "          document.querySelector('#df-fe565830-520e-45ec-86f6-fee19df56518 button.colab-df-convert');\n",
              "        buttonEl.style.display =\n",
              "          google.colab.kernel.accessAllowed ? 'block' : 'none';\n",
              "\n",
              "        async function convertToInteractive(key) {\n",
              "          const element = document.querySelector('#df-fe565830-520e-45ec-86f6-fee19df56518');\n",
              "          const dataTable =\n",
              "            await google.colab.kernel.invokeFunction('convertToInteractive',\n",
              "                                                     [key], {});\n",
              "          if (!dataTable) return;\n",
              "\n",
              "          const docLinkHtml = 'Like what you see? Visit the ' +\n",
              "            '<a target=\"_blank\" href=https://colab.research.google.com/notebooks/data_table.ipynb>data table notebook</a>'\n",
              "            + ' to learn more about interactive tables.';\n",
              "          element.innerHTML = '';\n",
              "          dataTable['output_type'] = 'display_data';\n",
              "          await google.colab.output.renderOutput(dataTable, element);\n",
              "          const docLink = document.createElement('div');\n",
              "          docLink.innerHTML = docLinkHtml;\n",
              "          element.appendChild(docLink);\n",
              "        }\n",
              "      </script>\n",
              "    </div>\n",
              "  </div>\n",
              "  "
            ]
          },
          "metadata": {},
          "execution_count": 150
        }
      ],
      "source": [
        "wavelet_feature_all.head()"
      ]
    },
    {
      "cell_type": "code",
      "execution_count": null,
      "id": "5e7db4cb",
      "metadata": {
        "id": "5e7db4cb"
      },
      "outputs": [],
      "source": [
        "#Train data = M02 and M03\n",
        "#Test data = M01\n",
        "# X_train = wavelet_feature_all.drop(wavelet_feature_all.columns[0:6], axis=1)\n",
        "# y_train = wavelet_feature_all['operationcondition']\n",
        "# X_test = wavelet_feature_test.drop(wavelet_feature_test.columns[0:6], axis=1)\n",
        "# y_test = wavelet_feature_test['operationcondition']\n",
        "X = wavelet_feature_all.drop(wavelet_feature_all.columns[0:6], axis=1)\n",
        "Y = wavelet_feature_all['operationcondition']\n",
        "# print('Training Features Shape:', X_train.shape)\n",
        "# print('Training Labels Shape:', y_train.shape)\n",
        "# print('Testing Features Shape:', X_test.shape)\n",
        "# print('Testing Labels Shape:', y_test.shape)"
      ]
    },
    {
      "cell_type": "code",
      "execution_count": null,
      "id": "73fc6f19",
      "metadata": {
        "id": "73fc6f19",
        "outputId": "499f1b06-2ff2-473a-db88-08349614d6a9"
      },
      "outputs": [
        {
          "name": "stdout",
          "output_type": "stream",
          "text": [
            "OP04bad     157\n",
            "OP04good    144\n",
            "OP10bad     117\n",
            "OP10good    107\n",
            "OP07bad      71\n",
            "OP07good     58\n",
            "OP01bad      58\n",
            "OP02bad      57\n",
            "OP02good     48\n",
            "OP01good     45\n",
            "Name: operationcondition, dtype: int64 OP04bad     628\n",
            "OP04good    576\n",
            "OP10bad     468\n",
            "OP10good    426\n",
            "OP07bad     285\n",
            "OP01bad     232\n",
            "OP07good    230\n",
            "OP02bad     228\n",
            "OP02good    192\n",
            "OP01good    180\n",
            "Name: operationcondition, dtype: int64\n"
          ]
        }
      ],
      "source": [
        "from sklearn.model_selection import train_test_split\n",
        "X_train, X_test, y_train, y_test = train_test_split(X, Y,test_size = 0.2, stratify = Y,\n",
        "                                                                    random_state = 123)\n",
        "print (y_test.value_counts(), y_train.value_counts())"
      ]
    },
    {
      "cell_type": "code",
      "execution_count": null,
      "id": "11026e36",
      "metadata": {
        "collapsed": true,
        "id": "11026e36",
        "outputId": "a8a5ee23-ecf9-4df1-b882-a1f3a5d94ab4"
      },
      "outputs": [
        {
          "data": {
            "image/png": "[encoded data removed]",
            "text/plain": [
              "<Figure size 1000x1000 with 2 Axes>"
            ]
          },
          "metadata": {},
          "output_type": "display_data"
        }
      ],
      "source": [
        "#checking the number of sample in time domain data\n",
        "# sns.set_style('whitegrid')\n",
        "# plt.figure(figsize = (10, 5))\n",
        "# sns.countplot(x = 'Toolcondition', data = time_feature_all)\n",
        "# plt.title('Number of samples in timedomain dataset')\n",
        "# plt.show()\n",
        "# sns.set_style('whitegrid')\n",
        "# #plt.figure(figsize = (15, 15))\n",
        "# plt.figure(figsize = (10, 10))\n",
        "# plt.subplot(2,1,1)\n",
        "# sns.countplot(x = 'operationcondition', data = wavelet_feature_all)\n",
        "# plt.title('Number of samples in training data')\n",
        "# plt.subplot(2,1,2)\n",
        "# sns.countplot(x = 'operationcondition', data = wavelet_feature_test)\n",
        "# plt.title('Number of samples in test')\n",
        "# plt.show()"
      ]
    },
    {
      "cell_type": "markdown",
      "id": "422e4ab2",
      "metadata": {
        "id": "422e4ab2"
      },
      "source": [
        "# Random Forest Classifier"
      ]
    },
    {
      "cell_type": "code",
      "execution_count": null,
      "id": "a5d81973",
      "metadata": {
        "id": "a5d81973",
        "outputId": "cd262adb-fb1f-4a9b-85f9-8c5d65dfac1a"
      },
      "outputs": [
        {
          "name": "stderr",
          "output_type": "stream",
          "text": [
            "[Parallel(n_jobs=1)]: Using backend SequentialBackend with 1 concurrent workers.\n"
          ]
        },
        {
          "name": "stdout",
          "output_type": "stream",
          "text": [
            "Accuracy: 0.9303944315545244\n",
            "\n",
            " -------------Classification Report-------------\n",
            "\n",
            "              precision    recall  f1-score   support\n",
            "\n",
            "     OP01bad       0.97      0.97      0.97        58\n",
            "    OP01good       1.00      0.73      0.85        45\n",
            "     OP02bad       1.00      0.96      0.98        57\n",
            "    OP02good       0.88      0.79      0.84        48\n",
            "     OP04bad       0.99      0.98      0.98       157\n",
            "    OP04good       0.85      0.97      0.91       144\n",
            "     OP07bad       1.00      0.93      0.96        71\n",
            "    OP07good       0.90      0.91      0.91        58\n",
            "     OP10bad       0.97      0.97      0.97       117\n",
            "    OP10good       0.85      0.88      0.87       107\n",
            "\n",
            "    accuracy                           0.93       862\n",
            "   macro avg       0.94      0.91      0.92       862\n",
            "weighted avg       0.93      0.93      0.93       862\n",
            "\n"
          ]
        },
        {
          "name": "stderr",
          "output_type": "stream",
          "text": [
            "[Parallel(n_jobs=1)]: Done 200 out of 200 | elapsed:    4.3s finished\n",
            "[Parallel(n_jobs=1)]: Using backend SequentialBackend with 1 concurrent workers.\n",
            "[Parallel(n_jobs=1)]: Done 200 out of 200 | elapsed:    0.0s finished\n"
          ]
        }
      ],
      "source": [
        "from sklearn.ensemble import RandomForestClassifier\n",
        "from sklearn.pipeline import make_pipeline\n",
        "from sklearn.preprocessing import StandardScaler\n",
        "from sklearn import metrics\n",
        "from sklearn.metrics import accuracy_score\n",
        "from sklearn.metrics import classification_report\n",
        "\n",
        "MODEL = RandomForestClassifier(bootstrap = True, max_depth= 25,min_samples_leaf=1, min_samples_split= 5, n_estimators= 200, random_state = 42, verbose=1)\n",
        "MODEL.fit(X_train, y_train)\n",
        "y_pred = MODEL.predict(X_test)\n",
        "print(\"Accuracy:\", accuracy_score(y_test, y_pred))\n",
        "print(\"\\n -------------Classification Report-------------\\n\")\n",
        "print(classification_report(y_test, y_pred))"
      ]
    },
    {
      "cell_type": "markdown",
      "id": "90e3999e",
      "metadata": {
        "id": "90e3999e"
      },
      "source": [
        "# SUPPORT VECTOR CLASSIFIER (SVC)"
      ]
    },
    {
      "cell_type": "code",
      "execution_count": null,
      "id": "77741075",
      "metadata": {
        "id": "77741075",
        "outputId": "99009ca7-4219-4557-dcf4-97d00e99eb76"
      },
      "outputs": [
        {
          "name": "stdout",
          "output_type": "stream",
          "text": [
            "Accuracy: 0.8932714617169374\n"
          ]
        }
      ],
      "source": [
        "from sklearn.svm import SVC\n",
        "MODEL = make_pipeline(StandardScaler(), SVC(kernel='rbf',C=9,gamma='auto'))\n",
        "MODEL.fit(X_train, y_train)\n",
        "y_pred = MODEL.predict(X_test)\n",
        "print(\"Accuracy:\", accuracy_score(y_test, y_pred))"
      ]
    },
    {
      "cell_type": "markdown",
      "id": "b25a2829",
      "metadata": {
        "id": "b25a2829"
      },
      "source": [
        "# Logistic regression model"
      ]
    },
    {
      "cell_type": "code",
      "execution_count": null,
      "id": "53370096",
      "metadata": {
        "collapsed": true,
        "id": "53370096",
        "outputId": "00cd680b-5635-45c4-c212-87c1712ce889"
      },
      "outputs": [
        {
          "name": "stdout",
          "output_type": "stream",
          "text": [
            "Accuracy: 0.5802997858672377\n",
            "\n",
            " -------------Classification Report-------------\n",
            "\n",
            "              precision    recall  f1-score   support\n",
            "\n",
            "     OP01bad       0.05      0.01      0.02        83\n",
            "    OP01good       0.37      0.32      0.34        60\n",
            "     OP02bad       1.00      0.87      0.93        70\n",
            "    OP02good       0.82      0.19      0.30        75\n",
            "     OP04bad       0.41      0.28      0.33       189\n",
            "    OP04good       0.54      0.70      0.61       198\n",
            "     OP07bad       0.77      0.55      0.64       151\n",
            "    OP07good       0.69      0.94      0.79        90\n",
            "     OP10bad       0.71      0.80      0.75       329\n",
            "    OP10good       0.36      0.61      0.45       156\n",
            "\n",
            "    accuracy                           0.58      1401\n",
            "   macro avg       0.57      0.53      0.52      1401\n",
            "weighted avg       0.58      0.58      0.56      1401\n",
            "\n"
          ]
        },
        {
          "name": "stderr",
          "output_type": "stream",
          "text": [
            "C:\\Users\\AHUSSAIN14\\Anaconda3\\lib\\site-packages\\sklearn\\linear_model\\_logistic.py:818: ConvergenceWarning: lbfgs failed to converge (status=1):\n",
            "STOP: TOTAL NO. of ITERATIONS REACHED LIMIT.\n",
            "\n",
            "Increase the number of iterations (max_iter) or scale the data as shown in:\n",
            "    https://scikit-learn.org/stable/modules/preprocessing.html\n",
            "Please also refer to the documentation for alternative solver options:\n",
            "    https://scikit-learn.org/stable/modules/linear_model.html#logistic-regression\n",
            "  extra_warning_msg=_LOGISTIC_SOLVER_CONVERGENCE_MSG,\n"
          ]
        }
      ],
      "source": [
        "# from sklearn.linear_model import LogisticRegression\n",
        "# from sklearn.pipeline import make_pipeline\n",
        "# from sklearn.preprocessing import StandardScaler\n",
        "# from sklearn import metrics\n",
        "# from sklearn.metrics import accuracy_score\n",
        "# from sklearn.metrics import classification_report\n",
        "\n",
        "\n",
        "# # standardization\n",
        "# scaler = StandardScaler()\n",
        "# scaler.fit(X_train)\n",
        "# X_train_data_lr = scaler.transform(X_train)\n",
        "# X_test_data_lr = scaler.transform(X_test)\n",
        "# # logistic regression model\n",
        "# lr = LogisticRegression(random_state = 21)\n",
        "# lr.fit(X_train_data_lr, y_train)\n",
        "# y_pred = lr.predict(X_test_data_lr)\n",
        "# print(\"Accuracy:\", accuracy_score(y_test, y_pred))\n",
        "# print(\"\\n -------------Classification Report-------------\\n\")\n",
        "# print(classification_report(y_test, y_pred))"
      ]
    },
    {
      "cell_type": "markdown",
      "id": "043c5b61",
      "metadata": {
        "id": "043c5b61"
      },
      "source": [
        "# CONFUSION MATRIX"
      ]
    },
    {
      "cell_type": "code",
      "execution_count": null,
      "id": "1abaa85c",
      "metadata": {
        "id": "1abaa85c"
      },
      "outputs": [],
      "source": [
        "labels = wavelet_feature_all['operationcondition'].unique()"
      ]
    },
    {
      "cell_type": "code",
      "execution_count": null,
      "id": "272e9a3d",
      "metadata": {
        "id": "272e9a3d"
      },
      "outputs": [],
      "source": [
        "from sklearn.metrics import confusion_matrix\n",
        "test_confu_matrix = confusion_matrix(y_test,  y_pred)"
      ]
    },
    {
      "cell_type": "code",
      "execution_count": null,
      "id": "8a8e0c6d",
      "metadata": {
        "id": "8a8e0c6d",
        "outputId": "8ca706b2-1038-416b-980e-f2fe8f217221"
      },
      "outputs": [
        {
          "data": {
            "image/png": "[encoded data removed]",
            "text/plain": [
              "<Figure size 300x300 with 2 Axes>"
            ]
          },
          "metadata": {},
          "output_type": "display_data"
        }
      ],
      "source": [
        "# confusion matrix\n",
        "plt.figure(2,figsize=(3,3))\n",
        "# sns.heatmap(test_confu_matrix, annot = True,\n",
        "# xticklabels=Labels, yticklabels=Labels, cmap = \"Blues\")\n",
        "# plt.title('Test Confusion Matrix')\n",
        "# plt.xlabel('Predicted')\n",
        "# plt.ylabel('True')\n",
        "# plt.show()\n",
        "sns.heatmap(test_confu_matrix, xticklabels=labels, yticklabels=labels, annot=True,linewidths = 0.1, fmt='d', cmap = 'YlGnBu')\n",
        "plt.title('Confusion matrix', fontsize = 15)\n",
        "plt.ylabel('True')\n",
        "plt.xlabel('Predicted')\n",
        "plt.show()"
      ]
    },
    {
      "cell_type": "markdown",
      "id": "5e9c3e40",
      "metadata": {
        "id": "5e9c3e40"
      },
      "source": [
        "# PCA ANALYSIS"
      ]
    },
    {
      "cell_type": "code",
      "execution_count": null,
      "id": "4d7547e8",
      "metadata": {
        "id": "4d7547e8"
      },
      "outputs": [],
      "source": [
        "from sklearn.decomposition import PCA\n",
        "X = wavelet_feature_all.drop(wavelet_feature_all.columns[0:6], axis=1)\n",
        "Y = wavelet_feature_all['operationcondition']\n",
        "\n",
        "x = StandardScaler().fit_transform(X)\n",
        "pca = PCA(n_components=20)\n",
        "principalComponents = pca.fit_transform(x)\n",
        "principalDf = pd.DataFrame(data = principalComponents)\n",
        "             #, columns = ['principal component 1', 'principal component 2','principal component 3','principal component 4','principal component 5'])"
      ]
    },
    {
      "cell_type": "code",
      "execution_count": null,
      "id": "7c3467ac",
      "metadata": {
        "id": "7c3467ac",
        "outputId": "f328f44e-5be1-4a18-c869-a81e8e6e910d"
      },
      "outputs": [
        {
          "data": {
            "text/plain": [
              "(4307, 20)"
            ]
          },
          "execution_count": 212,
          "metadata": {},
          "output_type": "execute_result"
        }
      ],
      "source": [
        "principalDf.shape\n"
      ]
    },
    {
      "cell_type": "code",
      "execution_count": null,
      "id": "9b8e5ea9",
      "metadata": {
        "id": "9b8e5ea9",
        "outputId": "1ccfcf88-0624-4c81-df5e-d8bb359dd2aa"
      },
      "outputs": [
        {
          "data": {
            "text/html": [
              "<div>\n",
              "<style scoped>\n",
              "    .dataframe tbody tr th:only-of-type {\n",
              "        vertical-align: middle;\n",
              "    }\n",
              "\n",
              "    .dataframe tbody tr th {\n",
              "        vertical-align: top;\n",
              "    }\n",
              "\n",
              "    .dataframe thead th {\n",
              "        text-align: right;\n",
              "    }\n",
              "</style>\n",
              "<table border=\"1\" class=\"dataframe\">\n",
              "  <thead>\n",
              "    <tr style=\"text-align: right;\">\n",
              "      <th></th>\n",
              "      <th>0</th>\n",
              "      <th>1</th>\n",
              "      <th>2</th>\n",
              "      <th>3</th>\n",
              "      <th>4</th>\n",
              "      <th>5</th>\n",
              "      <th>6</th>\n",
              "      <th>7</th>\n",
              "      <th>8</th>\n",
              "      <th>9</th>\n",
              "      <th>10</th>\n",
              "      <th>11</th>\n",
              "      <th>12</th>\n",
              "      <th>13</th>\n",
              "      <th>14</th>\n",
              "      <th>15</th>\n",
              "      <th>16</th>\n",
              "      <th>17</th>\n",
              "      <th>18</th>\n",
              "      <th>19</th>\n",
              "    </tr>\n",
              "  </thead>\n",
              "  <tbody>\n",
              "    <tr>\n",
              "      <th>0</th>\n",
              "      <td>-3.474322</td>\n",
              "      <td>-0.611789</td>\n",
              "      <td>1.386618</td>\n",
              "      <td>0.936979</td>\n",
              "      <td>-1.018021</td>\n",
              "      <td>-0.477261</td>\n",
              "      <td>-0.315762</td>\n",
              "      <td>-0.158871</td>\n",
              "      <td>0.915114</td>\n",
              "      <td>0.205575</td>\n",
              "      <td>0.358712</td>\n",
              "      <td>0.308898</td>\n",
              "      <td>1.516229</td>\n",
              "      <td>-0.826524</td>\n",
              "      <td>0.487242</td>\n",
              "      <td>-0.093735</td>\n",
              "      <td>0.505393</td>\n",
              "      <td>0.277238</td>\n",
              "      <td>-1.109314</td>\n",
              "      <td>0.101077</td>\n",
              "    </tr>\n",
              "    <tr>\n",
              "      <th>1</th>\n",
              "      <td>-3.648181</td>\n",
              "      <td>-0.656040</td>\n",
              "      <td>1.920336</td>\n",
              "      <td>0.987424</td>\n",
              "      <td>-1.109915</td>\n",
              "      <td>-0.974817</td>\n",
              "      <td>0.472349</td>\n",
              "      <td>-0.017336</td>\n",
              "      <td>0.486433</td>\n",
              "      <td>1.338528</td>\n",
              "      <td>-0.129715</td>\n",
              "      <td>1.680134</td>\n",
              "      <td>0.702868</td>\n",
              "      <td>0.245524</td>\n",
              "      <td>0.958130</td>\n",
              "      <td>-0.241569</td>\n",
              "      <td>0.040406</td>\n",
              "      <td>-0.470434</td>\n",
              "      <td>-0.781507</td>\n",
              "      <td>-0.087261</td>\n",
              "    </tr>\n",
              "    <tr>\n",
              "      <th>2</th>\n",
              "      <td>-3.482935</td>\n",
              "      <td>-1.689158</td>\n",
              "      <td>1.650164</td>\n",
              "      <td>0.255013</td>\n",
              "      <td>-1.780435</td>\n",
              "      <td>-0.797308</td>\n",
              "      <td>-0.812361</td>\n",
              "      <td>1.045991</td>\n",
              "      <td>1.256079</td>\n",
              "      <td>-1.402998</td>\n",
              "      <td>-0.434086</td>\n",
              "      <td>-1.204009</td>\n",
              "      <td>-0.608758</td>\n",
              "      <td>-0.154148</td>\n",
              "      <td>0.576753</td>\n",
              "      <td>0.175711</td>\n",
              "      <td>0.069903</td>\n",
              "      <td>-0.475472</td>\n",
              "      <td>-0.173406</td>\n",
              "      <td>0.251224</td>\n",
              "    </tr>\n",
              "    <tr>\n",
              "      <th>3</th>\n",
              "      <td>-3.895320</td>\n",
              "      <td>-1.971930</td>\n",
              "      <td>1.249907</td>\n",
              "      <td>0.036079</td>\n",
              "      <td>-1.433991</td>\n",
              "      <td>0.228264</td>\n",
              "      <td>-1.658690</td>\n",
              "      <td>0.151881</td>\n",
              "      <td>0.981825</td>\n",
              "      <td>-0.806207</td>\n",
              "      <td>0.876594</td>\n",
              "      <td>-1.966596</td>\n",
              "      <td>-1.132334</td>\n",
              "      <td>-0.996998</td>\n",
              "      <td>0.109714</td>\n",
              "      <td>0.555853</td>\n",
              "      <td>0.728292</td>\n",
              "      <td>-0.210786</td>\n",
              "      <td>-0.197057</td>\n",
              "      <td>0.658781</td>\n",
              "    </tr>\n",
              "    <tr>\n",
              "      <th>4</th>\n",
              "      <td>-2.966059</td>\n",
              "      <td>-1.399562</td>\n",
              "      <td>1.358900</td>\n",
              "      <td>-0.332920</td>\n",
              "      <td>-1.546771</td>\n",
              "      <td>-1.164891</td>\n",
              "      <td>-1.278835</td>\n",
              "      <td>-0.456236</td>\n",
              "      <td>-0.431022</td>\n",
              "      <td>0.702003</td>\n",
              "      <td>1.172651</td>\n",
              "      <td>1.204308</td>\n",
              "      <td>0.644867</td>\n",
              "      <td>-0.545375</td>\n",
              "      <td>-0.073026</td>\n",
              "      <td>-0.186600</td>\n",
              "      <td>0.547961</td>\n",
              "      <td>0.184124</td>\n",
              "      <td>-0.047227</td>\n",
              "      <td>0.184081</td>\n",
              "    </tr>\n",
              "  </tbody>\n",
              "</table>\n",
              "</div>"
            ],
            "text/plain": [
              "         0         1         2         3         4         5         6   \\\n",
              "0 -3.474322 -0.611789  1.386618  0.936979 -1.018021 -0.477261 -0.315762   \n",
              "1 -3.648181 -0.656040  1.920336  0.987424 -1.109915 -0.974817  0.472349   \n",
              "2 -3.482935 -1.689158  1.650164  0.255013 -1.780435 -0.797308 -0.812361   \n",
              "3 -3.895320 -1.971930  1.249907  0.036079 -1.433991  0.228264 -1.658690   \n",
              "4 -2.966059 -1.399562  1.358900 -0.332920 -1.546771 -1.164891 -1.278835   \n",
              "\n",
              "         7         8         9         10        11        12        13  \\\n",
              "0 -0.158871  0.915114  0.205575  0.358712  0.308898  1.516229 -0.826524   \n",
              "1 -0.017336  0.486433  1.338528 -0.129715  1.680134  0.702868  0.245524   \n",
              "2  1.045991  1.256079 -1.402998 -0.434086 -1.204009 -0.608758 -0.154148   \n",
              "3  0.151881  0.981825 -0.806207  0.876594 -1.966596 -1.132334 -0.996998   \n",
              "4 -0.456236 -0.431022  0.702003  1.172651  1.204308  0.644867 -0.545375   \n",
              "\n",
              "         14        15        16        17        18        19  \n",
              "0  0.487242 -0.093735  0.505393  0.277238 -1.109314  0.101077  \n",
              "1  0.958130 -0.241569  0.040406 -0.470434 -0.781507 -0.087261  \n",
              "2  0.576753  0.175711  0.069903 -0.475472 -0.173406  0.251224  \n",
              "3  0.109714  0.555853  0.728292 -0.210786 -0.197057  0.658781  \n",
              "4 -0.073026 -0.186600  0.547961  0.184124 -0.047227  0.184081  "
            ]
          },
          "execution_count": 213,
          "metadata": {},
          "output_type": "execute_result"
        }
      ],
      "source": [
        "principalDf.head()"
      ]
    },
    {
      "cell_type": "code",
      "execution_count": null,
      "id": "3873c189",
      "metadata": {
        "id": "3873c189",
        "outputId": "76ba9c78-670c-4553-bc4f-47377b68f132"
      },
      "outputs": [
        {
          "name": "stdout",
          "output_type": "stream",
          "text": [
            "OP04bad     157\n",
            "OP04good    144\n",
            "OP10bad     117\n",
            "OP10good    107\n",
            "OP07bad      71\n",
            "OP07good     58\n",
            "OP01bad      58\n",
            "OP02bad      57\n",
            "OP02good     48\n",
            "OP01good     45\n",
            "Name: operationcondition, dtype: int64 OP04bad     628\n",
            "OP04good    576\n",
            "OP10bad     468\n",
            "OP10good    426\n",
            "OP07bad     285\n",
            "OP01bad     232\n",
            "OP07good    230\n",
            "OP02bad     228\n",
            "OP02good    192\n",
            "OP01good    180\n",
            "Name: operationcondition, dtype: int64\n"
          ]
        }
      ],
      "source": [
        "#TRAIN TEST SPLIT\n",
        "\n",
        "from sklearn.model_selection import train_test_split\n",
        "X_train, X_test, y_train, y_test = train_test_split(principalDf, Y,test_size = 0.2, stratify = Y,\n",
        "                                                                    random_state = 123)\n",
        "print (y_test.value_counts(), y_train.value_counts())"
      ]
    },
    {
      "cell_type": "code",
      "execution_count": null,
      "id": "0a4b07bb",
      "metadata": {
        "collapsed": true,
        "id": "0a4b07bb",
        "outputId": "4de1bf68-e7bd-46c3-e606-0082ba481ced"
      },
      "outputs": [
        {
          "name": "stderr",
          "output_type": "stream",
          "text": [
            "[Parallel(n_jobs=1)]: Using backend SequentialBackend with 1 concurrent workers.\n"
          ]
        },
        {
          "name": "stdout",
          "output_type": "stream",
          "text": [
            "Accuracy: 0.740139211136891\n",
            "\n",
            " -------------Classification Report-------------\n",
            "\n",
            "              precision    recall  f1-score   support\n",
            "\n",
            "     OP01bad       0.91      0.83      0.86        58\n",
            "    OP01good       0.61      0.24      0.35        45\n",
            "     OP02bad       0.96      0.95      0.96        57\n",
            "    OP02good       0.62      0.38      0.47        48\n",
            "     OP04bad       0.80      0.86      0.83       157\n",
            "    OP04good       0.62      0.84      0.71       144\n",
            "     OP07bad       0.83      0.63      0.72        71\n",
            "    OP07good       0.79      0.59      0.67        58\n",
            "     OP10bad       0.82      0.87      0.85       117\n",
            "    OP10good       0.58      0.65      0.61       107\n",
            "\n",
            "    accuracy                           0.74       862\n",
            "   macro avg       0.75      0.68      0.70       862\n",
            "weighted avg       0.75      0.74      0.73       862\n",
            "\n"
          ]
        },
        {
          "name": "stderr",
          "output_type": "stream",
          "text": [
            "[Parallel(n_jobs=1)]: Done 200 out of 200 | elapsed:    2.7s finished\n",
            "[Parallel(n_jobs=1)]: Using backend SequentialBackend with 1 concurrent workers.\n",
            "[Parallel(n_jobs=1)]: Done 200 out of 200 | elapsed:    0.0s finished\n"
          ]
        }
      ],
      "source": [
        "MODEL = RandomForestClassifier(bootstrap = True, max_depth= 30,min_samples_leaf=1, min_samples_split= 5, n_estimators= 200, random_state = 42, verbose=1)\n",
        "MODEL.fit(X_train, y_train)\n",
        "y_pred = MODEL.predict(X_test)\n",
        "print(\"Accuracy:\", accuracy_score(y_test, y_pred))\n",
        "print(\"\\n -------------Classification Report-------------\\n\")\n",
        "print(classification_report(y_test, y_pred))"
      ]
    },
    {
      "cell_type": "markdown",
      "id": "656546b9",
      "metadata": {
        "id": "656546b9"
      },
      "source": [
        "# Feature selection random forest"
      ]
    },
    {
      "cell_type": "code",
      "execution_count": null,
      "id": "edd739f9",
      "metadata": {
        "id": "edd739f9",
        "outputId": "d581a1a5-e52e-4057-b154-cfd37266e624"
      },
      "outputs": [
        {
          "name": "stderr",
          "output_type": "stream",
          "text": [
            "[Parallel(n_jobs=1)]: Using backend SequentialBackend with 1 concurrent workers.\n",
            "[Parallel(n_jobs=1)]: Done 200 out of 200 | elapsed:    4.4s finished\n"
          ]
        },
        {
          "data": {
            "text/plain": [
              "SelectFromModel(estimator=RandomForestClassifier(max_depth=30,\n",
              "                                                 min_samples_split=5,\n",
              "                                                 n_estimators=200,\n",
              "                                                 random_state=42, verbose=1))"
            ]
          },
          "execution_count": 237,
          "metadata": {},
          "output_type": "execute_result"
        }
      ],
      "source": [
        "from sklearn.feature_selection import SelectFromModel\n",
        "sel = SelectFromModel(RandomForestClassifier(bootstrap = True, max_depth= 30,min_samples_leaf=1, min_samples_split= 5, n_estimators= 200, random_state = 42, verbose=1))\n",
        "sel.fit(X_train, y_train)\n",
        "\n",
        "# MODEL = RandomForestClassifier(bootstrap = True, max_depth= 30,min_samples_leaf=1, min_samples_split= 5, n_estimators= 200, random_state = 42, verbose=1)\n",
        "# MODEL.fit(X_train, y_train)\n",
        "# y_pred = MODEL.predict(X_test)\n",
        "# # Saving feature names for later use\n",
        "# feature_list = list(X.columns)\n",
        "# # Convert to numpy array\n",
        "# features = np.array(X)"
      ]
    },
    {
      "cell_type": "code",
      "execution_count": null,
      "id": "073c6587",
      "metadata": {
        "id": "073c6587",
        "outputId": "0aa35681-e47f-4693-e97f-d96c4e7a6d8b"
      },
      "outputs": [
        {
          "data": {
            "text/plain": [
              "array([False,  True,  True, False,  True,  True,  True,  True, False,\n",
              "       False, False, False,  True, False,  True,  True, False,  True,\n",
              "        True, False,  True, False,  True,  True, False, False, False,\n",
              "       False, False, False, False, False, False,  True,  True,  True,\n",
              "        True,  True,  True,  True, False,  True,  True, False,  True,\n",
              "       False,  True,  True, False, False, False, False, False, False,\n",
              "       False, False, False, False, False, False, False, False, False,\n",
              "       False, False,  True,  True, False,  True,  True,  True, False,\n",
              "       False,  True,  True, False,  True,  True,  True,  True, False,\n",
              "        True,  True, False,  True, False, False,  True, False, False,\n",
              "       False, False,  True, False, False,  True])"
            ]
          },
          "execution_count": 238,
          "metadata": {},
          "output_type": "execute_result"
        }
      ],
      "source": [
        "sel.get_support()"
      ]
    },
    {
      "cell_type": "code",
      "execution_count": null,
      "id": "b132a794",
      "metadata": {
        "id": "b132a794",
        "outputId": "cd7e14c2-caf8-420e-ed47-c0555cae72ea"
      },
      "outputs": [
        {
          "data": {
            "text/plain": [
              "43"
            ]
          },
          "execution_count": 239,
          "metadata": {},
          "output_type": "execute_result"
        }
      ],
      "source": [
        "selected_feat= X_train.columns[(sel.get_support())]\n",
        "len(selected_feat)"
      ]
    },
    {
      "cell_type": "code",
      "execution_count": null,
      "id": "1b61059d",
      "metadata": {
        "id": "1b61059d",
        "outputId": "fdeb4c6e-3c55-47b3-d02e-afd2985d5d31"
      },
      "outputs": [
        {
          "name": "stdout",
          "output_type": "stream",
          "text": [
            "Index(['maxX0', 'minX0', 'stdX0', 'skewX0', 'kurtosisX0', 'EnergyX0', 'stdX1',\n",
            "       'kurtosisX1', 'EnergyX1', 'maxX2', 'minX2', 'stdX2', 'kurtosisX2',\n",
            "       'EnergyX2', 'maxY0', 'minY0', 'meanY0', 'stdY0', 'skewY0', 'kurtosisY0',\n",
            "       'EnergyY0', 'maxY1', 'minY1', 'stdY1', 'kurtosisY1', 'EnergyY1',\n",
            "       'maxZ0', 'minZ0', 'stdZ0', 'skewZ0', 'kurtosisZ0', 'maxZ1', 'minZ1',\n",
            "       'stdZ1', 'skewZ1', 'kurtosisZ1', 'EnergyZ1', 'maxZ2', 'minZ2', 'stdZ2',\n",
            "       'EnergyZ2', 'stdZ3', 'EnergyZ3'],\n",
            "      dtype='object')\n"
          ]
        }
      ],
      "source": [
        "print(selected_feat)"
      ]
    },
    {
      "cell_type": "code",
      "execution_count": null,
      "id": "d2b7fe94",
      "metadata": {
        "id": "d2b7fe94"
      },
      "outputs": [],
      "source": [
        "#df2 = df[[\"Courses\",\"Fee\",\"Duration\"]] # select multile columns\n",
        "X_new = wavelet_feature_all[selected_feat]"
      ]
    },
    {
      "cell_type": "code",
      "execution_count": null,
      "id": "0895c809",
      "metadata": {
        "id": "0895c809",
        "outputId": "5ce6f33f-6318-45e7-e045-2cbd189c4cb5"
      },
      "outputs": [
        {
          "name": "stdout",
          "output_type": "stream",
          "text": [
            "OP04bad     157\n",
            "OP04good    144\n",
            "OP10bad     117\n",
            "OP10good    107\n",
            "OP07bad      71\n",
            "OP07good     58\n",
            "OP01bad      58\n",
            "OP02bad      57\n",
            "OP02good     48\n",
            "OP01good     45\n",
            "Name: operationcondition, dtype: int64 OP04bad     628\n",
            "OP04good    576\n",
            "OP10bad     468\n",
            "OP10good    426\n",
            "OP07bad     285\n",
            "OP01bad     232\n",
            "OP07good    230\n",
            "OP02bad     228\n",
            "OP02good    192\n",
            "OP01good    180\n",
            "Name: operationcondition, dtype: int64\n"
          ]
        }
      ],
      "source": [
        "from sklearn.model_selection import train_test_split\n",
        "X_train, X_test, y_train, y_test = train_test_split(X_new, Y,test_size = 0.2, stratify = Y,\n",
        "                                                                    random_state = 123)\n",
        "print (y_test.value_counts(), y_train.value_counts())"
      ]
    },
    {
      "cell_type": "code",
      "execution_count": null,
      "id": "13ebf8b2",
      "metadata": {
        "id": "13ebf8b2",
        "outputId": "947cddf4-7fd5-4850-9021-d594d2c1e827"
      },
      "outputs": [
        {
          "name": "stderr",
          "output_type": "stream",
          "text": [
            "[Parallel(n_jobs=1)]: Using backend SequentialBackend with 1 concurrent workers.\n"
          ]
        },
        {
          "name": "stdout",
          "output_type": "stream",
          "text": [
            "Accuracy: 0.9222737819025522\n",
            "\n",
            " -------------Classification Report-------------\n",
            "\n",
            "              precision    recall  f1-score   support\n",
            "\n",
            "     OP01bad       0.93      0.95      0.94        58\n",
            "    OP01good       0.94      0.73      0.83        45\n",
            "     OP02bad       0.98      0.98      0.98        57\n",
            "    OP02good       0.93      0.88      0.90        48\n",
            "     OP04bad       0.99      0.97      0.98       157\n",
            "    OP04good       0.83      0.92      0.87       144\n",
            "     OP07bad       0.98      0.89      0.93        71\n",
            "    OP07good       0.89      0.93      0.91        58\n",
            "     OP10bad       0.97      0.97      0.97       117\n",
            "    OP10good       0.85      0.87      0.86       107\n",
            "\n",
            "    accuracy                           0.92       862\n",
            "   macro avg       0.93      0.91      0.92       862\n",
            "weighted avg       0.93      0.92      0.92       862\n",
            "\n"
          ]
        },
        {
          "name": "stderr",
          "output_type": "stream",
          "text": [
            "[Parallel(n_jobs=1)]: Done 200 out of 200 | elapsed:    3.5s finished\n",
            "[Parallel(n_jobs=1)]: Using backend SequentialBackend with 1 concurrent workers.\n",
            "[Parallel(n_jobs=1)]: Done 200 out of 200 | elapsed:    0.0s finished\n"
          ]
        }
      ],
      "source": [
        "MODEL = RandomForestClassifier(bootstrap = True, max_depth= 25,min_samples_leaf=1, min_samples_split= 5, n_estimators= 200, random_state = 42, verbose=1)\n",
        "MODEL.fit(X_train, y_train)\n",
        "y_pred = MODEL.predict(X_test)\n",
        "print(\"Accuracy:\", accuracy_score(y_test, y_pred))\n",
        "print(\"\\n -------------Classification Report-------------\\n\")\n",
        "print(classification_report(y_test, y_pred))"
      ]
    },
    {
      "cell_type": "markdown",
      "id": "523116f5",
      "metadata": {
        "id": "523116f5"
      },
      "source": [
        "# FFT "
      ]
    },
    {
      "cell_type": "code",
      "execution_count": null,
      "id": "e6e1eaaa",
      "metadata": {
        "id": "e6e1eaaa"
      },
      "outputs": [],
      "source": [
        "# from scipy.fftpack import fft, ifft\n",
        "# sr = 2000\n",
        "# t = df['Time (s)'].values\n",
        "# x = df['X'].values\n",
        "\n",
        "# X = fft(x)\n",
        "# N = len(X)\n",
        "# n = np.arange(N)\n",
        "# T = N/sr\n",
        "# freq = n/T "
      ]
    },
    {
      "cell_type": "code",
      "execution_count": null,
      "id": "449422bd",
      "metadata": {
        "collapsed": true,
        "id": "449422bd",
        "outputId": "b5d6a46d-6834-4a4f-8d87-4fd4b60e6adf"
      },
      "outputs": [
        {
          "data": {
            "image/png": "[encoded data removed]",
            "text/plain": [
              "<Figure size 2200x1200 with 3 Axes>"
            ]
          },
          "metadata": {},
          "output_type": "display_data"
        }
      ],
      "source": [
        "#Ploting the signals\n",
        "# plt.figure(figsize = (22, 12))\n",
        "# plt.subplot(3,1,1)\n",
        "# plt.plot(t, x, 'k',)\n",
        "# plt.xlabel('time (s)')\n",
        "# plt.ylabel('x')\n",
        "# plt.title ('original signal')\n",
        "# plt.xlim(0, 10)\n",
        "\n",
        "# plt.subplot(3,1,2)\n",
        "# plt.plot(coeffs[0], 'r')\n",
        "# plt.xlabel('samples')\n",
        "# plt.ylabel('cA2')\n",
        "# plt.title ('Approximate coefficient')\n",
        "\n",
        "# plt.subplot(3,1,3)\n",
        "# plt.plot(coeffs[1], 'g')\n",
        "# plt.xlabel('samples')\n",
        "# plt.ylabel('cD2')\n",
        "# plt.title ('Detail coefficient')\n",
        "\n",
        "# plt.subplot(9,1,4)\n",
        "# plt.plot(coeff3, 'g')\n",
        "# plt.xlabel('samples')\n",
        "# plt.ylabel('cD1')\n",
        "# plt.title ('Detail coefficient')\n",
        "\n",
        "# plt.subplot(9,1,5)\n",
        "# plt.plot(coeff4, 'g')\n",
        "# plt.xlabel('samples')\n",
        "# plt.ylabel('cD1')\n",
        "# plt.title ('Detail coefficient')\n",
        "\n",
        "# plt.subplot(9,1,6)\n",
        "# plt.plot(coeff5, 'g')\n",
        "# plt.xlabel('samples')\n",
        "# plt.ylabel('cD1')\n",
        "# plt.title ('Detail coefficient')\n",
        "\n",
        "# plt.subplot(9,1,7)\n",
        "# plt.plot(coeff6, 'g')\n",
        "# plt.xlabel('samples')\n",
        "# plt.ylabel('cD1')\n",
        "# plt.title ('Detail coefficient')\n",
        "\n",
        "# plt.subplot(9,1,8)\n",
        "# plt.plot(coeff7, 'g')\n",
        "# plt.xlabel('samples')\n",
        "# plt.ylabel('cD1')\n",
        "# plt.title ('Detail coefficient')\n",
        "\n",
        "# plt.subplot(9,1,9)\n",
        "# plt.plot(coeff8, 'g')\n",
        "# plt.xlabel('samples')\n",
        "# plt.ylabel('cD1')\n",
        "# plt.title ('Detail coefficient')\n",
        "\n",
        "# plt.subplot(3,1,3)\n",
        "# plt.plot(t,y[0:6799], 'g')\n",
        "# plt.xlabel('time')\n",
        "# plt.ylabel('value')\n",
        "# plt.title ('reconstructed signal')\n",
        "\n",
        "# plt.show()"
      ]
    }
  ],
  "metadata": {
    "kernelspec": {
      "display_name": "Python 3 (ipykernel)",
      "language": "python",
      "name": "python3"
    },
    "language_info": {
      "codemirror_mode": {
        "name": "ipython",
        "version": 3
      },
      "file_extension": ".py",
      "mimetype": "text/x-python",
      "name": "python",
      "nbconvert_exporter": "python",
      "pygments_lexer": "ipython3",
      "version": "3.9.13"
    },
    "colab": {
      "provenance": [],
      "include_colab_link": true
    }
  },
  "nbformat": 4,
  "nbformat_minor": 5
}