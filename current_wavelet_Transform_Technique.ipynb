{
  "cells": [
    {
      "cell_type": "markdown",
      "metadata": {
        "id": "view-in-github",
        "colab_type": "text"
      },
      "source": [
        "<a href=\"https://colab.research.google.com/github/AbbasHussain72/Wavelet-featre-extraction-/blob/main/current_wavelet_Transform_Technique.ipynb\" target=\"_parent\"><img src=\"https://colab.research.google.com/assets/colab-badge.svg\" alt=\"Open In Colab\"/></a>"
      ]
    },
    {
      "cell_type": "code",
      "execution_count": 2,
      "id": "5bc96d7f",
      "metadata": {
        "id": "5bc96d7f"
      },
      "outputs": [],
      "source": [
        "import h5py\n",
        "import pandas as pd\n",
        "import numpy as np\n",
        "import math\n",
        "import matplotlib\n",
        "import matplotlib.pyplot as plt\n",
        "from scipy import stats\n",
        "from matplotlib.widgets import SpanSelector\n",
        "import glob\n",
        "import os\n",
        "import re"
      ]
    },
    {
      "cell_type": "code",
      "source": [
        "import matplotlib as mpl\n",
        "import numpy as np\n",
        "import matplotlib.font_manager as fm\n",
        "from matplotlib import font_manager as fm, pyplot as plt\n",
        "\n",
        "!wget https://github.com/trishume/OpenTuringCompiler/blob/master/stdlib-sfml/fonts/Times%20New%20Roman.ttf\n",
        "!wget https://github.com/matomo-org/travis-scripts/blob/master/fonts/Arial.ttf \n",
        "\n",
        "font_files = fm.findSystemFonts()\n",
        "\n",
        "# Go through and add each to Matplotlib's font cache.\n",
        "for font_file in font_files:\n",
        "    fm.fontManager.addfont(font_file)\n",
        "\n",
        "# Use your new font on all your plots.\n",
        "plt.rc('font', family='serif ')\n"
      ],
      "metadata": {
        "id": "SRH_z0F8OoIV",
        "outputId": "2aa89840-822a-468e-9182-74e3a99dc710",
        "colab": {
          "base_uri": "https://localhost:8080/"
        }
      },
      "id": "SRH_z0F8OoIV",
      "execution_count": null,
      "outputs": [
        {
          "output_type": "stream",
          "name": "stdout",
          "text": [
            "--2023-04-02 03:40:11--  https://github.com/trishume/OpenTuringCompiler/blob/master/stdlib-sfml/fonts/Times%20New%20Roman.ttf\n",
            "Resolving github.com (github.com)... 140.82.112.3\n",
            "Connecting to github.com (github.com)|140.82.112.3|:443... connected.\n",
            "HTTP request sent, awaiting response... 200 OK\n",
            "Length: unspecified [text/html]\n",
            "Saving to: ‘Times New Roman.ttf’\n",
            "\n",
            "Times New Roman.ttf     [ <=>                ] 138.04K  --.-KB/s    in 0.007s  \n",
            "\n",
            "2023-04-02 03:40:12 (18.3 MB/s) - ‘Times New Roman.ttf’ saved [141350]\n",
            "\n",
            "--2023-04-02 03:40:12--  https://github.com/matomo-org/travis-scripts/blob/master/fonts/Arial.ttf\n",
            "Resolving github.com (github.com)... 140.82.112.3\n",
            "Connecting to github.com (github.com)|140.82.112.3|:443... connected.\n",
            "HTTP request sent, awaiting response... 200 OK\n",
            "Length: unspecified [text/html]\n",
            "Saving to: ‘Arial.ttf’\n",
            "\n",
            "Arial.ttf               [ <=>                ] 135.31K  --.-KB/s    in 0.009s  \n",
            "\n",
            "2023-04-02 03:40:12 (14.4 MB/s) - ‘Arial.ttf’ saved [138562]\n",
            "\n"
          ]
        }
      ]
    },
    {
      "cell_type": "markdown",
      "source": [],
      "metadata": {
        "id": "9o_ilzxJn43i"
      },
      "id": "9o_ilzxJn43i"
    },
    {
      "cell_type": "code",
      "source": [
        "from google.colab import drive\n",
        "drive.mount('/content/drive')"
      ],
      "metadata": {
        "colab": {
          "base_uri": "https://localhost:8080/"
        },
        "id": "lua8Ww8vabiJ",
        "outputId": "5511ddbc-8d97-4ce9-841f-7e77e0f778bd"
      },
      "id": "lua8Ww8vabiJ",
      "execution_count": 3,
      "outputs": [
        {
          "output_type": "stream",
          "name": "stdout",
          "text": [
            "Mounted at /content/drive\n"
          ]
        }
      ]
    },
    {
      "cell_type": "code",
      "execution_count": 4,
      "id": "0bbec88d",
      "metadata": {
        "id": "0bbec88d"
      },
      "outputs": [],
      "source": [
        "#read csv to append the data and reset index\n",
        "path = '/content/drive/MyDrive/goodbaddatanewbalanced.csv'\n",
        "masterdata = pd.read_csv(path,sep='\\t')\n",
        "masterdata = masterdata.drop(['Unnamed: 0'], axis = 1)"
      ]
    },
    {
      "cell_type": "code",
      "source": [
        "df = masterdata"
      ],
      "metadata": {
        "id": "OCC-cdKwjbnp"
      },
      "id": "OCC-cdKwjbnp",
      "execution_count": 5,
      "outputs": []
    },
    {
      "cell_type": "markdown",
      "source": [
        "# Data Analysis"
      ],
      "metadata": {
        "id": "qoyj9re3gspk"
      },
      "id": "qoyj9re3gspk"
    },
    {
      "cell_type": "code",
      "execution_count": null,
      "id": "a032198b",
      "metadata": {
        "id": "a032198b"
      },
      "outputs": [],
      "source": [
        "#To take interested data\n",
        "# df = masterdata[(masterdata['Tool'] == 'OP01') | (masterdata['Tool'] == 'OP02')| (masterdata['Tool'] == 'OP04')| (masterdata['Tool'] == 'OP07')| (masterdata['Tool'] == 'OP10')]"
      ]
    },
    {
      "cell_type": "code",
      "source": [
        "#Function for balancing the data according to condition, tool and machine\n",
        "# def balance(df,con1,con2,con3):\n",
        "#   v = []\n",
        "#   v = df[(df['Tool'] == con1) & (df['Condition'] == con2)& (df['Machine'] == con3)].index\n",
        "#   f = df[(df['Tool'] == 'OP02') & (df['Condition'] == 'bad') & (df['Machine'] == 'M01')].index\n",
        "\n",
        "\n",
        "#   # h = df[(df['Tool'] == 'con1') & (df['Condition'] == 'con2')].shape\n",
        "#   bb = abs(len(v)- len(f))\n",
        "#   v = v[0:bb]\n",
        "#   new = df.loc[df.index.drop(v)]\n",
        "\n",
        "#   return new"
      ],
      "metadata": {
        "id": "daEUPM-rN_B5"
      },
      "id": "daEUPM-rN_B5",
      "execution_count": null,
      "outputs": []
    },
    {
      "cell_type": "code",
      "source": [
        "# df = balance(df,'OP02','good','M01')\n"
      ],
      "metadata": {
        "id": "1XPTcwu-aC4D"
      },
      "id": "1XPTcwu-aC4D",
      "execution_count": null,
      "outputs": []
    },
    {
      "cell_type": "code",
      "source": [
        "# Grouped the data for bar plot\n",
        "grouped = df.groupby(['Tool', 'Machine', 'Condition']).size().reset_index(name='counts')\n",
        "\n",
        "# Pivot the data to create a stacked bar plot\n",
        "pivot = grouped.pivot_table(index=['Tool', 'Machine'], columns='Condition', values='counts', aggfunc='sum', fill_value=0)\n",
        "\n",
        "# Plot the stacked bar chart\n",
        "colors = {'good': 'blue', 'bad': 'black'}\n",
        "ax = pivot.plot.bar(stacked=True, color=[colors[c] for c in pivot.columns], figsize=(10, 6))\n",
        "\n",
        "# Set the labels for the axes and the title\n",
        "ax.set_xlabel('Tool, Machine')\n",
        "ax.set_ylabel('Counts')\n",
        "ax.set_title('Counts of Good and Bad Conditions for Tools and Machines')\n",
        "\n",
        "# Show the plot\n",
        "plt.show()\n"
      ],
      "metadata": {
        "colab": {
          "base_uri": "https://localhost:8080/",
          "height": 636
        },
        "id": "CEuoEzNG_D05",
        "outputId": "db58f043-4f43-4ffb-c7f3-10b910fc28a1"
      },
      "id": "CEuoEzNG_D05",
      "execution_count": null,
      "outputs": [
        {
          "output_type": "display_data",
          "data": {
            "text/plain": [
              "<Figure size 1000x600 with 1 Axes>"
            ],
            "image/png": "[encoded data removed]"
          },
          "metadata": {}
        }
      ]
    },
    {
      "cell_type": "code",
      "source": [
        "import seaborn as sns\n",
        "# Create a grouped bar chart\n",
        "sns.catplot(x=\"Machine\", y=\"counts\", hue=\"Condition\", col=\"Tool\", data=grouped, kind=\"bar\", height=4, aspect=.7)\n"
      ],
      "metadata": {
        "id": "rXHwPxqx-KmL",
        "outputId": "91b97f56-68fa-47d9-8f00-c692fb1a6068",
        "colab": {
          "base_uri": "https://localhost:8080/",
          "height": 283
        }
      },
      "id": "rXHwPxqx-KmL",
      "execution_count": null,
      "outputs": [
        {
          "output_type": "execute_result",
          "data": {
            "text/plain": [
              "<seaborn.axisgrid.FacetGrid at 0x7fd63e09ed30>"
            ]
          },
          "metadata": {},
          "execution_count": 26
        },
        {
          "output_type": "display_data",
          "data": {
            "text/plain": [
              "<Figure size 1484.75x400 with 5 Axes>"
            ],
            "image/png": "[encoded data removed]"
          },
          "metadata": {}
        }
      ]
    },
    {
      "cell_type": "code",
      "execution_count": null,
      "id": "a9e2fee9",
      "metadata": {
        "id": "a9e2fee9",
        "outputId": "2ac5aa78-d81c-4eec-be5a-2401bf45de7c",
        "colab": {
          "base_uri": "https://localhost:8080/",
          "height": 395
        }
      },
      "outputs": [
        {
          "output_type": "display_data",
          "data": {
            "text/plain": [
              "<Figure size 700x400 with 1 Axes>"
            ],
            "image/png": "[encoded data removed]"
          },
          "metadata": {}
        }
      ],
      "source": [
        "#plotting the data\n",
        "import seaborn as sns\n",
        "from scipy import stats\n",
        "from scipy.signal import find_peaks\n",
        "sns.set_style('whitegrid')\n",
        "plt.figure(figsize = (7, 4),facecolor=(1, 1, 1))\n",
        "# Use your new font on all your plots.\n",
        "plt.rc('font', family='serif ')\n",
        "#plot\n",
        "sns.countplot(x = 'Tool',hue = 'Condition',data = df,palette=['blue', 'green'])\n",
        "#plt.title('Number of samples', fontsize=16)\n",
        "plt.xlabel('Tool Operations', fontsize=14)\n",
        "plt.ylabel('# Number of samples', fontsize=14)\n",
        "plt.xticks(fontsize=12)\n",
        "plt.yticks(fontsize=12)\n",
        "plt.grid(False)\n",
        "\n",
        "# Set the limits of the x and y axes\n",
        "#plt.xlim(left=-0.5, right=2.5)\n",
        "plt.ylim(bottom=0, top=260000)\n",
        "\n",
        "# Get the current legend handles and labels\n",
        "handles, labels = plt.gca().get_legend_handles_labels()\n",
        "\n",
        "# Modify the labels\n",
        "labels[0] = 'OK'\n",
        "labels[1] = 'NOK'\n",
        "# labels[2] = 'M03'\n",
        "\n",
        "# Create a new legend with the modified labels\n",
        "plt.legend(handles, labels, fontsize = 14,ncol=3,edgecolor='None')\n",
        "\n",
        "\n",
        "# plt.savefig('databar_machine.tiff', dpi=300, bbox_inches=\"tight\")\n",
        "# plt.close()\n",
        "plt.show()\n"
      ]
    },
    {
      "cell_type": "code",
      "source": [
        "#Plotting the time series data sample\n",
        "ff = masterdata[(masterdata['Tool'] == 'OP01') & (masterdata['Machine'] == 'M01')& (masterdata['Condition'] == 'good') & (masterdata['Repeat'] == 4)]\n",
        "ff = ff.reset_index(drop = True)\n",
        "ff1 = masterdata[(masterdata['Tool'] == 'OP01') & (masterdata['Machine'] == 'M01')& (masterdata['Condition'] == 'bad') & (masterdata['Repeat'] == 0)]\n",
        "ff1 = ff1.reset_index(drop = True)"
      ],
      "metadata": {
        "id": "I3w2LEt6ORVT"
      },
      "id": "I3w2LEt6ORVT",
      "execution_count": null,
      "outputs": []
    },
    {
      "cell_type": "code",
      "source": [
        "# subtracting the value to get zero starting value\n",
        "ff.loc[:, 'Time (s)'] = ff['Time (s)'] - 4.9440\n",
        "ff = ff.copy()\n",
        "ff1.loc[:, 'Time (s)'] = ff1['Time (s)'] - 4.9440\n",
        "ff1 = ff1.copy()"
      ],
      "metadata": {
        "id": "NZYbz9tN198V"
      },
      "id": "NZYbz9tN198V",
      "execution_count": null,
      "outputs": []
    },
    {
      "cell_type": "code",
      "source": [
        "# plt.rcParams['font.family']"
      ],
      "metadata": {
        "id": "JeCD2MU4Z1rv",
        "outputId": "e1bb6a7e-7c23-4861-ed8d-ca71e20ab02b",
        "colab": {
          "base_uri": "https://localhost:8080/"
        }
      },
      "id": "JeCD2MU4Z1rv",
      "execution_count": null,
      "outputs": [
        {
          "output_type": "execute_result",
          "data": {
            "text/plain": [
              "['serif']"
            ]
          },
          "metadata": {},
          "execution_count": 9
        }
      ]
    },
    {
      "cell_type": "code",
      "source": [
        "import matplotlib.pyplot as plt\n",
        "# Create a figure with 3 subplots arranged vertically\n",
        "fig, axs = plt.subplots(nrows=3, ncols=1, figsize=(8, 8))\n",
        "plt.rc('font', family='serif ')\n",
        "# Plot data in each subplot\n",
        "axs[0].plot(ff1['Time (s)'], ff1['X'],'brown')\n",
        "axs[0].plot(ff['Time (s)'], ff['X'],'b')\n",
        "\n",
        "axs[1].plot(ff1['Time (s)'], ff1['Y'],'brown')\n",
        "axs[1].plot(ff['Time (s)'], ff['Y'],'b')\n",
        "\n",
        "axs[2].plot(ff1['Time (s)'], ff1['Z'],'brown')\n",
        "axs[2].plot(ff['Time (s)'], ff['Z'],'b')\n",
        "\n",
        "\n",
        "# set the axis limit\n",
        "axs[0].set_xlim(0,15)\n",
        "axs[1].set_xlim(0,15)\n",
        "axs[2].set_xlim(0,15)\n",
        "axs[0].set_ylim(-2000,3500)\n",
        "axs[1].set_ylim(-1000,1500)\n",
        "axs[2].set_ylim(-2000,8)\n",
        "\n",
        "# set label\n",
        "axs[0].set_xlabel('Time (sec)', fontsize=14)\n",
        "axs[0].set_ylabel('X-axis', fontsize=14)\n",
        "axs[1].set_xlabel('Time (sec)', fontsize=14)\n",
        "axs[1].set_ylabel('Y-axis', fontsize=14)\n",
        "axs[2].set_xlabel('Time (sec)', fontsize=14)\n",
        "axs[2].set_ylabel('Z-axis', fontsize=14)\n",
        "\n",
        "# set font size of tick labels\n",
        "axs[0].tick_params(axis='both', labelsize=12)\n",
        "axs[1].tick_params(axis='both', labelsize=12)\n",
        "axs[2].tick_params(axis='both', labelsize=12)\n",
        "\n",
        "# remove grid lines from subplot\n",
        "axs[0].grid(False)\n",
        "axs[1].grid(False)\n",
        "axs[2].grid(False)\n",
        "\n",
        "# Set the overall title of the figure\n",
        "#fig.suptitle('Three subplots', fontsize=16)\n",
        "\n",
        "# Adjust the spacing between subplots\n",
        "plt.subplots_adjust(hspace=0.4)\n",
        "\n",
        "# Show the plot\n",
        "plt.show()\n",
        "\n",
        "# Save the plot in TIFF format with a resolution of 300 pixels and transparent background\n",
        "# plt.savefig('plotsample.tiff', dpi=300, format='tiff', transparent=True)\n",
        "\n",
        "plt.clf()\n"
      ],
      "metadata": {
        "id": "ecL-Kvnpx9xz",
        "outputId": "a221ff43-fd93-404b-b189-67ba61ec2f77",
        "colab": {
          "base_uri": "https://localhost:8080/",
          "height": 720
        }
      },
      "id": "ecL-Kvnpx9xz",
      "execution_count": null,
      "outputs": [
        {
          "output_type": "display_data",
          "data": {
            "text/plain": [
              "<Figure size 800x800 with 3 Axes>"
            ],
            "image/png": "[encoded data removed]"
          },
          "metadata": {}
        },
        {
          "output_type": "display_data",
          "data": {
            "text/plain": [
              "<Figure size 640x480 with 0 Axes>"
            ]
          },
          "metadata": {}
        }
      ]
    },
    {
      "cell_type": "code",
      "source": [
        " plt.close()"
      ],
      "metadata": {
        "id": "sTz5Ewq_kzat"
      },
      "id": "sTz5Ewq_kzat",
      "execution_count": null,
      "outputs": []
    },
    {
      "cell_type": "code",
      "source": [
        "# df.to_csv('goodbaddatanewbalanced.csv', sep='\\t') # relative position"
      ],
      "metadata": {
        "id": "T0MIDQLnp7cX"
      },
      "id": "T0MIDQLnp7cX",
      "execution_count": null,
      "outputs": []
    },
    {
      "cell_type": "markdown",
      "source": [],
      "metadata": {
        "id": "K8HYuFZn0b39"
      },
      "id": "K8HYuFZn0b39"
    },
    {
      "cell_type": "markdown",
      "source": [
        "# FFT of the signal for decomposition level selection "
      ],
      "metadata": {
        "id": "u4aR07760ebw"
      },
      "id": "u4aR07760ebw"
    },
    {
      "cell_type": "code",
      "source": [
        "#Plotting the time series data sample\n",
        "# ff = masterdata[(masterdata['Tool'] == 'OP02') & (masterdata['Machine'] == 'M01')& (masterdata['Condition'] == 'good')]\n",
        "ff = masterdata[(masterdata['Tool'] == 'OP02') & (masterdata['Machine'] == 'M01')& (masterdata['Condition'] == 'bad') & (masterdata['Repeat'] == 0)]\n",
        "ff = ff.reset_index(drop = True)"
      ],
      "metadata": {
        "id": "R-LLXS7K0oRh"
      },
      "id": "R-LLXS7K0oRh",
      "execution_count": null,
      "outputs": []
    },
    {
      "cell_type": "code",
      "source": [
        "ff.Repeat.unique()"
      ],
      "metadata": {
        "colab": {
          "base_uri": "https://localhost:8080/"
        },
        "id": "EGNKjdft6nsQ",
        "outputId": "318dd5db-c2a5-4b08-bee9-98363c407a84"
      },
      "id": "EGNKjdft6nsQ",
      "execution_count": null,
      "outputs": [
        {
          "output_type": "execute_result",
          "data": {
            "text/plain": [
              "array([0])"
            ]
          },
          "metadata": {},
          "execution_count": 56
        }
      ]
    },
    {
      "cell_type": "code",
      "source": [
        "ff.head()"
      ],
      "metadata": {
        "colab": {
          "base_uri": "https://localhost:8080/",
          "height": 206
        },
        "id": "pBDNkl1p2Ibh",
        "outputId": "83d83136-3862-4be6-d804-bbb671a74c1c"
      },
      "id": "pBDNkl1p2Ibh",
      "execution_count": null,
      "outputs": [
        {
          "output_type": "execute_result",
          "data": {
            "text/plain": [
              "  Machine     Date  Tool Condition  Repeat  Time (s)     X      Y       Z\n",
              "0     M01  Feb2019  OP02       bad       0    0.0000  27.0  103.0 -1116.0\n",
              "1     M01  Feb2019  OP02       bad       0    0.0005  29.0 -304.0 -1134.0\n",
              "2     M01  Feb2019  OP02       bad       0    0.0010 -91.0  -80.0  -964.0\n",
              "3     M01  Feb2019  OP02       bad       0    0.0015 -97.0  234.0  -954.0\n",
              "4     M01  Feb2019  OP02       bad       0    0.0020 -17.0   97.0 -1030.0"
            ],
            "text/html": [
              "\n",
              "  <div id=\"df-f1abcdab-f742-4497-8508-dc81844f4b54\">\n",
              "    <div class=\"colab-df-container\">\n",
              "      <div>\n",
              "<style scoped>\n",
              "    .dataframe tbody tr th:only-of-type {\n",
              "        vertical-align: middle;\n",
              "    }\n",
              "\n",
              "    .dataframe tbody tr th {\n",
              "        vertical-align: top;\n",
              "    }\n",
              "\n",
              "    .dataframe thead th {\n",
              "        text-align: right;\n",
              "    }\n",
              "</style>\n",
              "<table border=\"1\" class=\"dataframe\">\n",
              "  <thead>\n",
              "    <tr style=\"text-align: right;\">\n",
              "      <th></th>\n",
              "      <th>Machine</th>\n",
              "      <th>Date</th>\n",
              "      <th>Tool</th>\n",
              "      <th>Condition</th>\n",
              "      <th>Repeat</th>\n",
              "      <th>Time (s)</th>\n",
              "      <th>X</th>\n",
              "      <th>Y</th>\n",
              "      <th>Z</th>\n",
              "    </tr>\n",
              "  </thead>\n",
              "  <tbody>\n",
              "    <tr>\n",
              "      <th>0</th>\n",
              "      <td>M01</td>\n",
              "      <td>Feb2019</td>\n",
              "      <td>OP02</td>\n",
              "      <td>bad</td>\n",
              "      <td>0</td>\n",
              "      <td>0.0000</td>\n",
              "      <td>27.0</td>\n",
              "      <td>103.0</td>\n",
              "      <td>-1116.0</td>\n",
              "    </tr>\n",
              "    <tr>\n",
              "      <th>1</th>\n",
              "      <td>M01</td>\n",
              "      <td>Feb2019</td>\n",
              "      <td>OP02</td>\n",
              "      <td>bad</td>\n",
              "      <td>0</td>\n",
              "      <td>0.0005</td>\n",
              "      <td>29.0</td>\n",
              "      <td>-304.0</td>\n",
              "      <td>-1134.0</td>\n",
              "    </tr>\n",
              "    <tr>\n",
              "      <th>2</th>\n",
              "      <td>M01</td>\n",
              "      <td>Feb2019</td>\n",
              "      <td>OP02</td>\n",
              "      <td>bad</td>\n",
              "      <td>0</td>\n",
              "      <td>0.0010</td>\n",
              "      <td>-91.0</td>\n",
              "      <td>-80.0</td>\n",
              "      <td>-964.0</td>\n",
              "    </tr>\n",
              "    <tr>\n",
              "      <th>3</th>\n",
              "      <td>M01</td>\n",
              "      <td>Feb2019</td>\n",
              "      <td>OP02</td>\n",
              "      <td>bad</td>\n",
              "      <td>0</td>\n",
              "      <td>0.0015</td>\n",
              "      <td>-97.0</td>\n",
              "      <td>234.0</td>\n",
              "      <td>-954.0</td>\n",
              "    </tr>\n",
              "    <tr>\n",
              "      <th>4</th>\n",
              "      <td>M01</td>\n",
              "      <td>Feb2019</td>\n",
              "      <td>OP02</td>\n",
              "      <td>bad</td>\n",
              "      <td>0</td>\n",
              "      <td>0.0020</td>\n",
              "      <td>-17.0</td>\n",
              "      <td>97.0</td>\n",
              "      <td>-1030.0</td>\n",
              "    </tr>\n",
              "  </tbody>\n",
              "</table>\n",
              "</div>\n",
              "      <button class=\"colab-df-convert\" onclick=\"convertToInteractive('df-f1abcdab-f742-4497-8508-dc81844f4b54')\"\n",
              "              title=\"Convert this dataframe to an interactive table.\"\n",
              "              style=\"display:none;\">\n",
              "        \n",
              "  <svg xmlns=\"http://www.w3.org/2000/svg\" height=\"24px\"viewBox=\"0 0 24 24\"\n",
              "       width=\"24px\">\n",
              "    <path d=\"M0 0h24v24H0V0z\" fill=\"none\"/>\n",
              "    <path d=\"M18.56 5.44l.94 2.06.94-2.06 2.06-.94-2.06-.94-.94-2.06-.94 2.06-2.06.94zm-11 1L8.5 8.5l.94-2.06 2.06-.94-2.06-.94L8.5 2.5l-.94 2.06-2.06.94zm10 10l.94 2.06.94-2.06 2.06-.94-2.06-.94-.94-2.06-.94 2.06-2.06.94z\"/><path d=\"M17.41 7.96l-1.37-1.37c-.4-.4-.92-.59-1.43-.59-.52 0-1.04.2-1.43.59L10.3 9.45l-7.72 7.72c-.78.78-.78 2.05 0 2.83L4 21.41c.39.39.9.59 1.41.59.51 0 1.02-.2 1.41-.59l7.78-7.78 2.81-2.81c.8-.78.8-2.07 0-2.86zM5.41 20L4 18.59l7.72-7.72 1.47 1.35L5.41 20z\"/>\n",
              "  </svg>\n",
              "      </button>\n",
              "      \n",
              "  <style>\n",
              "    .colab-df-container {\n",
              "      display:flex;\n",
              "      flex-wrap:wrap;\n",
              "      gap: 12px;\n",
              "    }\n",
              "\n",
              "    .colab-df-convert {\n",
              "      background-color: #E8F0FE;\n",
              "      border: none;\n",
              "      border-radius: 50%;\n",
              "      cursor: pointer;\n",
              "      display: none;\n",
              "      fill: #1967D2;\n",
              "      height: 32px;\n",
              "      padding: 0 0 0 0;\n",
              "      width: 32px;\n",
              "    }\n",
              "\n",
              "    .colab-df-convert:hover {\n",
              "      background-color: #E2EBFA;\n",
              "      box-shadow: 0px 1px 2px rgba(60, 64, 67, 0.3), 0px 1px 3px 1px rgba(60, 64, 67, 0.15);\n",
              "      fill: #174EA6;\n",
              "    }\n",
              "\n",
              "    [theme=dark] .colab-df-convert {\n",
              "      background-color: #3B4455;\n",
              "      fill: #D2E3FC;\n",
              "    }\n",
              "\n",
              "    [theme=dark] .colab-df-convert:hover {\n",
              "      background-color: #434B5C;\n",
              "      box-shadow: 0px 1px 3px 1px rgba(0, 0, 0, 0.15);\n",
              "      filter: drop-shadow(0px 1px 2px rgba(0, 0, 0, 0.3));\n",
              "      fill: #FFFFFF;\n",
              "    }\n",
              "  </style>\n",
              "\n",
              "      <script>\n",
              "        const buttonEl =\n",
              "          document.querySelector('#df-f1abcdab-f742-4497-8508-dc81844f4b54 button.colab-df-convert');\n",
              "        buttonEl.style.display =\n",
              "          google.colab.kernel.accessAllowed ? 'block' : 'none';\n",
              "\n",
              "        async function convertToInteractive(key) {\n",
              "          const element = document.querySelector('#df-f1abcdab-f742-4497-8508-dc81844f4b54');\n",
              "          const dataTable =\n",
              "            await google.colab.kernel.invokeFunction('convertToInteractive',\n",
              "                                                     [key], {});\n",
              "          if (!dataTable) return;\n",
              "\n",
              "          const docLinkHtml = 'Like what you see? Visit the ' +\n",
              "            '<a target=\"_blank\" href=https://colab.research.google.com/notebooks/data_table.ipynb>data table notebook</a>'\n",
              "            + ' to learn more about interactive tables.';\n",
              "          element.innerHTML = '';\n",
              "          dataTable['output_type'] = 'display_data';\n",
              "          await google.colab.output.renderOutput(dataTable, element);\n",
              "          const docLink = document.createElement('div');\n",
              "          docLink.innerHTML = docLinkHtml;\n",
              "          element.appendChild(docLink);\n",
              "        }\n",
              "      </script>\n",
              "    </div>\n",
              "  </div>\n",
              "  "
            ]
          },
          "metadata": {},
          "execution_count": 57
        }
      ]
    },
    {
      "cell_type": "code",
      "source": [
        "from scipy.fftpack import fft, ifft\n",
        "def extract_fft_peak_frequency(data, sampling_rate):\n",
        "    fft_data = np.fft.fft(data)\n",
        "    N = len(fft_data)\n",
        "    n = np.arange(N)\n",
        "    T = N/sampling_rate\n",
        "    freq = n/T \n",
        "    freqs = np.fft.fftfreq(len(data))\n",
        "    \n",
        "    peak_coefficient = np.argmax(np.abs(fft_data))\n",
        "    peak_freq = freqs[peak_coefficient]\n",
        "    peak_ampl = fft_data[peak_coefficient]\n",
        "    a = abs(peak_freq * sampling_rate)\n",
        "    b= abs(peak_ampl)\n",
        "    \n",
        "    \n",
        "    \n",
        "    # all_coefficient = (np.abs(fft_data) > 1000)\n",
        "    # all_freq = freqs[all_coefficient]\n",
        "    # all_ampl = fft_data[all_coefficient]\n",
        "    \n",
        "    # c = abs(all_freq * sampling_rate)\n",
        "#     c = list(np.unique(c))\n",
        "    \n",
        "    # d = abs(all_ampl)\n",
        "#     d = list(np.unique(d))\n",
        "    \n",
        "#     for i in range(1, (abs (len(a_amp) - len(a_fre)))+1):\n",
        "#         del d[-i]\n",
        "    \n",
        "    return [a,b,N,freq,fft_data,T]\n"
      ],
      "metadata": {
        "id": "GhsXv_A-1DLY"
      },
      "id": "GhsXv_A-1DLY",
      "execution_count": null,
      "outputs": []
    },
    {
      "cell_type": "code",
      "source": [
        "#Signal FFT\n",
        "from scipy import signal\n",
        "\n",
        "sr = 2000\n",
        "x = ff['X'].values\n",
        "[p_fre,p_amp,N,freq,XX,T]= extract_fft_peak_frequency(x, sr)\n",
        "# rms_ori = np.sqrt(np.mean(x**2))\n",
        "\n",
        "# for raw data Get the one-sided specturm -->\n",
        "n_oneside = N//2\n",
        "# get the one side frequency -->\n",
        "f_oneside = freq[:n_oneside]\n",
        "\n",
        "\n",
        "# sos = signal.butter(2, p_fre, 'hp', fs=sr, output='sos')\n",
        "# filtered = signal.sosfilt(sos, x)\n",
        "# rms_filt = np.sqrt(np.mean(filtered**2))\n",
        "# [f_p_fre,f_p_amp,f_a_fre,f_a_amp,f_N,f_freq,f_X]= extract_fft_peak_frequency(filtered, sr)\n",
        "\n",
        "# print(p_fre)\n",
        "# print(p_amp)"
      ],
      "metadata": {
        "id": "eAgGW3uo1yWf"
      },
      "id": "eAgGW3uo1yWf",
      "execution_count": null,
      "outputs": []
    },
    {
      "cell_type": "code",
      "source": [
        "#Ploting\n",
        "fig = plt.figure(figsize=(5,3),facecolor=(1, 1, 1))\n",
        "plt.rcParams.update({'font.size':15})\n",
        "plt.rc('axes', labelsize=15)  \n",
        "plt.stem(f_oneside, np.abs(XX[:n_oneside]), 'b',markerfmt=\" \", basefmt=\"b\")\n",
        "plt.xlabel('Frequency (Hz)')\n",
        "plt.ylabel('FFT Amplitude |X(freq)|')\n",
        "plt.xlim(0,1000)\n",
        "# plt.xlim(10,1000)\n",
        "plt.grid(False)\n",
        "plt.show()\n",
        "\n",
        "\n",
        "#ax.legend(loc=1)\n",
        "# fig.savefig('fft.png', dpi=300, bbox_inches=\"tight\")"
      ],
      "metadata": {
        "colab": {
          "base_uri": "https://localhost:8080/",
          "height": 343
        },
        "id": "ZUP40y0V3cu4",
        "outputId": "237a8c2c-8d37-4349-f85d-7ea0e30de30f"
      },
      "id": "ZUP40y0V3cu4",
      "execution_count": null,
      "outputs": [
        {
          "output_type": "display_data",
          "data": {
            "text/plain": [
              "<Figure size 500x300 with 1 Axes>"
            ],
            "image/png": "[encoded data removed]"
          },
          "metadata": {}
        }
      ]
    },
    {
      "cell_type": "markdown",
      "id": "7f40ba41",
      "metadata": {
        "id": "7f40ba41"
      },
      "source": [
        "# Feature Extraction using Wavelet Packet Analysis"
      ]
    },
    {
      "cell_type": "code",
      "execution_count": 6,
      "id": "33a62338",
      "metadata": {
        "id": "33a62338"
      },
      "outputs": [],
      "source": [
        "df['Repeat'] = df['Repeat'].astype(str)\n",
        "df['newcol'] = df['Machine'] +  df['Date'] + df['Tool'] + df['Condition'] + df['Repeat']\n",
        "df = df.reset_index(drop = True)"
      ]
    },
    {
      "cell_type": "code",
      "execution_count": null,
      "id": "99227e45",
      "metadata": {
        "id": "99227e45"
      },
      "outputs": [],
      "source": [
        "df.head()"
      ]
    },
    {
      "cell_type": "markdown",
      "id": "68b93b56",
      "metadata": {
        "id": "68b93b56"
      },
      "source": [
        "##  Number of segment for each file"
      ]
    },
    {
      "cell_type": "code",
      "execution_count": 18,
      "id": "51fad062",
      "metadata": {
        "id": "51fad062",
        "colab": {
          "base_uri": "https://localhost:8080/"
        },
        "outputId": "611529d7-9454-466f-8d77-4344807580b0"
      },
      "outputs": [
        {
          "output_type": "stream",
          "name": "stdout",
          "text": [
            "M01Aug2019OP01bad0\n",
            "23\n",
            "M01Feb2019OP01bad0\n",
            "46\n",
            "M01Feb2019OP02bad0\n",
            "70\n",
            "M01Feb2019OP04bad0\n",
            "70\n",
            "M01Aug2021OP07bad1\n",
            "33\n",
            "M01Feb2019OP07bad0\n",
            "36\n",
            "M01Feb2019OP10bad2\n",
            "70\n",
            "M02Feb2019OP01bad0\n",
            "24\n",
            "M02Feb2019OP01bad1\n",
            "45\n",
            "M02Feb2019OP02bad1\n",
            "70\n",
            "M02Feb2019OP04bad2\n",
            "70\n",
            "M02Feb2019OP07bad0\n",
            "33\n",
            "M02Feb2019OP07bad1\n",
            "36\n",
            "M02Feb2019OP10bad1\n",
            "70\n",
            "M03Aug2019OP01bad0\n",
            "26\n",
            "M03Feb2021OP01bad0\n",
            "42\n",
            "M03Feb2021OP02bad0\n",
            "70\n",
            "M03Feb2021OP04bad0\n",
            "70\n",
            "M03Aug2021OP07bad0\n",
            "34\n",
            "M03Feb2021OP07bad0\n",
            "34\n",
            "M03Aug2021OP10bad0\n",
            "70\n",
            "M01Feb2021OP01good4\n",
            "32\n",
            "M01Feb2021OP01good5\n",
            "37\n",
            "M01Feb2021OP02good4\n",
            "32\n",
            "M01Feb2021OP02good5\n",
            "37\n",
            "M01Feb2021OP04good4\n",
            "32\n",
            "M01Feb2021OP04good5\n",
            "37\n",
            "M01Feb2021OP07good4\n",
            "32\n",
            "M01Feb2021OP07good5\n",
            "37\n",
            "M01Feb2021OP10good4\n",
            "32\n",
            "M01Feb2021OP10good5\n",
            "37\n",
            "M02Feb2021OP01good4\n",
            "32\n",
            "M02Feb2021OP01good5\n",
            "37\n",
            "M02Feb2021OP02good4\n",
            "32\n",
            "M02Feb2021OP02good5\n",
            "37\n",
            "M02Feb2021OP04good4\n",
            "32\n",
            "M02Feb2021OP04good5\n",
            "37\n",
            "M02Feb2021OP07good4\n",
            "32\n",
            "M02Feb2021OP07good5\n",
            "37\n",
            "M02Feb2021OP10good4\n",
            "32\n",
            "M02Feb2021OP10good5\n",
            "37\n",
            "M03Feb2021OP01good3\n",
            "32\n",
            "M03Feb2021OP01good4\n",
            "37\n",
            "M03Feb2021OP02good4\n",
            "32\n",
            "M03Feb2021OP02good5\n",
            "37\n",
            "M03Feb2021OP04good3\n",
            "32\n",
            "M03Feb2021OP04good4\n",
            "37\n",
            "M03Feb2021OP07good4\n",
            "32\n",
            "M03Feb2021OP07good5\n",
            "37\n",
            "M03Feb2021OP10good2\n",
            "32\n",
            "M03Feb2021OP10good3\n",
            "37\n",
            "2077\n"
          ]
        }
      ],
      "source": [
        "sum1=[]\n",
        "window_size = 2000\n",
        "step_size = 1000\n",
        "for i in df['newcol'].unique():\n",
        "    print (i)\n",
        "    master_data =df[(df['newcol'] == i)]\n",
        "    v = 0\n",
        "    for j in range(0, master_data.shape[0] - window_size, step_size):\n",
        "        v = v+1\n",
        "    print(v)\n",
        "        #num_segments = np.floor(len(master_data )/1000)\n",
        "    sum1.append(v)\n",
        "    #print(num_segments)\n",
        "print(np.sum(sum1))"
      ]
    },
    {
      "cell_type": "code",
      "execution_count": null,
      "id": "ef767a35",
      "metadata": {
        "id": "ef767a35"
      },
      "outputs": [],
      "source": [
        "# def compute_shannon_entropy(signal):\n",
        "#     return -np.nansum(signal**2 * np.log(signal**2)) # nansum to exclude pesky terms like \"0*np.log(0)\""
      ]
    },
    {
      "cell_type": "code",
      "execution_count": 7,
      "id": "1e226d29",
      "metadata": {
        "id": "1e226d29"
      },
      "outputs": [],
      "source": [
        "# Function to find the entropy of the signal\n",
        "\n",
        "from scipy.stats import entropy\n",
        "from math import log, e\n",
        "import pandas as pd\n",
        "\n",
        "\n",
        "def entropy2(labels, base=None):\n",
        "  \"\"\" Computes entropy of label distribution. \"\"\"\n",
        "\n",
        "  n_labels = len(labels)\n",
        "\n",
        "  if n_labels <= 1:\n",
        "    return 0\n",
        "\n",
        "  value,counts = np.unique(labels, return_counts=True)\n",
        "  probs = counts / n_labels\n",
        "  n_classes = np.count_nonzero(probs)\n",
        "\n",
        "  if n_classes <= 1:\n",
        "    return 0\n",
        "\n",
        "  ent = 0.\n",
        "\n",
        "  # Compute entropy\n",
        "  base = e if base is None else base\n",
        "  for i in probs:\n",
        "    ent -= i * log(i, base)\n",
        "\n",
        "  return ent"
      ]
    },
    {
      "cell_type": "markdown",
      "id": "aeb9db8f",
      "metadata": {
        "id": "aeb9db8f"
      },
      "source": [
        "## Mother wavelet selection based on Minimum Entropy criteria"
      ]
    },
    {
      "cell_type": "code",
      "execution_count": null,
      "id": "02f7e4dc",
      "metadata": {
        "id": "02f7e4dc"
      },
      "outputs": [],
      "source": [
        "# import collections\n",
        " \n",
        "# from scipy.stats import entropy\n",
        "  \n",
        "# def estimate_shannon_entropy(dna_sequence):\n",
        "#     bases = collections.Counter([tmp_base for tmp_base in dna_sequence])\n",
        "#     # define distribution\n",
        "#     dist = [x/sum(bases.values()) for x in bases.values()]\n",
        " \n",
        "#     # use scipy to calculate entropy\n",
        "#     entropy_value = entropy(dist, base=2)\n",
        " \n",
        "#     return entropy_value\n",
        "\n"
      ]
    },
    {
      "cell_type": "code",
      "execution_count": null,
      "id": "aeb1882f",
      "metadata": {
        "id": "aeb1882f",
        "outputId": "e82aa945-194b-4a14-ab46-6995706d0302"
      },
      "outputs": [
        {
          "data": {
            "text/plain": [
              "257"
            ]
          },
          "execution_count": 10,
          "metadata": {},
          "output_type": "execute_result"
        }
      ],
      "source": [
        "#len(df['newcol'].unique())"
      ]
    },
    {
      "cell_type": "code",
      "execution_count": null,
      "id": "10f06686",
      "metadata": {
        "id": "10f06686"
      },
      "outputs": [],
      "source": [
        "wavelet_feature_m = pd.DataFrame() "
      ]
    },
    {
      "cell_type": "code",
      "execution_count": null,
      "id": "537dd0f5",
      "metadata": {
        "collapsed": true,
        "id": "537dd0f5"
      },
      "outputs": [],
      "source": [
        "#This is made for the selection of mother wavelet based on minimum entropy criteria\n",
        "import pywt\n",
        "data = df\n",
        "m = 'haar'    #['db1','db2','bior4.4']   'coif1','coif3','sym4','sym2']\n",
        "w = pywt.Wavelet (m)\n",
        "level = 2\n",
        "wavelet_feature_i = pd.DataFrame()\n",
        "import time\n",
        "start = time.time()\n",
        "for i in data['newcol'].unique():\n",
        "    print(i)\n",
        "    master_data =data[(data['newcol'] == i)]      \n",
        "    wavelet_feature = pd.DataFrame()\n",
        "    wavelet_feature['Date'] = [max(master_data['Date'].values)]\n",
        "    wavelet_feature['Machine'] = [max(master_data['Machine'])]\n",
        "    wavelet_feature['Operation'] = [max(master_data['Tool'])]\n",
        "    wavelet_feature['Condition'] = [max(master_data['Condition'])]\n",
        "    wavelet_feature['Repeat'] = [max(master_data['Repeat'])]\n",
        "    wavelet_feature['operationcondition'] =  wavelet_feature['Operation']  + wavelet_feature['Condition']\n",
        "    wavelet_feature['wavelet'] = [m]\n",
        "    df1 = pd.DataFrame()\n",
        "    df1['X'] = master_data['X']\n",
        "    df1['Y'] = master_data['Y']\n",
        "    df1['Z'] = master_data['Z']\n",
        "    colvalue = ['X','Y','Z']\n",
        "    for val in colvalue:\n",
        "        data_wave = df1[val].values\n",
        "        wp = pywt.WaveletPacket(data_wave,w, maxlevel = level) # Wavelet packet transformation\n",
        "        packet_names = [node.path for node in wp.get_level(level, \"natural\")]\n",
        "        for v in range(len(packet_names)):\n",
        "            new_wp = pywt.WaveletPacket(data = None , wavelet = w , maxlevel = level)\n",
        "            new_wp[packet_names[v]] = wp[packet_names[v]].data\n",
        "            reconstructed_signal = new_wp.reconstruct(update = False) # Signal reconstruction from wavelet packet coefficients       \n",
        "            # Wavelet feature\n",
        "            wavelet_feature['entropy'+ val + str(v)]  = [entropy2(reconstructed_signal)]# Entropy of reconstructed signal\n",
        "            wavelet_feature['Energy'+ val + str(v)]  = [np.sum(reconstructed_signal**2)/len(reconstructed_signal)]\n",
        "            wavelet_feature['Ratio'+ val + str(v)]  = wavelet_feature['Energy'+ val + str(v)] / wavelet_feature['entropy'+ val + str(v)]\n",
        "\n",
        "    wavelet_feature_i = wavelet_feature_i.append(wavelet_feature)\n",
        "    wavelet_feature_i = wavelet_feature_i.reset_index(drop = True)\n",
        "\n",
        "\n",
        "\n",
        "end = time.time()\n",
        "print(end - start)"
      ]
    },
    {
      "cell_type": "code",
      "execution_count": null,
      "id": "e70c68d7",
      "metadata": {
        "id": "e70c68d7",
        "colab": {
          "base_uri": "https://localhost:8080/"
        },
        "outputId": "5ce6accc-d332-4073-e705-dee3e5f379d5"
      },
      "outputs": [
        {
          "output_type": "stream",
          "name": "stderr",
          "text": [
            "<ipython-input-11-e09351b32d71>:1: FutureWarning: The frame.append method is deprecated and will be removed from pandas in a future version. Use pandas.concat instead.\n",
            "  wavelet_feature_m = wavelet_feature_m.append(wavelet_feature_i)\n"
          ]
        }
      ],
      "source": [
        "wavelet_feature_m = wavelet_feature_m.append(wavelet_feature_i)\n",
        "wavelet_feature_m = wavelet_feature_m.reset_index(drop = True)"
      ]
    },
    {
      "cell_type": "code",
      "execution_count": null,
      "id": "4ef0c837",
      "metadata": {
        "id": "4ef0c837",
        "outputId": "42cbc5de-5f77-4cab-97f5-ee2238ba7aae",
        "colab": {
          "base_uri": "https://localhost:8080/",
          "height": 456
        }
      },
      "outputs": [
        {
          "output_type": "execute_result",
          "data": {
            "text/plain": [
              "      Date Machine Operation Condition Repeat operationcondition wavelet  \\\n",
              "0  Aug2019     M01      OP01       bad      0            OP01bad    haar   \n",
              "1  Feb2019     M01      OP01       bad      0            OP01bad    haar   \n",
              "2  Feb2019     M01      OP02       bad      0            OP02bad    haar   \n",
              "3  Feb2019     M01      OP04       bad      0            OP04bad    haar   \n",
              "4  Aug2021     M01      OP07       bad      1            OP07bad    haar   \n",
              "5  Feb2019     M01      OP07       bad      0            OP07bad    haar   \n",
              "6  Feb2019     M01      OP10       bad      2            OP10bad    haar   \n",
              "7  Feb2019     M02      OP01       bad      0            OP01bad    haar   \n",
              "8  Feb2019     M02      OP01       bad      1            OP01bad    haar   \n",
              "9  Feb2019     M02      OP02       bad      1            OP02bad    haar   \n",
              "\n",
              "   entropyX0       EnergyX0       RatioX0  ...        RatioZ0  entropyZ1  \\\n",
              "0   7.759969  186346.679360  24013.843587  ...  138790.715610   8.460340   \n",
              "1   8.041011  200349.245386  24915.928447  ...  135731.695669   8.573764   \n",
              "2   8.458630  154418.095490  18255.685942  ...  132624.926760   8.653040   \n",
              "3   8.179088  184422.757377  22548.081979  ...  133356.187625   8.907050   \n",
              "4   8.580366  245345.392230  28593.815060  ...  134036.886794   8.871093   \n",
              "5   8.253587  202491.011330  24533.697299  ...  137571.553142   8.458762   \n",
              "6   8.152678  185389.962238  22739.762700  ...  132159.653986   9.298848   \n",
              "7   7.701040  182857.643512  23744.538880  ...  144753.656886   8.141301   \n",
              "8   7.972069  186504.339386  23394.723171  ...  141625.664553   8.285848   \n",
              "9   8.404033  143738.904636  17103.562961  ...  135386.198940   8.803927   \n",
              "\n",
              "       EnergyZ1      RatioZ1  entropyZ2      EnergyZ2      RatioZ2  entropyZ3  \\\n",
              "0  15700.511560  1855.777807   8.116226   3320.076638   409.066538   8.209342   \n",
              "1  12545.375823  1463.228475   8.264089   2573.359066   311.390515   8.370287   \n",
              "2  12210.790234  1411.156175   8.339427   2443.949426   293.059644   8.451842   \n",
              "3  20315.792887  2280.866486   8.482192   3827.710279   451.264304   8.597585   \n",
              "4  76830.453494  8660.765041   8.725863  13381.707558  1533.568336   8.790936   \n",
              "5  14204.183568  1679.227264   8.159215   2427.463398   297.511879   8.311796   \n",
              "6  60790.188204  6537.389156   8.922009  10505.726705  1177.506824   8.973121   \n",
              "7   5358.062421   658.133424   7.841922   1210.776111   154.397877   7.991694   \n",
              "8   5539.075760   668.498380   7.957462   1258.399225   158.140785   8.135288   \n",
              "9  17437.036113  1980.597448   8.570599   4535.664558   529.212078   8.662042   \n",
              "\n",
              "       EnergyZ3      RatioZ3  \n",
              "0   4059.907143   494.547184  \n",
              "1   4452.186502   531.903690  \n",
              "2   4555.885253   539.040504  \n",
              "3   5979.319591   695.465026  \n",
              "4  24561.442471  2793.950831  \n",
              "5   7202.508157   866.540531  \n",
              "6  12516.336882  1394.869996  \n",
              "7   2885.777302   361.097063  \n",
              "8   2831.940913   348.105796  \n",
              "9   6171.351109   712.459113  \n",
              "\n",
              "[10 rows x 43 columns]"
            ],
            "text/html": [
              "\n",
              "  <div id=\"df-832f25eb-7439-470f-90bd-f8f288dda6e6\">\n",
              "    <div class=\"colab-df-container\">\n",
              "      <div>\n",
              "<style scoped>\n",
              "    .dataframe tbody tr th:only-of-type {\n",
              "        vertical-align: middle;\n",
              "    }\n",
              "\n",
              "    .dataframe tbody tr th {\n",
              "        vertical-align: top;\n",
              "    }\n",
              "\n",
              "    .dataframe thead th {\n",
              "        text-align: right;\n",
              "    }\n",
              "</style>\n",
              "<table border=\"1\" class=\"dataframe\">\n",
              "  <thead>\n",
              "    <tr style=\"text-align: right;\">\n",
              "      <th></th>\n",
              "      <th>Date</th>\n",
              "      <th>Machine</th>\n",
              "      <th>Operation</th>\n",
              "      <th>Condition</th>\n",
              "      <th>Repeat</th>\n",
              "      <th>operationcondition</th>\n",
              "      <th>wavelet</th>\n",
              "      <th>entropyX0</th>\n",
              "      <th>EnergyX0</th>\n",
              "      <th>RatioX0</th>\n",
              "      <th>...</th>\n",
              "      <th>RatioZ0</th>\n",
              "      <th>entropyZ1</th>\n",
              "      <th>EnergyZ1</th>\n",
              "      <th>RatioZ1</th>\n",
              "      <th>entropyZ2</th>\n",
              "      <th>EnergyZ2</th>\n",
              "      <th>RatioZ2</th>\n",
              "      <th>entropyZ3</th>\n",
              "      <th>EnergyZ3</th>\n",
              "      <th>RatioZ3</th>\n",
              "    </tr>\n",
              "  </thead>\n",
              "  <tbody>\n",
              "    <tr>\n",
              "      <th>0</th>\n",
              "      <td>Aug2019</td>\n",
              "      <td>M01</td>\n",
              "      <td>OP01</td>\n",
              "      <td>bad</td>\n",
              "      <td>0</td>\n",
              "      <td>OP01bad</td>\n",
              "      <td>haar</td>\n",
              "      <td>7.759969</td>\n",
              "      <td>186346.679360</td>\n",
              "      <td>24013.843587</td>\n",
              "      <td>...</td>\n",
              "      <td>138790.715610</td>\n",
              "      <td>8.460340</td>\n",
              "      <td>15700.511560</td>\n",
              "      <td>1855.777807</td>\n",
              "      <td>8.116226</td>\n",
              "      <td>3320.076638</td>\n",
              "      <td>409.066538</td>\n",
              "      <td>8.209342</td>\n",
              "      <td>4059.907143</td>\n",
              "      <td>494.547184</td>\n",
              "    </tr>\n",
              "    <tr>\n",
              "      <th>1</th>\n",
              "      <td>Feb2019</td>\n",
              "      <td>M01</td>\n",
              "      <td>OP01</td>\n",
              "      <td>bad</td>\n",
              "      <td>0</td>\n",
              "      <td>OP01bad</td>\n",
              "      <td>haar</td>\n",
              "      <td>8.041011</td>\n",
              "      <td>200349.245386</td>\n",
              "      <td>24915.928447</td>\n",
              "      <td>...</td>\n",
              "      <td>135731.695669</td>\n",
              "      <td>8.573764</td>\n",
              "      <td>12545.375823</td>\n",
              "      <td>1463.228475</td>\n",
              "      <td>8.264089</td>\n",
              "      <td>2573.359066</td>\n",
              "      <td>311.390515</td>\n",
              "      <td>8.370287</td>\n",
              "      <td>4452.186502</td>\n",
              "      <td>531.903690</td>\n",
              "    </tr>\n",
              "    <tr>\n",
              "      <th>2</th>\n",
              "      <td>Feb2019</td>\n",
              "      <td>M01</td>\n",
              "      <td>OP02</td>\n",
              "      <td>bad</td>\n",
              "      <td>0</td>\n",
              "      <td>OP02bad</td>\n",
              "      <td>haar</td>\n",
              "      <td>8.458630</td>\n",
              "      <td>154418.095490</td>\n",
              "      <td>18255.685942</td>\n",
              "      <td>...</td>\n",
              "      <td>132624.926760</td>\n",
              "      <td>8.653040</td>\n",
              "      <td>12210.790234</td>\n",
              "      <td>1411.156175</td>\n",
              "      <td>8.339427</td>\n",
              "      <td>2443.949426</td>\n",
              "      <td>293.059644</td>\n",
              "      <td>8.451842</td>\n",
              "      <td>4555.885253</td>\n",
              "      <td>539.040504</td>\n",
              "    </tr>\n",
              "    <tr>\n",
              "      <th>3</th>\n",
              "      <td>Feb2019</td>\n",
              "      <td>M01</td>\n",
              "      <td>OP04</td>\n",
              "      <td>bad</td>\n",
              "      <td>0</td>\n",
              "      <td>OP04bad</td>\n",
              "      <td>haar</td>\n",
              "      <td>8.179088</td>\n",
              "      <td>184422.757377</td>\n",
              "      <td>22548.081979</td>\n",
              "      <td>...</td>\n",
              "      <td>133356.187625</td>\n",
              "      <td>8.907050</td>\n",
              "      <td>20315.792887</td>\n",
              "      <td>2280.866486</td>\n",
              "      <td>8.482192</td>\n",
              "      <td>3827.710279</td>\n",
              "      <td>451.264304</td>\n",
              "      <td>8.597585</td>\n",
              "      <td>5979.319591</td>\n",
              "      <td>695.465026</td>\n",
              "    </tr>\n",
              "    <tr>\n",
              "      <th>4</th>\n",
              "      <td>Aug2021</td>\n",
              "      <td>M01</td>\n",
              "      <td>OP07</td>\n",
              "      <td>bad</td>\n",
              "      <td>1</td>\n",
              "      <td>OP07bad</td>\n",
              "      <td>haar</td>\n",
              "      <td>8.580366</td>\n",
              "      <td>245345.392230</td>\n",
              "      <td>28593.815060</td>\n",
              "      <td>...</td>\n",
              "      <td>134036.886794</td>\n",
              "      <td>8.871093</td>\n",
              "      <td>76830.453494</td>\n",
              "      <td>8660.765041</td>\n",
              "      <td>8.725863</td>\n",
              "      <td>13381.707558</td>\n",
              "      <td>1533.568336</td>\n",
              "      <td>8.790936</td>\n",
              "      <td>24561.442471</td>\n",
              "      <td>2793.950831</td>\n",
              "    </tr>\n",
              "    <tr>\n",
              "      <th>5</th>\n",
              "      <td>Feb2019</td>\n",
              "      <td>M01</td>\n",
              "      <td>OP07</td>\n",
              "      <td>bad</td>\n",
              "      <td>0</td>\n",
              "      <td>OP07bad</td>\n",
              "      <td>haar</td>\n",
              "      <td>8.253587</td>\n",
              "      <td>202491.011330</td>\n",
              "      <td>24533.697299</td>\n",
              "      <td>...</td>\n",
              "      <td>137571.553142</td>\n",
              "      <td>8.458762</td>\n",
              "      <td>14204.183568</td>\n",
              "      <td>1679.227264</td>\n",
              "      <td>8.159215</td>\n",
              "      <td>2427.463398</td>\n",
              "      <td>297.511879</td>\n",
              "      <td>8.311796</td>\n",
              "      <td>7202.508157</td>\n",
              "      <td>866.540531</td>\n",
              "    </tr>\n",
              "    <tr>\n",
              "      <th>6</th>\n",
              "      <td>Feb2019</td>\n",
              "      <td>M01</td>\n",
              "      <td>OP10</td>\n",
              "      <td>bad</td>\n",
              "      <td>2</td>\n",
              "      <td>OP10bad</td>\n",
              "      <td>haar</td>\n",
              "      <td>8.152678</td>\n",
              "      <td>185389.962238</td>\n",
              "      <td>22739.762700</td>\n",
              "      <td>...</td>\n",
              "      <td>132159.653986</td>\n",
              "      <td>9.298848</td>\n",
              "      <td>60790.188204</td>\n",
              "      <td>6537.389156</td>\n",
              "      <td>8.922009</td>\n",
              "      <td>10505.726705</td>\n",
              "      <td>1177.506824</td>\n",
              "      <td>8.973121</td>\n",
              "      <td>12516.336882</td>\n",
              "      <td>1394.869996</td>\n",
              "    </tr>\n",
              "    <tr>\n",
              "      <th>7</th>\n",
              "      <td>Feb2019</td>\n",
              "      <td>M02</td>\n",
              "      <td>OP01</td>\n",
              "      <td>bad</td>\n",
              "      <td>0</td>\n",
              "      <td>OP01bad</td>\n",
              "      <td>haar</td>\n",
              "      <td>7.701040</td>\n",
              "      <td>182857.643512</td>\n",
              "      <td>23744.538880</td>\n",
              "      <td>...</td>\n",
              "      <td>144753.656886</td>\n",
              "      <td>8.141301</td>\n",
              "      <td>5358.062421</td>\n",
              "      <td>658.133424</td>\n",
              "      <td>7.841922</td>\n",
              "      <td>1210.776111</td>\n",
              "      <td>154.397877</td>\n",
              "      <td>7.991694</td>\n",
              "      <td>2885.777302</td>\n",
              "      <td>361.097063</td>\n",
              "    </tr>\n",
              "    <tr>\n",
              "      <th>8</th>\n",
              "      <td>Feb2019</td>\n",
              "      <td>M02</td>\n",
              "      <td>OP01</td>\n",
              "      <td>bad</td>\n",
              "      <td>1</td>\n",
              "      <td>OP01bad</td>\n",
              "      <td>haar</td>\n",
              "      <td>7.972069</td>\n",
              "      <td>186504.339386</td>\n",
              "      <td>23394.723171</td>\n",
              "      <td>...</td>\n",
              "      <td>141625.664553</td>\n",
              "      <td>8.285848</td>\n",
              "      <td>5539.075760</td>\n",
              "      <td>668.498380</td>\n",
              "      <td>7.957462</td>\n",
              "      <td>1258.399225</td>\n",
              "      <td>158.140785</td>\n",
              "      <td>8.135288</td>\n",
              "      <td>2831.940913</td>\n",
              "      <td>348.105796</td>\n",
              "    </tr>\n",
              "    <tr>\n",
              "      <th>9</th>\n",
              "      <td>Feb2019</td>\n",
              "      <td>M02</td>\n",
              "      <td>OP02</td>\n",
              "      <td>bad</td>\n",
              "      <td>1</td>\n",
              "      <td>OP02bad</td>\n",
              "      <td>haar</td>\n",
              "      <td>8.404033</td>\n",
              "      <td>143738.904636</td>\n",
              "      <td>17103.562961</td>\n",
              "      <td>...</td>\n",
              "      <td>135386.198940</td>\n",
              "      <td>8.803927</td>\n",
              "      <td>17437.036113</td>\n",
              "      <td>1980.597448</td>\n",
              "      <td>8.570599</td>\n",
              "      <td>4535.664558</td>\n",
              "      <td>529.212078</td>\n",
              "      <td>8.662042</td>\n",
              "      <td>6171.351109</td>\n",
              "      <td>712.459113</td>\n",
              "    </tr>\n",
              "  </tbody>\n",
              "</table>\n",
              "<p>10 rows × 43 columns</p>\n",
              "</div>\n",
              "      <button class=\"colab-df-convert\" onclick=\"convertToInteractive('df-832f25eb-7439-470f-90bd-f8f288dda6e6')\"\n",
              "              title=\"Convert this dataframe to an interactive table.\"\n",
              "              style=\"display:none;\">\n",
              "        \n",
              "  <svg xmlns=\"http://www.w3.org/2000/svg\" height=\"24px\"viewBox=\"0 0 24 24\"\n",
              "       width=\"24px\">\n",
              "    <path d=\"M0 0h24v24H0V0z\" fill=\"none\"/>\n",
              "    <path d=\"M18.56 5.44l.94 2.06.94-2.06 2.06-.94-2.06-.94-.94-2.06-.94 2.06-2.06.94zm-11 1L8.5 8.5l.94-2.06 2.06-.94-2.06-.94L8.5 2.5l-.94 2.06-2.06.94zm10 10l.94 2.06.94-2.06 2.06-.94-2.06-.94-.94-2.06-.94 2.06-2.06.94z\"/><path d=\"M17.41 7.96l-1.37-1.37c-.4-.4-.92-.59-1.43-.59-.52 0-1.04.2-1.43.59L10.3 9.45l-7.72 7.72c-.78.78-.78 2.05 0 2.83L4 21.41c.39.39.9.59 1.41.59.51 0 1.02-.2 1.41-.59l7.78-7.78 2.81-2.81c.8-.78.8-2.07 0-2.86zM5.41 20L4 18.59l7.72-7.72 1.47 1.35L5.41 20z\"/>\n",
              "  </svg>\n",
              "      </button>\n",
              "      \n",
              "  <style>\n",
              "    .colab-df-container {\n",
              "      display:flex;\n",
              "      flex-wrap:wrap;\n",
              "      gap: 12px;\n",
              "    }\n",
              "\n",
              "    .colab-df-convert {\n",
              "      background-color: #E8F0FE;\n",
              "      border: none;\n",
              "      border-radius: 50%;\n",
              "      cursor: pointer;\n",
              "      display: none;\n",
              "      fill: #1967D2;\n",
              "      height: 32px;\n",
              "      padding: 0 0 0 0;\n",
              "      width: 32px;\n",
              "    }\n",
              "\n",
              "    .colab-df-convert:hover {\n",
              "      background-color: #E2EBFA;\n",
              "      box-shadow: 0px 1px 2px rgba(60, 64, 67, 0.3), 0px 1px 3px 1px rgba(60, 64, 67, 0.15);\n",
              "      fill: #174EA6;\n",
              "    }\n",
              "\n",
              "    [theme=dark] .colab-df-convert {\n",
              "      background-color: #3B4455;\n",
              "      fill: #D2E3FC;\n",
              "    }\n",
              "\n",
              "    [theme=dark] .colab-df-convert:hover {\n",
              "      background-color: #434B5C;\n",
              "      box-shadow: 0px 1px 3px 1px rgba(0, 0, 0, 0.15);\n",
              "      filter: drop-shadow(0px 1px 2px rgba(0, 0, 0, 0.3));\n",
              "      fill: #FFFFFF;\n",
              "    }\n",
              "  </style>\n",
              "\n",
              "      <script>\n",
              "        const buttonEl =\n",
              "          document.querySelector('#df-832f25eb-7439-470f-90bd-f8f288dda6e6 button.colab-df-convert');\n",
              "        buttonEl.style.display =\n",
              "          google.colab.kernel.accessAllowed ? 'block' : 'none';\n",
              "\n",
              "        async function convertToInteractive(key) {\n",
              "          const element = document.querySelector('#df-832f25eb-7439-470f-90bd-f8f288dda6e6');\n",
              "          const dataTable =\n",
              "            await google.colab.kernel.invokeFunction('convertToInteractive',\n",
              "                                                     [key], {});\n",
              "          if (!dataTable) return;\n",
              "\n",
              "          const docLinkHtml = 'Like what you see? Visit the ' +\n",
              "            '<a target=\"_blank\" href=https://colab.research.google.com/notebooks/data_table.ipynb>data table notebook</a>'\n",
              "            + ' to learn more about interactive tables.';\n",
              "          element.innerHTML = '';\n",
              "          dataTable['output_type'] = 'display_data';\n",
              "          await google.colab.output.renderOutput(dataTable, element);\n",
              "          const docLink = document.createElement('div');\n",
              "          docLink.innerHTML = docLinkHtml;\n",
              "          element.appendChild(docLink);\n",
              "        }\n",
              "      </script>\n",
              "    </div>\n",
              "  </div>\n",
              "  "
            ]
          },
          "metadata": {},
          "execution_count": 14
        }
      ],
      "source": [
        "wavelet_feature_m.head(10)"
      ]
    },
    {
      "cell_type": "code",
      "execution_count": null,
      "id": "9b051b26",
      "metadata": {
        "id": "9b051b26",
        "outputId": "2b305ef7-4da2-40fe-91d3-736ed70a9706"
      },
      "outputs": [
        {
          "name": "stderr",
          "output_type": "stream",
          "text": [
            "C:\\Users\\AHUSSAIN14\\Anaconda3\\lib\\site-packages\\ipykernel_launcher.py:10: FutureWarning: Dropping of nuisance columns in DataFrame reductions (with 'numeric_only=None') is deprecated; in a future version this will raise TypeError.  Select only valid columns before calling the reduction.\n",
            "  # Remove the CWD from sys.path while we load stuff.\n"
          ]
        }
      ],
      "source": [
        "# #FIND THE MEAN OF ENTROPY\n",
        "# a = wavelet_feature_m['operationcondition'].unique()\n",
        "# B = wavelet_feature_m['wavelet'].unique()\n",
        "# new = pd.DataFrame()\n",
        "# for i in B:\n",
        "#     new1 = pd.DataFrame()\n",
        "#     for n in a:\n",
        "#         dff = wavelet_feature_m[(wavelet_feature_m['operationcondition'] == n) & (wavelet_feature_m['wavelet'] == i)]\n",
        "#         d = dff.columns[7:]\n",
        "#         Avg = dff.mean()\n",
        "#         new1[d] = [Avg[1:]]\n",
        "#         new1['operationcondition'] = [max(dff['operationcondition'])]\n",
        "#         new1['wavelet'] = [max(dff['wavelet'])]\n",
        "#         new = new.append(new1)\n",
        "#         new = new.reset_index(drop = True)"
      ]
    },
    {
      "cell_type": "code",
      "execution_count": null,
      "id": "593eb439",
      "metadata": {
        "id": "593eb439"
      },
      "outputs": [],
      "source": [
        "# new.to_csv('selectionofwavelet.csv', sep='\\t') # relative position"
      ]
    },
    {
      "cell_type": "code",
      "execution_count": null,
      "id": "8c6b4fd9",
      "metadata": {
        "collapsed": true,
        "id": "8c6b4fd9",
        "outputId": "171d1b9d-8aab-4836-e5ed-3abc5cd9d399"
      },
      "outputs": [
        {
          "data": {
            "image/png": "[encoded data removed]",
            "text/plain": [
              "<Figure size 1500x1500 with 3 Axes>"
            ]
          },
          "metadata": {},
          "output_type": "display_data"
        },
        {
          "data": {
            "text/plain": [
              "<Figure size 640x480 with 0 Axes>"
            ]
          },
          "metadata": {},
          "output_type": "display_data"
        }
      ],
      "source": [
        "# import seaborn as sns\n",
        "# from scipy import stats\n",
        "# from scipy.signal import find_peaks\n",
        "# sns.set_style('whitegrid')\n",
        "# plt.figure(figsize = (15, 15))\n",
        "# plt.subplot(3,1,1)\n",
        "# sns.barplot(data = new, x = 'operationcondition',y = 'entropyX3', hue = 'wavelet')\n",
        "# plt.title('Number of samples')\n",
        "# plt.subplot(3,1,2)\n",
        "# sns.barplot(data = new, x = 'operationcondition',y = 'entropyY3' , hue = 'wavelet')\n",
        "# plt.title('Number of samples')\n",
        "# plt.subplot(3,1,3)\n",
        "# sns.barplot(data = new, x = 'operationcondition',y = 'entropyZ3' , hue = 'wavelet')\n",
        "# plt.title('Number of samples')\n",
        "# plt.show()\n",
        "# plt.clf()"
      ]
    },
    {
      "cell_type": "code",
      "execution_count": null,
      "id": "93548389",
      "metadata": {
        "collapsed": true,
        "id": "93548389",
        "outputId": "91ebd0c4-cd6e-4731-d674-de61c01ae237"
      },
      "outputs": [
        {
          "name": "stdout",
          "output_type": "stream",
          "text": [
            "592.5642982050135\n",
            "576.0733602190219\n",
            "567.3237733083236\n",
            "563.6747276551814\n",
            "582.9191034060606\n"
          ]
        }
      ],
      "source": [
        "# q = 'RatioX3'\n",
        "# # plotdf = new[(new['wavelet'] == 'db1')]\n",
        "# # print(plotdf[q].mean())\n",
        "# plotdf = new[(new['wavelet'] == 'db2')]\n",
        "# print(plotdf[q].mean())\n",
        "# plotdf = new[(new['wavelet'] == 'bior4.4')]\n",
        "# print(plotdf[q].mean())\n",
        "# plotdf = new[(new['wavelet'] == 'sym4')]\n",
        "# print(plotdf[q].mean())\n",
        "# plotdf = new[(new['wavelet'] == 'coif3')]\n",
        "# print(plotdf[q].mean())\n",
        "# plotdf = new[(new['wavelet'] == 'dmey')]\n",
        "# print(plotdf[q].mean())"
      ]
    },
    {
      "cell_type": "markdown",
      "id": "ef760a9a",
      "metadata": {
        "id": "ef760a9a"
      },
      "source": [
        "## Wavelet Feature Extraction"
      ]
    },
    {
      "cell_type": "code",
      "execution_count": 8,
      "id": "c6e3ec78",
      "metadata": {
        "id": "c6e3ec78"
      },
      "outputs": [],
      "source": [
        "#This will create the data list according to 'newcol'\n",
        "import pywt\n",
        "# w = pywt.Wavelet ('dmey')\n",
        "level = 3\n",
        " \n",
        "#wavelet_feature_test = pd.DataFrame()\n",
        "data = df\n",
        "window_size = 2000\n",
        "step_size = 1000"
      ]
    },
    {
      "cell_type": "code",
      "execution_count": null,
      "id": "09e3f68b",
      "metadata": {
        "id": "09e3f68b",
        "outputId": "310823ee-775f-4ead-f057-7f96137ccac0",
        "colab": {
          "base_uri": "https://localhost:8080/"
        }
      },
      "outputs": [
        {
          "output_type": "execute_result",
          "data": {
            "text/plain": [
              "(2151330, 10)"
            ]
          },
          "metadata": {},
          "execution_count": 9
        }
      ],
      "source": [
        "data.shape"
      ]
    },
    {
      "cell_type": "code",
      "source": [
        "b = ['M01Aug2019OP01bad0',\n",
        "'M01Feb2019OP01bad0']\n",
        "for i in b:\n",
        "    print(i)"
      ],
      "metadata": {
        "colab": {
          "base_uri": "https://localhost:8080/"
        },
        "id": "MVcmwajwr5ji",
        "outputId": "2704da97-b705-4197-9327-55d4f5e5d071"
      },
      "id": "MVcmwajwr5ji",
      "execution_count": 9,
      "outputs": [
        {
          "output_type": "stream",
          "name": "stdout",
          "text": [
            "M01Aug2019OP01bad0\n",
            "M01Feb2019OP01bad0\n"
          ]
        }
      ]
    },
    {
      "cell_type": "code",
      "source": [
        "#trying new method for fast computation\n",
        "import time\n",
        "wavelets = ['db2', 'db4','Haar', 'coif2', 'coif4', 'sym4', 'bior4.4', 'dmey']\n",
        "all_wavelet = pd.DataFrame()\n",
        "\n",
        "for w in wavelets:\n",
        "    start_time = time.time()\n",
        "    wavelet_feature_all = pd.DataFrame()\n",
        "    print(f\"Running for {w}\")\n",
        "\n",
        "    for i in data['newcol'].unique():\n",
        "        master_data = data[(data['newcol'] == i)]\n",
        "        wavelet_feature_j = pd.DataFrame()\n",
        "\n",
        "        for j in range(0, master_data.shape[0] - window_size, step_size):\n",
        "            wavelet_feature = pd.DataFrame()\n",
        "            df1 = pd.DataFrame()\n",
        "            df1['X'] = master_data['X'].values[j: j + window_size]\n",
        "            df1['Y'] = master_data['Y'].values[j: j + window_size]\n",
        "            df1['Z'] = master_data['Z'].values[j: j + window_size]\n",
        "\n",
        "            colvalue = ['X', 'Y', 'Z']\n",
        "            wavelet_feature['Date'] = [max(master_data['Date'].values[j: j + window_size])]\n",
        "            wavelet_feature['Machine'] = [max(master_data['Machine'].values[j: j + window_size])]\n",
        "            wavelet_feature['Operation'] = [max(master_data['Tool'].values[j: j + window_size])]\n",
        "            wavelet_feature['Condition'] = [max(master_data['Condition'].values[j: j + window_size])]\n",
        "            wavelet_feature['Repeat'] = [max(master_data['Repeat'].values[j: j + window_size])]\n",
        "            wavelet_feature['operationcondition'] = wavelet_feature['Operation'] + wavelet_feature['Condition']\n",
        "\n",
        "            for val in colvalue:\n",
        "                data_wave = df1[val].values\n",
        "                wp = pywt.WaveletPacket(data_wave, w, maxlevel=level)  # Wavelet packet transformation\n",
        "                packet_names = [node.path for node in wp.get_level(level, \"freq\")]\n",
        "                for v in range(len(packet_names)):\n",
        "                    new_wp = pywt.WaveletPacket(data=None, wavelet=w, maxlevel=level)\n",
        "                    new_wp[packet_names[v]] = wp[packet_names[v]].data\n",
        "                    reconstructed_signal = new_wp.reconstruct(update=False)  # Signal reconstruction from wavelet packet coefficients\n",
        "\n",
        "                    # Wavelet feature\n",
        "                    wavelet_feature = pd.concat([wavelet_feature,pd.DataFrame({'mean'+val+str(v): [np.mean(reconstructed_signal)],\n",
        "                                                          'std'+val+str(v): [np.std(reconstructed_signal)],\n",
        "                                                          'max'+val+str(v): [max(reconstructed_signal)],\n",
        "                                                          'min'+val+str(v): [min(reconstructed_signal)],\n",
        "                                                          'entropy'+val+str(v): [entropy2(reconstructed_signal, 2)],\n",
        "                                                          'skew'+val+str(v): [stats.skew(reconstructed_signal)],\n",
        "                                                          'kurt'+val+str(v): [stats.kurtosis(reconstructed_signal)]})], axis=1)\n",
        "\n",
        "\n",
        "            wavelet_feature_j = pd.concat([wavelet_feature_j, wavelet_feature], ignore_index=True)\n",
        "\n",
        "        wavelet_feature_all = pd.concat([wavelet_feature_all, wavelet_feature_j], ignore_index=True)\n",
        "        wavelet_feature_all['wavelet'] = w\n",
        "    \n",
        "    end_time = time.time()\n",
        "    print(f'Time taken for  {w}: {end_time-start_time:.6f}')\n",
        "    \n",
        "    all_wavelet = pd.concat([all_wavelet, wavelet_feature_all], ignore_index=True)\n",
        "\n",
        "\n",
        "    "
      ],
      "metadata": {
        "id": "esm-gSgVpu94"
      },
      "id": "esm-gSgVpu94",
      "execution_count": null,
      "outputs": []
    },
    {
      "cell_type": "code",
      "source": [
        "all_wavelet.to_csv('/content/drive/MyDrive/All_wavelet_feature.csv', sep='\\t') # relative position"
      ],
      "metadata": {
        "id": "N4Q14zFTqS25"
      },
      "id": "N4Q14zFTqS25",
      "execution_count": 48,
      "outputs": []
    },
    {
      "cell_type": "code",
      "execution_count": 46,
      "id": "26fe3c8d",
      "metadata": {
        "id": "26fe3c8d",
        "outputId": "7e2b3dac-1dc3-48cd-9e82-e4c97ae58b30",
        "colab": {
          "base_uri": "https://localhost:8080/"
        }
      },
      "outputs": [
        {
          "output_type": "execute_result",
          "data": {
            "text/plain": [
              "OP02bad     1680\n",
              "OP04bad     1680\n",
              "OP10bad     1680\n",
              "OP01good    1656\n",
              "OP02good    1656\n",
              "OP04good    1656\n",
              "OP07good    1656\n",
              "OP10good    1656\n",
              "OP01bad     1648\n",
              "OP07bad     1648\n",
              "Name: operationcondition, dtype: int64"
            ]
          },
          "metadata": {},
          "execution_count": 46
        }
      ],
      "source": [
        "all_wavelet['operationcondition'].value_counts()"
      ]
    },
    {
      "cell_type": "markdown",
      "source": [
        "# Feature selection and Classification"
      ],
      "metadata": {
        "id": "ZI5KD4I9asQh"
      },
      "id": "ZI5KD4I9asQh"
    },
    {
      "cell_type": "code",
      "source": [
        "#read csv to append the data and reset index\n",
        "path = '/content/drive/MyDrive/All_wavelet_feature.csv'\n",
        "df = pd.read_csv(path,sep='\\t')\n",
        "df = df.drop(['Unnamed: 0'], axis = 1)"
      ],
      "metadata": {
        "id": "T9Tb2eyBbT2v"
      },
      "id": "T9Tb2eyBbT2v",
      "execution_count": 50,
      "outputs": []
    },
    {
      "cell_type": "code",
      "source": [
        "from sklearn.model_selection import train_test_split\n",
        "\n",
        "from sklearn.decomposition import IncrementalPCA\n",
        "\n",
        "# define variance threshold\n",
        "variance_threshold = 0.95\n",
        "\n",
        "# loop over each wavelet\n",
        "for w in wavelets:\n",
        "    # subset the data for the current wavelet\n",
        "    wavelet_data = df[df['wavelet'] == w].drop(['Date', 'Machine', 'Operation', 'Condition', 'Repeat', 'operationcondition', 'wavelet'], axis=1)\n",
        "    # initialize PCA with 1 component\n",
        "    n_components = 1\n",
        "    pca = IncrementalPCA(n_components=n_components)\n",
        "    explained_variance_ratio = ipca.explained_variance_ / np.sum(ipca.explained_variance_)\n",
        "    # fit PCA with 1 component until the variance threshold is reached\n",
        "    while pca.explained_variance_ratio_.sum() < variance_threshold:\n",
        "        pca.partial_fit(wavelet_data)\n",
        "        n_components += 1\n",
        "        pca.n_components = n_components\n",
        "    # transform the data using the final number of components\n",
        "    wavelet_pca = pca.transform(wavelet_data)\n",
        "    # store the PCA results in a dataframe\n",
        "    wavelet_pca_df = pd.DataFrame(wavelet_pca, columns=[f'PCA_{i}' for i in range(1, n_components+1)])\n",
        "    # concatenate the PCA results with the wavelet data\n",
        "    all_wavelet_pca = pd.concat([df[df['wavelet'] == w].reset_index(drop=True), wavelet_pca_df], axis=1)\n"
      ],
      "metadata": {
        "id": "cfuaijcVa8mC",
        "outputId": "ef6cb261-7483-4cf2-8c22-5d0ae82b7e34",
        "colab": {
          "base_uri": "https://localhost:8080/",
          "height": 235
        }
      },
      "id": "cfuaijcVa8mC",
      "execution_count": 51,
      "outputs": [
        {
          "output_type": "error",
          "ename": "AttributeError",
          "evalue": "ignored",
          "traceback": [
            "\u001b[0;31m---------------------------------------------------------------------------\u001b[0m",
            "\u001b[0;31mAttributeError\u001b[0m                            Traceback (most recent call last)",
            "\u001b[0;32m<ipython-input-51-25e1f3c01e14>\u001b[0m in \u001b[0;36m<cell line: 9>\u001b[0;34m()\u001b[0m\n\u001b[1;32m     14\u001b[0m     \u001b[0mpca\u001b[0m \u001b[0;34m=\u001b[0m \u001b[0mIncrementalPCA\u001b[0m\u001b[0;34m(\u001b[0m\u001b[0mn_components\u001b[0m\u001b[0;34m=\u001b[0m\u001b[0mn_components\u001b[0m\u001b[0;34m)\u001b[0m\u001b[0;34m\u001b[0m\u001b[0;34m\u001b[0m\u001b[0m\n\u001b[1;32m     15\u001b[0m     \u001b[0;31m# fit PCA with 1 component until the variance threshold is reached\u001b[0m\u001b[0;34m\u001b[0m\u001b[0;34m\u001b[0m\u001b[0m\n\u001b[0;32m---> 16\u001b[0;31m     \u001b[0;32mwhile\u001b[0m \u001b[0mpca\u001b[0m\u001b[0;34m.\u001b[0m\u001b[0mexplained_variance_ratio_\u001b[0m\u001b[0;34m.\u001b[0m\u001b[0msum\u001b[0m\u001b[0;34m(\u001b[0m\u001b[0;34m)\u001b[0m \u001b[0;34m<\u001b[0m \u001b[0mvariance_threshold\u001b[0m\u001b[0;34m:\u001b[0m\u001b[0;34m\u001b[0m\u001b[0;34m\u001b[0m\u001b[0m\n\u001b[0m\u001b[1;32m     17\u001b[0m         \u001b[0mpca\u001b[0m\u001b[0;34m.\u001b[0m\u001b[0mpartial_fit\u001b[0m\u001b[0;34m(\u001b[0m\u001b[0mwavelet_data\u001b[0m\u001b[0;34m)\u001b[0m\u001b[0;34m\u001b[0m\u001b[0;34m\u001b[0m\u001b[0m\n\u001b[1;32m     18\u001b[0m         \u001b[0mn_components\u001b[0m \u001b[0;34m+=\u001b[0m \u001b[0;36m1\u001b[0m\u001b[0;34m\u001b[0m\u001b[0;34m\u001b[0m\u001b[0m\n",
            "\u001b[0;31mAttributeError\u001b[0m: 'IncrementalPCA' object has no attribute 'explained_variance_ratio_'"
          ]
        }
      ]
    },
    {
      "cell_type": "markdown",
      "id": "46b3d6d4",
      "metadata": {
        "id": "46b3d6d4"
      },
      "source": [
        "# Train and Test Data"
      ]
    },
    {
      "cell_type": "code",
      "source": [
        "X = wavelet_feature_all.drop(wavelet_feature_all.columns[0:6], axis=1)\n",
        "Y = wavelet_feature_all['operationcondition']\n",
        "\n",
        "from sklearn.model_selection import train_test_split\n",
        "X_train, X_test, y_train, y_test = train_test_split(X, Y,test_size = 0.2, stratify = Y,\n",
        "                                                                    random_state = 123)\n",
        "print (y_test.value_counts(), y_train.value_counts())"
      ],
      "metadata": {
        "id": "bv9Kzd_sTbX6",
        "outputId": "32296331-dd1f-4167-b620-56f602098841",
        "colab": {
          "base_uri": "https://localhost:8080/"
        }
      },
      "id": "bv9Kzd_sTbX6",
      "execution_count": null,
      "outputs": [
        {
          "output_type": "stream",
          "name": "stdout",
          "text": [
            "OP01good    42\n",
            "OP10good    42\n",
            "OP04bad     42\n",
            "OP04good    42\n",
            "OP10bad     42\n",
            "OP02bad     42\n",
            "OP02good    41\n",
            "OP01bad     41\n",
            "OP07good    41\n",
            "OP07bad     41\n",
            "Name: operationcondition, dtype: int64 OP02bad     168\n",
            "OP04bad     168\n",
            "OP10bad     168\n",
            "OP02good    166\n",
            "OP07good    166\n",
            "OP01good    165\n",
            "OP04good    165\n",
            "OP10good    165\n",
            "OP07bad     165\n",
            "OP01bad     165\n",
            "Name: operationcondition, dtype: int64\n"
          ]
        }
      ]
    },
    {
      "cell_type": "markdown",
      "id": "656546b9",
      "metadata": {
        "id": "656546b9"
      },
      "source": [
        "# Feature selection random forest"
      ]
    },
    {
      "cell_type": "code",
      "execution_count": null,
      "id": "edd739f9",
      "metadata": {
        "id": "edd739f9",
        "outputId": "019fa3b6-df40-4882-bdce-f9c7bed3c291",
        "colab": {
          "base_uri": "https://localhost:8080/",
          "height": 152
        }
      },
      "outputs": [
        {
          "output_type": "stream",
          "name": "stderr",
          "text": [
            "[Parallel(n_jobs=1)]: Using backend SequentialBackend with 1 concurrent workers.\n",
            "[Parallel(n_jobs=1)]: Done 200 out of 200 | elapsed:    2.3s finished\n"
          ]
        },
        {
          "output_type": "execute_result",
          "data": {
            "text/plain": [
              "SelectFromModel(estimator=RandomForestClassifier(max_depth=30,\n",
              "                                                 min_samples_split=5,\n",
              "                                                 n_estimators=200,\n",
              "                                                 random_state=42, verbose=1))"
            ],
            "text/html": [
              "<style>#sk-container-id-1 {color: black;background-color: white;}#sk-container-id-1 pre{padding: 0;}#sk-container-id-1 div.sk-toggleable {background-color: white;}#sk-container-id-1 label.sk-toggleable__label {cursor: pointer;display: block;width: 100%;margin-bottom: 0;padding: 0.3em;box-sizing: border-box;text-align: center;}#sk-container-id-1 label.sk-toggleable__label-arrow:before {content: \"▸\";float: left;margin-right: 0.25em;color: #696969;}#sk-container-id-1 label.sk-toggleable__label-arrow:hover:before {color: black;}#sk-container-id-1 div.sk-estimator:hover label.sk-toggleable__label-arrow:before {color: black;}#sk-container-id-1 div.sk-toggleable__content {max-height: 0;max-width: 0;overflow: hidden;text-align: left;background-color: #f0f8ff;}#sk-container-id-1 div.sk-toggleable__content pre {margin: 0.2em;color: black;border-radius: 0.25em;background-color: #f0f8ff;}#sk-container-id-1 input.sk-toggleable__control:checked~div.sk-toggleable__content {max-height: 200px;max-width: 100%;overflow: auto;}#sk-container-id-1 input.sk-toggleable__control:checked~label.sk-toggleable__label-arrow:before {content: \"▾\";}#sk-container-id-1 div.sk-estimator input.sk-toggleable__control:checked~label.sk-toggleable__label {background-color: #d4ebff;}#sk-container-id-1 div.sk-label input.sk-toggleable__control:checked~label.sk-toggleable__label {background-color: #d4ebff;}#sk-container-id-1 input.sk-hidden--visually {border: 0;clip: rect(1px 1px 1px 1px);clip: rect(1px, 1px, 1px, 1px);height: 1px;margin: -1px;overflow: hidden;padding: 0;position: absolute;width: 1px;}#sk-container-id-1 div.sk-estimator {font-family: monospace;background-color: #f0f8ff;border: 1px dotted black;border-radius: 0.25em;box-sizing: border-box;margin-bottom: 0.5em;}#sk-container-id-1 div.sk-estimator:hover {background-color: #d4ebff;}#sk-container-id-1 div.sk-parallel-item::after {content: \"\";width: 100%;border-bottom: 1px solid gray;flex-grow: 1;}#sk-container-id-1 div.sk-label:hover label.sk-toggleable__label {background-color: #d4ebff;}#sk-container-id-1 div.sk-serial::before {content: \"\";position: absolute;border-left: 1px solid gray;box-sizing: border-box;top: 0;bottom: 0;left: 50%;z-index: 0;}#sk-container-id-1 div.sk-serial {display: flex;flex-direction: column;align-items: center;background-color: white;padding-right: 0.2em;padding-left: 0.2em;position: relative;}#sk-container-id-1 div.sk-item {position: relative;z-index: 1;}#sk-container-id-1 div.sk-parallel {display: flex;align-items: stretch;justify-content: center;background-color: white;position: relative;}#sk-container-id-1 div.sk-item::before, #sk-container-id-1 div.sk-parallel-item::before {content: \"\";position: absolute;border-left: 1px solid gray;box-sizing: border-box;top: 0;bottom: 0;left: 50%;z-index: -1;}#sk-container-id-1 div.sk-parallel-item {display: flex;flex-direction: column;z-index: 1;position: relative;background-color: white;}#sk-container-id-1 div.sk-parallel-item:first-child::after {align-self: flex-end;width: 50%;}#sk-container-id-1 div.sk-parallel-item:last-child::after {align-self: flex-start;width: 50%;}#sk-container-id-1 div.sk-parallel-item:only-child::after {width: 0;}#sk-container-id-1 div.sk-dashed-wrapped {border: 1px dashed gray;margin: 0 0.4em 0.5em 0.4em;box-sizing: border-box;padding-bottom: 0.4em;background-color: white;}#sk-container-id-1 div.sk-label label {font-family: monospace;font-weight: bold;display: inline-block;line-height: 1.2em;}#sk-container-id-1 div.sk-label-container {text-align: center;}#sk-container-id-1 div.sk-container {/* jupyter's `normalize.less` sets `[hidden] { display: none; }` but bootstrap.min.css set `[hidden] { display: none !important; }` so we also need the `!important` here to be able to override the default hidden behavior on the sphinx rendered scikit-learn.org. See: https://github.com/scikit-learn/scikit-learn/issues/21755 */display: inline-block !important;position: relative;}#sk-container-id-1 div.sk-text-repr-fallback {display: none;}</style><div id=\"sk-container-id-1\" class=\"sk-top-container\"><div class=\"sk-text-repr-fallback\"><pre>SelectFromModel(estimator=RandomForestClassifier(max_depth=30,\n",
              "                                                 min_samples_split=5,\n",
              "                                                 n_estimators=200,\n",
              "                                                 random_state=42, verbose=1))</pre><b>In a Jupyter environment, please rerun this cell to show the HTML representation or trust the notebook. <br />On GitHub, the HTML representation is unable to render, please try loading this page with nbviewer.org.</b></div><div class=\"sk-container\" hidden><div class=\"sk-item sk-dashed-wrapped\"><div class=\"sk-label-container\"><div class=\"sk-label sk-toggleable\"><input class=\"sk-toggleable__control sk-hidden--visually\" id=\"sk-estimator-id-1\" type=\"checkbox\" ><label for=\"sk-estimator-id-1\" class=\"sk-toggleable__label sk-toggleable__label-arrow\">SelectFromModel</label><div class=\"sk-toggleable__content\"><pre>SelectFromModel(estimator=RandomForestClassifier(max_depth=30,\n",
              "                                                 min_samples_split=5,\n",
              "                                                 n_estimators=200,\n",
              "                                                 random_state=42, verbose=1))</pre></div></div></div><div class=\"sk-parallel\"><div class=\"sk-parallel-item\"><div class=\"sk-item\"><div class=\"sk-label-container\"><div class=\"sk-label sk-toggleable\"><input class=\"sk-toggleable__control sk-hidden--visually\" id=\"sk-estimator-id-2\" type=\"checkbox\" ><label for=\"sk-estimator-id-2\" class=\"sk-toggleable__label sk-toggleable__label-arrow\">estimator: RandomForestClassifier</label><div class=\"sk-toggleable__content\"><pre>RandomForestClassifier(max_depth=30, min_samples_split=5, n_estimators=200,\n",
              "                       random_state=42, verbose=1)</pre></div></div></div><div class=\"sk-serial\"><div class=\"sk-item\"><div class=\"sk-estimator sk-toggleable\"><input class=\"sk-toggleable__control sk-hidden--visually\" id=\"sk-estimator-id-3\" type=\"checkbox\" ><label for=\"sk-estimator-id-3\" class=\"sk-toggleable__label sk-toggleable__label-arrow\">RandomForestClassifier</label><div class=\"sk-toggleable__content\"><pre>RandomForestClassifier(max_depth=30, min_samples_split=5, n_estimators=200,\n",
              "                       random_state=42, verbose=1)</pre></div></div></div></div></div></div></div></div></div></div>"
            ]
          },
          "metadata": {},
          "execution_count": 18
        }
      ],
      "source": [
        "from sklearn.ensemble import RandomForestClassifier\n",
        "from sklearn.feature_selection import SelectFromModel\n",
        "sel = SelectFromModel(RandomForestClassifier(bootstrap = True, max_depth= 30,min_samples_leaf=1, min_samples_split= 5, n_estimators= 200, random_state = 42, verbose=1))\n",
        "sel.fit(X_train, y_train)\n"
      ]
    },
    {
      "cell_type": "code",
      "execution_count": null,
      "id": "073c6587",
      "metadata": {
        "id": "073c6587",
        "outputId": "b36fb739-6e86-464c-9f1b-3cd314f91b1b",
        "colab": {
          "base_uri": "https://localhost:8080/"
        }
      },
      "outputs": [
        {
          "output_type": "execute_result",
          "data": {
            "text/plain": [
              "48"
            ]
          },
          "metadata": {},
          "execution_count": 22
        }
      ],
      "source": [
        "selected_feat= X_train.columns[(sel.get_support())]\n",
        "len(selected_feat)"
      ]
    },
    {
      "cell_type": "code",
      "execution_count": null,
      "id": "1b61059d",
      "metadata": {
        "id": "1b61059d",
        "outputId": "459a4de0-e9d7-42d3-dd92-b09ca9036457",
        "colab": {
          "base_uri": "https://localhost:8080/"
        }
      },
      "outputs": [
        {
          "output_type": "stream",
          "name": "stdout",
          "text": [
            "Index(['maxX1', 'minX1', 'stdX1', 'kurtosisX1', 'stdX2', 'kurtosisX2', 'stdX3',\n",
            "       'kurtosisX3', 'stdX5', 'stdX6', 'maxX7', 'minX7', 'stdX7', 'maxY0',\n",
            "       'minY0', 'meanY0', 'stdY0', 'kurtosisY0', 'maxY1', 'minY1', 'stdY1',\n",
            "       'kurtosisY1', 'maxY2', 'minY2', 'stdY2', 'kurtosisY2', 'stdY3',\n",
            "       'kurtosisY3', 'stdY5', 'stdY6', 'stdY7', 'stdZ0', 'maxZ1', 'minZ1',\n",
            "       'stdZ1', 'kurtosisZ1', 'maxZ2', 'minZ2', 'stdZ2', 'kurtosisZ2', 'maxZ3',\n",
            "       'minZ3', 'stdZ3', 'kurtosisZ3', 'stdZ4', 'maxZ6', 'minZ6', 'stdZ6'],\n",
            "      dtype='object')\n"
          ]
        }
      ],
      "source": [
        "print(selected_feat)"
      ]
    },
    {
      "cell_type": "code",
      "execution_count": null,
      "id": "d2b7fe94",
      "metadata": {
        "id": "d2b7fe94"
      },
      "outputs": [],
      "source": [
        "#df2 = df[[\"Courses\",\"Fee\",\"Duration\"]] # select multile columns\n",
        "X_new = wavelet_feature_all[selected_feat]"
      ]
    },
    {
      "cell_type": "code",
      "execution_count": null,
      "id": "0895c809",
      "metadata": {
        "id": "0895c809",
        "outputId": "35c6fe36-0881-488a-803a-e5d5a0ae1782",
        "colab": {
          "base_uri": "https://localhost:8080/"
        }
      },
      "outputs": [
        {
          "output_type": "stream",
          "name": "stdout",
          "text": [
            "OP01good    42\n",
            "OP10good    42\n",
            "OP04bad     42\n",
            "OP04good    42\n",
            "OP10bad     42\n",
            "OP02bad     42\n",
            "OP02good    41\n",
            "OP01bad     41\n",
            "OP07good    41\n",
            "OP07bad     41\n",
            "Name: operationcondition, dtype: int64 OP02bad     168\n",
            "OP04bad     168\n",
            "OP10bad     168\n",
            "OP02good    166\n",
            "OP07good    166\n",
            "OP01good    165\n",
            "OP04good    165\n",
            "OP10good    165\n",
            "OP07bad     165\n",
            "OP01bad     165\n",
            "Name: operationcondition, dtype: int64\n"
          ]
        }
      ],
      "source": [
        "from sklearn.model_selection import train_test_split\n",
        "X_train, X_test, y_train, y_test = train_test_split(X_new, Y,test_size = 0.2, stratify = Y,\n",
        "                                                                    random_state = 123)\n",
        "print (y_test.value_counts(), y_train.value_counts())"
      ]
    },
    {
      "cell_type": "code",
      "execution_count": null,
      "id": "13ebf8b2",
      "metadata": {
        "id": "13ebf8b2",
        "outputId": "82cddc4d-9ce8-45c9-eb51-caf24c87c37f",
        "colab": {
          "base_uri": "https://localhost:8080/",
          "height": 339
        }
      },
      "outputs": [
        {
          "output_type": "stream",
          "name": "stderr",
          "text": [
            "[Parallel(n_jobs=1)]: Using backend SequentialBackend with 1 concurrent workers.\n"
          ]
        },
        {
          "output_type": "stream",
          "name": "stdout",
          "text": [
            "Accuracy: 0.9567307692307693\n",
            "\n",
            " -------------Classification Report-------------\n",
            "\n"
          ]
        },
        {
          "output_type": "stream",
          "name": "stderr",
          "text": [
            "[Parallel(n_jobs=1)]: Done 200 out of 200 | elapsed:    1.4s finished\n",
            "[Parallel(n_jobs=1)]: Using backend SequentialBackend with 1 concurrent workers.\n",
            "[Parallel(n_jobs=1)]: Done 200 out of 200 | elapsed:    0.0s finished\n"
          ]
        },
        {
          "output_type": "error",
          "ename": "NameError",
          "evalue": "ignored",
          "traceback": [
            "\u001b[0;31m---------------------------------------------------------------------------\u001b[0m",
            "\u001b[0;31mNameError\u001b[0m                                 Traceback (most recent call last)",
            "\u001b[0;32m<ipython-input-27-abde9219cba1>\u001b[0m in \u001b[0;36m<cell line: 7>\u001b[0;34m()\u001b[0m\n\u001b[1;32m      5\u001b[0m \u001b[0mprint\u001b[0m\u001b[0;34m(\u001b[0m\u001b[0;34m\"Accuracy:\"\u001b[0m\u001b[0;34m,\u001b[0m \u001b[0maccuracy_score\u001b[0m\u001b[0;34m(\u001b[0m\u001b[0my_test\u001b[0m\u001b[0;34m,\u001b[0m \u001b[0my_pred\u001b[0m\u001b[0;34m)\u001b[0m\u001b[0;34m)\u001b[0m\u001b[0;34m\u001b[0m\u001b[0;34m\u001b[0m\u001b[0m\n\u001b[1;32m      6\u001b[0m \u001b[0mprint\u001b[0m\u001b[0;34m(\u001b[0m\u001b[0;34m\"\\n -------------Classification Report-------------\\n\"\u001b[0m\u001b[0;34m)\u001b[0m\u001b[0;34m\u001b[0m\u001b[0;34m\u001b[0m\u001b[0m\n\u001b[0;32m----> 7\u001b[0;31m \u001b[0mprint\u001b[0m\u001b[0;34m(\u001b[0m\u001b[0mclassification_report\u001b[0m\u001b[0;34m(\u001b[0m\u001b[0my_test\u001b[0m\u001b[0;34m,\u001b[0m \u001b[0my_pred\u001b[0m\u001b[0;34m)\u001b[0m\u001b[0;34m)\u001b[0m\u001b[0;34m\u001b[0m\u001b[0;34m\u001b[0m\u001b[0m\n\u001b[0m",
            "\u001b[0;31mNameError\u001b[0m: name 'classification_report' is not defined"
          ]
        }
      ],
      "source": [
        "from sklearn.metrics import accuracy_score\n",
        "MODEL = RandomForestClassifier(bootstrap = True, max_depth= 25,min_samples_leaf=1, min_samples_split= 5, n_estimators= 200, random_state = 42, verbose=1)\n",
        "MODEL.fit(X_train, y_train)\n",
        "y_pred = MODEL.predict(X_test)\n",
        "print(\"Accuracy:\", accuracy_score(y_test, y_pred))\n",
        "print(\"\\n -------------Classification Report-------------\\n\")\n",
        "print(classification_report(y_test, y_pred))"
      ]
    },
    {
      "cell_type": "code",
      "execution_count": null,
      "id": "d9c98b44",
      "metadata": {
        "id": "d9c98b44",
        "outputId": "2ce4edd4-65ee-473d-f28c-942157af5194",
        "colab": {
          "base_uri": "https://localhost:8080/",
          "height": 300
        }
      },
      "outputs": [
        {
          "output_type": "execute_result",
          "data": {
            "text/plain": [
              "        maxX1       minX1      stdX1  kurtosisX1      stdX2  kurtosisX2  \\\n",
              "0  174.039948 -142.892726  41.144791    0.546001  31.282456   -0.242840   \n",
              "1  200.932706 -216.955546  43.575807    1.953503  30.301237   -0.334674   \n",
              "2  234.539199 -216.955546  43.650006    3.063463  31.096068   -0.543907   \n",
              "3  234.539199 -195.118673  40.205325    2.156521  30.579292   -0.444866   \n",
              "4  113.445803 -128.244721  33.192723   -0.174060  27.423190   -0.016216   \n",
              "\n",
              "       stdX3  kurtosisX3      stdX5      stdX6  ...       stdZ2  kurtosisZ2  \\\n",
              "0  18.087636    9.754211  21.679923  42.135688  ...  126.951138   -0.624356   \n",
              "1  18.850148    8.013037  26.930163  52.744947  ...  126.268333   -0.653164   \n",
              "2  24.520260   16.558389  26.998398  43.841335  ...  126.829729   -0.728156   \n",
              "3  24.787955   15.763225  23.788567  31.232101  ...  126.098357   -0.710364   \n",
              "4  12.954486   11.769958  19.015743  24.997233  ...  124.265788   -0.720413   \n",
              "\n",
              "        maxZ3       minZ3      stdZ3  kurtosisZ3      stdZ4      maxZ6  \\\n",
              "0  184.495748 -178.253773  39.117906    2.396813  40.245421  64.635999   \n",
              "1  184.495748 -178.253773  40.769491    1.955865  38.164697  64.636035   \n",
              "2  191.391535 -193.344747  39.739135    2.144659  43.719511  61.333502   \n",
              "3  191.391535 -193.344747  39.782929    2.053379  43.425669  61.333502   \n",
              "4  112.345742 -110.548393  28.372783    0.722298  27.511084  36.550147   \n",
              "\n",
              "       minZ6      stdZ6  \n",
              "0 -70.598581  10.459532  \n",
              "1 -70.598610  12.402665  \n",
              "2 -68.444143  12.688836  \n",
              "3 -68.444143  11.744322  \n",
              "4 -35.335935   8.590165  \n",
              "\n",
              "[5 rows x 48 columns]"
            ],
            "text/html": [
              "\n",
              "  <div id=\"df-c77dfd34-001c-415a-a7a0-d64018fd00f8\">\n",
              "    <div class=\"colab-df-container\">\n",
              "      <div>\n",
              "<style scoped>\n",
              "    .dataframe tbody tr th:only-of-type {\n",
              "        vertical-align: middle;\n",
              "    }\n",
              "\n",
              "    .dataframe tbody tr th {\n",
              "        vertical-align: top;\n",
              "    }\n",
              "\n",
              "    .dataframe thead th {\n",
              "        text-align: right;\n",
              "    }\n",
              "</style>\n",
              "<table border=\"1\" class=\"dataframe\">\n",
              "  <thead>\n",
              "    <tr style=\"text-align: right;\">\n",
              "      <th></th>\n",
              "      <th>maxX1</th>\n",
              "      <th>minX1</th>\n",
              "      <th>stdX1</th>\n",
              "      <th>kurtosisX1</th>\n",
              "      <th>stdX2</th>\n",
              "      <th>kurtosisX2</th>\n",
              "      <th>stdX3</th>\n",
              "      <th>kurtosisX3</th>\n",
              "      <th>stdX5</th>\n",
              "      <th>stdX6</th>\n",
              "      <th>...</th>\n",
              "      <th>stdZ2</th>\n",
              "      <th>kurtosisZ2</th>\n",
              "      <th>maxZ3</th>\n",
              "      <th>minZ3</th>\n",
              "      <th>stdZ3</th>\n",
              "      <th>kurtosisZ3</th>\n",
              "      <th>stdZ4</th>\n",
              "      <th>maxZ6</th>\n",
              "      <th>minZ6</th>\n",
              "      <th>stdZ6</th>\n",
              "    </tr>\n",
              "  </thead>\n",
              "  <tbody>\n",
              "    <tr>\n",
              "      <th>0</th>\n",
              "      <td>174.039948</td>\n",
              "      <td>-142.892726</td>\n",
              "      <td>41.144791</td>\n",
              "      <td>0.546001</td>\n",
              "      <td>31.282456</td>\n",
              "      <td>-0.242840</td>\n",
              "      <td>18.087636</td>\n",
              "      <td>9.754211</td>\n",
              "      <td>21.679923</td>\n",
              "      <td>42.135688</td>\n",
              "      <td>...</td>\n",
              "      <td>126.951138</td>\n",
              "      <td>-0.624356</td>\n",
              "      <td>184.495748</td>\n",
              "      <td>-178.253773</td>\n",
              "      <td>39.117906</td>\n",
              "      <td>2.396813</td>\n",
              "      <td>40.245421</td>\n",
              "      <td>64.635999</td>\n",
              "      <td>-70.598581</td>\n",
              "      <td>10.459532</td>\n",
              "    </tr>\n",
              "    <tr>\n",
              "      <th>1</th>\n",
              "      <td>200.932706</td>\n",
              "      <td>-216.955546</td>\n",
              "      <td>43.575807</td>\n",
              "      <td>1.953503</td>\n",
              "      <td>30.301237</td>\n",
              "      <td>-0.334674</td>\n",
              "      <td>18.850148</td>\n",
              "      <td>8.013037</td>\n",
              "      <td>26.930163</td>\n",
              "      <td>52.744947</td>\n",
              "      <td>...</td>\n",
              "      <td>126.268333</td>\n",
              "      <td>-0.653164</td>\n",
              "      <td>184.495748</td>\n",
              "      <td>-178.253773</td>\n",
              "      <td>40.769491</td>\n",
              "      <td>1.955865</td>\n",
              "      <td>38.164697</td>\n",
              "      <td>64.636035</td>\n",
              "      <td>-70.598610</td>\n",
              "      <td>12.402665</td>\n",
              "    </tr>\n",
              "    <tr>\n",
              "      <th>2</th>\n",
              "      <td>234.539199</td>\n",
              "      <td>-216.955546</td>\n",
              "      <td>43.650006</td>\n",
              "      <td>3.063463</td>\n",
              "      <td>31.096068</td>\n",
              "      <td>-0.543907</td>\n",
              "      <td>24.520260</td>\n",
              "      <td>16.558389</td>\n",
              "      <td>26.998398</td>\n",
              "      <td>43.841335</td>\n",
              "      <td>...</td>\n",
              "      <td>126.829729</td>\n",
              "      <td>-0.728156</td>\n",
              "      <td>191.391535</td>\n",
              "      <td>-193.344747</td>\n",
              "      <td>39.739135</td>\n",
              "      <td>2.144659</td>\n",
              "      <td>43.719511</td>\n",
              "      <td>61.333502</td>\n",
              "      <td>-68.444143</td>\n",
              "      <td>12.688836</td>\n",
              "    </tr>\n",
              "    <tr>\n",
              "      <th>3</th>\n",
              "      <td>234.539199</td>\n",
              "      <td>-195.118673</td>\n",
              "      <td>40.205325</td>\n",
              "      <td>2.156521</td>\n",
              "      <td>30.579292</td>\n",
              "      <td>-0.444866</td>\n",
              "      <td>24.787955</td>\n",
              "      <td>15.763225</td>\n",
              "      <td>23.788567</td>\n",
              "      <td>31.232101</td>\n",
              "      <td>...</td>\n",
              "      <td>126.098357</td>\n",
              "      <td>-0.710364</td>\n",
              "      <td>191.391535</td>\n",
              "      <td>-193.344747</td>\n",
              "      <td>39.782929</td>\n",
              "      <td>2.053379</td>\n",
              "      <td>43.425669</td>\n",
              "      <td>61.333502</td>\n",
              "      <td>-68.444143</td>\n",
              "      <td>11.744322</td>\n",
              "    </tr>\n",
              "    <tr>\n",
              "      <th>4</th>\n",
              "      <td>113.445803</td>\n",
              "      <td>-128.244721</td>\n",
              "      <td>33.192723</td>\n",
              "      <td>-0.174060</td>\n",
              "      <td>27.423190</td>\n",
              "      <td>-0.016216</td>\n",
              "      <td>12.954486</td>\n",
              "      <td>11.769958</td>\n",
              "      <td>19.015743</td>\n",
              "      <td>24.997233</td>\n",
              "      <td>...</td>\n",
              "      <td>124.265788</td>\n",
              "      <td>-0.720413</td>\n",
              "      <td>112.345742</td>\n",
              "      <td>-110.548393</td>\n",
              "      <td>28.372783</td>\n",
              "      <td>0.722298</td>\n",
              "      <td>27.511084</td>\n",
              "      <td>36.550147</td>\n",
              "      <td>-35.335935</td>\n",
              "      <td>8.590165</td>\n",
              "    </tr>\n",
              "  </tbody>\n",
              "</table>\n",
              "<p>5 rows × 48 columns</p>\n",
              "</div>\n",
              "      <button class=\"colab-df-convert\" onclick=\"convertToInteractive('df-c77dfd34-001c-415a-a7a0-d64018fd00f8')\"\n",
              "              title=\"Convert this dataframe to an interactive table.\"\n",
              "              style=\"display:none;\">\n",
              "        \n",
              "  <svg xmlns=\"http://www.w3.org/2000/svg\" height=\"24px\"viewBox=\"0 0 24 24\"\n",
              "       width=\"24px\">\n",
              "    <path d=\"M0 0h24v24H0V0z\" fill=\"none\"/>\n",
              "    <path d=\"M18.56 5.44l.94 2.06.94-2.06 2.06-.94-2.06-.94-.94-2.06-.94 2.06-2.06.94zm-11 1L8.5 8.5l.94-2.06 2.06-.94-2.06-.94L8.5 2.5l-.94 2.06-2.06.94zm10 10l.94 2.06.94-2.06 2.06-.94-2.06-.94-.94-2.06-.94 2.06-2.06.94z\"/><path d=\"M17.41 7.96l-1.37-1.37c-.4-.4-.92-.59-1.43-.59-.52 0-1.04.2-1.43.59L10.3 9.45l-7.72 7.72c-.78.78-.78 2.05 0 2.83L4 21.41c.39.39.9.59 1.41.59.51 0 1.02-.2 1.41-.59l7.78-7.78 2.81-2.81c.8-.78.8-2.07 0-2.86zM5.41 20L4 18.59l7.72-7.72 1.47 1.35L5.41 20z\"/>\n",
              "  </svg>\n",
              "      </button>\n",
              "      \n",
              "  <style>\n",
              "    .colab-df-container {\n",
              "      display:flex;\n",
              "      flex-wrap:wrap;\n",
              "      gap: 12px;\n",
              "    }\n",
              "\n",
              "    .colab-df-convert {\n",
              "      background-color: #E8F0FE;\n",
              "      border: none;\n",
              "      border-radius: 50%;\n",
              "      cursor: pointer;\n",
              "      display: none;\n",
              "      fill: #1967D2;\n",
              "      height: 32px;\n",
              "      padding: 0 0 0 0;\n",
              "      width: 32px;\n",
              "    }\n",
              "\n",
              "    .colab-df-convert:hover {\n",
              "      background-color: #E2EBFA;\n",
              "      box-shadow: 0px 1px 2px rgba(60, 64, 67, 0.3), 0px 1px 3px 1px rgba(60, 64, 67, 0.15);\n",
              "      fill: #174EA6;\n",
              "    }\n",
              "\n",
              "    [theme=dark] .colab-df-convert {\n",
              "      background-color: #3B4455;\n",
              "      fill: #D2E3FC;\n",
              "    }\n",
              "\n",
              "    [theme=dark] .colab-df-convert:hover {\n",
              "      background-color: #434B5C;\n",
              "      box-shadow: 0px 1px 3px 1px rgba(0, 0, 0, 0.15);\n",
              "      filter: drop-shadow(0px 1px 2px rgba(0, 0, 0, 0.3));\n",
              "      fill: #FFFFFF;\n",
              "    }\n",
              "  </style>\n",
              "\n",
              "      <script>\n",
              "        const buttonEl =\n",
              "          document.querySelector('#df-c77dfd34-001c-415a-a7a0-d64018fd00f8 button.colab-df-convert');\n",
              "        buttonEl.style.display =\n",
              "          google.colab.kernel.accessAllowed ? 'block' : 'none';\n",
              "\n",
              "        async function convertToInteractive(key) {\n",
              "          const element = document.querySelector('#df-c77dfd34-001c-415a-a7a0-d64018fd00f8');\n",
              "          const dataTable =\n",
              "            await google.colab.kernel.invokeFunction('convertToInteractive',\n",
              "                                                     [key], {});\n",
              "          if (!dataTable) return;\n",
              "\n",
              "          const docLinkHtml = 'Like what you see? Visit the ' +\n",
              "            '<a target=\"_blank\" href=https://colab.research.google.com/notebooks/data_table.ipynb>data table notebook</a>'\n",
              "            + ' to learn more about interactive tables.';\n",
              "          element.innerHTML = '';\n",
              "          dataTable['output_type'] = 'display_data';\n",
              "          await google.colab.output.renderOutput(dataTable, element);\n",
              "          const docLink = document.createElement('div');\n",
              "          docLink.innerHTML = docLinkHtml;\n",
              "          element.appendChild(docLink);\n",
              "        }\n",
              "      </script>\n",
              "    </div>\n",
              "  </div>\n",
              "  "
            ]
          },
          "metadata": {},
          "execution_count": 28
        }
      ],
      "source": [
        "X_new.head()"
      ]
    },
    {
      "cell_type": "code",
      "execution_count": null,
      "id": "11026e36",
      "metadata": {
        "collapsed": true,
        "id": "11026e36",
        "outputId": "a8a5ee23-ecf9-4df1-b882-a1f3a5d94ab4"
      },
      "outputs": [
        {
          "data": {
            "image/png": "[encoded data removed]",
            "text/plain": [
              "<Figure size 1000x1000 with 2 Axes>"
            ]
          },
          "metadata": {},
          "output_type": "display_data"
        }
      ],
      "source": [
        "#checking the number of sample in time domain data\n",
        "# sns.set_style('whitegrid')\n",
        "# plt.figure(figsize = (10, 5))\n",
        "# sns.countplot(x = 'Toolcondition', data = time_feature_all)\n",
        "# plt.title('Number of samples in timedomain dataset')\n",
        "# plt.show()\n",
        "# sns.set_style('whitegrid')\n",
        "# #plt.figure(figsize = (15, 15))\n",
        "# plt.figure(figsize = (10, 10))\n",
        "# plt.subplot(2,1,1)\n",
        "# sns.countplot(x = 'operationcondition', data = wavelet_feature_all)\n",
        "# plt.title('Number of samples in training data')\n",
        "# plt.subplot(2,1,2)\n",
        "# sns.countplot(x = 'operationcondition', data = wavelet_feature_test)\n",
        "# plt.title('Number of samples in test')\n",
        "# plt.show()"
      ]
    },
    {
      "cell_type": "markdown",
      "id": "422e4ab2",
      "metadata": {
        "id": "422e4ab2"
      },
      "source": [
        "# Random Forest Classifier"
      ]
    },
    {
      "cell_type": "code",
      "execution_count": null,
      "id": "a5d81973",
      "metadata": {
        "id": "a5d81973",
        "outputId": "94b0f306-7d3f-4a43-c636-03b902453af4",
        "colab": {
          "base_uri": "https://localhost:8080/"
        }
      },
      "outputs": [
        {
          "output_type": "stream",
          "name": "stderr",
          "text": [
            "[Parallel(n_jobs=1)]: Using backend SequentialBackend with 1 concurrent workers.\n"
          ]
        },
        {
          "output_type": "stream",
          "name": "stdout",
          "text": [
            "Accuracy: 0.9567307692307693\n",
            "\n",
            " -------------Classification Report-------------\n",
            "\n",
            "              precision    recall  f1-score   support\n",
            "\n",
            "     OP01bad       0.95      0.95      0.95        41\n",
            "    OP01good       0.98      0.98      0.98        42\n",
            "     OP02bad       1.00      1.00      1.00        42\n",
            "    OP02good       1.00      0.93      0.96        41\n",
            "     OP04bad       0.95      1.00      0.98        42\n",
            "    OP04good       0.95      0.88      0.91        42\n",
            "     OP07bad       1.00      0.98      0.99        41\n",
            "    OP07good       0.85      0.98      0.91        41\n",
            "     OP10bad       1.00      0.95      0.98        42\n",
            "    OP10good       0.91      0.93      0.92        42\n",
            "\n",
            "    accuracy                           0.96       416\n",
            "   macro avg       0.96      0.96      0.96       416\n",
            "weighted avg       0.96      0.96      0.96       416\n",
            "\n"
          ]
        },
        {
          "output_type": "stream",
          "name": "stderr",
          "text": [
            "[Parallel(n_jobs=1)]: Done 200 out of 200 | elapsed:    2.4s finished\n",
            "[Parallel(n_jobs=1)]: Using backend SequentialBackend with 1 concurrent workers.\n",
            "[Parallel(n_jobs=1)]: Done 200 out of 200 | elapsed:    0.0s finished\n"
          ]
        }
      ],
      "source": [
        "from sklearn.ensemble import RandomForestClassifier\n",
        "from sklearn.pipeline import make_pipeline\n",
        "from sklearn.preprocessing import StandardScaler\n",
        "from sklearn import metrics\n",
        "from sklearn.metrics import accuracy_score\n",
        "from sklearn.metrics import classification_report\n",
        "\n",
        "MODEL = RandomForestClassifier(bootstrap = True, max_depth= 25,min_samples_leaf=1, min_samples_split= 5, n_estimators= 200, random_state = 42, verbose=1)\n",
        "MODEL.fit(X_train, y_train)\n",
        "y_pred = MODEL.predict(X_test)\n",
        "print(\"Accuracy:\", accuracy_score(y_test, y_pred))\n",
        "print(\"\\n -------------Classification Report-------------\\n\")\n",
        "print(classification_report(y_test, y_pred))"
      ]
    },
    {
      "cell_type": "markdown",
      "id": "90e3999e",
      "metadata": {
        "id": "90e3999e"
      },
      "source": [
        "# SUPPORT VECTOR CLASSIFIER (SVC)"
      ]
    },
    {
      "cell_type": "code",
      "execution_count": null,
      "id": "77741075",
      "metadata": {
        "id": "77741075",
        "outputId": "f5d28d00-f40e-408f-c395-e3315e5e4c58",
        "colab": {
          "base_uri": "https://localhost:8080/"
        }
      },
      "outputs": [
        {
          "output_type": "stream",
          "name": "stdout",
          "text": [
            "Accuracy: 0.9447115384615384\n"
          ]
        }
      ],
      "source": [
        "from sklearn.svm import SVC\n",
        "MODEL = make_pipeline(StandardScaler(), SVC(kernel='rbf',C=9,gamma='auto'))\n",
        "MODEL.fit(X_train, y_train)\n",
        "y_pred = MODEL.predict(X_test)\n",
        "print(\"Accuracy:\", accuracy_score(y_test, y_pred))"
      ]
    },
    {
      "cell_type": "markdown",
      "id": "043c5b61",
      "metadata": {
        "id": "043c5b61"
      },
      "source": [
        "# CONFUSION MATRIX"
      ]
    },
    {
      "cell_type": "code",
      "execution_count": null,
      "id": "1abaa85c",
      "metadata": {
        "id": "1abaa85c"
      },
      "outputs": [],
      "source": [
        "labels = wavelet_feature_all['operationcondition'].unique()"
      ]
    },
    {
      "cell_type": "code",
      "execution_count": null,
      "id": "272e9a3d",
      "metadata": {
        "id": "272e9a3d"
      },
      "outputs": [],
      "source": [
        "from sklearn.metrics import confusion_matrix\n",
        "test_confu_matrix = confusion_matrix(y_test,  y_pred)"
      ]
    },
    {
      "cell_type": "code",
      "execution_count": null,
      "id": "8a8e0c6d",
      "metadata": {
        "id": "8a8e0c6d"
      },
      "outputs": [],
      "source": [
        "# confusion matrix\n",
        "import seaborn as sns\n",
        "plt.figure(2,figsize=(3,3))\n",
        "# sns.heatmap(test_confu_matrix, annot = True,\n",
        "# xticklabels=Labels, yticklabels=Labels, cmap = \"Blues\")\n",
        "# plt.title('Test Confusion Matrix')\n",
        "# plt.xlabel('Predicted')\n",
        "# plt.ylabel('True')\n",
        "# plt.show()\n",
        "sns.heatmap(test_confu_matrix, xticklabels=labels, yticklabels=labels, annot=True,linewidths = 0.1, fmt='d', cmap = 'YlGnBu')\n",
        "plt.title('Confusion matrix', fontsize = 15)\n",
        "plt.ylabel('True')\n",
        "plt.xlabel('Predicted')\n",
        "plt.show()"
      ]
    },
    {
      "cell_type": "markdown",
      "id": "5e9c3e40",
      "metadata": {
        "id": "5e9c3e40"
      },
      "source": [
        "# PCA ANALYSIS"
      ]
    },
    {
      "cell_type": "code",
      "source": [
        "#read csv to append the data and reset index\n",
        "#path = '/content/drive/MyDrive/goodbaddatanewbalanced.csv'\n",
        "path = '/content/drive/MyDrive/wavelet_feature_all.csv'\n",
        "masterdata = pd.read_csv(path,sep='\\t')\n",
        "masterdata = masterdata.drop(['Unnamed: 0'], axis = 1)"
      ],
      "metadata": {
        "id": "N3h642Ts0nYJ"
      },
      "id": "N3h642Ts0nYJ",
      "execution_count": null,
      "outputs": []
    },
    {
      "cell_type": "code",
      "source": [
        "df = masterdata"
      ],
      "metadata": {
        "id": "Zw7VOASJ3J3p"
      },
      "id": "Zw7VOASJ3J3p",
      "execution_count": null,
      "outputs": []
    },
    {
      "cell_type": "code",
      "source": [
        "df.head()"
      ],
      "metadata": {
        "colab": {
          "base_uri": "https://localhost:8080/",
          "height": 300
        },
        "id": "TnvelFt_9tP4",
        "outputId": "a77c3787-10c1-4b4c-a834-48e5d8834982"
      },
      "id": "TnvelFt_9tP4",
      "execution_count": null,
      "outputs": [
        {
          "output_type": "execute_result",
          "data": {
            "text/plain": [
              "      Date Machine Operation Condition  Repeat operationcondition  entropyX0  \\\n",
              "0  Aug2019     M01      OP01       bad       0            OP01bad  10.968667   \n",
              "1  Aug2019     M01      OP01       bad       0            OP01bad  10.968667   \n",
              "2  Aug2019     M01      OP01       bad       0            OP01bad  10.968667   \n",
              "3  Aug2019     M01      OP01       bad       0            OP01bad  10.968667   \n",
              "4  Aug2019     M01      OP01       bad       0            OP01bad  10.968667   \n",
              "\n",
              "         maxX0        minX0     meanX0  ...      stdZ6    skewZ6  kurtosisZ6  \\\n",
              "0  1748.760576 -1596.321657  -5.995202  ...  10.459532  0.000376    5.770252   \n",
              "1  1748.157138 -1596.317213  -5.483890  ...  12.402665 -0.001033    3.381353   \n",
              "2  1695.717119 -1453.359468   9.155704  ...  12.688836  0.000688    2.960844   \n",
              "3  1695.717119 -1453.359468  -6.025107  ...  11.744322  0.002810    3.060755   \n",
              "4  1267.135549   -60.357996  47.882420  ...   8.590165  0.000216    0.875512   \n",
              "\n",
              "   entropyZ7       maxZ7       minZ7    meanZ7      stdZ7    skewZ7  \\\n",
              "0  10.968667  103.462369 -105.124027  0.000704  22.844521 -0.000090   \n",
              "1  10.968667  117.090099 -120.086415  0.012720  27.371235  0.000630   \n",
              "2  10.968667  149.767445 -146.516128  0.002283  30.176237  0.000270   \n",
              "3  10.968667  149.767445 -146.516128  0.001119  26.268871  0.000759   \n",
              "4  10.968667   53.760089  -54.646454  0.008865  18.346761  0.000720   \n",
              "\n",
              "   kurtosisZ7  \n",
              "0    1.308826  \n",
              "1    1.095136  \n",
              "2    3.326049  \n",
              "3    5.676652  \n",
              "4   -0.954500  \n",
              "\n",
              "[5 rows x 174 columns]"
            ],
            "text/html": [
              "\n",
              "  <div id=\"df-42deb0b0-e65b-4cda-ab6c-bedc2db86262\">\n",
              "    <div class=\"colab-df-container\">\n",
              "      <div>\n",
              "<style scoped>\n",
              "    .dataframe tbody tr th:only-of-type {\n",
              "        vertical-align: middle;\n",
              "    }\n",
              "\n",
              "    .dataframe tbody tr th {\n",
              "        vertical-align: top;\n",
              "    }\n",
              "\n",
              "    .dataframe thead th {\n",
              "        text-align: right;\n",
              "    }\n",
              "</style>\n",
              "<table border=\"1\" class=\"dataframe\">\n",
              "  <thead>\n",
              "    <tr style=\"text-align: right;\">\n",
              "      <th></th>\n",
              "      <th>Date</th>\n",
              "      <th>Machine</th>\n",
              "      <th>Operation</th>\n",
              "      <th>Condition</th>\n",
              "      <th>Repeat</th>\n",
              "      <th>operationcondition</th>\n",
              "      <th>entropyX0</th>\n",
              "      <th>maxX0</th>\n",
              "      <th>minX0</th>\n",
              "      <th>meanX0</th>\n",
              "      <th>...</th>\n",
              "      <th>stdZ6</th>\n",
              "      <th>skewZ6</th>\n",
              "      <th>kurtosisZ6</th>\n",
              "      <th>entropyZ7</th>\n",
              "      <th>maxZ7</th>\n",
              "      <th>minZ7</th>\n",
              "      <th>meanZ7</th>\n",
              "      <th>stdZ7</th>\n",
              "      <th>skewZ7</th>\n",
              "      <th>kurtosisZ7</th>\n",
              "    </tr>\n",
              "  </thead>\n",
              "  <tbody>\n",
              "    <tr>\n",
              "      <th>0</th>\n",
              "      <td>Aug2019</td>\n",
              "      <td>M01</td>\n",
              "      <td>OP01</td>\n",
              "      <td>bad</td>\n",
              "      <td>0</td>\n",
              "      <td>OP01bad</td>\n",
              "      <td>10.968667</td>\n",
              "      <td>1748.760576</td>\n",
              "      <td>-1596.321657</td>\n",
              "      <td>-5.995202</td>\n",
              "      <td>...</td>\n",
              "      <td>10.459532</td>\n",
              "      <td>0.000376</td>\n",
              "      <td>5.770252</td>\n",
              "      <td>10.968667</td>\n",
              "      <td>103.462369</td>\n",
              "      <td>-105.124027</td>\n",
              "      <td>0.000704</td>\n",
              "      <td>22.844521</td>\n",
              "      <td>-0.000090</td>\n",
              "      <td>1.308826</td>\n",
              "    </tr>\n",
              "    <tr>\n",
              "      <th>1</th>\n",
              "      <td>Aug2019</td>\n",
              "      <td>M01</td>\n",
              "      <td>OP01</td>\n",
              "      <td>bad</td>\n",
              "      <td>0</td>\n",
              "      <td>OP01bad</td>\n",
              "      <td>10.968667</td>\n",
              "      <td>1748.157138</td>\n",
              "      <td>-1596.317213</td>\n",
              "      <td>-5.483890</td>\n",
              "      <td>...</td>\n",
              "      <td>12.402665</td>\n",
              "      <td>-0.001033</td>\n",
              "      <td>3.381353</td>\n",
              "      <td>10.968667</td>\n",
              "      <td>117.090099</td>\n",
              "      <td>-120.086415</td>\n",
              "      <td>0.012720</td>\n",
              "      <td>27.371235</td>\n",
              "      <td>0.000630</td>\n",
              "      <td>1.095136</td>\n",
              "    </tr>\n",
              "    <tr>\n",
              "      <th>2</th>\n",
              "      <td>Aug2019</td>\n",
              "      <td>M01</td>\n",
              "      <td>OP01</td>\n",
              "      <td>bad</td>\n",
              "      <td>0</td>\n",
              "      <td>OP01bad</td>\n",
              "      <td>10.968667</td>\n",
              "      <td>1695.717119</td>\n",
              "      <td>-1453.359468</td>\n",
              "      <td>9.155704</td>\n",
              "      <td>...</td>\n",
              "      <td>12.688836</td>\n",
              "      <td>0.000688</td>\n",
              "      <td>2.960844</td>\n",
              "      <td>10.968667</td>\n",
              "      <td>149.767445</td>\n",
              "      <td>-146.516128</td>\n",
              "      <td>0.002283</td>\n",
              "      <td>30.176237</td>\n",
              "      <td>0.000270</td>\n",
              "      <td>3.326049</td>\n",
              "    </tr>\n",
              "    <tr>\n",
              "      <th>3</th>\n",
              "      <td>Aug2019</td>\n",
              "      <td>M01</td>\n",
              "      <td>OP01</td>\n",
              "      <td>bad</td>\n",
              "      <td>0</td>\n",
              "      <td>OP01bad</td>\n",
              "      <td>10.968667</td>\n",
              "      <td>1695.717119</td>\n",
              "      <td>-1453.359468</td>\n",
              "      <td>-6.025107</td>\n",
              "      <td>...</td>\n",
              "      <td>11.744322</td>\n",
              "      <td>0.002810</td>\n",
              "      <td>3.060755</td>\n",
              "      <td>10.968667</td>\n",
              "      <td>149.767445</td>\n",
              "      <td>-146.516128</td>\n",
              "      <td>0.001119</td>\n",
              "      <td>26.268871</td>\n",
              "      <td>0.000759</td>\n",
              "      <td>5.676652</td>\n",
              "    </tr>\n",
              "    <tr>\n",
              "      <th>4</th>\n",
              "      <td>Aug2019</td>\n",
              "      <td>M01</td>\n",
              "      <td>OP01</td>\n",
              "      <td>bad</td>\n",
              "      <td>0</td>\n",
              "      <td>OP01bad</td>\n",
              "      <td>10.968667</td>\n",
              "      <td>1267.135549</td>\n",
              "      <td>-60.357996</td>\n",
              "      <td>47.882420</td>\n",
              "      <td>...</td>\n",
              "      <td>8.590165</td>\n",
              "      <td>0.000216</td>\n",
              "      <td>0.875512</td>\n",
              "      <td>10.968667</td>\n",
              "      <td>53.760089</td>\n",
              "      <td>-54.646454</td>\n",
              "      <td>0.008865</td>\n",
              "      <td>18.346761</td>\n",
              "      <td>0.000720</td>\n",
              "      <td>-0.954500</td>\n",
              "    </tr>\n",
              "  </tbody>\n",
              "</table>\n",
              "<p>5 rows × 174 columns</p>\n",
              "</div>\n",
              "      <button class=\"colab-df-convert\" onclick=\"convertToInteractive('df-42deb0b0-e65b-4cda-ab6c-bedc2db86262')\"\n",
              "              title=\"Convert this dataframe to an interactive table.\"\n",
              "              style=\"display:none;\">\n",
              "        \n",
              "  <svg xmlns=\"http://www.w3.org/2000/svg\" height=\"24px\"viewBox=\"0 0 24 24\"\n",
              "       width=\"24px\">\n",
              "    <path d=\"M0 0h24v24H0V0z\" fill=\"none\"/>\n",
              "    <path d=\"M18.56 5.44l.94 2.06.94-2.06 2.06-.94-2.06-.94-.94-2.06-.94 2.06-2.06.94zm-11 1L8.5 8.5l.94-2.06 2.06-.94-2.06-.94L8.5 2.5l-.94 2.06-2.06.94zm10 10l.94 2.06.94-2.06 2.06-.94-2.06-.94-.94-2.06-.94 2.06-2.06.94z\"/><path d=\"M17.41 7.96l-1.37-1.37c-.4-.4-.92-.59-1.43-.59-.52 0-1.04.2-1.43.59L10.3 9.45l-7.72 7.72c-.78.78-.78 2.05 0 2.83L4 21.41c.39.39.9.59 1.41.59.51 0 1.02-.2 1.41-.59l7.78-7.78 2.81-2.81c.8-.78.8-2.07 0-2.86zM5.41 20L4 18.59l7.72-7.72 1.47 1.35L5.41 20z\"/>\n",
              "  </svg>\n",
              "      </button>\n",
              "      \n",
              "  <style>\n",
              "    .colab-df-container {\n",
              "      display:flex;\n",
              "      flex-wrap:wrap;\n",
              "      gap: 12px;\n",
              "    }\n",
              "\n",
              "    .colab-df-convert {\n",
              "      background-color: #E8F0FE;\n",
              "      border: none;\n",
              "      border-radius: 50%;\n",
              "      cursor: pointer;\n",
              "      display: none;\n",
              "      fill: #1967D2;\n",
              "      height: 32px;\n",
              "      padding: 0 0 0 0;\n",
              "      width: 32px;\n",
              "    }\n",
              "\n",
              "    .colab-df-convert:hover {\n",
              "      background-color: #E2EBFA;\n",
              "      box-shadow: 0px 1px 2px rgba(60, 64, 67, 0.3), 0px 1px 3px 1px rgba(60, 64, 67, 0.15);\n",
              "      fill: #174EA6;\n",
              "    }\n",
              "\n",
              "    [theme=dark] .colab-df-convert {\n",
              "      background-color: #3B4455;\n",
              "      fill: #D2E3FC;\n",
              "    }\n",
              "\n",
              "    [theme=dark] .colab-df-convert:hover {\n",
              "      background-color: #434B5C;\n",
              "      box-shadow: 0px 1px 3px 1px rgba(0, 0, 0, 0.15);\n",
              "      filter: drop-shadow(0px 1px 2px rgba(0, 0, 0, 0.3));\n",
              "      fill: #FFFFFF;\n",
              "    }\n",
              "  </style>\n",
              "\n",
              "      <script>\n",
              "        const buttonEl =\n",
              "          document.querySelector('#df-42deb0b0-e65b-4cda-ab6c-bedc2db86262 button.colab-df-convert');\n",
              "        buttonEl.style.display =\n",
              "          google.colab.kernel.accessAllowed ? 'block' : 'none';\n",
              "\n",
              "        async function convertToInteractive(key) {\n",
              "          const element = document.querySelector('#df-42deb0b0-e65b-4cda-ab6c-bedc2db86262');\n",
              "          const dataTable =\n",
              "            await google.colab.kernel.invokeFunction('convertToInteractive',\n",
              "                                                     [key], {});\n",
              "          if (!dataTable) return;\n",
              "\n",
              "          const docLinkHtml = 'Like what you see? Visit the ' +\n",
              "            '<a target=\"_blank\" href=https://colab.research.google.com/notebooks/data_table.ipynb>data table notebook</a>'\n",
              "            + ' to learn more about interactive tables.';\n",
              "          element.innerHTML = '';\n",
              "          dataTable['output_type'] = 'display_data';\n",
              "          await google.colab.output.renderOutput(dataTable, element);\n",
              "          const docLink = document.createElement('div');\n",
              "          docLink.innerHTML = docLinkHtml;\n",
              "          element.appendChild(docLink);\n",
              "        }\n",
              "      </script>\n",
              "    </div>\n",
              "  </div>\n",
              "  "
            ]
          },
          "metadata": {},
          "execution_count": 31
        }
      ]
    },
    {
      "cell_type": "code",
      "source": [
        "# df['Repeat'] = df['Repeat'].astype(str)\n",
        "# df['newcol'] = df['Machine'] +  df['Date'] + df['Tool'] + df['Condition'] + df['Repeat']\n",
        "# df = df.reset_index(drop = True)"
      ],
      "metadata": {
        "id": "ZQJoRobc3OR_"
      },
      "id": "ZQJoRobc3OR_",
      "execution_count": null,
      "outputs": []
    },
    {
      "cell_type": "code",
      "source": [
        "# df['newcol'].unique()"
      ],
      "metadata": {
        "id": "BNmZCynn3YuQ"
      },
      "id": "BNmZCynn3YuQ",
      "execution_count": null,
      "outputs": []
    },
    {
      "cell_type": "code",
      "source": [
        "# vf = df[df['newcol']=='M01Aug2019OP01bad0']"
      ],
      "metadata": {
        "id": "7iRhmnH13QoH"
      },
      "id": "7iRhmnH13QoH",
      "execution_count": null,
      "outputs": []
    },
    {
      "cell_type": "code",
      "source": [
        "# vf['operationcondition'] =  vf['Tool']  + vf['Condition']"
      ],
      "metadata": {
        "id": "gbsMBPc_4Ah2"
      },
      "id": "gbsMBPc_4Ah2",
      "execution_count": null,
      "outputs": []
    },
    {
      "cell_type": "code",
      "source": [
        "X = df.drop(df.columns[0:6], axis=1)\n",
        "Y = df['operationcondition']\n",
        "\n",
        "# X = vf[['X', 'Y', 'Z']]#.drop(vf.columns[0:6], axis=1)\n",
        "# Y = vf['operationcondition']"
      ],
      "metadata": {
        "id": "yChiCvZO4_mK"
      },
      "id": "yChiCvZO4_mK",
      "execution_count": null,
      "outputs": []
    },
    {
      "cell_type": "code",
      "source": [
        "X.shape"
      ],
      "metadata": {
        "colab": {
          "base_uri": "https://localhost:8080/"
        },
        "id": "pQeCf91b684y",
        "outputId": "fb9fed01-fc71-4c45-e6ab-f029bf628145"
      },
      "id": "pQeCf91b684y",
      "execution_count": null,
      "outputs": [
        {
          "output_type": "execute_result",
          "data": {
            "text/plain": [
              "(2077, 168)"
            ]
          },
          "metadata": {},
          "execution_count": 38
        }
      ]
    },
    {
      "cell_type": "code",
      "execution_count": null,
      "id": "4d7547e8",
      "metadata": {
        "id": "4d7547e8"
      },
      "outputs": [],
      "source": [
        "from sklearn.preprocessing import StandardScaler\n",
        "from sklearn.decomposition import PCA\n",
        "x = StandardScaler().fit_transform(X)\n",
        "pca = PCA(n_components=1)  #n_components=20\n",
        "principalComponents = pca.fit_transform(x)\n",
        "principalDf = pd.DataFrame(data = principalComponents)\n",
        "# Calculate variance ratios and cumulative variance\n",
        "variance_ratios = pca.explained_variance_ratio_\n",
        "cumulative_variances = np.cumsum(variance_ratios)\n",
        "\n",
        "             #, columns = ['principal component 1', 'principal component 2','principal component 3','principal component 4','principal component 5'])"
      ]
    },
    {
      "cell_type": "code",
      "source": [
        "variance_ratios"
      ],
      "metadata": {
        "colab": {
          "base_uri": "https://localhost:8080/"
        },
        "id": "4SJ2cCpZJF9h",
        "outputId": "627208b2-650d-404a-f147-693ca8264132"
      },
      "id": "4SJ2cCpZJF9h",
      "execution_count": null,
      "outputs": [
        {
          "output_type": "execute_result",
          "data": {
            "text/plain": [
              "array([0.18293982])"
            ]
          },
          "metadata": {},
          "execution_count": 69
        }
      ]
    },
    {
      "cell_type": "code",
      "source": [
        "import matplotlib.pyplot as plt\n",
        "\n",
        "\n",
        "\n",
        "# Plot individual variance as a bar\n",
        "fig, ax1 = plt.subplots()\n",
        "ax1.bar(range(len(variance_ratios)), variance_ratios)\n",
        "ax1.set_ylabel('Individual Variance')\n",
        "\n",
        "# Plot cumulative variance as a line\n",
        "ax2 = ax1.twinx()\n",
        "ax2.plot(range(len(cumulative_variances)), cumulative_variances, '-o', color='red')\n",
        "ax2.set_ylabel('Cumulative Variance', color='red')\n",
        "for tl in ax2.get_yticklabels():\n",
        "    tl.set_color('red')\n",
        "\n",
        "plt.title('Variance Explained by Principal Components')\n",
        "plt.xlabel('Principal Components')\n",
        "plt.show()\n"
      ],
      "metadata": {
        "colab": {
          "base_uri": "https://localhost:8080/",
          "height": 452
        },
        "id": "THx2y85uBFkM",
        "outputId": "2f47b4b8-04b8-4c2f-c39d-93048c5f5bdf"
      },
      "id": "THx2y85uBFkM",
      "execution_count": null,
      "outputs": [
        {
          "output_type": "display_data",
          "data": {
            "text/plain": [
              "<Figure size 640x480 with 2 Axes>"
            ],
            "image/png": "[encoded data removed]"
          },
          "metadata": {}
        }
      ]
    },
    {
      "cell_type": "code",
      "execution_count": null,
      "id": "7c3467ac",
      "metadata": {
        "id": "7c3467ac",
        "colab": {
          "base_uri": "https://localhost:8080/"
        },
        "outputId": "c103699e-e19f-4266-b5bd-30753ab31297"
      },
      "outputs": [
        {
          "output_type": "execute_result",
          "data": {
            "text/plain": [
              "(2077, 150)"
            ]
          },
          "metadata": {},
          "execution_count": 53
        }
      ],
      "source": [
        "principalDf.shape\n"
      ]
    },
    {
      "cell_type": "code",
      "execution_count": null,
      "id": "9b8e5ea9",
      "metadata": {
        "id": "9b8e5ea9",
        "colab": {
          "base_uri": "https://localhost:8080/",
          "height": 369
        },
        "outputId": "6ebaf6ab-5375-4347-9713-f4aee8ed870a"
      },
      "outputs": [
        {
          "output_type": "execute_result",
          "data": {
            "text/plain": [
              "        0         1         2         3         4         5         6    \\\n",
              "0 -4.823692 -0.258663 -0.479321 -0.977463  0.948708 -2.730289  0.187180   \n",
              "1 -4.128607 -0.550643 -0.783677 -0.963576  0.520034 -2.214640  0.836744   \n",
              "2 -3.499920 -0.140127 -0.616918 -0.528731  1.129334 -2.075397  0.346497   \n",
              "3 -4.169066  0.123172 -0.172288  0.123179  1.393810 -2.331014  0.459454   \n",
              "4 -7.822139  0.076067 -0.192706  0.063382  4.988173  1.223990 -0.004346   \n",
              "\n",
              "        7         8         9    ...       140       141       142       143  \\\n",
              "0  0.734067 -0.517980  0.705835  ...  0.015888 -0.012194  0.016268  0.030166   \n",
              "1  0.405131 -0.531477 -0.226439  ...  0.034591 -0.027524  0.012063  0.024068   \n",
              "2 -0.699901 -0.631773 -0.397346  ... -0.022061  0.020793 -0.007314 -0.004977   \n",
              "3 -0.425311 -0.547912  1.034885  ... -0.035506  0.031747 -0.006559 -0.004710   \n",
              "4 -0.317197 -1.816864  1.649929  ...  0.028690 -0.004010 -0.005042  0.011067   \n",
              "\n",
              "            144           145           146           147           148  \\\n",
              "0 -0.000000e+00  0.000000e+00 -0.000000e+00  0.000000e+00 -0.000000e+00   \n",
              "1 -5.592922e-16 -3.653478e-17  1.446606e-17 -1.086172e-15  5.418353e-17   \n",
              "2  4.362239e-18 -2.001438e-16 -3.301457e-16 -6.138200e-16  1.551415e-16   \n",
              "3 -3.526585e-16 -5.059623e-18  1.669181e-16 -5.657218e-16  4.908997e-18   \n",
              "4 -2.577913e-16 -6.356390e-16 -3.863259e-16 -4.301122e-17  1.120924e-16   \n",
              "\n",
              "            149  \n",
              "0 -0.000000e+00  \n",
              "1 -3.801369e-16  \n",
              "2 -3.031119e-16  \n",
              "3  3.969290e-17  \n",
              "4 -5.662602e-16  \n",
              "\n",
              "[5 rows x 150 columns]"
            ],
            "text/html": [
              "\n",
              "  <div id=\"df-25e05959-4cab-4614-aaa5-af98d1b6dabe\">\n",
              "    <div class=\"colab-df-container\">\n",
              "      <div>\n",
              "<style scoped>\n",
              "    .dataframe tbody tr th:only-of-type {\n",
              "        vertical-align: middle;\n",
              "    }\n",
              "\n",
              "    .dataframe tbody tr th {\n",
              "        vertical-align: top;\n",
              "    }\n",
              "\n",
              "    .dataframe thead th {\n",
              "        text-align: right;\n",
              "    }\n",
              "</style>\n",
              "<table border=\"1\" class=\"dataframe\">\n",
              "  <thead>\n",
              "    <tr style=\"text-align: right;\">\n",
              "      <th></th>\n",
              "      <th>0</th>\n",
              "      <th>1</th>\n",
              "      <th>2</th>\n",
              "      <th>3</th>\n",
              "      <th>4</th>\n",
              "      <th>5</th>\n",
              "      <th>6</th>\n",
              "      <th>7</th>\n",
              "      <th>8</th>\n",
              "      <th>9</th>\n",
              "      <th>...</th>\n",
              "      <th>140</th>\n",
              "      <th>141</th>\n",
              "      <th>142</th>\n",
              "      <th>143</th>\n",
              "      <th>144</th>\n",
              "      <th>145</th>\n",
              "      <th>146</th>\n",
              "      <th>147</th>\n",
              "      <th>148</th>\n",
              "      <th>149</th>\n",
              "    </tr>\n",
              "  </thead>\n",
              "  <tbody>\n",
              "    <tr>\n",
              "      <th>0</th>\n",
              "      <td>-4.823692</td>\n",
              "      <td>-0.258663</td>\n",
              "      <td>-0.479321</td>\n",
              "      <td>-0.977463</td>\n",
              "      <td>0.948708</td>\n",
              "      <td>-2.730289</td>\n",
              "      <td>0.187180</td>\n",
              "      <td>0.734067</td>\n",
              "      <td>-0.517980</td>\n",
              "      <td>0.705835</td>\n",
              "      <td>...</td>\n",
              "      <td>0.015888</td>\n",
              "      <td>-0.012194</td>\n",
              "      <td>0.016268</td>\n",
              "      <td>0.030166</td>\n",
              "      <td>-0.000000e+00</td>\n",
              "      <td>0.000000e+00</td>\n",
              "      <td>-0.000000e+00</td>\n",
              "      <td>0.000000e+00</td>\n",
              "      <td>-0.000000e+00</td>\n",
              "      <td>-0.000000e+00</td>\n",
              "    </tr>\n",
              "    <tr>\n",
              "      <th>1</th>\n",
              "      <td>-4.128607</td>\n",
              "      <td>-0.550643</td>\n",
              "      <td>-0.783677</td>\n",
              "      <td>-0.963576</td>\n",
              "      <td>0.520034</td>\n",
              "      <td>-2.214640</td>\n",
              "      <td>0.836744</td>\n",
              "      <td>0.405131</td>\n",
              "      <td>-0.531477</td>\n",
              "      <td>-0.226439</td>\n",
              "      <td>...</td>\n",
              "      <td>0.034591</td>\n",
              "      <td>-0.027524</td>\n",
              "      <td>0.012063</td>\n",
              "      <td>0.024068</td>\n",
              "      <td>-5.592922e-16</td>\n",
              "      <td>-3.653478e-17</td>\n",
              "      <td>1.446606e-17</td>\n",
              "      <td>-1.086172e-15</td>\n",
              "      <td>5.418353e-17</td>\n",
              "      <td>-3.801369e-16</td>\n",
              "    </tr>\n",
              "    <tr>\n",
              "      <th>2</th>\n",
              "      <td>-3.499920</td>\n",
              "      <td>-0.140127</td>\n",
              "      <td>-0.616918</td>\n",
              "      <td>-0.528731</td>\n",
              "      <td>1.129334</td>\n",
              "      <td>-2.075397</td>\n",
              "      <td>0.346497</td>\n",
              "      <td>-0.699901</td>\n",
              "      <td>-0.631773</td>\n",
              "      <td>-0.397346</td>\n",
              "      <td>...</td>\n",
              "      <td>-0.022061</td>\n",
              "      <td>0.020793</td>\n",
              "      <td>-0.007314</td>\n",
              "      <td>-0.004977</td>\n",
              "      <td>4.362239e-18</td>\n",
              "      <td>-2.001438e-16</td>\n",
              "      <td>-3.301457e-16</td>\n",
              "      <td>-6.138200e-16</td>\n",
              "      <td>1.551415e-16</td>\n",
              "      <td>-3.031119e-16</td>\n",
              "    </tr>\n",
              "    <tr>\n",
              "      <th>3</th>\n",
              "      <td>-4.169066</td>\n",
              "      <td>0.123172</td>\n",
              "      <td>-0.172288</td>\n",
              "      <td>0.123179</td>\n",
              "      <td>1.393810</td>\n",
              "      <td>-2.331014</td>\n",
              "      <td>0.459454</td>\n",
              "      <td>-0.425311</td>\n",
              "      <td>-0.547912</td>\n",
              "      <td>1.034885</td>\n",
              "      <td>...</td>\n",
              "      <td>-0.035506</td>\n",
              "      <td>0.031747</td>\n",
              "      <td>-0.006559</td>\n",
              "      <td>-0.004710</td>\n",
              "      <td>-3.526585e-16</td>\n",
              "      <td>-5.059623e-18</td>\n",
              "      <td>1.669181e-16</td>\n",
              "      <td>-5.657218e-16</td>\n",
              "      <td>4.908997e-18</td>\n",
              "      <td>3.969290e-17</td>\n",
              "    </tr>\n",
              "    <tr>\n",
              "      <th>4</th>\n",
              "      <td>-7.822139</td>\n",
              "      <td>0.076067</td>\n",
              "      <td>-0.192706</td>\n",
              "      <td>0.063382</td>\n",
              "      <td>4.988173</td>\n",
              "      <td>1.223990</td>\n",
              "      <td>-0.004346</td>\n",
              "      <td>-0.317197</td>\n",
              "      <td>-1.816864</td>\n",
              "      <td>1.649929</td>\n",
              "      <td>...</td>\n",
              "      <td>0.028690</td>\n",
              "      <td>-0.004010</td>\n",
              "      <td>-0.005042</td>\n",
              "      <td>0.011067</td>\n",
              "      <td>-2.577913e-16</td>\n",
              "      <td>-6.356390e-16</td>\n",
              "      <td>-3.863259e-16</td>\n",
              "      <td>-4.301122e-17</td>\n",
              "      <td>1.120924e-16</td>\n",
              "      <td>-5.662602e-16</td>\n",
              "    </tr>\n",
              "  </tbody>\n",
              "</table>\n",
              "<p>5 rows × 150 columns</p>\n",
              "</div>\n",
              "      <button class=\"colab-df-convert\" onclick=\"convertToInteractive('df-25e05959-4cab-4614-aaa5-af98d1b6dabe')\"\n",
              "              title=\"Convert this dataframe to an interactive table.\"\n",
              "              style=\"display:none;\">\n",
              "        \n",
              "  <svg xmlns=\"http://www.w3.org/2000/svg\" height=\"24px\"viewBox=\"0 0 24 24\"\n",
              "       width=\"24px\">\n",
              "    <path d=\"M0 0h24v24H0V0z\" fill=\"none\"/>\n",
              "    <path d=\"M18.56 5.44l.94 2.06.94-2.06 2.06-.94-2.06-.94-.94-2.06-.94 2.06-2.06.94zm-11 1L8.5 8.5l.94-2.06 2.06-.94-2.06-.94L8.5 2.5l-.94 2.06-2.06.94zm10 10l.94 2.06.94-2.06 2.06-.94-2.06-.94-.94-2.06-.94 2.06-2.06.94z\"/><path d=\"M17.41 7.96l-1.37-1.37c-.4-.4-.92-.59-1.43-.59-.52 0-1.04.2-1.43.59L10.3 9.45l-7.72 7.72c-.78.78-.78 2.05 0 2.83L4 21.41c.39.39.9.59 1.41.59.51 0 1.02-.2 1.41-.59l7.78-7.78 2.81-2.81c.8-.78.8-2.07 0-2.86zM5.41 20L4 18.59l7.72-7.72 1.47 1.35L5.41 20z\"/>\n",
              "  </svg>\n",
              "      </button>\n",
              "      \n",
              "  <style>\n",
              "    .colab-df-container {\n",
              "      display:flex;\n",
              "      flex-wrap:wrap;\n",
              "      gap: 12px;\n",
              "    }\n",
              "\n",
              "    .colab-df-convert {\n",
              "      background-color: #E8F0FE;\n",
              "      border: none;\n",
              "      border-radius: 50%;\n",
              "      cursor: pointer;\n",
              "      display: none;\n",
              "      fill: #1967D2;\n",
              "      height: 32px;\n",
              "      padding: 0 0 0 0;\n",
              "      width: 32px;\n",
              "    }\n",
              "\n",
              "    .colab-df-convert:hover {\n",
              "      background-color: #E2EBFA;\n",
              "      box-shadow: 0px 1px 2px rgba(60, 64, 67, 0.3), 0px 1px 3px 1px rgba(60, 64, 67, 0.15);\n",
              "      fill: #174EA6;\n",
              "    }\n",
              "\n",
              "    [theme=dark] .colab-df-convert {\n",
              "      background-color: #3B4455;\n",
              "      fill: #D2E3FC;\n",
              "    }\n",
              "\n",
              "    [theme=dark] .colab-df-convert:hover {\n",
              "      background-color: #434B5C;\n",
              "      box-shadow: 0px 1px 3px 1px rgba(0, 0, 0, 0.15);\n",
              "      filter: drop-shadow(0px 1px 2px rgba(0, 0, 0, 0.3));\n",
              "      fill: #FFFFFF;\n",
              "    }\n",
              "  </style>\n",
              "\n",
              "      <script>\n",
              "        const buttonEl =\n",
              "          document.querySelector('#df-25e05959-4cab-4614-aaa5-af98d1b6dabe button.colab-df-convert');\n",
              "        buttonEl.style.display =\n",
              "          google.colab.kernel.accessAllowed ? 'block' : 'none';\n",
              "\n",
              "        async function convertToInteractive(key) {\n",
              "          const element = document.querySelector('#df-25e05959-4cab-4614-aaa5-af98d1b6dabe');\n",
              "          const dataTable =\n",
              "            await google.colab.kernel.invokeFunction('convertToInteractive',\n",
              "                                                     [key], {});\n",
              "          if (!dataTable) return;\n",
              "\n",
              "          const docLinkHtml = 'Like what you see? Visit the ' +\n",
              "            '<a target=\"_blank\" href=https://colab.research.google.com/notebooks/data_table.ipynb>data table notebook</a>'\n",
              "            + ' to learn more about interactive tables.';\n",
              "          element.innerHTML = '';\n",
              "          dataTable['output_type'] = 'display_data';\n",
              "          await google.colab.output.renderOutput(dataTable, element);\n",
              "          const docLink = document.createElement('div');\n",
              "          docLink.innerHTML = docLinkHtml;\n",
              "          element.appendChild(docLink);\n",
              "        }\n",
              "      </script>\n",
              "    </div>\n",
              "  </div>\n",
              "  "
            ]
          },
          "metadata": {},
          "execution_count": 54
        }
      ],
      "source": [
        "principalDf.head()"
      ]
    },
    {
      "cell_type": "code",
      "execution_count": null,
      "id": "3873c189",
      "metadata": {
        "id": "3873c189"
      },
      "outputs": [],
      "source": [
        "#TRAIN TEST SPLIT\n",
        "\n",
        "from sklearn.model_selection import train_test_split\n",
        "X_train, X_test, y_train, y_test = train_test_split(principalDf, Y,test_size = 0.2, stratify = Y,\n",
        "                                                                    random_state = 123)\n",
        "print (y_test.value_counts(), y_train.value_counts())"
      ]
    },
    {
      "cell_type": "code",
      "execution_count": null,
      "id": "0a4b07bb",
      "metadata": {
        "collapsed": true,
        "id": "0a4b07bb"
      },
      "outputs": [],
      "source": [
        "MODEL = RandomForestClassifier(bootstrap = True, max_depth= 30,min_samples_leaf=1, min_samples_split= 5, n_estimators= 200, random_state = 42, verbose=1)\n",
        "MODEL.fit(X_train, y_train)\n",
        "y_pred = MODEL.predict(X_test)\n",
        "print(\"Accuracy:\", accuracy_score(y_test, y_pred))\n",
        "print(\"\\n -------------Classification Report-------------\\n\")\n",
        "print(classification_report(y_test, y_pred))"
      ]
    }
  ],
  "metadata": {
    "kernelspec": {
      "display_name": "Python 3 (ipykernel)",
      "language": "python",
      "name": "python3"
    },
    "language_info": {
      "codemirror_mode": {
        "name": "ipython",
        "version": 3
      },
      "file_extension": ".py",
      "mimetype": "text/x-python",
      "name": "python",
      "nbconvert_exporter": "python",
      "pygments_lexer": "ipython3",
      "version": "3.9.13"
    },
    "colab": {
      "provenance": [],
      "include_colab_link": true
    }
  },
  "nbformat": 4,
  "nbformat_minor": 5
}