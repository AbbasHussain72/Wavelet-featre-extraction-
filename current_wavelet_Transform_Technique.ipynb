{
  "cells": [
    {
      "cell_type": "markdown",
      "metadata": {
        "id": "view-in-github",
        "colab_type": "text"
      },
      "source": [
        "<a href=\"https://colab.research.google.com/github/AbbasHussain72/Wavelet-featre-extraction-/blob/main/current_wavelet_Transform_Technique.ipynb\" target=\"_parent\"><img src=\"https://colab.research.google.com/assets/colab-badge.svg\" alt=\"Open In Colab\"/></a>"
      ]
    },
    {
      "cell_type": "code",
      "execution_count": 1,
      "id": "5bc96d7f",
      "metadata": {
        "id": "5bc96d7f"
      },
      "outputs": [],
      "source": [
        "import h5py\n",
        "import pandas as pd\n",
        "import numpy as np\n",
        "import math\n",
        "import matplotlib\n",
        "import matplotlib.pyplot as plt\n",
        "from scipy import stats\n",
        "from matplotlib.widgets import SpanSelector\n",
        "import glob\n",
        "import os\n",
        "import re"
      ]
    },
    {
      "cell_type": "code",
      "source": [
        "import matplotlib as mpl\n",
        "import numpy as np\n",
        "import matplotlib.font_manager as fm\n",
        "from matplotlib import font_manager as fm, pyplot as plt\n",
        "\n",
        "!wget https://github.com/trishume/OpenTuringCompiler/blob/master/stdlib-sfml/fonts/Times%20New%20Roman.ttf\n",
        "!wget https://github.com/matomo-org/travis-scripts/blob/master/fonts/Arial.ttf \n",
        "\n",
        "font_files = fm.findSystemFonts()\n",
        "\n",
        "# Go through and add each to Matplotlib's font cache.\n",
        "for font_file in font_files:\n",
        "    fm.fontManager.addfont(font_file)\n",
        "\n",
        "# Use your new font on all your plots.\n",
        "plt.rc('font', family='Sans-serif ')\n"
      ],
      "metadata": {
        "id": "SRH_z0F8OoIV"
      },
      "id": "SRH_z0F8OoIV",
      "execution_count": null,
      "outputs": []
    },
    {
      "cell_type": "code",
      "source": [
        "from google.colab import drive\n",
        "drive.mount('/content/drive')"
      ],
      "metadata": {
        "colab": {
          "base_uri": "https://localhost:8080/"
        },
        "id": "lua8Ww8vabiJ",
        "outputId": "0e47b685-06c7-43ed-9dfc-88cea354cfb0"
      },
      "id": "lua8Ww8vabiJ",
      "execution_count": 2,
      "outputs": [
        {
          "output_type": "stream",
          "name": "stdout",
          "text": [
            "Mounted at /content/drive\n"
          ]
        }
      ]
    },
    {
      "cell_type": "code",
      "execution_count": 20,
      "id": "0bbec88d",
      "metadata": {
        "id": "0bbec88d"
      },
      "outputs": [],
      "source": [
        "#read csv to append the data and reset index\n",
        "path = '/content/drive/MyDrive/goodbaddatanewbalanced.csv'\n",
        "masterdata = pd.read_csv(path,sep='\\t')\n",
        "masterdata = masterdata.drop(['Unnamed: 0'], axis = 1)"
      ]
    },
    {
      "cell_type": "code",
      "source": [
        "df = masterdata"
      ],
      "metadata": {
        "id": "OCC-cdKwjbnp"
      },
      "id": "OCC-cdKwjbnp",
      "execution_count": 21,
      "outputs": []
    },
    {
      "cell_type": "markdown",
      "source": [
        "# Data Analysis"
      ],
      "metadata": {
        "id": "qoyj9re3gspk"
      },
      "id": "qoyj9re3gspk"
    },
    {
      "cell_type": "code",
      "execution_count": null,
      "id": "a032198b",
      "metadata": {
        "id": "a032198b"
      },
      "outputs": [],
      "source": [
        "#To take interested data\n",
        "# df = masterdata[(masterdata['Tool'] == 'OP01') | (masterdata['Tool'] == 'OP02')| (masterdata['Tool'] == 'OP04')| (masterdata['Tool'] == 'OP07')| (masterdata['Tool'] == 'OP10')]"
      ]
    },
    {
      "cell_type": "code",
      "source": [
        "#Function for balancing the data according to condition, tool and machine\n",
        "# def balance(df,con1,con2,con3):\n",
        "#   v = []\n",
        "#   v = df[(df['Tool'] == con1) & (df['Condition'] == con2)& (df['Machine'] == con3)].index\n",
        "#   f = df[(df['Tool'] == 'OP02') & (df['Condition'] == 'bad') & (df['Machine'] == 'M01')].index\n",
        "\n",
        "\n",
        "#   # h = df[(df['Tool'] == 'con1') & (df['Condition'] == 'con2')].shape\n",
        "#   bb = abs(len(v)- len(f))\n",
        "#   v = v[0:bb]\n",
        "#   new = df.loc[df.index.drop(v)]\n",
        "\n",
        "#   return new"
      ],
      "metadata": {
        "id": "daEUPM-rN_B5"
      },
      "id": "daEUPM-rN_B5",
      "execution_count": null,
      "outputs": []
    },
    {
      "cell_type": "code",
      "source": [
        "# df = balance(df,'OP02','good','M01')\n"
      ],
      "metadata": {
        "id": "1XPTcwu-aC4D"
      },
      "id": "1XPTcwu-aC4D",
      "execution_count": null,
      "outputs": []
    },
    {
      "cell_type": "code",
      "source": [
        "# Grouped the data for bar plot\n",
        "grouped = df.groupby(['Tool', 'Machine', 'Condition']).size().reset_index(name='counts')\n",
        "\n",
        "# Pivot the data to create a stacked bar plot\n",
        "pivot = grouped.pivot_table(index=['Tool', 'Machine'], columns='Condition', values='counts', aggfunc='sum', fill_value=0)\n",
        "\n",
        "# Plot the stacked bar chart\n",
        "colors = {'good': 'blue', 'bad': 'black'}\n",
        "ax = pivot.plot.bar(stacked=True, color=[colors[c] for c in pivot.columns], figsize=(10, 6))\n",
        "\n",
        "# Set the labels for the axes and the title\n",
        "ax.set_xlabel('Tool, Machine')\n",
        "ax.set_ylabel('Counts')\n",
        "ax.set_title('Counts of Good and Bad Conditions for Tools and Machines')\n",
        "\n",
        "# Show the plot\n",
        "plt.show()\n"
      ],
      "metadata": {
        "colab": {
          "base_uri": "https://localhost:8080/",
          "height": 636
        },
        "id": "CEuoEzNG_D05",
        "outputId": "db58f043-4f43-4ffb-c7f3-10b910fc28a1"
      },
      "id": "CEuoEzNG_D05",
      "execution_count": null,
      "outputs": [
        {
          "output_type": "display_data",
          "data": {
            "text/plain": [
              "<Figure size 1000x600 with 1 Axes>"
            ],
            "image/png": "[encoded data removed]"
          },
          "metadata": {}
        }
      ]
    },
    {
      "cell_type": "code",
      "source": [
        "import seaborn as sns\n",
        "# Create a grouped bar chart\n",
        "sns.catplot(x=\"Machine\", y=\"counts\", hue=\"Condition\", col=\"Tool\", data=grouped, kind=\"bar\", height=4, aspect=.7)\n"
      ],
      "metadata": {
        "id": "rXHwPxqx-KmL",
        "outputId": "91b97f56-68fa-47d9-8f00-c692fb1a6068",
        "colab": {
          "base_uri": "https://localhost:8080/",
          "height": 283
        }
      },
      "id": "rXHwPxqx-KmL",
      "execution_count": null,
      "outputs": [
        {
          "output_type": "execute_result",
          "data": {
            "text/plain": [
              "<seaborn.axisgrid.FacetGrid at 0x7fd63e09ed30>"
            ]
          },
          "metadata": {},
          "execution_count": 26
        },
        {
          "output_type": "display_data",
          "data": {
            "text/plain": [
              "<Figure size 1484.75x400 with 5 Axes>"
            ],
            "image/png": "[encoded data removed]"
          },
          "metadata": {}
        }
      ]
    },
    {
      "cell_type": "code",
      "execution_count": null,
      "id": "a9e2fee9",
      "metadata": {
        "id": "a9e2fee9",
        "outputId": "2ac5aa78-d81c-4eec-be5a-2401bf45de7c",
        "colab": {
          "base_uri": "https://localhost:8080/",
          "height": 395
        }
      },
      "outputs": [
        {
          "output_type": "display_data",
          "data": {
            "text/plain": [
              "<Figure size 700x400 with 1 Axes>"
            ],
            "image/png": "[encoded data removed]"
          },
          "metadata": {}
        }
      ],
      "source": [
        "#plotting the data\n",
        "import seaborn as sns\n",
        "from scipy import stats\n",
        "from scipy.signal import find_peaks\n",
        "sns.set_style('whitegrid')\n",
        "plt.figure(figsize = (7, 4),facecolor=(1, 1, 1))\n",
        "# Use your new font on all your plots.\n",
        "plt.rc('font', family='serif ')\n",
        "#plot\n",
        "sns.countplot(x = 'Tool',hue = 'Condition',data = df,palette=['blue', 'green'])\n",
        "#plt.title('Number of samples', fontsize=16)\n",
        "plt.xlabel('Tool Operations', fontsize=14)\n",
        "plt.ylabel('# Number of samples', fontsize=14)\n",
        "plt.xticks(fontsize=12)\n",
        "plt.yticks(fontsize=12)\n",
        "plt.grid(False)\n",
        "\n",
        "# Set the limits of the x and y axes\n",
        "#plt.xlim(left=-0.5, right=2.5)\n",
        "plt.ylim(bottom=0, top=260000)\n",
        "\n",
        "# Get the current legend handles and labels\n",
        "handles, labels = plt.gca().get_legend_handles_labels()\n",
        "\n",
        "# Modify the labels\n",
        "labels[0] = 'OK'\n",
        "labels[1] = 'NOK'\n",
        "# labels[2] = 'M03'\n",
        "\n",
        "# Create a new legend with the modified labels\n",
        "plt.legend(handles, labels, fontsize = 14,ncol=3,edgecolor='None')\n",
        "\n",
        "\n",
        "# plt.savefig('databar_machine.tiff', dpi=300, bbox_inches=\"tight\")\n",
        "# plt.close()\n",
        "plt.show()\n"
      ]
    },
    {
      "cell_type": "code",
      "source": [
        "#Plotting the time series data sample\n",
        "ff = masterdata[(masterdata['Tool'] == 'OP01') & (masterdata['Machine'] == 'M01')& (masterdata['Condition'] == 'good') & (masterdata['Repeat'] == 4)]\n",
        "ff = ff.reset_index(drop = True)"
      ],
      "metadata": {
        "id": "I3w2LEt6ORVT"
      },
      "id": "I3w2LEt6ORVT",
      "execution_count": null,
      "outputs": []
    },
    {
      "cell_type": "code",
      "source": [
        "# subtracting the value to get zero starting value\n",
        "ff.loc[:, 'Time (s)'] = ff['Time (s)'] - 4.9440\n",
        "ff = ff.copy()"
      ],
      "metadata": {
        "id": "NZYbz9tN198V"
      },
      "id": "NZYbz9tN198V",
      "execution_count": null,
      "outputs": []
    },
    {
      "cell_type": "code",
      "source": [
        "# plt.rcParams['font.family']"
      ],
      "metadata": {
        "id": "JeCD2MU4Z1rv",
        "outputId": "e1bb6a7e-7c23-4861-ed8d-ca71e20ab02b",
        "colab": {
          "base_uri": "https://localhost:8080/"
        }
      },
      "id": "JeCD2MU4Z1rv",
      "execution_count": null,
      "outputs": [
        {
          "output_type": "execute_result",
          "data": {
            "text/plain": [
              "['serif']"
            ]
          },
          "metadata": {},
          "execution_count": 9
        }
      ]
    },
    {
      "cell_type": "code",
      "source": [
        "import matplotlib.pyplot as plt\n",
        "# Create a figure with 3 subplots arranged vertically\n",
        "fig, axs = plt.subplots(nrows=3, ncols=1, figsize=(8, 8))\n",
        "\n",
        "# Plot data in each subplot\n",
        "axs[0].plot(ff['Time (s)'], ff['X'])\n",
        "axs[1].plot(ff['Time (s)'], ff['Y'])\n",
        "axs[2].plot(ff['Time (s)'], ff['Z'])\n",
        "\n",
        "# set the axis limit\n",
        "axs[0].set_xlim(0,15)\n",
        "axs[1].set_xlim(0,15)\n",
        "axs[2].set_xlim(0,15)\n",
        "axs[0].set_ylim(-2000,2000)\n",
        "axs[1].set_ylim(-1000,1000)\n",
        "axs[2].set_ylim(-2000,0)\n",
        "\n",
        "# set label\n",
        "axs[0].set_xlabel('Time (sec)', fontsize=14)\n",
        "axs[0].set_ylabel('X-axis', fontsize=14)\n",
        "axs[1].set_xlabel('Time (sec)', fontsize=14)\n",
        "axs[1].set_ylabel('Y-axis', fontsize=14)\n",
        "axs[2].set_xlabel('Time (sec)', fontsize=14)\n",
        "axs[2].set_ylabel('Z-axis', fontsize=14)\n",
        "\n",
        "# set font size of tick labels\n",
        "axs[0].tick_params(axis='both', labelsize=12)\n",
        "axs[1].tick_params(axis='both', labelsize=12)\n",
        "axs[2].tick_params(axis='both', labelsize=12)\n",
        "\n",
        "# remove grid lines from subplot\n",
        "axs[0].grid(False)\n",
        "axs[1].grid(False)\n",
        "axs[2].grid(False)\n",
        "\n",
        "# Set the overall title of the figure\n",
        "#fig.suptitle('Three subplots', fontsize=16)\n",
        "\n",
        "# Adjust the spacing between subplots\n",
        "plt.subplots_adjust(hspace=0.4)\n",
        "\n",
        "# Show the plot\n",
        "plt.show()\n",
        "\n",
        "# Save the plot in TIFF format with a resolution of 300 pixels and transparent background\n",
        "# plt.savefig('plotsample.tiff', dpi=300, format='tiff', transparent=True)\n",
        "\n",
        "plt.clf()\n"
      ],
      "metadata": {
        "id": "ecL-Kvnpx9xz",
        "outputId": "7eb85ec9-d4e5-4b66-fb57-6590ae863508",
        "colab": {
          "base_uri": "https://localhost:8080/",
          "height": 34
        }
      },
      "id": "ecL-Kvnpx9xz",
      "execution_count": null,
      "outputs": [
        {
          "output_type": "display_data",
          "data": {
            "text/plain": [
              "<Figure size 800x800 with 0 Axes>"
            ]
          },
          "metadata": {}
        }
      ]
    },
    {
      "cell_type": "code",
      "source": [
        "# plt.close()"
      ],
      "metadata": {
        "id": "sTz5Ewq_kzat",
        "outputId": "2d857272-b5cd-4ff0-da40-34784f368700",
        "colab": {
          "base_uri": "https://localhost:8080/",
          "height": 34
        }
      },
      "id": "sTz5Ewq_kzat",
      "execution_count": null,
      "outputs": [
        {
          "output_type": "display_data",
          "data": {
            "text/plain": [
              "<Figure size 640x480 with 0 Axes>"
            ]
          },
          "metadata": {}
        }
      ]
    },
    {
      "cell_type": "code",
      "source": [
        "# df.to_csv('goodbaddatanewbalanced.csv', sep='\\t') # relative position"
      ],
      "metadata": {
        "id": "T0MIDQLnp7cX"
      },
      "id": "T0MIDQLnp7cX",
      "execution_count": null,
      "outputs": []
    },
    {
      "cell_type": "markdown",
      "source": [],
      "metadata": {
        "id": "K8HYuFZn0b39"
      },
      "id": "K8HYuFZn0b39"
    },
    {
      "cell_type": "markdown",
      "source": [
        "# FFT of the signal for decomposition level selection "
      ],
      "metadata": {
        "id": "u4aR07760ebw"
      },
      "id": "u4aR07760ebw"
    },
    {
      "cell_type": "code",
      "source": [
        "#Plotting the time series data sample\n",
        "# ff = masterdata[(masterdata['Tool'] == 'OP02') & (masterdata['Machine'] == 'M01')& (masterdata['Condition'] == 'good')]\n",
        "ff = masterdata[(masterdata['Tool'] == 'OP02') & (masterdata['Machine'] == 'M01')& (masterdata['Condition'] == 'bad') & (masterdata['Repeat'] == 0)]\n",
        "ff = ff.reset_index(drop = True)"
      ],
      "metadata": {
        "id": "R-LLXS7K0oRh"
      },
      "id": "R-LLXS7K0oRh",
      "execution_count": 55,
      "outputs": []
    },
    {
      "cell_type": "code",
      "source": [
        "ff.Repeat.unique()"
      ],
      "metadata": {
        "colab": {
          "base_uri": "https://localhost:8080/"
        },
        "id": "EGNKjdft6nsQ",
        "outputId": "318dd5db-c2a5-4b08-bee9-98363c407a84"
      },
      "id": "EGNKjdft6nsQ",
      "execution_count": 56,
      "outputs": [
        {
          "output_type": "execute_result",
          "data": {
            "text/plain": [
              "array([0])"
            ]
          },
          "metadata": {},
          "execution_count": 56
        }
      ]
    },
    {
      "cell_type": "code",
      "source": [
        "ff.head()"
      ],
      "metadata": {
        "colab": {
          "base_uri": "https://localhost:8080/",
          "height": 206
        },
        "id": "pBDNkl1p2Ibh",
        "outputId": "83d83136-3862-4be6-d804-bbb671a74c1c"
      },
      "id": "pBDNkl1p2Ibh",
      "execution_count": 57,
      "outputs": [
        {
          "output_type": "execute_result",
          "data": {
            "text/plain": [
              "  Machine     Date  Tool Condition  Repeat  Time (s)     X      Y       Z\n",
              "0     M01  Feb2019  OP02       bad       0    0.0000  27.0  103.0 -1116.0\n",
              "1     M01  Feb2019  OP02       bad       0    0.0005  29.0 -304.0 -1134.0\n",
              "2     M01  Feb2019  OP02       bad       0    0.0010 -91.0  -80.0  -964.0\n",
              "3     M01  Feb2019  OP02       bad       0    0.0015 -97.0  234.0  -954.0\n",
              "4     M01  Feb2019  OP02       bad       0    0.0020 -17.0   97.0 -1030.0"
            ],
            "text/html": [
              "\n",
              "  <div id=\"df-f1abcdab-f742-4497-8508-dc81844f4b54\">\n",
              "    <div class=\"colab-df-container\">\n",
              "      <div>\n",
              "<style scoped>\n",
              "    .dataframe tbody tr th:only-of-type {\n",
              "        vertical-align: middle;\n",
              "    }\n",
              "\n",
              "    .dataframe tbody tr th {\n",
              "        vertical-align: top;\n",
              "    }\n",
              "\n",
              "    .dataframe thead th {\n",
              "        text-align: right;\n",
              "    }\n",
              "</style>\n",
              "<table border=\"1\" class=\"dataframe\">\n",
              "  <thead>\n",
              "    <tr style=\"text-align: right;\">\n",
              "      <th></th>\n",
              "      <th>Machine</th>\n",
              "      <th>Date</th>\n",
              "      <th>Tool</th>\n",
              "      <th>Condition</th>\n",
              "      <th>Repeat</th>\n",
              "      <th>Time (s)</th>\n",
              "      <th>X</th>\n",
              "      <th>Y</th>\n",
              "      <th>Z</th>\n",
              "    </tr>\n",
              "  </thead>\n",
              "  <tbody>\n",
              "    <tr>\n",
              "      <th>0</th>\n",
              "      <td>M01</td>\n",
              "      <td>Feb2019</td>\n",
              "      <td>OP02</td>\n",
              "      <td>bad</td>\n",
              "      <td>0</td>\n",
              "      <td>0.0000</td>\n",
              "      <td>27.0</td>\n",
              "      <td>103.0</td>\n",
              "      <td>-1116.0</td>\n",
              "    </tr>\n",
              "    <tr>\n",
              "      <th>1</th>\n",
              "      <td>M01</td>\n",
              "      <td>Feb2019</td>\n",
              "      <td>OP02</td>\n",
              "      <td>bad</td>\n",
              "      <td>0</td>\n",
              "      <td>0.0005</td>\n",
              "      <td>29.0</td>\n",
              "      <td>-304.0</td>\n",
              "      <td>-1134.0</td>\n",
              "    </tr>\n",
              "    <tr>\n",
              "      <th>2</th>\n",
              "      <td>M01</td>\n",
              "      <td>Feb2019</td>\n",
              "      <td>OP02</td>\n",
              "      <td>bad</td>\n",
              "      <td>0</td>\n",
              "      <td>0.0010</td>\n",
              "      <td>-91.0</td>\n",
              "      <td>-80.0</td>\n",
              "      <td>-964.0</td>\n",
              "    </tr>\n",
              "    <tr>\n",
              "      <th>3</th>\n",
              "      <td>M01</td>\n",
              "      <td>Feb2019</td>\n",
              "      <td>OP02</td>\n",
              "      <td>bad</td>\n",
              "      <td>0</td>\n",
              "      <td>0.0015</td>\n",
              "      <td>-97.0</td>\n",
              "      <td>234.0</td>\n",
              "      <td>-954.0</td>\n",
              "    </tr>\n",
              "    <tr>\n",
              "      <th>4</th>\n",
              "      <td>M01</td>\n",
              "      <td>Feb2019</td>\n",
              "      <td>OP02</td>\n",
              "      <td>bad</td>\n",
              "      <td>0</td>\n",
              "      <td>0.0020</td>\n",
              "      <td>-17.0</td>\n",
              "      <td>97.0</td>\n",
              "      <td>-1030.0</td>\n",
              "    </tr>\n",
              "  </tbody>\n",
              "</table>\n",
              "</div>\n",
              "      <button class=\"colab-df-convert\" onclick=\"convertToInteractive('df-f1abcdab-f742-4497-8508-dc81844f4b54')\"\n",
              "              title=\"Convert this dataframe to an interactive table.\"\n",
              "              style=\"display:none;\">\n",
              "        \n",
              "  <svg xmlns=\"http://www.w3.org/2000/svg\" height=\"24px\"viewBox=\"0 0 24 24\"\n",
              "       width=\"24px\">\n",
              "    <path d=\"M0 0h24v24H0V0z\" fill=\"none\"/>\n",
              "    <path d=\"M18.56 5.44l.94 2.06.94-2.06 2.06-.94-2.06-.94-.94-2.06-.94 2.06-2.06.94zm-11 1L8.5 8.5l.94-2.06 2.06-.94-2.06-.94L8.5 2.5l-.94 2.06-2.06.94zm10 10l.94 2.06.94-2.06 2.06-.94-2.06-.94-.94-2.06-.94 2.06-2.06.94z\"/><path d=\"M17.41 7.96l-1.37-1.37c-.4-.4-.92-.59-1.43-.59-.52 0-1.04.2-1.43.59L10.3 9.45l-7.72 7.72c-.78.78-.78 2.05 0 2.83L4 21.41c.39.39.9.59 1.41.59.51 0 1.02-.2 1.41-.59l7.78-7.78 2.81-2.81c.8-.78.8-2.07 0-2.86zM5.41 20L4 18.59l7.72-7.72 1.47 1.35L5.41 20z\"/>\n",
              "  </svg>\n",
              "      </button>\n",
              "      \n",
              "  <style>\n",
              "    .colab-df-container {\n",
              "      display:flex;\n",
              "      flex-wrap:wrap;\n",
              "      gap: 12px;\n",
              "    }\n",
              "\n",
              "    .colab-df-convert {\n",
              "      background-color: #E8F0FE;\n",
              "      border: none;\n",
              "      border-radius: 50%;\n",
              "      cursor: pointer;\n",
              "      display: none;\n",
              "      fill: #1967D2;\n",
              "      height: 32px;\n",
              "      padding: 0 0 0 0;\n",
              "      width: 32px;\n",
              "    }\n",
              "\n",
              "    .colab-df-convert:hover {\n",
              "      background-color: #E2EBFA;\n",
              "      box-shadow: 0px 1px 2px rgba(60, 64, 67, 0.3), 0px 1px 3px 1px rgba(60, 64, 67, 0.15);\n",
              "      fill: #174EA6;\n",
              "    }\n",
              "\n",
              "    [theme=dark] .colab-df-convert {\n",
              "      background-color: #3B4455;\n",
              "      fill: #D2E3FC;\n",
              "    }\n",
              "\n",
              "    [theme=dark] .colab-df-convert:hover {\n",
              "      background-color: #434B5C;\n",
              "      box-shadow: 0px 1px 3px 1px rgba(0, 0, 0, 0.15);\n",
              "      filter: drop-shadow(0px 1px 2px rgba(0, 0, 0, 0.3));\n",
              "      fill: #FFFFFF;\n",
              "    }\n",
              "  </style>\n",
              "\n",
              "      <script>\n",
              "        const buttonEl =\n",
              "          document.querySelector('#df-f1abcdab-f742-4497-8508-dc81844f4b54 button.colab-df-convert');\n",
              "        buttonEl.style.display =\n",
              "          google.colab.kernel.accessAllowed ? 'block' : 'none';\n",
              "\n",
              "        async function convertToInteractive(key) {\n",
              "          const element = document.querySelector('#df-f1abcdab-f742-4497-8508-dc81844f4b54');\n",
              "          const dataTable =\n",
              "            await google.colab.kernel.invokeFunction('convertToInteractive',\n",
              "                                                     [key], {});\n",
              "          if (!dataTable) return;\n",
              "\n",
              "          const docLinkHtml = 'Like what you see? Visit the ' +\n",
              "            '<a target=\"_blank\" href=https://colab.research.google.com/notebooks/data_table.ipynb>data table notebook</a>'\n",
              "            + ' to learn more about interactive tables.';\n",
              "          element.innerHTML = '';\n",
              "          dataTable['output_type'] = 'display_data';\n",
              "          await google.colab.output.renderOutput(dataTable, element);\n",
              "          const docLink = document.createElement('div');\n",
              "          docLink.innerHTML = docLinkHtml;\n",
              "          element.appendChild(docLink);\n",
              "        }\n",
              "      </script>\n",
              "    </div>\n",
              "  </div>\n",
              "  "
            ]
          },
          "metadata": {},
          "execution_count": 57
        }
      ]
    },
    {
      "cell_type": "code",
      "source": [
        "from scipy.fftpack import fft, ifft\n",
        "def extract_fft_peak_frequency(data, sampling_rate):\n",
        "    fft_data = np.fft.fft(data)\n",
        "    N = len(fft_data)\n",
        "    n = np.arange(N)\n",
        "    T = N/sampling_rate\n",
        "    freq = n/T \n",
        "    freqs = np.fft.fftfreq(len(data))\n",
        "    \n",
        "    peak_coefficient = np.argmax(np.abs(fft_data))\n",
        "    peak_freq = freqs[peak_coefficient]\n",
        "    peak_ampl = fft_data[peak_coefficient]\n",
        "    a = abs(peak_freq * sampling_rate)\n",
        "    b= abs(peak_ampl)\n",
        "    \n",
        "    \n",
        "    \n",
        "    # all_coefficient = (np.abs(fft_data) > 1000)\n",
        "    # all_freq = freqs[all_coefficient]\n",
        "    # all_ampl = fft_data[all_coefficient]\n",
        "    \n",
        "    # c = abs(all_freq * sampling_rate)\n",
        "#     c = list(np.unique(c))\n",
        "    \n",
        "    # d = abs(all_ampl)\n",
        "#     d = list(np.unique(d))\n",
        "    \n",
        "#     for i in range(1, (abs (len(a_amp) - len(a_fre)))+1):\n",
        "#         del d[-i]\n",
        "    \n",
        "    return [a,b,N,freq,fft_data,T]\n"
      ],
      "metadata": {
        "id": "GhsXv_A-1DLY"
      },
      "id": "GhsXv_A-1DLY",
      "execution_count": 16,
      "outputs": []
    },
    {
      "cell_type": "code",
      "source": [
        "#Signal FFT\n",
        "from scipy import signal\n",
        "\n",
        "sr = 2000\n",
        "x = ff['X'].values\n",
        "[p_fre,p_amp,N,freq,XX,T]= extract_fft_peak_frequency(x, sr)\n",
        "# rms_ori = np.sqrt(np.mean(x**2))\n",
        "\n",
        "# for raw data Get the one-sided specturm -->\n",
        "n_oneside = N//2\n",
        "# get the one side frequency -->\n",
        "f_oneside = freq[:n_oneside]\n",
        "\n",
        "\n",
        "# sos = signal.butter(2, p_fre, 'hp', fs=sr, output='sos')\n",
        "# filtered = signal.sosfilt(sos, x)\n",
        "# rms_filt = np.sqrt(np.mean(filtered**2))\n",
        "# [f_p_fre,f_p_amp,f_a_fre,f_a_amp,f_N,f_freq,f_X]= extract_fft_peak_frequency(filtered, sr)\n",
        "\n",
        "# print(p_fre)\n",
        "# print(p_amp)"
      ],
      "metadata": {
        "id": "eAgGW3uo1yWf"
      },
      "id": "eAgGW3uo1yWf",
      "execution_count": 58,
      "outputs": []
    },
    {
      "cell_type": "code",
      "source": [
        "#Ploting\n",
        "fig = plt.figure(figsize=(5,3),facecolor=(1, 1, 1))\n",
        "plt.rcParams.update({'font.size':15})\n",
        "plt.rc('axes', labelsize=15)  \n",
        "plt.stem(f_oneside, np.abs(XX[:n_oneside]), 'b',markerfmt=\" \", basefmt=\"b\")\n",
        "plt.xlabel('Frequency (Hz)')\n",
        "plt.ylabel('FFT Amplitude |X(freq)|')\n",
        "plt.xlim(0,1000)\n",
        "# plt.xlim(10,1000)\n",
        "plt.grid(False)\n",
        "plt.show()\n",
        "\n",
        "\n",
        "#ax.legend(loc=1)\n",
        "# fig.savefig('fft.png', dpi=300, bbox_inches=\"tight\")"
      ],
      "metadata": {
        "colab": {
          "base_uri": "https://localhost:8080/",
          "height": 343
        },
        "id": "ZUP40y0V3cu4",
        "outputId": "237a8c2c-8d37-4349-f85d-7ea0e30de30f"
      },
      "id": "ZUP40y0V3cu4",
      "execution_count": 59,
      "outputs": [
        {
          "output_type": "display_data",
          "data": {
            "text/plain": [
              "<Figure size 500x300 with 1 Axes>"
            ],
            "image/png": "[encoded data removed]"
          },
          "metadata": {}
        }
      ]
    },
    {
      "cell_type": "markdown",
      "id": "7f40ba41",
      "metadata": {
        "id": "7f40ba41"
      },
      "source": [
        "# Feature Extraction using Wavelet Packet Analysis"
      ]
    },
    {
      "cell_type": "code",
      "execution_count": 5,
      "id": "33a62338",
      "metadata": {
        "id": "33a62338"
      },
      "outputs": [],
      "source": [
        "df['Repeat'] = df['Repeat'].astype(str)\n",
        "df['newcol'] = df['Machine'] +  df['Date'] + df['Tool'] + df['Condition'] + df['Repeat']\n",
        "df = df.reset_index(drop = True)"
      ]
    },
    {
      "cell_type": "code",
      "execution_count": 6,
      "id": "99227e45",
      "metadata": {
        "id": "99227e45",
        "outputId": "cf91fd4d-46c0-41e9-fe56-e26eb5fd6d64",
        "colab": {
          "base_uri": "https://localhost:8080/",
          "height": 206
        }
      },
      "outputs": [
        {
          "output_type": "execute_result",
          "data": {
            "text/plain": [
              "  Machine     Date  Tool Condition Repeat  Time (s)      X      Y       Z  \\\n",
              "0     M01  Aug2019  OP01       bad      0    7.1765  296.0 -111.0  -761.0   \n",
              "1     M01  Aug2019  OP01       bad      0    7.1770   58.0  353.0  -704.0   \n",
              "2     M01  Aug2019  OP01       bad      0    7.1775  142.0  402.0  -917.0   \n",
              "3     M01  Aug2019  OP01       bad      0    7.1780   27.0  253.0 -1171.0   \n",
              "4     M01  Aug2019  OP01       bad      0    7.1785   68.0   46.0 -1255.0   \n",
              "\n",
              "               newcol  \n",
              "0  M01Aug2019OP01bad0  \n",
              "1  M01Aug2019OP01bad0  \n",
              "2  M01Aug2019OP01bad0  \n",
              "3  M01Aug2019OP01bad0  \n",
              "4  M01Aug2019OP01bad0  "
            ],
            "text/html": [
              "\n",
              "  <div id=\"df-85690ac5-ab60-4c9b-9465-43e6c75aadcf\">\n",
              "    <div class=\"colab-df-container\">\n",
              "      <div>\n",
              "<style scoped>\n",
              "    .dataframe tbody tr th:only-of-type {\n",
              "        vertical-align: middle;\n",
              "    }\n",
              "\n",
              "    .dataframe tbody tr th {\n",
              "        vertical-align: top;\n",
              "    }\n",
              "\n",
              "    .dataframe thead th {\n",
              "        text-align: right;\n",
              "    }\n",
              "</style>\n",
              "<table border=\"1\" class=\"dataframe\">\n",
              "  <thead>\n",
              "    <tr style=\"text-align: right;\">\n",
              "      <th></th>\n",
              "      <th>Machine</th>\n",
              "      <th>Date</th>\n",
              "      <th>Tool</th>\n",
              "      <th>Condition</th>\n",
              "      <th>Repeat</th>\n",
              "      <th>Time (s)</th>\n",
              "      <th>X</th>\n",
              "      <th>Y</th>\n",
              "      <th>Z</th>\n",
              "      <th>newcol</th>\n",
              "    </tr>\n",
              "  </thead>\n",
              "  <tbody>\n",
              "    <tr>\n",
              "      <th>0</th>\n",
              "      <td>M01</td>\n",
              "      <td>Aug2019</td>\n",
              "      <td>OP01</td>\n",
              "      <td>bad</td>\n",
              "      <td>0</td>\n",
              "      <td>7.1765</td>\n",
              "      <td>296.0</td>\n",
              "      <td>-111.0</td>\n",
              "      <td>-761.0</td>\n",
              "      <td>M01Aug2019OP01bad0</td>\n",
              "    </tr>\n",
              "    <tr>\n",
              "      <th>1</th>\n",
              "      <td>M01</td>\n",
              "      <td>Aug2019</td>\n",
              "      <td>OP01</td>\n",
              "      <td>bad</td>\n",
              "      <td>0</td>\n",
              "      <td>7.1770</td>\n",
              "      <td>58.0</td>\n",
              "      <td>353.0</td>\n",
              "      <td>-704.0</td>\n",
              "      <td>M01Aug2019OP01bad0</td>\n",
              "    </tr>\n",
              "    <tr>\n",
              "      <th>2</th>\n",
              "      <td>M01</td>\n",
              "      <td>Aug2019</td>\n",
              "      <td>OP01</td>\n",
              "      <td>bad</td>\n",
              "      <td>0</td>\n",
              "      <td>7.1775</td>\n",
              "      <td>142.0</td>\n",
              "      <td>402.0</td>\n",
              "      <td>-917.0</td>\n",
              "      <td>M01Aug2019OP01bad0</td>\n",
              "    </tr>\n",
              "    <tr>\n",
              "      <th>3</th>\n",
              "      <td>M01</td>\n",
              "      <td>Aug2019</td>\n",
              "      <td>OP01</td>\n",
              "      <td>bad</td>\n",
              "      <td>0</td>\n",
              "      <td>7.1780</td>\n",
              "      <td>27.0</td>\n",
              "      <td>253.0</td>\n",
              "      <td>-1171.0</td>\n",
              "      <td>M01Aug2019OP01bad0</td>\n",
              "    </tr>\n",
              "    <tr>\n",
              "      <th>4</th>\n",
              "      <td>M01</td>\n",
              "      <td>Aug2019</td>\n",
              "      <td>OP01</td>\n",
              "      <td>bad</td>\n",
              "      <td>0</td>\n",
              "      <td>7.1785</td>\n",
              "      <td>68.0</td>\n",
              "      <td>46.0</td>\n",
              "      <td>-1255.0</td>\n",
              "      <td>M01Aug2019OP01bad0</td>\n",
              "    </tr>\n",
              "  </tbody>\n",
              "</table>\n",
              "</div>\n",
              "      <button class=\"colab-df-convert\" onclick=\"convertToInteractive('df-85690ac5-ab60-4c9b-9465-43e6c75aadcf')\"\n",
              "              title=\"Convert this dataframe to an interactive table.\"\n",
              "              style=\"display:none;\">\n",
              "        \n",
              "  <svg xmlns=\"http://www.w3.org/2000/svg\" height=\"24px\"viewBox=\"0 0 24 24\"\n",
              "       width=\"24px\">\n",
              "    <path d=\"M0 0h24v24H0V0z\" fill=\"none\"/>\n",
              "    <path d=\"M18.56 5.44l.94 2.06.94-2.06 2.06-.94-2.06-.94-.94-2.06-.94 2.06-2.06.94zm-11 1L8.5 8.5l.94-2.06 2.06-.94-2.06-.94L8.5 2.5l-.94 2.06-2.06.94zm10 10l.94 2.06.94-2.06 2.06-.94-2.06-.94-.94-2.06-.94 2.06-2.06.94z\"/><path d=\"M17.41 7.96l-1.37-1.37c-.4-.4-.92-.59-1.43-.59-.52 0-1.04.2-1.43.59L10.3 9.45l-7.72 7.72c-.78.78-.78 2.05 0 2.83L4 21.41c.39.39.9.59 1.41.59.51 0 1.02-.2 1.41-.59l7.78-7.78 2.81-2.81c.8-.78.8-2.07 0-2.86zM5.41 20L4 18.59l7.72-7.72 1.47 1.35L5.41 20z\"/>\n",
              "  </svg>\n",
              "      </button>\n",
              "      \n",
              "  <style>\n",
              "    .colab-df-container {\n",
              "      display:flex;\n",
              "      flex-wrap:wrap;\n",
              "      gap: 12px;\n",
              "    }\n",
              "\n",
              "    .colab-df-convert {\n",
              "      background-color: #E8F0FE;\n",
              "      border: none;\n",
              "      border-radius: 50%;\n",
              "      cursor: pointer;\n",
              "      display: none;\n",
              "      fill: #1967D2;\n",
              "      height: 32px;\n",
              "      padding: 0 0 0 0;\n",
              "      width: 32px;\n",
              "    }\n",
              "\n",
              "    .colab-df-convert:hover {\n",
              "      background-color: #E2EBFA;\n",
              "      box-shadow: 0px 1px 2px rgba(60, 64, 67, 0.3), 0px 1px 3px 1px rgba(60, 64, 67, 0.15);\n",
              "      fill: #174EA6;\n",
              "    }\n",
              "\n",
              "    [theme=dark] .colab-df-convert {\n",
              "      background-color: #3B4455;\n",
              "      fill: #D2E3FC;\n",
              "    }\n",
              "\n",
              "    [theme=dark] .colab-df-convert:hover {\n",
              "      background-color: #434B5C;\n",
              "      box-shadow: 0px 1px 3px 1px rgba(0, 0, 0, 0.15);\n",
              "      filter: drop-shadow(0px 1px 2px rgba(0, 0, 0, 0.3));\n",
              "      fill: #FFFFFF;\n",
              "    }\n",
              "  </style>\n",
              "\n",
              "      <script>\n",
              "        const buttonEl =\n",
              "          document.querySelector('#df-85690ac5-ab60-4c9b-9465-43e6c75aadcf button.colab-df-convert');\n",
              "        buttonEl.style.display =\n",
              "          google.colab.kernel.accessAllowed ? 'block' : 'none';\n",
              "\n",
              "        async function convertToInteractive(key) {\n",
              "          const element = document.querySelector('#df-85690ac5-ab60-4c9b-9465-43e6c75aadcf');\n",
              "          const dataTable =\n",
              "            await google.colab.kernel.invokeFunction('convertToInteractive',\n",
              "                                                     [key], {});\n",
              "          if (!dataTable) return;\n",
              "\n",
              "          const docLinkHtml = 'Like what you see? Visit the ' +\n",
              "            '<a target=\"_blank\" href=https://colab.research.google.com/notebooks/data_table.ipynb>data table notebook</a>'\n",
              "            + ' to learn more about interactive tables.';\n",
              "          element.innerHTML = '';\n",
              "          dataTable['output_type'] = 'display_data';\n",
              "          await google.colab.output.renderOutput(dataTable, element);\n",
              "          const docLink = document.createElement('div');\n",
              "          docLink.innerHTML = docLinkHtml;\n",
              "          element.appendChild(docLink);\n",
              "        }\n",
              "      </script>\n",
              "    </div>\n",
              "  </div>\n",
              "  "
            ]
          },
          "metadata": {},
          "execution_count": 6
        }
      ],
      "source": [
        "df.head()"
      ]
    },
    {
      "cell_type": "markdown",
      "id": "68b93b56",
      "metadata": {
        "id": "68b93b56"
      },
      "source": [
        "##  Number of segment for each file"
      ]
    },
    {
      "cell_type": "code",
      "execution_count": 7,
      "id": "51fad062",
      "metadata": {
        "id": "51fad062",
        "outputId": "5c593c95-c878-4748-e5a7-3a0b3f19449e",
        "colab": {
          "base_uri": "https://localhost:8080/"
        }
      },
      "outputs": [
        {
          "output_type": "stream",
          "name": "stdout",
          "text": [
            "M01Aug2019OP01bad0\n",
            "23\n",
            "M01Feb2019OP01bad0\n",
            "46\n",
            "M01Feb2019OP02bad0\n",
            "70\n",
            "M01Feb2019OP04bad0\n",
            "70\n",
            "M01Aug2021OP07bad1\n",
            "33\n",
            "M01Feb2019OP07bad0\n",
            "36\n",
            "M01Feb2019OP10bad2\n",
            "70\n",
            "M02Feb2019OP01bad0\n",
            "24\n",
            "M02Feb2019OP01bad1\n",
            "45\n",
            "M02Feb2019OP02bad1\n",
            "70\n",
            "M02Feb2019OP04bad2\n",
            "70\n",
            "M02Feb2019OP07bad0\n",
            "33\n",
            "M02Feb2019OP07bad1\n",
            "36\n",
            "M02Feb2019OP10bad1\n",
            "70\n",
            "M03Aug2019OP01bad0\n",
            "26\n",
            "M03Feb2021OP01bad0\n",
            "42\n",
            "M03Feb2021OP02bad0\n",
            "70\n",
            "M03Feb2021OP04bad0\n",
            "70\n",
            "M03Aug2021OP07bad0\n",
            "34\n",
            "M03Feb2021OP07bad0\n",
            "34\n",
            "M03Aug2021OP10bad0\n",
            "70\n",
            "M01Feb2021OP01good4\n",
            "32\n",
            "M01Feb2021OP01good5\n",
            "37\n",
            "M01Feb2021OP02good4\n",
            "32\n",
            "M01Feb2021OP02good5\n",
            "37\n",
            "M01Feb2021OP04good4\n",
            "32\n",
            "M01Feb2021OP04good5\n",
            "37\n",
            "M01Feb2021OP07good4\n",
            "32\n",
            "M01Feb2021OP07good5\n",
            "37\n",
            "M01Feb2021OP10good4\n",
            "32\n",
            "M01Feb2021OP10good5\n",
            "37\n",
            "M02Feb2021OP01good4\n",
            "32\n",
            "M02Feb2021OP01good5\n",
            "37\n",
            "M02Feb2021OP02good4\n",
            "32\n",
            "M02Feb2021OP02good5\n",
            "37\n",
            "M02Feb2021OP04good4\n",
            "32\n",
            "M02Feb2021OP04good5\n",
            "37\n",
            "M02Feb2021OP07good4\n",
            "32\n",
            "M02Feb2021OP07good5\n",
            "37\n",
            "M02Feb2021OP10good4\n",
            "32\n",
            "M02Feb2021OP10good5\n",
            "37\n",
            "M03Feb2021OP01good3\n",
            "32\n",
            "M03Feb2021OP01good4\n",
            "37\n",
            "M03Feb2021OP02good4\n",
            "32\n",
            "M03Feb2021OP02good5\n",
            "37\n",
            "M03Feb2021OP04good3\n",
            "32\n",
            "M03Feb2021OP04good4\n",
            "37\n",
            "M03Feb2021OP07good4\n",
            "32\n",
            "M03Feb2021OP07good5\n",
            "37\n",
            "M03Feb2021OP10good2\n",
            "32\n",
            "M03Feb2021OP10good3\n",
            "37\n",
            "2077\n"
          ]
        }
      ],
      "source": [
        "sum1=[]\n",
        "window_size = 2000\n",
        "step_size = 1000\n",
        "for i in df['newcol'].unique():\n",
        "    print (i)\n",
        "    master_data =df[(df['newcol'] == i)]\n",
        "    v = 0\n",
        "    for j in range(0, master_data.shape[0] - window_size, step_size):\n",
        "        v = v+1\n",
        "    print(v)\n",
        "        #num_segments = np.floor(len(master_data )/1000)\n",
        "    sum1.append(v)\n",
        "    #print(num_segments)\n",
        "print(np.sum(sum1))"
      ]
    },
    {
      "cell_type": "code",
      "execution_count": null,
      "id": "ef767a35",
      "metadata": {
        "id": "ef767a35"
      },
      "outputs": [],
      "source": [
        "# def compute_shannon_entropy(signal):\n",
        "#     return -np.nansum(signal**2 * np.log(signal**2)) # nansum to exclude pesky terms like \"0*np.log(0)\""
      ]
    },
    {
      "cell_type": "code",
      "execution_count": 8,
      "id": "1e226d29",
      "metadata": {
        "id": "1e226d29"
      },
      "outputs": [],
      "source": [
        "# Function to find the entropy of the signal\n",
        "\n",
        "from scipy.stats import entropy\n",
        "from math import log, e\n",
        "import pandas as pd\n",
        "\n",
        "\n",
        "def entropy2(labels, base=None):\n",
        "  \"\"\" Computes entropy of label distribution. \"\"\"\n",
        "\n",
        "  n_labels = len(labels)\n",
        "\n",
        "  if n_labels <= 1:\n",
        "    return 0\n",
        "\n",
        "  value,counts = np.unique(labels, return_counts=True)\n",
        "  probs = counts / n_labels\n",
        "  n_classes = np.count_nonzero(probs)\n",
        "\n",
        "  if n_classes <= 1:\n",
        "    return 0\n",
        "\n",
        "  ent = 0.\n",
        "\n",
        "  # Compute entropy\n",
        "  base = e if base is None else base\n",
        "  for i in probs:\n",
        "    ent -= i * log(i, base)\n",
        "\n",
        "  return ent"
      ]
    },
    {
      "cell_type": "markdown",
      "id": "aeb9db8f",
      "metadata": {
        "id": "aeb9db8f"
      },
      "source": [
        "## Mother wavelet selection based on Minimum Entropy criteria"
      ]
    },
    {
      "cell_type": "code",
      "execution_count": null,
      "id": "02f7e4dc",
      "metadata": {
        "id": "02f7e4dc"
      },
      "outputs": [],
      "source": [
        "# import collections\n",
        " \n",
        "# from scipy.stats import entropy\n",
        "  \n",
        "# def estimate_shannon_entropy(dna_sequence):\n",
        "#     bases = collections.Counter([tmp_base for tmp_base in dna_sequence])\n",
        "#     # define distribution\n",
        "#     dist = [x/sum(bases.values()) for x in bases.values()]\n",
        " \n",
        "#     # use scipy to calculate entropy\n",
        "#     entropy_value = entropy(dist, base=2)\n",
        " \n",
        "#     return entropy_value\n",
        "\n"
      ]
    },
    {
      "cell_type": "code",
      "execution_count": null,
      "id": "aeb1882f",
      "metadata": {
        "id": "aeb1882f",
        "outputId": "e82aa945-194b-4a14-ab46-6995706d0302"
      },
      "outputs": [
        {
          "data": {
            "text/plain": [
              "257"
            ]
          },
          "execution_count": 10,
          "metadata": {},
          "output_type": "execute_result"
        }
      ],
      "source": [
        "#len(df['newcol'].unique())"
      ]
    },
    {
      "cell_type": "code",
      "execution_count": 9,
      "id": "10f06686",
      "metadata": {
        "id": "10f06686"
      },
      "outputs": [],
      "source": [
        "wavelet_feature_m = pd.DataFrame() "
      ]
    },
    {
      "cell_type": "code",
      "execution_count": null,
      "id": "537dd0f5",
      "metadata": {
        "collapsed": true,
        "id": "537dd0f5"
      },
      "outputs": [],
      "source": [
        "#This is made for the selection of mother wavelet based on minimum entropy criteria\n",
        "import pywt\n",
        "data = df\n",
        "m = 'haar'    #['db1','db2','bior4.4']   'coif1','coif3','sym4','sym2']\n",
        "w = pywt.Wavelet (m)\n",
        "level = 2\n",
        "wavelet_feature_i = pd.DataFrame()\n",
        "import time\n",
        "start = time.time()\n",
        "for i in data['newcol'].unique():\n",
        "    print(i)\n",
        "    master_data =data[(data['newcol'] == i)]      \n",
        "    wavelet_feature = pd.DataFrame()\n",
        "    wavelet_feature['Date'] = [max(master_data['Date'].values)]\n",
        "    wavelet_feature['Machine'] = [max(master_data['Machine'])]\n",
        "    wavelet_feature['Operation'] = [max(master_data['Tool'])]\n",
        "    wavelet_feature['Condition'] = [max(master_data['Condition'])]\n",
        "    wavelet_feature['Repeat'] = [max(master_data['Repeat'])]\n",
        "    wavelet_feature['operationcondition'] =  wavelet_feature['Operation']  + wavelet_feature['Condition']\n",
        "    wavelet_feature['wavelet'] = [m]\n",
        "    df1 = pd.DataFrame()\n",
        "    df1['X'] = master_data['X']\n",
        "    df1['Y'] = master_data['Y']\n",
        "    df1['Z'] = master_data['Z']\n",
        "    colvalue = ['X','Y','Z']\n",
        "    for val in colvalue:\n",
        "        data_wave = df1[val].values\n",
        "        wp = pywt.WaveletPacket(data_wave,w, maxlevel = level) # Wavelet packet transformation\n",
        "        packet_names = [node.path for node in wp.get_level(level, \"natural\")]\n",
        "        for v in range(len(packet_names)):\n",
        "            new_wp = pywt.WaveletPacket(data = None , wavelet = w , maxlevel = level)\n",
        "            new_wp[packet_names[v]] = wp[packet_names[v]].data\n",
        "            reconstructed_signal = new_wp.reconstruct(update = False) # Signal reconstruction from wavelet packet coefficients       \n",
        "            # Wavelet feature\n",
        "            wavelet_feature['entropy'+ val + str(v)]  = [entropy2(reconstructed_signal)]# Entropy of reconstructed signal\n",
        "            wavelet_feature['Energy'+ val + str(v)]  = [np.sum(reconstructed_signal**2)/len(reconstructed_signal)]\n",
        "            wavelet_feature['Ratio'+ val + str(v)]  = wavelet_feature['Energy'+ val + str(v)] / wavelet_feature['entropy'+ val + str(v)]\n",
        "\n",
        "    wavelet_feature_i = wavelet_feature_i.append(wavelet_feature)\n",
        "    wavelet_feature_i = wavelet_feature_i.reset_index(drop = True)\n",
        "\n",
        "\n",
        "\n",
        "end = time.time()\n",
        "print(end - start)"
      ]
    },
    {
      "cell_type": "code",
      "execution_count": 11,
      "id": "e70c68d7",
      "metadata": {
        "id": "e70c68d7",
        "colab": {
          "base_uri": "https://localhost:8080/"
        },
        "outputId": "5ce6accc-d332-4073-e705-dee3e5f379d5"
      },
      "outputs": [
        {
          "output_type": "stream",
          "name": "stderr",
          "text": [
            "<ipython-input-11-e09351b32d71>:1: FutureWarning: The frame.append method is deprecated and will be removed from pandas in a future version. Use pandas.concat instead.\n",
            "  wavelet_feature_m = wavelet_feature_m.append(wavelet_feature_i)\n"
          ]
        }
      ],
      "source": [
        "wavelet_feature_m = wavelet_feature_m.append(wavelet_feature_i)\n",
        "wavelet_feature_m = wavelet_feature_m.reset_index(drop = True)"
      ]
    },
    {
      "cell_type": "code",
      "execution_count": 14,
      "id": "4ef0c837",
      "metadata": {
        "id": "4ef0c837",
        "outputId": "42cbc5de-5f77-4cab-97f5-ee2238ba7aae",
        "colab": {
          "base_uri": "https://localhost:8080/",
          "height": 456
        }
      },
      "outputs": [
        {
          "output_type": "execute_result",
          "data": {
            "text/plain": [
              "      Date Machine Operation Condition Repeat operationcondition wavelet  \\\n",
              "0  Aug2019     M01      OP01       bad      0            OP01bad    haar   \n",
              "1  Feb2019     M01      OP01       bad      0            OP01bad    haar   \n",
              "2  Feb2019     M01      OP02       bad      0            OP02bad    haar   \n",
              "3  Feb2019     M01      OP04       bad      0            OP04bad    haar   \n",
              "4  Aug2021     M01      OP07       bad      1            OP07bad    haar   \n",
              "5  Feb2019     M01      OP07       bad      0            OP07bad    haar   \n",
              "6  Feb2019     M01      OP10       bad      2            OP10bad    haar   \n",
              "7  Feb2019     M02      OP01       bad      0            OP01bad    haar   \n",
              "8  Feb2019     M02      OP01       bad      1            OP01bad    haar   \n",
              "9  Feb2019     M02      OP02       bad      1            OP02bad    haar   \n",
              "\n",
              "   entropyX0       EnergyX0       RatioX0  ...        RatioZ0  entropyZ1  \\\n",
              "0   7.759969  186346.679360  24013.843587  ...  138790.715610   8.460340   \n",
              "1   8.041011  200349.245386  24915.928447  ...  135731.695669   8.573764   \n",
              "2   8.458630  154418.095490  18255.685942  ...  132624.926760   8.653040   \n",
              "3   8.179088  184422.757377  22548.081979  ...  133356.187625   8.907050   \n",
              "4   8.580366  245345.392230  28593.815060  ...  134036.886794   8.871093   \n",
              "5   8.253587  202491.011330  24533.697299  ...  137571.553142   8.458762   \n",
              "6   8.152678  185389.962238  22739.762700  ...  132159.653986   9.298848   \n",
              "7   7.701040  182857.643512  23744.538880  ...  144753.656886   8.141301   \n",
              "8   7.972069  186504.339386  23394.723171  ...  141625.664553   8.285848   \n",
              "9   8.404033  143738.904636  17103.562961  ...  135386.198940   8.803927   \n",
              "\n",
              "       EnergyZ1      RatioZ1  entropyZ2      EnergyZ2      RatioZ2  entropyZ3  \\\n",
              "0  15700.511560  1855.777807   8.116226   3320.076638   409.066538   8.209342   \n",
              "1  12545.375823  1463.228475   8.264089   2573.359066   311.390515   8.370287   \n",
              "2  12210.790234  1411.156175   8.339427   2443.949426   293.059644   8.451842   \n",
              "3  20315.792887  2280.866486   8.482192   3827.710279   451.264304   8.597585   \n",
              "4  76830.453494  8660.765041   8.725863  13381.707558  1533.568336   8.790936   \n",
              "5  14204.183568  1679.227264   8.159215   2427.463398   297.511879   8.311796   \n",
              "6  60790.188204  6537.389156   8.922009  10505.726705  1177.506824   8.973121   \n",
              "7   5358.062421   658.133424   7.841922   1210.776111   154.397877   7.991694   \n",
              "8   5539.075760   668.498380   7.957462   1258.399225   158.140785   8.135288   \n",
              "9  17437.036113  1980.597448   8.570599   4535.664558   529.212078   8.662042   \n",
              "\n",
              "       EnergyZ3      RatioZ3  \n",
              "0   4059.907143   494.547184  \n",
              "1   4452.186502   531.903690  \n",
              "2   4555.885253   539.040504  \n",
              "3   5979.319591   695.465026  \n",
              "4  24561.442471  2793.950831  \n",
              "5   7202.508157   866.540531  \n",
              "6  12516.336882  1394.869996  \n",
              "7   2885.777302   361.097063  \n",
              "8   2831.940913   348.105796  \n",
              "9   6171.351109   712.459113  \n",
              "\n",
              "[10 rows x 43 columns]"
            ],
            "text/html": [
              "\n",
              "  <div id=\"df-832f25eb-7439-470f-90bd-f8f288dda6e6\">\n",
              "    <div class=\"colab-df-container\">\n",
              "      <div>\n",
              "<style scoped>\n",
              "    .dataframe tbody tr th:only-of-type {\n",
              "        vertical-align: middle;\n",
              "    }\n",
              "\n",
              "    .dataframe tbody tr th {\n",
              "        vertical-align: top;\n",
              "    }\n",
              "\n",
              "    .dataframe thead th {\n",
              "        text-align: right;\n",
              "    }\n",
              "</style>\n",
              "<table border=\"1\" class=\"dataframe\">\n",
              "  <thead>\n",
              "    <tr style=\"text-align: right;\">\n",
              "      <th></th>\n",
              "      <th>Date</th>\n",
              "      <th>Machine</th>\n",
              "      <th>Operation</th>\n",
              "      <th>Condition</th>\n",
              "      <th>Repeat</th>\n",
              "      <th>operationcondition</th>\n",
              "      <th>wavelet</th>\n",
              "      <th>entropyX0</th>\n",
              "      <th>EnergyX0</th>\n",
              "      <th>RatioX0</th>\n",
              "      <th>...</th>\n",
              "      <th>RatioZ0</th>\n",
              "      <th>entropyZ1</th>\n",
              "      <th>EnergyZ1</th>\n",
              "      <th>RatioZ1</th>\n",
              "      <th>entropyZ2</th>\n",
              "      <th>EnergyZ2</th>\n",
              "      <th>RatioZ2</th>\n",
              "      <th>entropyZ3</th>\n",
              "      <th>EnergyZ3</th>\n",
              "      <th>RatioZ3</th>\n",
              "    </tr>\n",
              "  </thead>\n",
              "  <tbody>\n",
              "    <tr>\n",
              "      <th>0</th>\n",
              "      <td>Aug2019</td>\n",
              "      <td>M01</td>\n",
              "      <td>OP01</td>\n",
              "      <td>bad</td>\n",
              "      <td>0</td>\n",
              "      <td>OP01bad</td>\n",
              "      <td>haar</td>\n",
              "      <td>7.759969</td>\n",
              "      <td>186346.679360</td>\n",
              "      <td>24013.843587</td>\n",
              "      <td>...</td>\n",
              "      <td>138790.715610</td>\n",
              "      <td>8.460340</td>\n",
              "      <td>15700.511560</td>\n",
              "      <td>1855.777807</td>\n",
              "      <td>8.116226</td>\n",
              "      <td>3320.076638</td>\n",
              "      <td>409.066538</td>\n",
              "      <td>8.209342</td>\n",
              "      <td>4059.907143</td>\n",
              "      <td>494.547184</td>\n",
              "    </tr>\n",
              "    <tr>\n",
              "      <th>1</th>\n",
              "      <td>Feb2019</td>\n",
              "      <td>M01</td>\n",
              "      <td>OP01</td>\n",
              "      <td>bad</td>\n",
              "      <td>0</td>\n",
              "      <td>OP01bad</td>\n",
              "      <td>haar</td>\n",
              "      <td>8.041011</td>\n",
              "      <td>200349.245386</td>\n",
              "      <td>24915.928447</td>\n",
              "      <td>...</td>\n",
              "      <td>135731.695669</td>\n",
              "      <td>8.573764</td>\n",
              "      <td>12545.375823</td>\n",
              "      <td>1463.228475</td>\n",
              "      <td>8.264089</td>\n",
              "      <td>2573.359066</td>\n",
              "      <td>311.390515</td>\n",
              "      <td>8.370287</td>\n",
              "      <td>4452.186502</td>\n",
              "      <td>531.903690</td>\n",
              "    </tr>\n",
              "    <tr>\n",
              "      <th>2</th>\n",
              "      <td>Feb2019</td>\n",
              "      <td>M01</td>\n",
              "      <td>OP02</td>\n",
              "      <td>bad</td>\n",
              "      <td>0</td>\n",
              "      <td>OP02bad</td>\n",
              "      <td>haar</td>\n",
              "      <td>8.458630</td>\n",
              "      <td>154418.095490</td>\n",
              "      <td>18255.685942</td>\n",
              "      <td>...</td>\n",
              "      <td>132624.926760</td>\n",
              "      <td>8.653040</td>\n",
              "      <td>12210.790234</td>\n",
              "      <td>1411.156175</td>\n",
              "      <td>8.339427</td>\n",
              "      <td>2443.949426</td>\n",
              "      <td>293.059644</td>\n",
              "      <td>8.451842</td>\n",
              "      <td>4555.885253</td>\n",
              "      <td>539.040504</td>\n",
              "    </tr>\n",
              "    <tr>\n",
              "      <th>3</th>\n",
              "      <td>Feb2019</td>\n",
              "      <td>M01</td>\n",
              "      <td>OP04</td>\n",
              "      <td>bad</td>\n",
              "      <td>0</td>\n",
              "      <td>OP04bad</td>\n",
              "      <td>haar</td>\n",
              "      <td>8.179088</td>\n",
              "      <td>184422.757377</td>\n",
              "      <td>22548.081979</td>\n",
              "      <td>...</td>\n",
              "      <td>133356.187625</td>\n",
              "      <td>8.907050</td>\n",
              "      <td>20315.792887</td>\n",
              "      <td>2280.866486</td>\n",
              "      <td>8.482192</td>\n",
              "      <td>3827.710279</td>\n",
              "      <td>451.264304</td>\n",
              "      <td>8.597585</td>\n",
              "      <td>5979.319591</td>\n",
              "      <td>695.465026</td>\n",
              "    </tr>\n",
              "    <tr>\n",
              "      <th>4</th>\n",
              "      <td>Aug2021</td>\n",
              "      <td>M01</td>\n",
              "      <td>OP07</td>\n",
              "      <td>bad</td>\n",
              "      <td>1</td>\n",
              "      <td>OP07bad</td>\n",
              "      <td>haar</td>\n",
              "      <td>8.580366</td>\n",
              "      <td>245345.392230</td>\n",
              "      <td>28593.815060</td>\n",
              "      <td>...</td>\n",
              "      <td>134036.886794</td>\n",
              "      <td>8.871093</td>\n",
              "      <td>76830.453494</td>\n",
              "      <td>8660.765041</td>\n",
              "      <td>8.725863</td>\n",
              "      <td>13381.707558</td>\n",
              "      <td>1533.568336</td>\n",
              "      <td>8.790936</td>\n",
              "      <td>24561.442471</td>\n",
              "      <td>2793.950831</td>\n",
              "    </tr>\n",
              "    <tr>\n",
              "      <th>5</th>\n",
              "      <td>Feb2019</td>\n",
              "      <td>M01</td>\n",
              "      <td>OP07</td>\n",
              "      <td>bad</td>\n",
              "      <td>0</td>\n",
              "      <td>OP07bad</td>\n",
              "      <td>haar</td>\n",
              "      <td>8.253587</td>\n",
              "      <td>202491.011330</td>\n",
              "      <td>24533.697299</td>\n",
              "      <td>...</td>\n",
              "      <td>137571.553142</td>\n",
              "      <td>8.458762</td>\n",
              "      <td>14204.183568</td>\n",
              "      <td>1679.227264</td>\n",
              "      <td>8.159215</td>\n",
              "      <td>2427.463398</td>\n",
              "      <td>297.511879</td>\n",
              "      <td>8.311796</td>\n",
              "      <td>7202.508157</td>\n",
              "      <td>866.540531</td>\n",
              "    </tr>\n",
              "    <tr>\n",
              "      <th>6</th>\n",
              "      <td>Feb2019</td>\n",
              "      <td>M01</td>\n",
              "      <td>OP10</td>\n",
              "      <td>bad</td>\n",
              "      <td>2</td>\n",
              "      <td>OP10bad</td>\n",
              "      <td>haar</td>\n",
              "      <td>8.152678</td>\n",
              "      <td>185389.962238</td>\n",
              "      <td>22739.762700</td>\n",
              "      <td>...</td>\n",
              "      <td>132159.653986</td>\n",
              "      <td>9.298848</td>\n",
              "      <td>60790.188204</td>\n",
              "      <td>6537.389156</td>\n",
              "      <td>8.922009</td>\n",
              "      <td>10505.726705</td>\n",
              "      <td>1177.506824</td>\n",
              "      <td>8.973121</td>\n",
              "      <td>12516.336882</td>\n",
              "      <td>1394.869996</td>\n",
              "    </tr>\n",
              "    <tr>\n",
              "      <th>7</th>\n",
              "      <td>Feb2019</td>\n",
              "      <td>M02</td>\n",
              "      <td>OP01</td>\n",
              "      <td>bad</td>\n",
              "      <td>0</td>\n",
              "      <td>OP01bad</td>\n",
              "      <td>haar</td>\n",
              "      <td>7.701040</td>\n",
              "      <td>182857.643512</td>\n",
              "      <td>23744.538880</td>\n",
              "      <td>...</td>\n",
              "      <td>144753.656886</td>\n",
              "      <td>8.141301</td>\n",
              "      <td>5358.062421</td>\n",
              "      <td>658.133424</td>\n",
              "      <td>7.841922</td>\n",
              "      <td>1210.776111</td>\n",
              "      <td>154.397877</td>\n",
              "      <td>7.991694</td>\n",
              "      <td>2885.777302</td>\n",
              "      <td>361.097063</td>\n",
              "    </tr>\n",
              "    <tr>\n",
              "      <th>8</th>\n",
              "      <td>Feb2019</td>\n",
              "      <td>M02</td>\n",
              "      <td>OP01</td>\n",
              "      <td>bad</td>\n",
              "      <td>1</td>\n",
              "      <td>OP01bad</td>\n",
              "      <td>haar</td>\n",
              "      <td>7.972069</td>\n",
              "      <td>186504.339386</td>\n",
              "      <td>23394.723171</td>\n",
              "      <td>...</td>\n",
              "      <td>141625.664553</td>\n",
              "      <td>8.285848</td>\n",
              "      <td>5539.075760</td>\n",
              "      <td>668.498380</td>\n",
              "      <td>7.957462</td>\n",
              "      <td>1258.399225</td>\n",
              "      <td>158.140785</td>\n",
              "      <td>8.135288</td>\n",
              "      <td>2831.940913</td>\n",
              "      <td>348.105796</td>\n",
              "    </tr>\n",
              "    <tr>\n",
              "      <th>9</th>\n",
              "      <td>Feb2019</td>\n",
              "      <td>M02</td>\n",
              "      <td>OP02</td>\n",
              "      <td>bad</td>\n",
              "      <td>1</td>\n",
              "      <td>OP02bad</td>\n",
              "      <td>haar</td>\n",
              "      <td>8.404033</td>\n",
              "      <td>143738.904636</td>\n",
              "      <td>17103.562961</td>\n",
              "      <td>...</td>\n",
              "      <td>135386.198940</td>\n",
              "      <td>8.803927</td>\n",
              "      <td>17437.036113</td>\n",
              "      <td>1980.597448</td>\n",
              "      <td>8.570599</td>\n",
              "      <td>4535.664558</td>\n",
              "      <td>529.212078</td>\n",
              "      <td>8.662042</td>\n",
              "      <td>6171.351109</td>\n",
              "      <td>712.459113</td>\n",
              "    </tr>\n",
              "  </tbody>\n",
              "</table>\n",
              "<p>10 rows × 43 columns</p>\n",
              "</div>\n",
              "      <button class=\"colab-df-convert\" onclick=\"convertToInteractive('df-832f25eb-7439-470f-90bd-f8f288dda6e6')\"\n",
              "              title=\"Convert this dataframe to an interactive table.\"\n",
              "              style=\"display:none;\">\n",
              "        \n",
              "  <svg xmlns=\"http://www.w3.org/2000/svg\" height=\"24px\"viewBox=\"0 0 24 24\"\n",
              "       width=\"24px\">\n",
              "    <path d=\"M0 0h24v24H0V0z\" fill=\"none\"/>\n",
              "    <path d=\"M18.56 5.44l.94 2.06.94-2.06 2.06-.94-2.06-.94-.94-2.06-.94 2.06-2.06.94zm-11 1L8.5 8.5l.94-2.06 2.06-.94-2.06-.94L8.5 2.5l-.94 2.06-2.06.94zm10 10l.94 2.06.94-2.06 2.06-.94-2.06-.94-.94-2.06-.94 2.06-2.06.94z\"/><path d=\"M17.41 7.96l-1.37-1.37c-.4-.4-.92-.59-1.43-.59-.52 0-1.04.2-1.43.59L10.3 9.45l-7.72 7.72c-.78.78-.78 2.05 0 2.83L4 21.41c.39.39.9.59 1.41.59.51 0 1.02-.2 1.41-.59l7.78-7.78 2.81-2.81c.8-.78.8-2.07 0-2.86zM5.41 20L4 18.59l7.72-7.72 1.47 1.35L5.41 20z\"/>\n",
              "  </svg>\n",
              "      </button>\n",
              "      \n",
              "  <style>\n",
              "    .colab-df-container {\n",
              "      display:flex;\n",
              "      flex-wrap:wrap;\n",
              "      gap: 12px;\n",
              "    }\n",
              "\n",
              "    .colab-df-convert {\n",
              "      background-color: #E8F0FE;\n",
              "      border: none;\n",
              "      border-radius: 50%;\n",
              "      cursor: pointer;\n",
              "      display: none;\n",
              "      fill: #1967D2;\n",
              "      height: 32px;\n",
              "      padding: 0 0 0 0;\n",
              "      width: 32px;\n",
              "    }\n",
              "\n",
              "    .colab-df-convert:hover {\n",
              "      background-color: #E2EBFA;\n",
              "      box-shadow: 0px 1px 2px rgba(60, 64, 67, 0.3), 0px 1px 3px 1px rgba(60, 64, 67, 0.15);\n",
              "      fill: #174EA6;\n",
              "    }\n",
              "\n",
              "    [theme=dark] .colab-df-convert {\n",
              "      background-color: #3B4455;\n",
              "      fill: #D2E3FC;\n",
              "    }\n",
              "\n",
              "    [theme=dark] .colab-df-convert:hover {\n",
              "      background-color: #434B5C;\n",
              "      box-shadow: 0px 1px 3px 1px rgba(0, 0, 0, 0.15);\n",
              "      filter: drop-shadow(0px 1px 2px rgba(0, 0, 0, 0.3));\n",
              "      fill: #FFFFFF;\n",
              "    }\n",
              "  </style>\n",
              "\n",
              "      <script>\n",
              "        const buttonEl =\n",
              "          document.querySelector('#df-832f25eb-7439-470f-90bd-f8f288dda6e6 button.colab-df-convert');\n",
              "        buttonEl.style.display =\n",
              "          google.colab.kernel.accessAllowed ? 'block' : 'none';\n",
              "\n",
              "        async function convertToInteractive(key) {\n",
              "          const element = document.querySelector('#df-832f25eb-7439-470f-90bd-f8f288dda6e6');\n",
              "          const dataTable =\n",
              "            await google.colab.kernel.invokeFunction('convertToInteractive',\n",
              "                                                     [key], {});\n",
              "          if (!dataTable) return;\n",
              "\n",
              "          const docLinkHtml = 'Like what you see? Visit the ' +\n",
              "            '<a target=\"_blank\" href=https://colab.research.google.com/notebooks/data_table.ipynb>data table notebook</a>'\n",
              "            + ' to learn more about interactive tables.';\n",
              "          element.innerHTML = '';\n",
              "          dataTable['output_type'] = 'display_data';\n",
              "          await google.colab.output.renderOutput(dataTable, element);\n",
              "          const docLink = document.createElement('div');\n",
              "          docLink.innerHTML = docLinkHtml;\n",
              "          element.appendChild(docLink);\n",
              "        }\n",
              "      </script>\n",
              "    </div>\n",
              "  </div>\n",
              "  "
            ]
          },
          "metadata": {},
          "execution_count": 14
        }
      ],
      "source": [
        "wavelet_feature_m.head(10)"
      ]
    },
    {
      "cell_type": "code",
      "execution_count": null,
      "id": "9b051b26",
      "metadata": {
        "id": "9b051b26",
        "outputId": "2b305ef7-4da2-40fe-91d3-736ed70a9706"
      },
      "outputs": [
        {
          "name": "stderr",
          "output_type": "stream",
          "text": [
            "C:\\Users\\AHUSSAIN14\\Anaconda3\\lib\\site-packages\\ipykernel_launcher.py:10: FutureWarning: Dropping of nuisance columns in DataFrame reductions (with 'numeric_only=None') is deprecated; in a future version this will raise TypeError.  Select only valid columns before calling the reduction.\n",
            "  # Remove the CWD from sys.path while we load stuff.\n"
          ]
        }
      ],
      "source": [
        "# #FIND THE MEAN OF ENTROPY\n",
        "# a = wavelet_feature_m['operationcondition'].unique()\n",
        "# B = wavelet_feature_m['wavelet'].unique()\n",
        "# new = pd.DataFrame()\n",
        "# for i in B:\n",
        "#     new1 = pd.DataFrame()\n",
        "#     for n in a:\n",
        "#         dff = wavelet_feature_m[(wavelet_feature_m['operationcondition'] == n) & (wavelet_feature_m['wavelet'] == i)]\n",
        "#         d = dff.columns[7:]\n",
        "#         Avg = dff.mean()\n",
        "#         new1[d] = [Avg[1:]]\n",
        "#         new1['operationcondition'] = [max(dff['operationcondition'])]\n",
        "#         new1['wavelet'] = [max(dff['wavelet'])]\n",
        "#         new = new.append(new1)\n",
        "#         new = new.reset_index(drop = True)"
      ]
    },
    {
      "cell_type": "code",
      "execution_count": null,
      "id": "593eb439",
      "metadata": {
        "id": "593eb439"
      },
      "outputs": [],
      "source": [
        "# new.to_csv('selectionofwavelet.csv', sep='\\t') # relative position"
      ]
    },
    {
      "cell_type": "code",
      "execution_count": null,
      "id": "8c6b4fd9",
      "metadata": {
        "collapsed": true,
        "id": "8c6b4fd9",
        "outputId": "171d1b9d-8aab-4836-e5ed-3abc5cd9d399"
      },
      "outputs": [
        {
          "data": {
            "image/png": "[encoded data removed]",
            "text/plain": [
              "<Figure size 1500x1500 with 3 Axes>"
            ]
          },
          "metadata": {},
          "output_type": "display_data"
        },
        {
          "data": {
            "text/plain": [
              "<Figure size 640x480 with 0 Axes>"
            ]
          },
          "metadata": {},
          "output_type": "display_data"
        }
      ],
      "source": [
        "# import seaborn as sns\n",
        "# from scipy import stats\n",
        "# from scipy.signal import find_peaks\n",
        "# sns.set_style('whitegrid')\n",
        "# plt.figure(figsize = (15, 15))\n",
        "# plt.subplot(3,1,1)\n",
        "# sns.barplot(data = new, x = 'operationcondition',y = 'entropyX3', hue = 'wavelet')\n",
        "# plt.title('Number of samples')\n",
        "# plt.subplot(3,1,2)\n",
        "# sns.barplot(data = new, x = 'operationcondition',y = 'entropyY3' , hue = 'wavelet')\n",
        "# plt.title('Number of samples')\n",
        "# plt.subplot(3,1,3)\n",
        "# sns.barplot(data = new, x = 'operationcondition',y = 'entropyZ3' , hue = 'wavelet')\n",
        "# plt.title('Number of samples')\n",
        "# plt.show()\n",
        "# plt.clf()"
      ]
    },
    {
      "cell_type": "code",
      "execution_count": null,
      "id": "93548389",
      "metadata": {
        "collapsed": true,
        "id": "93548389",
        "outputId": "91ebd0c4-cd6e-4731-d674-de61c01ae237"
      },
      "outputs": [
        {
          "name": "stdout",
          "output_type": "stream",
          "text": [
            "592.5642982050135\n",
            "576.0733602190219\n",
            "567.3237733083236\n",
            "563.6747276551814\n",
            "582.9191034060606\n"
          ]
        }
      ],
      "source": [
        "# q = 'RatioX3'\n",
        "# # plotdf = new[(new['wavelet'] == 'db1')]\n",
        "# # print(plotdf[q].mean())\n",
        "# plotdf = new[(new['wavelet'] == 'db2')]\n",
        "# print(plotdf[q].mean())\n",
        "# plotdf = new[(new['wavelet'] == 'bior4.4')]\n",
        "# print(plotdf[q].mean())\n",
        "# plotdf = new[(new['wavelet'] == 'sym4')]\n",
        "# print(plotdf[q].mean())\n",
        "# plotdf = new[(new['wavelet'] == 'coif3')]\n",
        "# print(plotdf[q].mean())\n",
        "# plotdf = new[(new['wavelet'] == 'dmey')]\n",
        "# print(plotdf[q].mean())"
      ]
    },
    {
      "cell_type": "markdown",
      "id": "ef760a9a",
      "metadata": {
        "id": "ef760a9a"
      },
      "source": [
        "## Wavelet Feature Extraction"
      ]
    },
    {
      "cell_type": "code",
      "execution_count": null,
      "id": "c6e3ec78",
      "metadata": {
        "id": "c6e3ec78"
      },
      "outputs": [],
      "source": [
        "#This will create the data list according to 'newcol'\n",
        "import pywt\n",
        "w = pywt.Wavelet ('dmey')\n",
        "level = 2\n",
        "wavelet_feature_all = pd.DataFrame() \n",
        "#wavelet_feature_test = pd.DataFrame()\n",
        "data = df\n",
        "window_size = 2000\n",
        "step_size = 1000"
      ]
    },
    {
      "cell_type": "code",
      "execution_count": null,
      "id": "09e3f68b",
      "metadata": {
        "id": "09e3f68b",
        "outputId": "ae23f823-65c5-4ab2-80e0-1be79f9beba6",
        "colab": {
          "base_uri": "https://localhost:8080/"
        }
      },
      "outputs": [
        {
          "output_type": "execute_result",
          "data": {
            "text/plain": [
              "(2151330, 10)"
            ]
          },
          "metadata": {},
          "execution_count": 33
        }
      ],
      "source": [
        "data.shape"
      ]
    },
    {
      "cell_type": "code",
      "source": [
        "b = ['M01Aug2019OP01bad0',\n",
        "'M01Feb2019OP01bad0',\n",
        "'M01Feb2019OP02bad0',\n",
        "'M01Aug2021OP07bad1']\n",
        "for i in b:\n",
        "    print(i)"
      ],
      "metadata": {
        "colab": {
          "base_uri": "https://localhost:8080/"
        },
        "id": "MVcmwajwr5ji",
        "outputId": "04d1b759-e0bd-4923-ebe6-4d0950a232e6"
      },
      "id": "MVcmwajwr5ji",
      "execution_count": null,
      "outputs": [
        {
          "output_type": "stream",
          "name": "stdout",
          "text": [
            "M01Aug2019OP01bad0\n",
            "M01Feb2019OP01bad0\n",
            "M01Feb2019OP02bad0\n",
            "M01Aug2021OP07bad1\n"
          ]
        }
      ]
    },
    {
      "cell_type": "code",
      "execution_count": null,
      "id": "762b32e0",
      "metadata": {
        "id": "762b32e0"
      },
      "outputs": [],
      "source": [
        "for i in data['newcol'].unique():\n",
        "# for i in b:\n",
        "    print(i)\n",
        "    master_data =data[(data['newcol'] == i)]\n",
        "    vff = master_data.shape\n",
        "    print(vff[0])\n",
        "    wavelet_feature_j = pd.DataFrame()\n",
        "    \n",
        "    for j in range(0, master_data.shape[0] - window_size, step_size):\n",
        "        wavelet_feature = pd.DataFrame()\n",
        "        df1 = pd.DataFrame()\n",
        "        df1['X'] = master_data['X'].values[j: j + window_size]\n",
        "        df1['Y'] = master_data['Y'].values[j: j + window_size]\n",
        "        df1['Z'] = master_data['Z'].values[j: j + window_size]\n",
        "\n",
        "        colvalue = ['X','Y','Z']\n",
        "        wavelet_feature['Date'] = [max(master_data['Date'].values[j: j + window_size])]\n",
        "        wavelet_feature['Machine'] = [max(master_data['Machine'].values[j: j + window_size])]\n",
        "        wavelet_feature['Operation'] = [max(master_data['Tool'].values[j: j + window_size])]\n",
        "        wavelet_feature['Condition'] = [max(master_data['Condition'].values[j: j + window_size])]\n",
        "        wavelet_feature['Repeat'] = [max(master_data['Repeat'].values[j: j + window_size])]\n",
        "        wavelet_feature['operationcondition'] =  wavelet_feature['Operation']  + wavelet_feature['Condition']\n",
        "        \n",
        "        for val in colvalue:\n",
        "            data_wave = df1[val].values\n",
        "            wp = pywt.WaveletPacket(data_wave,w, maxlevel = level) # Wavelet packet transformation\n",
        "            packet_names = [node.path for node in wp.get_level(level, \"natural\")]\n",
        "            for v in range(len(packet_names)):\n",
        "                new_wp = pywt.WaveletPacket(data = None , wavelet = w , maxlevel = level)\n",
        "                new_wp[packet_names[v]] = wp[packet_names[v]].data\n",
        "                reconstructed_signal = new_wp.reconstruct(update = False) # Signal reconstruction from wavelet packet coefficients       \n",
        "            \n",
        "                # Wavelet feature\n",
        "                wavelet_feature['entropy'+ val + str(v)]  = [entropy2(reconstructed_signal,2)]# Entropy of reconstructed signal\n",
        "                wavelet_feature['max'+ val + str(v)]  = [max(reconstructed_signal)] # max of signal\n",
        "                wavelet_feature['min'+ val + str(v)]  = [min(reconstructed_signal)]\n",
        "                wavelet_feature['mean'+ val + str(v)]  = [np.mean(reconstructed_signal)]\n",
        "                wavelet_feature['std'+ val + str(v)]  = [np.std (reconstructed_signal)]\n",
        "                wavelet_feature['skew'+ val + str(v)]  = [stats.skew(reconstructed_signal)]\n",
        "                wavelet_feature['kurtosis'+ val + str(v)]  = [stats.kurtosis(reconstructed_signal)]\n",
        "                wavelet_feature['Energy'+ val + str(v)]  = [(np.sum(reconstructed_signal**2))/len(reconstructed_signal)]\n",
        "                \n",
        "                \n",
        "        wavelet_feature_j = wavelet_feature_j.append(wavelet_feature)\n",
        "        # pd.concat([wavelet_feature_j,wavelet_feature])\n",
        "        wavelet_feature_j = wavelet_feature_j.reset_index(drop = True)\n",
        "        \n",
        "    wavelet_feature_all = wavelet_feature_all.append(wavelet_feature_j)\n",
        "    # pd.concat([wavelet_feature_all,wavelet_feature_j])\n",
        "    wavelet_feature_all = wavelet_feature_all.reset_index(drop = True)\n",
        "    \n",
        "        \n",
        "        \n",
        "\n",
        "    "
      ]
    },
    {
      "cell_type": "code",
      "execution_count": null,
      "id": "d40f0b19",
      "metadata": {
        "id": "d40f0b19"
      },
      "outputs": [],
      "source": [
        "wavelet_feature_all.shape"
      ]
    },
    {
      "cell_type": "code",
      "execution_count": null,
      "id": "26fe3c8d",
      "metadata": {
        "id": "26fe3c8d"
      },
      "outputs": [],
      "source": [
        "wavelet_feature_all['operationcondition'].value_counts()"
      ]
    },
    {
      "cell_type": "code",
      "source": [
        "wavelet_feature_all.to_csv('wavelet_feature_all.csv', sep='\\t') # relative position"
      ],
      "metadata": {
        "id": "PiaGQoIz5PjS"
      },
      "id": "PiaGQoIz5PjS",
      "execution_count": null,
      "outputs": []
    },
    {
      "cell_type": "markdown",
      "id": "656546b9",
      "metadata": {
        "id": "656546b9"
      },
      "source": [
        "# Feature selection random forest"
      ]
    },
    {
      "cell_type": "code",
      "execution_count": null,
      "id": "edd739f9",
      "metadata": {
        "id": "edd739f9"
      },
      "outputs": [],
      "source": [
        "from sklearn.feature_selection import SelectFromModel\n",
        "sel = SelectFromModel(RandomForestClassifier(bootstrap = True, max_depth= 30,min_samples_leaf=1, min_samples_split= 5, n_estimators= 200, random_state = 42, verbose=1))\n",
        "sel.fit(X_train, y_train)\n",
        "\n",
        "# MODEL = RandomForestClassifier(bootstrap = True, max_depth= 30,min_samples_leaf=1, min_samples_split= 5, n_estimators= 200, random_state = 42, verbose=1)\n",
        "# MODEL.fit(X_train, y_train)\n",
        "# y_pred = MODEL.predict(X_test)\n",
        "# # Saving feature names for later use\n",
        "# feature_list = list(X.columns)\n",
        "# # Convert to numpy array\n",
        "# features = np.array(X)"
      ]
    },
    {
      "cell_type": "code",
      "execution_count": null,
      "id": "073c6587",
      "metadata": {
        "id": "073c6587",
        "outputId": "0aa35681-e47f-4693-e97f-d96c4e7a6d8b"
      },
      "outputs": [
        {
          "data": {
            "text/plain": [
              "array([False,  True,  True, False,  True,  True,  True,  True, False,\n",
              "       False, False, False,  True, False,  True,  True, False,  True,\n",
              "        True, False,  True, False,  True,  True, False, False, False,\n",
              "       False, False, False, False, False, False,  True,  True,  True,\n",
              "        True,  True,  True,  True, False,  True,  True, False,  True,\n",
              "       False,  True,  True, False, False, False, False, False, False,\n",
              "       False, False, False, False, False, False, False, False, False,\n",
              "       False, False,  True,  True, False,  True,  True,  True, False,\n",
              "       False,  True,  True, False,  True,  True,  True,  True, False,\n",
              "        True,  True, False,  True, False, False,  True, False, False,\n",
              "       False, False,  True, False, False,  True])"
            ]
          },
          "execution_count": 238,
          "metadata": {},
          "output_type": "execute_result"
        }
      ],
      "source": [
        "sel.get_support()"
      ]
    },
    {
      "cell_type": "code",
      "execution_count": null,
      "id": "b132a794",
      "metadata": {
        "id": "b132a794",
        "outputId": "cd7e14c2-caf8-420e-ed47-c0555cae72ea"
      },
      "outputs": [
        {
          "data": {
            "text/plain": [
              "43"
            ]
          },
          "execution_count": 239,
          "metadata": {},
          "output_type": "execute_result"
        }
      ],
      "source": [
        "selected_feat= X_train.columns[(sel.get_support())]\n",
        "len(selected_feat)"
      ]
    },
    {
      "cell_type": "code",
      "execution_count": null,
      "id": "1b61059d",
      "metadata": {
        "id": "1b61059d",
        "outputId": "fdeb4c6e-3c55-47b3-d02e-afd2985d5d31"
      },
      "outputs": [
        {
          "name": "stdout",
          "output_type": "stream",
          "text": [
            "Index(['maxX0', 'minX0', 'stdX0', 'skewX0', 'kurtosisX0', 'EnergyX0', 'stdX1',\n",
            "       'kurtosisX1', 'EnergyX1', 'maxX2', 'minX2', 'stdX2', 'kurtosisX2',\n",
            "       'EnergyX2', 'maxY0', 'minY0', 'meanY0', 'stdY0', 'skewY0', 'kurtosisY0',\n",
            "       'EnergyY0', 'maxY1', 'minY1', 'stdY1', 'kurtosisY1', 'EnergyY1',\n",
            "       'maxZ0', 'minZ0', 'stdZ0', 'skewZ0', 'kurtosisZ0', 'maxZ1', 'minZ1',\n",
            "       'stdZ1', 'skewZ1', 'kurtosisZ1', 'EnergyZ1', 'maxZ2', 'minZ2', 'stdZ2',\n",
            "       'EnergyZ2', 'stdZ3', 'EnergyZ3'],\n",
            "      dtype='object')\n"
          ]
        }
      ],
      "source": [
        "print(selected_feat)"
      ]
    },
    {
      "cell_type": "code",
      "execution_count": null,
      "id": "d2b7fe94",
      "metadata": {
        "id": "d2b7fe94"
      },
      "outputs": [],
      "source": [
        "#df2 = df[[\"Courses\",\"Fee\",\"Duration\"]] # select multile columns\n",
        "X_new = wavelet_feature_all[selected_feat]"
      ]
    },
    {
      "cell_type": "code",
      "execution_count": null,
      "id": "0895c809",
      "metadata": {
        "id": "0895c809",
        "outputId": "5ce6f33f-6318-45e7-e045-2cbd189c4cb5"
      },
      "outputs": [
        {
          "name": "stdout",
          "output_type": "stream",
          "text": [
            "OP04bad     157\n",
            "OP04good    144\n",
            "OP10bad     117\n",
            "OP10good    107\n",
            "OP07bad      71\n",
            "OP07good     58\n",
            "OP01bad      58\n",
            "OP02bad      57\n",
            "OP02good     48\n",
            "OP01good     45\n",
            "Name: operationcondition, dtype: int64 OP04bad     628\n",
            "OP04good    576\n",
            "OP10bad     468\n",
            "OP10good    426\n",
            "OP07bad     285\n",
            "OP01bad     232\n",
            "OP07good    230\n",
            "OP02bad     228\n",
            "OP02good    192\n",
            "OP01good    180\n",
            "Name: operationcondition, dtype: int64\n"
          ]
        }
      ],
      "source": [
        "from sklearn.model_selection import train_test_split\n",
        "X_train, X_test, y_train, y_test = train_test_split(X_new, Y,test_size = 0.2, stratify = Y,\n",
        "                                                                    random_state = 123)\n",
        "print (y_test.value_counts(), y_train.value_counts())"
      ]
    },
    {
      "cell_type": "code",
      "execution_count": null,
      "id": "13ebf8b2",
      "metadata": {
        "id": "13ebf8b2",
        "outputId": "947cddf4-7fd5-4850-9021-d594d2c1e827"
      },
      "outputs": [
        {
          "name": "stderr",
          "output_type": "stream",
          "text": [
            "[Parallel(n_jobs=1)]: Using backend SequentialBackend with 1 concurrent workers.\n"
          ]
        },
        {
          "name": "stdout",
          "output_type": "stream",
          "text": [
            "Accuracy: 0.9222737819025522\n",
            "\n",
            " -------------Classification Report-------------\n",
            "\n",
            "              precision    recall  f1-score   support\n",
            "\n",
            "     OP01bad       0.93      0.95      0.94        58\n",
            "    OP01good       0.94      0.73      0.83        45\n",
            "     OP02bad       0.98      0.98      0.98        57\n",
            "    OP02good       0.93      0.88      0.90        48\n",
            "     OP04bad       0.99      0.97      0.98       157\n",
            "    OP04good       0.83      0.92      0.87       144\n",
            "     OP07bad       0.98      0.89      0.93        71\n",
            "    OP07good       0.89      0.93      0.91        58\n",
            "     OP10bad       0.97      0.97      0.97       117\n",
            "    OP10good       0.85      0.87      0.86       107\n",
            "\n",
            "    accuracy                           0.92       862\n",
            "   macro avg       0.93      0.91      0.92       862\n",
            "weighted avg       0.93      0.92      0.92       862\n",
            "\n"
          ]
        },
        {
          "name": "stderr",
          "output_type": "stream",
          "text": [
            "[Parallel(n_jobs=1)]: Done 200 out of 200 | elapsed:    3.5s finished\n",
            "[Parallel(n_jobs=1)]: Using backend SequentialBackend with 1 concurrent workers.\n",
            "[Parallel(n_jobs=1)]: Done 200 out of 200 | elapsed:    0.0s finished\n"
          ]
        }
      ],
      "source": [
        "MODEL = RandomForestClassifier(bootstrap = True, max_depth= 25,min_samples_leaf=1, min_samples_split= 5, n_estimators= 200, random_state = 42, verbose=1)\n",
        "MODEL.fit(X_train, y_train)\n",
        "y_pred = MODEL.predict(X_test)\n",
        "print(\"Accuracy:\", accuracy_score(y_test, y_pred))\n",
        "print(\"\\n -------------Classification Report-------------\\n\")\n",
        "print(classification_report(y_test, y_pred))"
      ]
    },
    {
      "cell_type": "markdown",
      "id": "46b3d6d4",
      "metadata": {
        "id": "46b3d6d4"
      },
      "source": [
        "# Train and Test Data"
      ]
    },
    {
      "cell_type": "code",
      "execution_count": null,
      "id": "d9c98b44",
      "metadata": {
        "id": "d9c98b44",
        "outputId": "e5c6fa83-42b7-4082-d7e7-e537b50ff56c",
        "colab": {
          "base_uri": "https://localhost:8080/",
          "height": 300
        }
      },
      "outputs": [
        {
          "output_type": "execute_result",
          "data": {
            "text/plain": [
              "      Date Machine Operation Condition Repeat operationcondition  entropyX0  \\\n",
              "0  Aug2019     M01      OP01       bad      0            OP01bad  10.965784   \n",
              "1  Aug2019     M01      OP01       bad      0            OP01bad  10.965784   \n",
              "2  Aug2019     M01      OP01       bad      0            OP01bad  10.965784   \n",
              "3  Aug2019     M01      OP01       bad      0            OP01bad  10.965784   \n",
              "4  Aug2019     M01      OP01       bad      0            OP01bad  10.965784   \n",
              "\n",
              "         maxX0        minX0     meanX0  ...       minZ2    meanZ2      stdZ2  \\\n",
              "0  1801.101386 -1402.561931  16.880632  ... -193.071076 -0.003095  29.503719   \n",
              "1  1781.163083 -1745.155495  -9.536791  ... -173.472602 -0.001026  29.252570   \n",
              "2  1781.098449 -1745.155495   0.547135  ... -173.472602  0.000540  29.752761   \n",
              "3  1743.173360 -1491.697318  10.774369  ... -249.249124 -0.000706  27.743433   \n",
              "4  1743.173360 -1699.309275 -18.986601  ... -252.261634 -0.004745  28.920070   \n",
              "\n",
              "     skewZ2  entropyZ3       maxZ3       minZ3    meanZ3      stdZ3    skewZ3  \n",
              "0  0.000312  10.965784  188.118255 -192.366201  0.001129  39.308575 -0.030426  \n",
              "1  0.000398  10.965784  202.271345 -202.044404 -0.003277  41.646482 -0.002293  \n",
              "2  0.000379  10.965784  202.251967 -202.058919  0.009320  42.609385 -0.006876  \n",
              "3  0.000025  10.965784  178.925942 -183.094042  0.018576  35.280894  0.005064  \n",
              "4  0.000824  10.965784  179.691133 -173.143189 -0.005987  39.474065 -0.002637  \n",
              "\n",
              "[5 rows x 78 columns]"
            ],
            "text/html": [
              "\n",
              "  <div id=\"df-fe565830-520e-45ec-86f6-fee19df56518\">\n",
              "    <div class=\"colab-df-container\">\n",
              "      <div>\n",
              "<style scoped>\n",
              "    .dataframe tbody tr th:only-of-type {\n",
              "        vertical-align: middle;\n",
              "    }\n",
              "\n",
              "    .dataframe tbody tr th {\n",
              "        vertical-align: top;\n",
              "    }\n",
              "\n",
              "    .dataframe thead th {\n",
              "        text-align: right;\n",
              "    }\n",
              "</style>\n",
              "<table border=\"1\" class=\"dataframe\">\n",
              "  <thead>\n",
              "    <tr style=\"text-align: right;\">\n",
              "      <th></th>\n",
              "      <th>Date</th>\n",
              "      <th>Machine</th>\n",
              "      <th>Operation</th>\n",
              "      <th>Condition</th>\n",
              "      <th>Repeat</th>\n",
              "      <th>operationcondition</th>\n",
              "      <th>entropyX0</th>\n",
              "      <th>maxX0</th>\n",
              "      <th>minX0</th>\n",
              "      <th>meanX0</th>\n",
              "      <th>...</th>\n",
              "      <th>minZ2</th>\n",
              "      <th>meanZ2</th>\n",
              "      <th>stdZ2</th>\n",
              "      <th>skewZ2</th>\n",
              "      <th>entropyZ3</th>\n",
              "      <th>maxZ3</th>\n",
              "      <th>minZ3</th>\n",
              "      <th>meanZ3</th>\n",
              "      <th>stdZ3</th>\n",
              "      <th>skewZ3</th>\n",
              "    </tr>\n",
              "  </thead>\n",
              "  <tbody>\n",
              "    <tr>\n",
              "      <th>0</th>\n",
              "      <td>Aug2019</td>\n",
              "      <td>M01</td>\n",
              "      <td>OP01</td>\n",
              "      <td>bad</td>\n",
              "      <td>0</td>\n",
              "      <td>OP01bad</td>\n",
              "      <td>10.965784</td>\n",
              "      <td>1801.101386</td>\n",
              "      <td>-1402.561931</td>\n",
              "      <td>16.880632</td>\n",
              "      <td>...</td>\n",
              "      <td>-193.071076</td>\n",
              "      <td>-0.003095</td>\n",
              "      <td>29.503719</td>\n",
              "      <td>0.000312</td>\n",
              "      <td>10.965784</td>\n",
              "      <td>188.118255</td>\n",
              "      <td>-192.366201</td>\n",
              "      <td>0.001129</td>\n",
              "      <td>39.308575</td>\n",
              "      <td>-0.030426</td>\n",
              "    </tr>\n",
              "    <tr>\n",
              "      <th>1</th>\n",
              "      <td>Aug2019</td>\n",
              "      <td>M01</td>\n",
              "      <td>OP01</td>\n",
              "      <td>bad</td>\n",
              "      <td>0</td>\n",
              "      <td>OP01bad</td>\n",
              "      <td>10.965784</td>\n",
              "      <td>1781.163083</td>\n",
              "      <td>-1745.155495</td>\n",
              "      <td>-9.536791</td>\n",
              "      <td>...</td>\n",
              "      <td>-173.472602</td>\n",
              "      <td>-0.001026</td>\n",
              "      <td>29.252570</td>\n",
              "      <td>0.000398</td>\n",
              "      <td>10.965784</td>\n",
              "      <td>202.271345</td>\n",
              "      <td>-202.044404</td>\n",
              "      <td>-0.003277</td>\n",
              "      <td>41.646482</td>\n",
              "      <td>-0.002293</td>\n",
              "    </tr>\n",
              "    <tr>\n",
              "      <th>2</th>\n",
              "      <td>Aug2019</td>\n",
              "      <td>M01</td>\n",
              "      <td>OP01</td>\n",
              "      <td>bad</td>\n",
              "      <td>0</td>\n",
              "      <td>OP01bad</td>\n",
              "      <td>10.965784</td>\n",
              "      <td>1781.098449</td>\n",
              "      <td>-1745.155495</td>\n",
              "      <td>0.547135</td>\n",
              "      <td>...</td>\n",
              "      <td>-173.472602</td>\n",
              "      <td>0.000540</td>\n",
              "      <td>29.752761</td>\n",
              "      <td>0.000379</td>\n",
              "      <td>10.965784</td>\n",
              "      <td>202.251967</td>\n",
              "      <td>-202.058919</td>\n",
              "      <td>0.009320</td>\n",
              "      <td>42.609385</td>\n",
              "      <td>-0.006876</td>\n",
              "    </tr>\n",
              "    <tr>\n",
              "      <th>3</th>\n",
              "      <td>Aug2019</td>\n",
              "      <td>M01</td>\n",
              "      <td>OP01</td>\n",
              "      <td>bad</td>\n",
              "      <td>0</td>\n",
              "      <td>OP01bad</td>\n",
              "      <td>10.965784</td>\n",
              "      <td>1743.173360</td>\n",
              "      <td>-1491.697318</td>\n",
              "      <td>10.774369</td>\n",
              "      <td>...</td>\n",
              "      <td>-249.249124</td>\n",
              "      <td>-0.000706</td>\n",
              "      <td>27.743433</td>\n",
              "      <td>0.000025</td>\n",
              "      <td>10.965784</td>\n",
              "      <td>178.925942</td>\n",
              "      <td>-183.094042</td>\n",
              "      <td>0.018576</td>\n",
              "      <td>35.280894</td>\n",
              "      <td>0.005064</td>\n",
              "    </tr>\n",
              "    <tr>\n",
              "      <th>4</th>\n",
              "      <td>Aug2019</td>\n",
              "      <td>M01</td>\n",
              "      <td>OP01</td>\n",
              "      <td>bad</td>\n",
              "      <td>0</td>\n",
              "      <td>OP01bad</td>\n",
              "      <td>10.965784</td>\n",
              "      <td>1743.173360</td>\n",
              "      <td>-1699.309275</td>\n",
              "      <td>-18.986601</td>\n",
              "      <td>...</td>\n",
              "      <td>-252.261634</td>\n",
              "      <td>-0.004745</td>\n",
              "      <td>28.920070</td>\n",
              "      <td>0.000824</td>\n",
              "      <td>10.965784</td>\n",
              "      <td>179.691133</td>\n",
              "      <td>-173.143189</td>\n",
              "      <td>-0.005987</td>\n",
              "      <td>39.474065</td>\n",
              "      <td>-0.002637</td>\n",
              "    </tr>\n",
              "  </tbody>\n",
              "</table>\n",
              "<p>5 rows × 78 columns</p>\n",
              "</div>\n",
              "      <button class=\"colab-df-convert\" onclick=\"convertToInteractive('df-fe565830-520e-45ec-86f6-fee19df56518')\"\n",
              "              title=\"Convert this dataframe to an interactive table.\"\n",
              "              style=\"display:none;\">\n",
              "        \n",
              "  <svg xmlns=\"http://www.w3.org/2000/svg\" height=\"24px\"viewBox=\"0 0 24 24\"\n",
              "       width=\"24px\">\n",
              "    <path d=\"M0 0h24v24H0V0z\" fill=\"none\"/>\n",
              "    <path d=\"M18.56 5.44l.94 2.06.94-2.06 2.06-.94-2.06-.94-.94-2.06-.94 2.06-2.06.94zm-11 1L8.5 8.5l.94-2.06 2.06-.94-2.06-.94L8.5 2.5l-.94 2.06-2.06.94zm10 10l.94 2.06.94-2.06 2.06-.94-2.06-.94-.94-2.06-.94 2.06-2.06.94z\"/><path d=\"M17.41 7.96l-1.37-1.37c-.4-.4-.92-.59-1.43-.59-.52 0-1.04.2-1.43.59L10.3 9.45l-7.72 7.72c-.78.78-.78 2.05 0 2.83L4 21.41c.39.39.9.59 1.41.59.51 0 1.02-.2 1.41-.59l7.78-7.78 2.81-2.81c.8-.78.8-2.07 0-2.86zM5.41 20L4 18.59l7.72-7.72 1.47 1.35L5.41 20z\"/>\n",
              "  </svg>\n",
              "      </button>\n",
              "      \n",
              "  <style>\n",
              "    .colab-df-container {\n",
              "      display:flex;\n",
              "      flex-wrap:wrap;\n",
              "      gap: 12px;\n",
              "    }\n",
              "\n",
              "    .colab-df-convert {\n",
              "      background-color: #E8F0FE;\n",
              "      border: none;\n",
              "      border-radius: 50%;\n",
              "      cursor: pointer;\n",
              "      display: none;\n",
              "      fill: #1967D2;\n",
              "      height: 32px;\n",
              "      padding: 0 0 0 0;\n",
              "      width: 32px;\n",
              "    }\n",
              "\n",
              "    .colab-df-convert:hover {\n",
              "      background-color: #E2EBFA;\n",
              "      box-shadow: 0px 1px 2px rgba(60, 64, 67, 0.3), 0px 1px 3px 1px rgba(60, 64, 67, 0.15);\n",
              "      fill: #174EA6;\n",
              "    }\n",
              "\n",
              "    [theme=dark] .colab-df-convert {\n",
              "      background-color: #3B4455;\n",
              "      fill: #D2E3FC;\n",
              "    }\n",
              "\n",
              "    [theme=dark] .colab-df-convert:hover {\n",
              "      background-color: #434B5C;\n",
              "      box-shadow: 0px 1px 3px 1px rgba(0, 0, 0, 0.15);\n",
              "      filter: drop-shadow(0px 1px 2px rgba(0, 0, 0, 0.3));\n",
              "      fill: #FFFFFF;\n",
              "    }\n",
              "  </style>\n",
              "\n",
              "      <script>\n",
              "        const buttonEl =\n",
              "          document.querySelector('#df-fe565830-520e-45ec-86f6-fee19df56518 button.colab-df-convert');\n",
              "        buttonEl.style.display =\n",
              "          google.colab.kernel.accessAllowed ? 'block' : 'none';\n",
              "\n",
              "        async function convertToInteractive(key) {\n",
              "          const element = document.querySelector('#df-fe565830-520e-45ec-86f6-fee19df56518');\n",
              "          const dataTable =\n",
              "            await google.colab.kernel.invokeFunction('convertToInteractive',\n",
              "                                                     [key], {});\n",
              "          if (!dataTable) return;\n",
              "\n",
              "          const docLinkHtml = 'Like what you see? Visit the ' +\n",
              "            '<a target=\"_blank\" href=https://colab.research.google.com/notebooks/data_table.ipynb>data table notebook</a>'\n",
              "            + ' to learn more about interactive tables.';\n",
              "          element.innerHTML = '';\n",
              "          dataTable['output_type'] = 'display_data';\n",
              "          await google.colab.output.renderOutput(dataTable, element);\n",
              "          const docLink = document.createElement('div');\n",
              "          docLink.innerHTML = docLinkHtml;\n",
              "          element.appendChild(docLink);\n",
              "        }\n",
              "      </script>\n",
              "    </div>\n",
              "  </div>\n",
              "  "
            ]
          },
          "metadata": {},
          "execution_count": 150
        }
      ],
      "source": [
        "wavelet_feature_all.head()"
      ]
    },
    {
      "cell_type": "code",
      "execution_count": null,
      "id": "5e7db4cb",
      "metadata": {
        "id": "5e7db4cb"
      },
      "outputs": [],
      "source": [
        "#Train data = M02 and M03\n",
        "#Test data = M01\n",
        "# X_train = wavelet_feature_all.drop(wavelet_feature_all.columns[0:6], axis=1)\n",
        "# y_train = wavelet_feature_all['operationcondition']\n",
        "# X_test = wavelet_feature_test.drop(wavelet_feature_test.columns[0:6], axis=1)\n",
        "# y_test = wavelet_feature_test['operationcondition']\n",
        "X = wavelet_feature_all.drop(wavelet_feature_all.columns[0:6], axis=1)\n",
        "Y = wavelet_feature_all['operationcondition']\n",
        "# print('Training Features Shape:', X_train.shape)\n",
        "# print('Training Labels Shape:', y_train.shape)\n",
        "# print('Testing Features Shape:', X_test.shape)\n",
        "# print('Testing Labels Shape:', y_test.shape)"
      ]
    },
    {
      "cell_type": "code",
      "execution_count": null,
      "id": "73fc6f19",
      "metadata": {
        "id": "73fc6f19",
        "outputId": "43134cea-0184-4deb-c139-76d07cf44f0d",
        "colab": {
          "base_uri": "https://localhost:8080/"
        }
      },
      "outputs": [
        {
          "output_type": "stream",
          "name": "stdout",
          "text": [
            "OP01good    42\n",
            "OP10good    42\n",
            "OP04bad     42\n",
            "OP04good    42\n",
            "OP10bad     42\n",
            "OP02bad     42\n",
            "OP02good    41\n",
            "OP01bad     41\n",
            "OP07good    41\n",
            "OP07bad     41\n",
            "Name: operationcondition, dtype: int64 OP02bad     168\n",
            "OP04bad     168\n",
            "OP10bad     168\n",
            "OP02good    166\n",
            "OP07good    166\n",
            "OP01good    165\n",
            "OP04good    165\n",
            "OP10good    165\n",
            "OP07bad     165\n",
            "OP01bad     165\n",
            "Name: operationcondition, dtype: int64\n"
          ]
        }
      ],
      "source": [
        "from sklearn.model_selection import train_test_split\n",
        "X_train, X_test, y_train, y_test = train_test_split(X, Y,test_size = 0.2, stratify = Y,\n",
        "                                                                    random_state = 123)\n",
        "print (y_test.value_counts(), y_train.value_counts())"
      ]
    },
    {
      "cell_type": "code",
      "execution_count": null,
      "id": "11026e36",
      "metadata": {
        "collapsed": true,
        "id": "11026e36",
        "outputId": "a8a5ee23-ecf9-4df1-b882-a1f3a5d94ab4"
      },
      "outputs": [
        {
          "data": {
            "image/png": "[encoded data removed]",
            "text/plain": [
              "<Figure size 1000x1000 with 2 Axes>"
            ]
          },
          "metadata": {},
          "output_type": "display_data"
        }
      ],
      "source": [
        "#checking the number of sample in time domain data\n",
        "# sns.set_style('whitegrid')\n",
        "# plt.figure(figsize = (10, 5))\n",
        "# sns.countplot(x = 'Toolcondition', data = time_feature_all)\n",
        "# plt.title('Number of samples in timedomain dataset')\n",
        "# plt.show()\n",
        "# sns.set_style('whitegrid')\n",
        "# #plt.figure(figsize = (15, 15))\n",
        "# plt.figure(figsize = (10, 10))\n",
        "# plt.subplot(2,1,1)\n",
        "# sns.countplot(x = 'operationcondition', data = wavelet_feature_all)\n",
        "# plt.title('Number of samples in training data')\n",
        "# plt.subplot(2,1,2)\n",
        "# sns.countplot(x = 'operationcondition', data = wavelet_feature_test)\n",
        "# plt.title('Number of samples in test')\n",
        "# plt.show()"
      ]
    },
    {
      "cell_type": "markdown",
      "id": "422e4ab2",
      "metadata": {
        "id": "422e4ab2"
      },
      "source": [
        "# Random Forest Classifier"
      ]
    },
    {
      "cell_type": "code",
      "execution_count": null,
      "id": "a5d81973",
      "metadata": {
        "id": "a5d81973",
        "outputId": "b6104f10-43fb-4f70-ff9e-39f4745ba16b",
        "colab": {
          "base_uri": "https://localhost:8080/"
        }
      },
      "outputs": [
        {
          "output_type": "stream",
          "name": "stderr",
          "text": [
            "[Parallel(n_jobs=1)]: Using backend SequentialBackend with 1 concurrent workers.\n"
          ]
        },
        {
          "output_type": "stream",
          "name": "stdout",
          "text": [
            "Accuracy: 0.9110576923076923\n",
            "\n",
            " -------------Classification Report-------------\n",
            "\n",
            "              precision    recall  f1-score   support\n",
            "\n",
            "     OP01bad       0.93      0.93      0.93        41\n",
            "    OP01good       0.89      0.93      0.91        42\n",
            "     OP02bad       0.89      1.00      0.94        42\n",
            "    OP02good       1.00      0.88      0.94        41\n",
            "     OP04bad       0.91      0.98      0.94        42\n",
            "    OP04good       0.88      0.83      0.85        42\n",
            "     OP07bad       0.95      0.88      0.91        41\n",
            "    OP07good       0.88      0.90      0.89        41\n",
            "     OP10bad       0.95      0.90      0.93        42\n",
            "    OP10good       0.86      0.88      0.87        42\n",
            "\n",
            "    accuracy                           0.91       416\n",
            "   macro avg       0.91      0.91      0.91       416\n",
            "weighted avg       0.91      0.91      0.91       416\n",
            "\n"
          ]
        },
        {
          "output_type": "stream",
          "name": "stderr",
          "text": [
            "[Parallel(n_jobs=1)]: Done 200 out of 200 | elapsed:    3.0s finished\n",
            "[Parallel(n_jobs=1)]: Using backend SequentialBackend with 1 concurrent workers.\n",
            "[Parallel(n_jobs=1)]: Done 200 out of 200 | elapsed:    0.1s finished\n"
          ]
        }
      ],
      "source": [
        "from sklearn.ensemble import RandomForestClassifier\n",
        "from sklearn.pipeline import make_pipeline\n",
        "from sklearn.preprocessing import StandardScaler\n",
        "from sklearn import metrics\n",
        "from sklearn.metrics import accuracy_score\n",
        "from sklearn.metrics import classification_report\n",
        "\n",
        "MODEL = RandomForestClassifier(bootstrap = True, max_depth= 25,min_samples_leaf=1, min_samples_split= 5, n_estimators= 200, random_state = 42, verbose=1)\n",
        "MODEL.fit(X_train, y_train)\n",
        "y_pred = MODEL.predict(X_test)\n",
        "print(\"Accuracy:\", accuracy_score(y_test, y_pred))\n",
        "print(\"\\n -------------Classification Report-------------\\n\")\n",
        "print(classification_report(y_test, y_pred))"
      ]
    },
    {
      "cell_type": "markdown",
      "id": "90e3999e",
      "metadata": {
        "id": "90e3999e"
      },
      "source": [
        "# SUPPORT VECTOR CLASSIFIER (SVC)"
      ]
    },
    {
      "cell_type": "code",
      "execution_count": null,
      "id": "77741075",
      "metadata": {
        "id": "77741075",
        "outputId": "99009ca7-4219-4557-dcf4-97d00e99eb76"
      },
      "outputs": [
        {
          "name": "stdout",
          "output_type": "stream",
          "text": [
            "Accuracy: 0.8932714617169374\n"
          ]
        }
      ],
      "source": [
        "from sklearn.svm import SVC\n",
        "MODEL = make_pipeline(StandardScaler(), SVC(kernel='rbf',C=9,gamma='auto'))\n",
        "MODEL.fit(X_train, y_train)\n",
        "y_pred = MODEL.predict(X_test)\n",
        "print(\"Accuracy:\", accuracy_score(y_test, y_pred))"
      ]
    },
    {
      "cell_type": "markdown",
      "id": "b25a2829",
      "metadata": {
        "id": "b25a2829"
      },
      "source": [
        "# Logistic regression model"
      ]
    },
    {
      "cell_type": "code",
      "execution_count": null,
      "id": "53370096",
      "metadata": {
        "collapsed": true,
        "id": "53370096",
        "outputId": "00cd680b-5635-45c4-c212-87c1712ce889"
      },
      "outputs": [
        {
          "name": "stdout",
          "output_type": "stream",
          "text": [
            "Accuracy: 0.5802997858672377\n",
            "\n",
            " -------------Classification Report-------------\n",
            "\n",
            "              precision    recall  f1-score   support\n",
            "\n",
            "     OP01bad       0.05      0.01      0.02        83\n",
            "    OP01good       0.37      0.32      0.34        60\n",
            "     OP02bad       1.00      0.87      0.93        70\n",
            "    OP02good       0.82      0.19      0.30        75\n",
            "     OP04bad       0.41      0.28      0.33       189\n",
            "    OP04good       0.54      0.70      0.61       198\n",
            "     OP07bad       0.77      0.55      0.64       151\n",
            "    OP07good       0.69      0.94      0.79        90\n",
            "     OP10bad       0.71      0.80      0.75       329\n",
            "    OP10good       0.36      0.61      0.45       156\n",
            "\n",
            "    accuracy                           0.58      1401\n",
            "   macro avg       0.57      0.53      0.52      1401\n",
            "weighted avg       0.58      0.58      0.56      1401\n",
            "\n"
          ]
        },
        {
          "name": "stderr",
          "output_type": "stream",
          "text": [
            "C:\\Users\\AHUSSAIN14\\Anaconda3\\lib\\site-packages\\sklearn\\linear_model\\_logistic.py:818: ConvergenceWarning: lbfgs failed to converge (status=1):\n",
            "STOP: TOTAL NO. of ITERATIONS REACHED LIMIT.\n",
            "\n",
            "Increase the number of iterations (max_iter) or scale the data as shown in:\n",
            "    https://scikit-learn.org/stable/modules/preprocessing.html\n",
            "Please also refer to the documentation for alternative solver options:\n",
            "    https://scikit-learn.org/stable/modules/linear_model.html#logistic-regression\n",
            "  extra_warning_msg=_LOGISTIC_SOLVER_CONVERGENCE_MSG,\n"
          ]
        }
      ],
      "source": [
        "# from sklearn.linear_model import LogisticRegression\n",
        "# from sklearn.pipeline import make_pipeline\n",
        "# from sklearn.preprocessing import StandardScaler\n",
        "# from sklearn import metrics\n",
        "# from sklearn.metrics import accuracy_score\n",
        "# from sklearn.metrics import classification_report\n",
        "\n",
        "\n",
        "# # standardization\n",
        "# scaler = StandardScaler()\n",
        "# scaler.fit(X_train)\n",
        "# X_train_data_lr = scaler.transform(X_train)\n",
        "# X_test_data_lr = scaler.transform(X_test)\n",
        "# # logistic regression model\n",
        "# lr = LogisticRegression(random_state = 21)\n",
        "# lr.fit(X_train_data_lr, y_train)\n",
        "# y_pred = lr.predict(X_test_data_lr)\n",
        "# print(\"Accuracy:\", accuracy_score(y_test, y_pred))\n",
        "# print(\"\\n -------------Classification Report-------------\\n\")\n",
        "# print(classification_report(y_test, y_pred))"
      ]
    },
    {
      "cell_type": "markdown",
      "id": "043c5b61",
      "metadata": {
        "id": "043c5b61"
      },
      "source": [
        "# CONFUSION MATRIX"
      ]
    },
    {
      "cell_type": "code",
      "execution_count": null,
      "id": "1abaa85c",
      "metadata": {
        "id": "1abaa85c"
      },
      "outputs": [],
      "source": [
        "labels = wavelet_feature_all['operationcondition'].unique()"
      ]
    },
    {
      "cell_type": "code",
      "execution_count": null,
      "id": "272e9a3d",
      "metadata": {
        "id": "272e9a3d"
      },
      "outputs": [],
      "source": [
        "from sklearn.metrics import confusion_matrix\n",
        "test_confu_matrix = confusion_matrix(y_test,  y_pred)"
      ]
    },
    {
      "cell_type": "code",
      "execution_count": null,
      "id": "8a8e0c6d",
      "metadata": {
        "id": "8a8e0c6d",
        "outputId": "08147933-d4c3-4cac-a0f2-120d0c236033",
        "colab": {
          "base_uri": "https://localhost:8080/",
          "height": 393
        }
      },
      "outputs": [
        {
          "output_type": "display_data",
          "data": {
            "text/plain": [
              "<Figure size 300x300 with 2 Axes>"
            ],
            "image/png": "[encoded data removed]"
          },
          "metadata": {}
        }
      ],
      "source": [
        "# confusion matrix\n",
        "plt.figure(2,figsize=(3,3))\n",
        "# sns.heatmap(test_confu_matrix, annot = True,\n",
        "# xticklabels=Labels, yticklabels=Labels, cmap = \"Blues\")\n",
        "# plt.title('Test Confusion Matrix')\n",
        "# plt.xlabel('Predicted')\n",
        "# plt.ylabel('True')\n",
        "# plt.show()\n",
        "sns.heatmap(test_confu_matrix, xticklabels=labels, yticklabels=labels, annot=True,linewidths = 0.1, fmt='d', cmap = 'YlGnBu')\n",
        "plt.title('Confusion matrix', fontsize = 15)\n",
        "plt.ylabel('True')\n",
        "plt.xlabel('Predicted')\n",
        "plt.show()"
      ]
    },
    {
      "cell_type": "markdown",
      "id": "5e9c3e40",
      "metadata": {
        "id": "5e9c3e40"
      },
      "source": [
        "# PCA ANALYSIS"
      ]
    },
    {
      "cell_type": "code",
      "execution_count": null,
      "id": "4d7547e8",
      "metadata": {
        "id": "4d7547e8"
      },
      "outputs": [],
      "source": [
        "from sklearn.decomposition import PCA\n",
        "X = wavelet_feature_all.drop(wavelet_feature_all.columns[0:6], axis=1)\n",
        "Y = wavelet_feature_all['operationcondition']\n",
        "\n",
        "x = StandardScaler().fit_transform(X)\n",
        "pca = PCA(n_components=20)\n",
        "principalComponents = pca.fit_transform(x)\n",
        "principalDf = pd.DataFrame(data = principalComponents)\n",
        "             #, columns = ['principal component 1', 'principal component 2','principal component 3','principal component 4','principal component 5'])"
      ]
    },
    {
      "cell_type": "code",
      "execution_count": null,
      "id": "7c3467ac",
      "metadata": {
        "id": "7c3467ac",
        "outputId": "8badc7ea-b55c-437c-b147-998dbc4564e8",
        "colab": {
          "base_uri": "https://localhost:8080/"
        }
      },
      "outputs": [
        {
          "output_type": "execute_result",
          "data": {
            "text/plain": [
              "(2077, 20)"
            ]
          },
          "metadata": {},
          "execution_count": 46
        }
      ],
      "source": [
        "principalDf.shape\n"
      ]
    },
    {
      "cell_type": "code",
      "execution_count": null,
      "id": "9b8e5ea9",
      "metadata": {
        "id": "9b8e5ea9",
        "outputId": "3d9794a0-9cea-4915-a401-ec4427a3172f",
        "colab": {
          "base_uri": "https://localhost:8080/",
          "height": 270
        }
      },
      "outputs": [
        {
          "output_type": "execute_result",
          "data": {
            "text/plain": [
              "         0         1         2         3         4         5         6   \\\n",
              "0 -2.930060 -0.688245 -2.153565 -1.308280  0.313610  0.396531 -3.045707   \n",
              "1 -2.685963 -0.200914 -1.604340 -1.836721 -0.513958  0.301901  0.225619   \n",
              "2 -2.324479 -0.363855 -1.758740 -1.101538  0.088105  0.644681  0.666909   \n",
              "3 -2.697154 -0.417108 -1.984479 -0.827565  0.713523  0.462437 -0.853710   \n",
              "4 -6.041502 -0.414321 -2.041770  2.525094  3.784622  1.999601 -1.006888   \n",
              "\n",
              "         7         8         9         10        11        12        13  \\\n",
              "0 -1.064774  0.245950 -0.549302 -0.608991 -0.547901 -0.288382  0.648106   \n",
              "1  0.890680 -0.642046  0.658973  0.089194 -1.316611 -0.290828  0.139394   \n",
              "2  0.307534 -0.746094  1.249985 -0.915881 -2.010563 -0.010594 -1.052656   \n",
              "3 -1.105849 -0.193249  0.132763 -1.419696 -1.205742  0.827850 -2.037675   \n",
              "4  1.275946  1.052890 -1.636823  1.819605  0.690967  0.286574  0.683398   \n",
              "\n",
              "         14        15        16        17        18        19  \n",
              "0 -0.143814 -0.453368 -0.592109  0.580814 -0.712282 -0.182888  \n",
              "1  0.484854  0.133404  0.022724  1.530744 -1.405602  0.391016  \n",
              "2  0.326939 -0.680609 -0.128379  0.513271 -1.265181  0.314612  \n",
              "3  0.377945 -0.731499 -1.130804  0.195337 -0.264260  0.322417  \n",
              "4  1.488213 -0.033319 -2.188113  0.893066  0.393398  0.866889  "
            ],
            "text/html": [
              "\n",
              "  <div id=\"df-1deab257-2610-42ca-b025-5885069cfbf4\">\n",
              "    <div class=\"colab-df-container\">\n",
              "      <div>\n",
              "<style scoped>\n",
              "    .dataframe tbody tr th:only-of-type {\n",
              "        vertical-align: middle;\n",
              "    }\n",
              "\n",
              "    .dataframe tbody tr th {\n",
              "        vertical-align: top;\n",
              "    }\n",
              "\n",
              "    .dataframe thead th {\n",
              "        text-align: right;\n",
              "    }\n",
              "</style>\n",
              "<table border=\"1\" class=\"dataframe\">\n",
              "  <thead>\n",
              "    <tr style=\"text-align: right;\">\n",
              "      <th></th>\n",
              "      <th>0</th>\n",
              "      <th>1</th>\n",
              "      <th>2</th>\n",
              "      <th>3</th>\n",
              "      <th>4</th>\n",
              "      <th>5</th>\n",
              "      <th>6</th>\n",
              "      <th>7</th>\n",
              "      <th>8</th>\n",
              "      <th>9</th>\n",
              "      <th>10</th>\n",
              "      <th>11</th>\n",
              "      <th>12</th>\n",
              "      <th>13</th>\n",
              "      <th>14</th>\n",
              "      <th>15</th>\n",
              "      <th>16</th>\n",
              "      <th>17</th>\n",
              "      <th>18</th>\n",
              "      <th>19</th>\n",
              "    </tr>\n",
              "  </thead>\n",
              "  <tbody>\n",
              "    <tr>\n",
              "      <th>0</th>\n",
              "      <td>-2.930060</td>\n",
              "      <td>-0.688245</td>\n",
              "      <td>-2.153565</td>\n",
              "      <td>-1.308280</td>\n",
              "      <td>0.313610</td>\n",
              "      <td>0.396531</td>\n",
              "      <td>-3.045707</td>\n",
              "      <td>-1.064774</td>\n",
              "      <td>0.245950</td>\n",
              "      <td>-0.549302</td>\n",
              "      <td>-0.608991</td>\n",
              "      <td>-0.547901</td>\n",
              "      <td>-0.288382</td>\n",
              "      <td>0.648106</td>\n",
              "      <td>-0.143814</td>\n",
              "      <td>-0.453368</td>\n",
              "      <td>-0.592109</td>\n",
              "      <td>0.580814</td>\n",
              "      <td>-0.712282</td>\n",
              "      <td>-0.182888</td>\n",
              "    </tr>\n",
              "    <tr>\n",
              "      <th>1</th>\n",
              "      <td>-2.685963</td>\n",
              "      <td>-0.200914</td>\n",
              "      <td>-1.604340</td>\n",
              "      <td>-1.836721</td>\n",
              "      <td>-0.513958</td>\n",
              "      <td>0.301901</td>\n",
              "      <td>0.225619</td>\n",
              "      <td>0.890680</td>\n",
              "      <td>-0.642046</td>\n",
              "      <td>0.658973</td>\n",
              "      <td>0.089194</td>\n",
              "      <td>-1.316611</td>\n",
              "      <td>-0.290828</td>\n",
              "      <td>0.139394</td>\n",
              "      <td>0.484854</td>\n",
              "      <td>0.133404</td>\n",
              "      <td>0.022724</td>\n",
              "      <td>1.530744</td>\n",
              "      <td>-1.405602</td>\n",
              "      <td>0.391016</td>\n",
              "    </tr>\n",
              "    <tr>\n",
              "      <th>2</th>\n",
              "      <td>-2.324479</td>\n",
              "      <td>-0.363855</td>\n",
              "      <td>-1.758740</td>\n",
              "      <td>-1.101538</td>\n",
              "      <td>0.088105</td>\n",
              "      <td>0.644681</td>\n",
              "      <td>0.666909</td>\n",
              "      <td>0.307534</td>\n",
              "      <td>-0.746094</td>\n",
              "      <td>1.249985</td>\n",
              "      <td>-0.915881</td>\n",
              "      <td>-2.010563</td>\n",
              "      <td>-0.010594</td>\n",
              "      <td>-1.052656</td>\n",
              "      <td>0.326939</td>\n",
              "      <td>-0.680609</td>\n",
              "      <td>-0.128379</td>\n",
              "      <td>0.513271</td>\n",
              "      <td>-1.265181</td>\n",
              "      <td>0.314612</td>\n",
              "    </tr>\n",
              "    <tr>\n",
              "      <th>3</th>\n",
              "      <td>-2.697154</td>\n",
              "      <td>-0.417108</td>\n",
              "      <td>-1.984479</td>\n",
              "      <td>-0.827565</td>\n",
              "      <td>0.713523</td>\n",
              "      <td>0.462437</td>\n",
              "      <td>-0.853710</td>\n",
              "      <td>-1.105849</td>\n",
              "      <td>-0.193249</td>\n",
              "      <td>0.132763</td>\n",
              "      <td>-1.419696</td>\n",
              "      <td>-1.205742</td>\n",
              "      <td>0.827850</td>\n",
              "      <td>-2.037675</td>\n",
              "      <td>0.377945</td>\n",
              "      <td>-0.731499</td>\n",
              "      <td>-1.130804</td>\n",
              "      <td>0.195337</td>\n",
              "      <td>-0.264260</td>\n",
              "      <td>0.322417</td>\n",
              "    </tr>\n",
              "    <tr>\n",
              "      <th>4</th>\n",
              "      <td>-6.041502</td>\n",
              "      <td>-0.414321</td>\n",
              "      <td>-2.041770</td>\n",
              "      <td>2.525094</td>\n",
              "      <td>3.784622</td>\n",
              "      <td>1.999601</td>\n",
              "      <td>-1.006888</td>\n",
              "      <td>1.275946</td>\n",
              "      <td>1.052890</td>\n",
              "      <td>-1.636823</td>\n",
              "      <td>1.819605</td>\n",
              "      <td>0.690967</td>\n",
              "      <td>0.286574</td>\n",
              "      <td>0.683398</td>\n",
              "      <td>1.488213</td>\n",
              "      <td>-0.033319</td>\n",
              "      <td>-2.188113</td>\n",
              "      <td>0.893066</td>\n",
              "      <td>0.393398</td>\n",
              "      <td>0.866889</td>\n",
              "    </tr>\n",
              "  </tbody>\n",
              "</table>\n",
              "</div>\n",
              "      <button class=\"colab-df-convert\" onclick=\"convertToInteractive('df-1deab257-2610-42ca-b025-5885069cfbf4')\"\n",
              "              title=\"Convert this dataframe to an interactive table.\"\n",
              "              style=\"display:none;\">\n",
              "        \n",
              "  <svg xmlns=\"http://www.w3.org/2000/svg\" height=\"24px\"viewBox=\"0 0 24 24\"\n",
              "       width=\"24px\">\n",
              "    <path d=\"M0 0h24v24H0V0z\" fill=\"none\"/>\n",
              "    <path d=\"M18.56 5.44l.94 2.06.94-2.06 2.06-.94-2.06-.94-.94-2.06-.94 2.06-2.06.94zm-11 1L8.5 8.5l.94-2.06 2.06-.94-2.06-.94L8.5 2.5l-.94 2.06-2.06.94zm10 10l.94 2.06.94-2.06 2.06-.94-2.06-.94-.94-2.06-.94 2.06-2.06.94z\"/><path d=\"M17.41 7.96l-1.37-1.37c-.4-.4-.92-.59-1.43-.59-.52 0-1.04.2-1.43.59L10.3 9.45l-7.72 7.72c-.78.78-.78 2.05 0 2.83L4 21.41c.39.39.9.59 1.41.59.51 0 1.02-.2 1.41-.59l7.78-7.78 2.81-2.81c.8-.78.8-2.07 0-2.86zM5.41 20L4 18.59l7.72-7.72 1.47 1.35L5.41 20z\"/>\n",
              "  </svg>\n",
              "      </button>\n",
              "      \n",
              "  <style>\n",
              "    .colab-df-container {\n",
              "      display:flex;\n",
              "      flex-wrap:wrap;\n",
              "      gap: 12px;\n",
              "    }\n",
              "\n",
              "    .colab-df-convert {\n",
              "      background-color: #E8F0FE;\n",
              "      border: none;\n",
              "      border-radius: 50%;\n",
              "      cursor: pointer;\n",
              "      display: none;\n",
              "      fill: #1967D2;\n",
              "      height: 32px;\n",
              "      padding: 0 0 0 0;\n",
              "      width: 32px;\n",
              "    }\n",
              "\n",
              "    .colab-df-convert:hover {\n",
              "      background-color: #E2EBFA;\n",
              "      box-shadow: 0px 1px 2px rgba(60, 64, 67, 0.3), 0px 1px 3px 1px rgba(60, 64, 67, 0.15);\n",
              "      fill: #174EA6;\n",
              "    }\n",
              "\n",
              "    [theme=dark] .colab-df-convert {\n",
              "      background-color: #3B4455;\n",
              "      fill: #D2E3FC;\n",
              "    }\n",
              "\n",
              "    [theme=dark] .colab-df-convert:hover {\n",
              "      background-color: #434B5C;\n",
              "      box-shadow: 0px 1px 3px 1px rgba(0, 0, 0, 0.15);\n",
              "      filter: drop-shadow(0px 1px 2px rgba(0, 0, 0, 0.3));\n",
              "      fill: #FFFFFF;\n",
              "    }\n",
              "  </style>\n",
              "\n",
              "      <script>\n",
              "        const buttonEl =\n",
              "          document.querySelector('#df-1deab257-2610-42ca-b025-5885069cfbf4 button.colab-df-convert');\n",
              "        buttonEl.style.display =\n",
              "          google.colab.kernel.accessAllowed ? 'block' : 'none';\n",
              "\n",
              "        async function convertToInteractive(key) {\n",
              "          const element = document.querySelector('#df-1deab257-2610-42ca-b025-5885069cfbf4');\n",
              "          const dataTable =\n",
              "            await google.colab.kernel.invokeFunction('convertToInteractive',\n",
              "                                                     [key], {});\n",
              "          if (!dataTable) return;\n",
              "\n",
              "          const docLinkHtml = 'Like what you see? Visit the ' +\n",
              "            '<a target=\"_blank\" href=https://colab.research.google.com/notebooks/data_table.ipynb>data table notebook</a>'\n",
              "            + ' to learn more about interactive tables.';\n",
              "          element.innerHTML = '';\n",
              "          dataTable['output_type'] = 'display_data';\n",
              "          await google.colab.output.renderOutput(dataTable, element);\n",
              "          const docLink = document.createElement('div');\n",
              "          docLink.innerHTML = docLinkHtml;\n",
              "          element.appendChild(docLink);\n",
              "        }\n",
              "      </script>\n",
              "    </div>\n",
              "  </div>\n",
              "  "
            ]
          },
          "metadata": {},
          "execution_count": 47
        }
      ],
      "source": [
        "principalDf.head()"
      ]
    },
    {
      "cell_type": "code",
      "execution_count": null,
      "id": "3873c189",
      "metadata": {
        "id": "3873c189",
        "outputId": "4414b656-8e20-4e0e-d543-2dc8dc85709f",
        "colab": {
          "base_uri": "https://localhost:8080/"
        }
      },
      "outputs": [
        {
          "output_type": "stream",
          "name": "stdout",
          "text": [
            "OP01good    42\n",
            "OP10good    42\n",
            "OP04bad     42\n",
            "OP04good    42\n",
            "OP10bad     42\n",
            "OP02bad     42\n",
            "OP02good    41\n",
            "OP01bad     41\n",
            "OP07good    41\n",
            "OP07bad     41\n",
            "Name: operationcondition, dtype: int64 OP02bad     168\n",
            "OP04bad     168\n",
            "OP10bad     168\n",
            "OP02good    166\n",
            "OP07good    166\n",
            "OP01good    165\n",
            "OP04good    165\n",
            "OP10good    165\n",
            "OP07bad     165\n",
            "OP01bad     165\n",
            "Name: operationcondition, dtype: int64\n"
          ]
        }
      ],
      "source": [
        "#TRAIN TEST SPLIT\n",
        "\n",
        "from sklearn.model_selection import train_test_split\n",
        "X_train, X_test, y_train, y_test = train_test_split(principalDf, Y,test_size = 0.2, stratify = Y,\n",
        "                                                                    random_state = 123)\n",
        "print (y_test.value_counts(), y_train.value_counts())"
      ]
    },
    {
      "cell_type": "code",
      "execution_count": null,
      "id": "0a4b07bb",
      "metadata": {
        "collapsed": true,
        "id": "0a4b07bb",
        "outputId": "e68767fd-682d-4939-d880-312e8bdcd1de",
        "colab": {
          "base_uri": "https://localhost:8080/"
        }
      },
      "outputs": [
        {
          "output_type": "stream",
          "name": "stderr",
          "text": [
            "[Parallel(n_jobs=1)]: Using backend SequentialBackend with 1 concurrent workers.\n"
          ]
        },
        {
          "output_type": "stream",
          "name": "stdout",
          "text": [
            "Accuracy: 0.7596153846153846\n",
            "\n",
            " -------------Classification Report-------------\n",
            "\n",
            "              precision    recall  f1-score   support\n",
            "\n",
            "     OP01bad       0.76      0.78      0.77        41\n",
            "    OP01good       0.63      0.81      0.71        42\n",
            "     OP02bad       0.91      0.98      0.94        42\n",
            "    OP02good       0.76      0.76      0.76        41\n",
            "     OP04bad       0.91      0.71      0.80        42\n",
            "    OP04good       0.69      0.57      0.62        42\n",
            "     OP07bad       0.89      0.80      0.85        41\n",
            "    OP07good       0.79      0.80      0.80        41\n",
            "     OP10bad       0.76      0.74      0.75        42\n",
            "    OP10good       0.59      0.64      0.61        42\n",
            "\n",
            "    accuracy                           0.76       416\n",
            "   macro avg       0.77      0.76      0.76       416\n",
            "weighted avg       0.77      0.76      0.76       416\n",
            "\n"
          ]
        },
        {
          "output_type": "stream",
          "name": "stderr",
          "text": [
            "[Parallel(n_jobs=1)]: Done 200 out of 200 | elapsed:    1.5s finished\n",
            "[Parallel(n_jobs=1)]: Using backend SequentialBackend with 1 concurrent workers.\n",
            "[Parallel(n_jobs=1)]: Done 200 out of 200 | elapsed:    0.0s finished\n"
          ]
        }
      ],
      "source": [
        "MODEL = RandomForestClassifier(bootstrap = True, max_depth= 30,min_samples_leaf=1, min_samples_split= 5, n_estimators= 200, random_state = 42, verbose=1)\n",
        "MODEL.fit(X_train, y_train)\n",
        "y_pred = MODEL.predict(X_test)\n",
        "print(\"Accuracy:\", accuracy_score(y_test, y_pred))\n",
        "print(\"\\n -------------Classification Report-------------\\n\")\n",
        "print(classification_report(y_test, y_pred))"
      ]
    },
    {
      "cell_type": "markdown",
      "id": "523116f5",
      "metadata": {
        "id": "523116f5"
      },
      "source": [
        "# FFT "
      ]
    },
    {
      "cell_type": "code",
      "execution_count": null,
      "id": "e6e1eaaa",
      "metadata": {
        "id": "e6e1eaaa"
      },
      "outputs": [],
      "source": [
        "# from scipy.fftpack import fft, ifft\n",
        "# sr = 2000\n",
        "# t = df['Time (s)'].values\n",
        "# x = df['X'].values\n",
        "\n",
        "# X = fft(x)\n",
        "# N = len(X)\n",
        "# n = np.arange(N)\n",
        "# T = N/sr\n",
        "# freq = n/T "
      ]
    },
    {
      "cell_type": "code",
      "execution_count": null,
      "id": "449422bd",
      "metadata": {
        "collapsed": true,
        "id": "449422bd",
        "outputId": "b5d6a46d-6834-4a4f-8d87-4fd4b60e6adf"
      },
      "outputs": [
        {
          "data": {
            "image/png": "[encoded data removed]",
            "text/plain": [
              "<Figure size 2200x1200 with 3 Axes>"
            ]
          },
          "metadata": {},
          "output_type": "display_data"
        }
      ],
      "source": [
        "#Ploting the signals\n",
        "# plt.figure(figsize = (22, 12))\n",
        "# plt.subplot(3,1,1)\n",
        "# plt.plot(t, x, 'k',)\n",
        "# plt.xlabel('time (s)')\n",
        "# plt.ylabel('x')\n",
        "# plt.title ('original signal')\n",
        "# plt.xlim(0, 10)\n",
        "\n",
        "# plt.subplot(3,1,2)\n",
        "# plt.plot(coeffs[0], 'r')\n",
        "# plt.xlabel('samples')\n",
        "# plt.ylabel('cA2')\n",
        "# plt.title ('Approximate coefficient')\n",
        "\n",
        "# plt.subplot(3,1,3)\n",
        "# plt.plot(coeffs[1], 'g')\n",
        "# plt.xlabel('samples')\n",
        "# plt.ylabel('cD2')\n",
        "# plt.title ('Detail coefficient')\n",
        "\n",
        "# plt.subplot(9,1,4)\n",
        "# plt.plot(coeff3, 'g')\n",
        "# plt.xlabel('samples')\n",
        "# plt.ylabel('cD1')\n",
        "# plt.title ('Detail coefficient')\n",
        "\n",
        "# plt.subplot(9,1,5)\n",
        "# plt.plot(coeff4, 'g')\n",
        "# plt.xlabel('samples')\n",
        "# plt.ylabel('cD1')\n",
        "# plt.title ('Detail coefficient')\n",
        "\n",
        "# plt.subplot(9,1,6)\n",
        "# plt.plot(coeff5, 'g')\n",
        "# plt.xlabel('samples')\n",
        "# plt.ylabel('cD1')\n",
        "# plt.title ('Detail coefficient')\n",
        "\n",
        "# plt.subplot(9,1,7)\n",
        "# plt.plot(coeff6, 'g')\n",
        "# plt.xlabel('samples')\n",
        "# plt.ylabel('cD1')\n",
        "# plt.title ('Detail coefficient')\n",
        "\n",
        "# plt.subplot(9,1,8)\n",
        "# plt.plot(coeff7, 'g')\n",
        "# plt.xlabel('samples')\n",
        "# plt.ylabel('cD1')\n",
        "# plt.title ('Detail coefficient')\n",
        "\n",
        "# plt.subplot(9,1,9)\n",
        "# plt.plot(coeff8, 'g')\n",
        "# plt.xlabel('samples')\n",
        "# plt.ylabel('cD1')\n",
        "# plt.title ('Detail coefficient')\n",
        "\n",
        "# plt.subplot(3,1,3)\n",
        "# plt.plot(t,y[0:6799], 'g')\n",
        "# plt.xlabel('time')\n",
        "# plt.ylabel('value')\n",
        "# plt.title ('reconstructed signal')\n",
        "\n",
        "# plt.show()"
      ]
    }
  ],
  "metadata": {
    "kernelspec": {
      "display_name": "Python 3 (ipykernel)",
      "language": "python",
      "name": "python3"
    },
    "language_info": {
      "codemirror_mode": {
        "name": "ipython",
        "version": 3
      },
      "file_extension": ".py",
      "mimetype": "text/x-python",
      "name": "python",
      "nbconvert_exporter": "python",
      "pygments_lexer": "ipython3",
      "version": "3.9.13"
    },
    "colab": {
      "provenance": [],
      "include_colab_link": true
    }
  },
  "nbformat": 4,
  "nbformat_minor": 5
}