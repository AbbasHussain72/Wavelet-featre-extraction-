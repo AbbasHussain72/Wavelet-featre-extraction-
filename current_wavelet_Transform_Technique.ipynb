{
  "cells": [
    {
      "cell_type": "markdown",
      "metadata": {
        "id": "view-in-github",
        "colab_type": "text"
      },
      "source": [
        "<a href=\"https://colab.research.google.com/github/AbbasHussain72/Wavelet-featre-extraction-/blob/main/current_wavelet_Transform_Technique.ipynb\" target=\"_parent\"><img src=\"https://colab.research.google.com/assets/colab-badge.svg\" alt=\"Open In Colab\"/></a>"
      ]
    },
    {
      "cell_type": "code",
      "execution_count": 1,
      "id": "5bc96d7f",
      "metadata": {
        "id": "5bc96d7f"
      },
      "outputs": [],
      "source": [
        "import h5py\n",
        "import pandas as pd\n",
        "import numpy as np\n",
        "import math\n",
        "import matplotlib\n",
        "import matplotlib.pyplot as plt\n",
        "from scipy import stats\n",
        "from matplotlib.widgets import SpanSelector\n",
        "import glob\n",
        "import os\n",
        "import re"
      ]
    },
    {
      "cell_type": "code",
      "source": [
        "import matplotlib as mpl\n",
        "import numpy as np\n",
        "import matplotlib.font_manager as fm\n",
        "from matplotlib import font_manager as fm, pyplot as plt\n",
        "\n",
        "!wget https://github.com/trishume/OpenTuringCompiler/blob/master/stdlib-sfml/fonts/Times%20New%20Roman.ttf\n",
        "!wget https://github.com/matomo-org/travis-scripts/blob/master/fonts/Arial.ttf \n",
        "\n",
        "font_files = fm.findSystemFonts()\n",
        "\n",
        "# Go through and add each to Matplotlib's font cache.\n",
        "for font_file in font_files:\n",
        "    fm.fontManager.addfont(font_file)\n",
        "\n",
        "# Use your new font on all your plots.\n",
        "plt.rc('font', family='serif ')\n"
      ],
      "metadata": {
        "id": "SRH_z0F8OoIV",
        "outputId": "2aa89840-822a-468e-9182-74e3a99dc710",
        "colab": {
          "base_uri": "https://localhost:8080/"
        }
      },
      "id": "SRH_z0F8OoIV",
      "execution_count": null,
      "outputs": [
        {
          "output_type": "stream",
          "name": "stdout",
          "text": [
            "--2023-04-02 03:40:11--  https://github.com/trishume/OpenTuringCompiler/blob/master/stdlib-sfml/fonts/Times%20New%20Roman.ttf\n",
            "Resolving github.com (github.com)... 140.82.112.3\n",
            "Connecting to github.com (github.com)|140.82.112.3|:443... connected.\n",
            "HTTP request sent, awaiting response... 200 OK\n",
            "Length: unspecified [text/html]\n",
            "Saving to: ‘Times New Roman.ttf’\n",
            "\n",
            "Times New Roman.ttf     [ <=>                ] 138.04K  --.-KB/s    in 0.007s  \n",
            "\n",
            "2023-04-02 03:40:12 (18.3 MB/s) - ‘Times New Roman.ttf’ saved [141350]\n",
            "\n",
            "--2023-04-02 03:40:12--  https://github.com/matomo-org/travis-scripts/blob/master/fonts/Arial.ttf\n",
            "Resolving github.com (github.com)... 140.82.112.3\n",
            "Connecting to github.com (github.com)|140.82.112.3|:443... connected.\n",
            "HTTP request sent, awaiting response... 200 OK\n",
            "Length: unspecified [text/html]\n",
            "Saving to: ‘Arial.ttf’\n",
            "\n",
            "Arial.ttf               [ <=>                ] 135.31K  --.-KB/s    in 0.009s  \n",
            "\n",
            "2023-04-02 03:40:12 (14.4 MB/s) - ‘Arial.ttf’ saved [138562]\n",
            "\n"
          ]
        }
      ]
    },
    {
      "cell_type": "markdown",
      "source": [],
      "metadata": {
        "id": "9o_ilzxJn43i"
      },
      "id": "9o_ilzxJn43i"
    },
    {
      "cell_type": "code",
      "source": [
        "from google.colab import drive\n",
        "drive.mount('/content/drive')"
      ],
      "metadata": {
        "colab": {
          "base_uri": "https://localhost:8080/"
        },
        "id": "lua8Ww8vabiJ",
        "outputId": "47baf8fd-f13c-490e-8c32-84bd4f27cdd1"
      },
      "id": "lua8Ww8vabiJ",
      "execution_count": 2,
      "outputs": [
        {
          "output_type": "stream",
          "name": "stdout",
          "text": [
            "Mounted at /content/drive\n"
          ]
        }
      ]
    },
    {
      "cell_type": "code",
      "execution_count": null,
      "id": "0bbec88d",
      "metadata": {
        "id": "0bbec88d"
      },
      "outputs": [],
      "source": [
        "#read datafile and reset index\n",
        "path = '/content/drive/MyDrive/goodbaddatanewbalanced.csv'\n",
        "masterdata = pd.read_csv(path,sep='\\t')\n",
        "masterdata = masterdata.drop(['Unnamed: 0'], axis = 1)"
      ]
    },
    {
      "cell_type": "code",
      "source": [
        "df = masterdata"
      ],
      "metadata": {
        "id": "OCC-cdKwjbnp"
      },
      "id": "OCC-cdKwjbnp",
      "execution_count": null,
      "outputs": []
    },
    {
      "cell_type": "code",
      "source": [
        "#read wavelet names file\n",
        "path = '/content/drive/MyDrive/wavelet_names.csv'\n",
        "md = pd.read_csv(path,sep=',')\n",
        "wavelets= md['Wavelets'].tolist()"
      ],
      "metadata": {
        "id": "iB7T0meVPXQN"
      },
      "id": "iB7T0meVPXQN",
      "execution_count": 3,
      "outputs": []
    },
    {
      "cell_type": "markdown",
      "source": [
        "# Data Analysis"
      ],
      "metadata": {
        "id": "qoyj9re3gspk"
      },
      "id": "qoyj9re3gspk"
    },
    {
      "cell_type": "code",
      "execution_count": null,
      "id": "a032198b",
      "metadata": {
        "id": "a032198b"
      },
      "outputs": [],
      "source": [
        "#To take interested data\n",
        "# df = masterdata[(masterdata['Tool'] == 'OP01') | (masterdata['Tool'] == 'OP02')| (masterdata['Tool'] == 'OP04')| (masterdata['Tool'] == 'OP07')| (masterdata['Tool'] == 'OP10')]"
      ]
    },
    {
      "cell_type": "code",
      "source": [
        "#Function for balancing the data according to condition, tool and machine\n",
        "# def balance(df,con1,con2,con3):\n",
        "#   v = []\n",
        "#   v = df[(df['Tool'] == con1) & (df['Condition'] == con2)& (df['Machine'] == con3)].index\n",
        "#   f = df[(df['Tool'] == 'OP02') & (df['Condition'] == 'bad') & (df['Machine'] == 'M01')].index\n",
        "\n",
        "\n",
        "#   # h = df[(df['Tool'] == 'con1') & (df['Condition'] == 'con2')].shape\n",
        "#   bb = abs(len(v)- len(f))\n",
        "#   v = v[0:bb]\n",
        "#   new = df.loc[df.index.drop(v)]\n",
        "\n",
        "#   return new"
      ],
      "metadata": {
        "id": "daEUPM-rN_B5"
      },
      "id": "daEUPM-rN_B5",
      "execution_count": null,
      "outputs": []
    },
    {
      "cell_type": "code",
      "source": [
        "# df = balance(df,'OP02','good','M01')\n"
      ],
      "metadata": {
        "id": "1XPTcwu-aC4D"
      },
      "id": "1XPTcwu-aC4D",
      "execution_count": null,
      "outputs": []
    },
    {
      "cell_type": "code",
      "source": [
        "# Grouped the data for bar plot\n",
        "grouped = df.groupby(['Tool', 'Machine', 'Condition']).size().reset_index(name='counts')\n",
        "\n",
        "# Pivot the data to create a stacked bar plot\n",
        "pivot = grouped.pivot_table(index=['Tool', 'Machine'], columns='Condition', values='counts', aggfunc='sum', fill_value=0)\n",
        "\n",
        "# Plot the stacked bar chart\n",
        "colors = {'good': 'blue', 'bad': 'black'}\n",
        "ax = pivot.plot.bar(stacked=True, color=[colors[c] for c in pivot.columns], figsize=(10, 6))\n",
        "\n",
        "# Set the labels for the axes and the title\n",
        "ax.set_xlabel('Tool, Machine')\n",
        "ax.set_ylabel('Counts')\n",
        "ax.set_title('Counts of Good and Bad Conditions for Tools and Machines')\n",
        "\n",
        "# Show the plot\n",
        "plt.show()\n"
      ],
      "metadata": {
        "colab": {
          "base_uri": "https://localhost:8080/",
          "height": 636
        },
        "id": "CEuoEzNG_D05",
        "outputId": "db58f043-4f43-4ffb-c7f3-10b910fc28a1"
      },
      "id": "CEuoEzNG_D05",
      "execution_count": null,
      "outputs": [
        {
          "output_type": "display_data",
          "data": {
            "text/plain": [
              "<Figure size 1000x600 with 1 Axes>"
            ],
            "image/png": "[encoded data removed]"
          },
          "metadata": {}
        }
      ]
    },
    {
      "cell_type": "code",
      "source": [
        "import seaborn as sns\n",
        "# Create a grouped bar chart\n",
        "sns.catplot(x=\"Machine\", y=\"counts\", hue=\"Condition\", col=\"Tool\", data=grouped, kind=\"bar\", height=4, aspect=.7)\n"
      ],
      "metadata": {
        "id": "rXHwPxqx-KmL",
        "outputId": "91b97f56-68fa-47d9-8f00-c692fb1a6068",
        "colab": {
          "base_uri": "https://localhost:8080/",
          "height": 283
        }
      },
      "id": "rXHwPxqx-KmL",
      "execution_count": null,
      "outputs": [
        {
          "output_type": "execute_result",
          "data": {
            "text/plain": [
              "<seaborn.axisgrid.FacetGrid at 0x7fd63e09ed30>"
            ]
          },
          "metadata": {},
          "execution_count": 26
        },
        {
          "output_type": "display_data",
          "data": {
            "text/plain": [
              "<Figure size 1484.75x400 with 5 Axes>"
            ],
            "image/png": "[encoded data removed]"
          },
          "metadata": {}
        }
      ]
    },
    {
      "cell_type": "code",
      "execution_count": null,
      "id": "a9e2fee9",
      "metadata": {
        "id": "a9e2fee9",
        "outputId": "2ac5aa78-d81c-4eec-be5a-2401bf45de7c",
        "colab": {
          "base_uri": "https://localhost:8080/",
          "height": 395
        }
      },
      "outputs": [
        {
          "output_type": "display_data",
          "data": {
            "text/plain": [
              "<Figure size 700x400 with 1 Axes>"
            ],
            "image/png": "[encoded data removed]"
          },
          "metadata": {}
        }
      ],
      "source": [
        "#plotting the data\n",
        "import seaborn as sns\n",
        "from scipy import stats\n",
        "from scipy.signal import find_peaks\n",
        "sns.set_style('whitegrid')\n",
        "plt.figure(figsize = (7, 4),facecolor=(1, 1, 1))\n",
        "# Use your new font on all your plots.\n",
        "plt.rc('font', family='serif ')\n",
        "#plot\n",
        "sns.countplot(x = 'Tool',hue = 'Condition',data = df,palette=['blue', 'green'])\n",
        "#plt.title('Number of samples', fontsize=16)\n",
        "plt.xlabel('Tool Operations', fontsize=14)\n",
        "plt.ylabel('# Number of samples', fontsize=14)\n",
        "plt.xticks(fontsize=12)\n",
        "plt.yticks(fontsize=12)\n",
        "plt.grid(False)\n",
        "\n",
        "# Set the limits of the x and y axes\n",
        "#plt.xlim(left=-0.5, right=2.5)\n",
        "plt.ylim(bottom=0, top=260000)\n",
        "\n",
        "# Get the current legend handles and labels\n",
        "handles, labels = plt.gca().get_legend_handles_labels()\n",
        "\n",
        "# Modify the labels\n",
        "labels[0] = 'OK'\n",
        "labels[1] = 'NOK'\n",
        "# labels[2] = 'M03'\n",
        "\n",
        "# Create a new legend with the modified labels\n",
        "plt.legend(handles, labels, fontsize = 14,ncol=3,edgecolor='None')\n",
        "\n",
        "\n",
        "# plt.savefig('databar_machine.tiff', dpi=300, bbox_inches=\"tight\")\n",
        "# plt.close()\n",
        "plt.show()\n"
      ]
    },
    {
      "cell_type": "code",
      "source": [
        "#Plotting the time series data sample\n",
        "ff = masterdata[(masterdata['Tool'] == 'OP01') & (masterdata['Machine'] == 'M01')& (masterdata['Condition'] == 'good') & (masterdata['Repeat'] == 4)]\n",
        "ff = ff.reset_index(drop = True)\n",
        "ff1 = masterdata[(masterdata['Tool'] == 'OP01') & (masterdata['Machine'] == 'M01')& (masterdata['Condition'] == 'bad') & (masterdata['Repeat'] == 0)]\n",
        "ff1 = ff1.reset_index(drop = True)"
      ],
      "metadata": {
        "id": "I3w2LEt6ORVT"
      },
      "id": "I3w2LEt6ORVT",
      "execution_count": null,
      "outputs": []
    },
    {
      "cell_type": "code",
      "source": [
        "# subtracting the value to get zero starting value\n",
        "ff.loc[:, 'Time (s)'] = ff['Time (s)'] - 4.9440\n",
        "ff = ff.copy()\n",
        "ff1.loc[:, 'Time (s)'] = ff1['Time (s)'] - 4.9440\n",
        "ff1 = ff1.copy()"
      ],
      "metadata": {
        "id": "NZYbz9tN198V"
      },
      "id": "NZYbz9tN198V",
      "execution_count": null,
      "outputs": []
    },
    {
      "cell_type": "code",
      "source": [
        "# plt.rcParams['font.family']"
      ],
      "metadata": {
        "id": "JeCD2MU4Z1rv",
        "outputId": "e1bb6a7e-7c23-4861-ed8d-ca71e20ab02b",
        "colab": {
          "base_uri": "https://localhost:8080/"
        }
      },
      "id": "JeCD2MU4Z1rv",
      "execution_count": null,
      "outputs": [
        {
          "output_type": "execute_result",
          "data": {
            "text/plain": [
              "['serif']"
            ]
          },
          "metadata": {},
          "execution_count": 9
        }
      ]
    },
    {
      "cell_type": "code",
      "source": [
        "import matplotlib.pyplot as plt\n",
        "# Create a figure with 3 subplots arranged vertically\n",
        "fig, axs = plt.subplots(nrows=3, ncols=1, figsize=(8, 8))\n",
        "plt.rc('font', family='serif ')\n",
        "# Plot data in each subplot\n",
        "axs[0].plot(ff1['Time (s)'], ff1['X'],'brown')\n",
        "axs[0].plot(ff['Time (s)'], ff['X'],'b')\n",
        "\n",
        "axs[1].plot(ff1['Time (s)'], ff1['Y'],'brown')\n",
        "axs[1].plot(ff['Time (s)'], ff['Y'],'b')\n",
        "\n",
        "axs[2].plot(ff1['Time (s)'], ff1['Z'],'brown')\n",
        "axs[2].plot(ff['Time (s)'], ff['Z'],'b')\n",
        "\n",
        "\n",
        "# set the axis limit\n",
        "axs[0].set_xlim(0,15)\n",
        "axs[1].set_xlim(0,15)\n",
        "axs[2].set_xlim(0,15)\n",
        "axs[0].set_ylim(-2000,3500)\n",
        "axs[1].set_ylim(-1000,1500)\n",
        "axs[2].set_ylim(-2000,8)\n",
        "\n",
        "# set label\n",
        "axs[0].set_xlabel('Time (sec)', fontsize=14)\n",
        "axs[0].set_ylabel('X-axis', fontsize=14)\n",
        "axs[1].set_xlabel('Time (sec)', fontsize=14)\n",
        "axs[1].set_ylabel('Y-axis', fontsize=14)\n",
        "axs[2].set_xlabel('Time (sec)', fontsize=14)\n",
        "axs[2].set_ylabel('Z-axis', fontsize=14)\n",
        "\n",
        "# set font size of tick labels\n",
        "axs[0].tick_params(axis='both', labelsize=12)\n",
        "axs[1].tick_params(axis='both', labelsize=12)\n",
        "axs[2].tick_params(axis='both', labelsize=12)\n",
        "\n",
        "# remove grid lines from subplot\n",
        "axs[0].grid(False)\n",
        "axs[1].grid(False)\n",
        "axs[2].grid(False)\n",
        "\n",
        "# Set the overall title of the figure\n",
        "#fig.suptitle('Three subplots', fontsize=16)\n",
        "\n",
        "# Adjust the spacing between subplots\n",
        "plt.subplots_adjust(hspace=0.4)\n",
        "\n",
        "# Show the plot\n",
        "plt.show()\n",
        "\n",
        "# Save the plot in TIFF format with a resolution of 300 pixels and transparent background\n",
        "# plt.savefig('plotsample.tiff', dpi=300, format='tiff', transparent=True)\n",
        "\n",
        "plt.clf()\n"
      ],
      "metadata": {
        "id": "ecL-Kvnpx9xz",
        "outputId": "a221ff43-fd93-404b-b189-67ba61ec2f77",
        "colab": {
          "base_uri": "https://localhost:8080/",
          "height": 720
        }
      },
      "id": "ecL-Kvnpx9xz",
      "execution_count": null,
      "outputs": [
        {
          "output_type": "display_data",
          "data": {
            "text/plain": [
              "<Figure size 800x800 with 3 Axes>"
            ],
            "image/png": "[encoded data removed]"
          },
          "metadata": {}
        },
        {
          "output_type": "display_data",
          "data": {
            "text/plain": [
              "<Figure size 640x480 with 0 Axes>"
            ]
          },
          "metadata": {}
        }
      ]
    },
    {
      "cell_type": "code",
      "source": [
        " plt.close()"
      ],
      "metadata": {
        "id": "sTz5Ewq_kzat"
      },
      "id": "sTz5Ewq_kzat",
      "execution_count": null,
      "outputs": []
    },
    {
      "cell_type": "code",
      "source": [
        "# df.to_csv('goodbaddatanewbalanced.csv', sep='\\t') # relative position"
      ],
      "metadata": {
        "id": "T0MIDQLnp7cX"
      },
      "id": "T0MIDQLnp7cX",
      "execution_count": null,
      "outputs": []
    },
    {
      "cell_type": "markdown",
      "source": [],
      "metadata": {
        "id": "K8HYuFZn0b39"
      },
      "id": "K8HYuFZn0b39"
    },
    {
      "cell_type": "markdown",
      "source": [
        "# FFT of the signal for decomposition level selection "
      ],
      "metadata": {
        "id": "u4aR07760ebw"
      },
      "id": "u4aR07760ebw"
    },
    {
      "cell_type": "code",
      "source": [
        "#Plotting the time series data sample\n",
        "# ff = masterdata[(masterdata['Tool'] == 'OP02') & (masterdata['Machine'] == 'M01')& (masterdata['Condition'] == 'good')]\n",
        "ff = masterdata[(masterdata['Tool'] == 'OP02') & (masterdata['Machine'] == 'M01')& (masterdata['Condition'] == 'bad') & (masterdata['Repeat'] == 0)]\n",
        "ff = ff.reset_index(drop = True)"
      ],
      "metadata": {
        "id": "R-LLXS7K0oRh"
      },
      "id": "R-LLXS7K0oRh",
      "execution_count": null,
      "outputs": []
    },
    {
      "cell_type": "code",
      "source": [
        "ff.Repeat.unique()"
      ],
      "metadata": {
        "colab": {
          "base_uri": "https://localhost:8080/"
        },
        "id": "EGNKjdft6nsQ",
        "outputId": "318dd5db-c2a5-4b08-bee9-98363c407a84"
      },
      "id": "EGNKjdft6nsQ",
      "execution_count": null,
      "outputs": [
        {
          "output_type": "execute_result",
          "data": {
            "text/plain": [
              "array([0])"
            ]
          },
          "metadata": {},
          "execution_count": 56
        }
      ]
    },
    {
      "cell_type": "code",
      "source": [
        "ff.head()"
      ],
      "metadata": {
        "colab": {
          "base_uri": "https://localhost:8080/",
          "height": 206
        },
        "id": "pBDNkl1p2Ibh",
        "outputId": "83d83136-3862-4be6-d804-bbb671a74c1c"
      },
      "id": "pBDNkl1p2Ibh",
      "execution_count": null,
      "outputs": [
        {
          "output_type": "execute_result",
          "data": {
            "text/plain": [
              "  Machine     Date  Tool Condition  Repeat  Time (s)     X      Y       Z\n",
              "0     M01  Feb2019  OP02       bad       0    0.0000  27.0  103.0 -1116.0\n",
              "1     M01  Feb2019  OP02       bad       0    0.0005  29.0 -304.0 -1134.0\n",
              "2     M01  Feb2019  OP02       bad       0    0.0010 -91.0  -80.0  -964.0\n",
              "3     M01  Feb2019  OP02       bad       0    0.0015 -97.0  234.0  -954.0\n",
              "4     M01  Feb2019  OP02       bad       0    0.0020 -17.0   97.0 -1030.0"
            ],
            "text/html": [
              "\n",
              "  <div id=\"df-f1abcdab-f742-4497-8508-dc81844f4b54\">\n",
              "    <div class=\"colab-df-container\">\n",
              "      <div>\n",
              "<style scoped>\n",
              "    .dataframe tbody tr th:only-of-type {\n",
              "        vertical-align: middle;\n",
              "    }\n",
              "\n",
              "    .dataframe tbody tr th {\n",
              "        vertical-align: top;\n",
              "    }\n",
              "\n",
              "    .dataframe thead th {\n",
              "        text-align: right;\n",
              "    }\n",
              "</style>\n",
              "<table border=\"1\" class=\"dataframe\">\n",
              "  <thead>\n",
              "    <tr style=\"text-align: right;\">\n",
              "      <th></th>\n",
              "      <th>Machine</th>\n",
              "      <th>Date</th>\n",
              "      <th>Tool</th>\n",
              "      <th>Condition</th>\n",
              "      <th>Repeat</th>\n",
              "      <th>Time (s)</th>\n",
              "      <th>X</th>\n",
              "      <th>Y</th>\n",
              "      <th>Z</th>\n",
              "    </tr>\n",
              "  </thead>\n",
              "  <tbody>\n",
              "    <tr>\n",
              "      <th>0</th>\n",
              "      <td>M01</td>\n",
              "      <td>Feb2019</td>\n",
              "      <td>OP02</td>\n",
              "      <td>bad</td>\n",
              "      <td>0</td>\n",
              "      <td>0.0000</td>\n",
              "      <td>27.0</td>\n",
              "      <td>103.0</td>\n",
              "      <td>-1116.0</td>\n",
              "    </tr>\n",
              "    <tr>\n",
              "      <th>1</th>\n",
              "      <td>M01</td>\n",
              "      <td>Feb2019</td>\n",
              "      <td>OP02</td>\n",
              "      <td>bad</td>\n",
              "      <td>0</td>\n",
              "      <td>0.0005</td>\n",
              "      <td>29.0</td>\n",
              "      <td>-304.0</td>\n",
              "      <td>-1134.0</td>\n",
              "    </tr>\n",
              "    <tr>\n",
              "      <th>2</th>\n",
              "      <td>M01</td>\n",
              "      <td>Feb2019</td>\n",
              "      <td>OP02</td>\n",
              "      <td>bad</td>\n",
              "      <td>0</td>\n",
              "      <td>0.0010</td>\n",
              "      <td>-91.0</td>\n",
              "      <td>-80.0</td>\n",
              "      <td>-964.0</td>\n",
              "    </tr>\n",
              "    <tr>\n",
              "      <th>3</th>\n",
              "      <td>M01</td>\n",
              "      <td>Feb2019</td>\n",
              "      <td>OP02</td>\n",
              "      <td>bad</td>\n",
              "      <td>0</td>\n",
              "      <td>0.0015</td>\n",
              "      <td>-97.0</td>\n",
              "      <td>234.0</td>\n",
              "      <td>-954.0</td>\n",
              "    </tr>\n",
              "    <tr>\n",
              "      <th>4</th>\n",
              "      <td>M01</td>\n",
              "      <td>Feb2019</td>\n",
              "      <td>OP02</td>\n",
              "      <td>bad</td>\n",
              "      <td>0</td>\n",
              "      <td>0.0020</td>\n",
              "      <td>-17.0</td>\n",
              "      <td>97.0</td>\n",
              "      <td>-1030.0</td>\n",
              "    </tr>\n",
              "  </tbody>\n",
              "</table>\n",
              "</div>\n",
              "      <button class=\"colab-df-convert\" onclick=\"convertToInteractive('df-f1abcdab-f742-4497-8508-dc81844f4b54')\"\n",
              "              title=\"Convert this dataframe to an interactive table.\"\n",
              "              style=\"display:none;\">\n",
              "        \n",
              "  <svg xmlns=\"http://www.w3.org/2000/svg\" height=\"24px\"viewBox=\"0 0 24 24\"\n",
              "       width=\"24px\">\n",
              "    <path d=\"M0 0h24v24H0V0z\" fill=\"none\"/>\n",
              "    <path d=\"M18.56 5.44l.94 2.06.94-2.06 2.06-.94-2.06-.94-.94-2.06-.94 2.06-2.06.94zm-11 1L8.5 8.5l.94-2.06 2.06-.94-2.06-.94L8.5 2.5l-.94 2.06-2.06.94zm10 10l.94 2.06.94-2.06 2.06-.94-2.06-.94-.94-2.06-.94 2.06-2.06.94z\"/><path d=\"M17.41 7.96l-1.37-1.37c-.4-.4-.92-.59-1.43-.59-.52 0-1.04.2-1.43.59L10.3 9.45l-7.72 7.72c-.78.78-.78 2.05 0 2.83L4 21.41c.39.39.9.59 1.41.59.51 0 1.02-.2 1.41-.59l7.78-7.78 2.81-2.81c.8-.78.8-2.07 0-2.86zM5.41 20L4 18.59l7.72-7.72 1.47 1.35L5.41 20z\"/>\n",
              "  </svg>\n",
              "      </button>\n",
              "      \n",
              "  <style>\n",
              "    .colab-df-container {\n",
              "      display:flex;\n",
              "      flex-wrap:wrap;\n",
              "      gap: 12px;\n",
              "    }\n",
              "\n",
              "    .colab-df-convert {\n",
              "      background-color: #E8F0FE;\n",
              "      border: none;\n",
              "      border-radius: 50%;\n",
              "      cursor: pointer;\n",
              "      display: none;\n",
              "      fill: #1967D2;\n",
              "      height: 32px;\n",
              "      padding: 0 0 0 0;\n",
              "      width: 32px;\n",
              "    }\n",
              "\n",
              "    .colab-df-convert:hover {\n",
              "      background-color: #E2EBFA;\n",
              "      box-shadow: 0px 1px 2px rgba(60, 64, 67, 0.3), 0px 1px 3px 1px rgba(60, 64, 67, 0.15);\n",
              "      fill: #174EA6;\n",
              "    }\n",
              "\n",
              "    [theme=dark] .colab-df-convert {\n",
              "      background-color: #3B4455;\n",
              "      fill: #D2E3FC;\n",
              "    }\n",
              "\n",
              "    [theme=dark] .colab-df-convert:hover {\n",
              "      background-color: #434B5C;\n",
              "      box-shadow: 0px 1px 3px 1px rgba(0, 0, 0, 0.15);\n",
              "      filter: drop-shadow(0px 1px 2px rgba(0, 0, 0, 0.3));\n",
              "      fill: #FFFFFF;\n",
              "    }\n",
              "  </style>\n",
              "\n",
              "      <script>\n",
              "        const buttonEl =\n",
              "          document.querySelector('#df-f1abcdab-f742-4497-8508-dc81844f4b54 button.colab-df-convert');\n",
              "        buttonEl.style.display =\n",
              "          google.colab.kernel.accessAllowed ? 'block' : 'none';\n",
              "\n",
              "        async function convertToInteractive(key) {\n",
              "          const element = document.querySelector('#df-f1abcdab-f742-4497-8508-dc81844f4b54');\n",
              "          const dataTable =\n",
              "            await google.colab.kernel.invokeFunction('convertToInteractive',\n",
              "                                                     [key], {});\n",
              "          if (!dataTable) return;\n",
              "\n",
              "          const docLinkHtml = 'Like what you see? Visit the ' +\n",
              "            '<a target=\"_blank\" href=https://colab.research.google.com/notebooks/data_table.ipynb>data table notebook</a>'\n",
              "            + ' to learn more about interactive tables.';\n",
              "          element.innerHTML = '';\n",
              "          dataTable['output_type'] = 'display_data';\n",
              "          await google.colab.output.renderOutput(dataTable, element);\n",
              "          const docLink = document.createElement('div');\n",
              "          docLink.innerHTML = docLinkHtml;\n",
              "          element.appendChild(docLink);\n",
              "        }\n",
              "      </script>\n",
              "    </div>\n",
              "  </div>\n",
              "  "
            ]
          },
          "metadata": {},
          "execution_count": 57
        }
      ]
    },
    {
      "cell_type": "code",
      "source": [
        "from scipy.fftpack import fft, ifft\n",
        "def extract_fft_peak_frequency(data, sampling_rate):\n",
        "    fft_data = np.fft.fft(data)\n",
        "    N = len(fft_data)\n",
        "    n = np.arange(N)\n",
        "    T = N/sampling_rate\n",
        "    freq = n/T \n",
        "    freqs = np.fft.fftfreq(len(data))\n",
        "    \n",
        "    peak_coefficient = np.argmax(np.abs(fft_data))\n",
        "    peak_freq = freqs[peak_coefficient]\n",
        "    peak_ampl = fft_data[peak_coefficient]\n",
        "    a = abs(peak_freq * sampling_rate)\n",
        "    b= abs(peak_ampl)\n",
        "    \n",
        "    \n",
        "    \n",
        "    # all_coefficient = (np.abs(fft_data) > 1000)\n",
        "    # all_freq = freqs[all_coefficient]\n",
        "    # all_ampl = fft_data[all_coefficient]\n",
        "    \n",
        "    # c = abs(all_freq * sampling_rate)\n",
        "#     c = list(np.unique(c))\n",
        "    \n",
        "    # d = abs(all_ampl)\n",
        "#     d = list(np.unique(d))\n",
        "    \n",
        "#     for i in range(1, (abs (len(a_amp) - len(a_fre)))+1):\n",
        "#         del d[-i]\n",
        "    \n",
        "    return [a,b,N,freq,fft_data,T]\n"
      ],
      "metadata": {
        "id": "GhsXv_A-1DLY"
      },
      "id": "GhsXv_A-1DLY",
      "execution_count": null,
      "outputs": []
    },
    {
      "cell_type": "code",
      "source": [
        "#Signal FFT\n",
        "from scipy import signal\n",
        "\n",
        "sr = 2000\n",
        "x = ff['X'].values\n",
        "[p_fre,p_amp,N,freq,XX,T]= extract_fft_peak_frequency(x, sr)\n",
        "# rms_ori = np.sqrt(np.mean(x**2))\n",
        "\n",
        "# for raw data Get the one-sided specturm -->\n",
        "n_oneside = N//2\n",
        "# get the one side frequency -->\n",
        "f_oneside = freq[:n_oneside]\n",
        "\n",
        "\n",
        "# sos = signal.butter(2, p_fre, 'hp', fs=sr, output='sos')\n",
        "# filtered = signal.sosfilt(sos, x)\n",
        "# rms_filt = np.sqrt(np.mean(filtered**2))\n",
        "# [f_p_fre,f_p_amp,f_a_fre,f_a_amp,f_N,f_freq,f_X]= extract_fft_peak_frequency(filtered, sr)\n",
        "\n",
        "# print(p_fre)\n",
        "# print(p_amp)"
      ],
      "metadata": {
        "id": "eAgGW3uo1yWf"
      },
      "id": "eAgGW3uo1yWf",
      "execution_count": null,
      "outputs": []
    },
    {
      "cell_type": "code",
      "source": [
        "#Ploting\n",
        "fig = plt.figure(figsize=(5,3),facecolor=(1, 1, 1))\n",
        "plt.rcParams.update({'font.size':15})\n",
        "plt.rc('axes', labelsize=15)  \n",
        "plt.stem(f_oneside, np.abs(XX[:n_oneside]), 'b',markerfmt=\" \", basefmt=\"b\")\n",
        "plt.xlabel('Frequency (Hz)')\n",
        "plt.ylabel('FFT Amplitude |X(freq)|')\n",
        "plt.xlim(0,1000)\n",
        "# plt.xlim(10,1000)\n",
        "plt.grid(False)\n",
        "plt.show()\n",
        "\n",
        "\n",
        "#ax.legend(loc=1)\n",
        "# fig.savefig('fft.png', dpi=300, bbox_inches=\"tight\")"
      ],
      "metadata": {
        "colab": {
          "base_uri": "https://localhost:8080/",
          "height": 343
        },
        "id": "ZUP40y0V3cu4",
        "outputId": "237a8c2c-8d37-4349-f85d-7ea0e30de30f"
      },
      "id": "ZUP40y0V3cu4",
      "execution_count": null,
      "outputs": [
        {
          "output_type": "display_data",
          "data": {
            "text/plain": [
              "<Figure size 500x300 with 1 Axes>"
            ],
            "image/png": "[encoded data removed]"
          },
          "metadata": {}
        }
      ]
    },
    {
      "cell_type": "markdown",
      "id": "7f40ba41",
      "metadata": {
        "id": "7f40ba41"
      },
      "source": [
        "# Feature Extraction using Wavelet Packet Analysis"
      ]
    },
    {
      "cell_type": "code",
      "execution_count": null,
      "id": "33a62338",
      "metadata": {
        "id": "33a62338"
      },
      "outputs": [],
      "source": [
        "df['Repeat'] = df['Repeat'].astype(str)\n",
        "df['newcol'] = df['Machine'] +  df['Date'] + df['Tool'] + df['Condition'] + df['Repeat']\n",
        "df = df.reset_index(drop = True)"
      ]
    },
    {
      "cell_type": "code",
      "source": [
        "#df['Resultant'] = np.sqrt(df['X']**2 + df['Y']**2 + df['Z']**2)"
      ],
      "metadata": {
        "id": "mbputghZeUf7"
      },
      "id": "mbputghZeUf7",
      "execution_count": null,
      "outputs": []
    },
    {
      "cell_type": "code",
      "execution_count": null,
      "id": "99227e45",
      "metadata": {
        "id": "99227e45",
        "colab": {
          "base_uri": "https://localhost:8080/",
          "height": 206
        },
        "outputId": "66fe1f73-045f-4185-f5b3-628b3343e374"
      },
      "outputs": [
        {
          "output_type": "execute_result",
          "data": {
            "text/plain": [
              "  Machine     Date  Tool Condition Repeat  Time (s)      X      Y       Z  \\\n",
              "0     M01  Aug2019  OP01       bad      0    7.1765  296.0 -111.0  -761.0   \n",
              "1     M01  Aug2019  OP01       bad      0    7.1770   58.0  353.0  -704.0   \n",
              "2     M01  Aug2019  OP01       bad      0    7.1775  142.0  402.0  -917.0   \n",
              "3     M01  Aug2019  OP01       bad      0    7.1780   27.0  253.0 -1171.0   \n",
              "4     M01  Aug2019  OP01       bad      0    7.1785   68.0   46.0 -1255.0   \n",
              "\n",
              "               newcol  \n",
              "0  M01Aug2019OP01bad0  \n",
              "1  M01Aug2019OP01bad0  \n",
              "2  M01Aug2019OP01bad0  \n",
              "3  M01Aug2019OP01bad0  \n",
              "4  M01Aug2019OP01bad0  "
            ],
            "text/html": [
              "\n",
              "  <div id=\"df-87a9888c-7126-4427-bb0c-c6219d2179bd\">\n",
              "    <div class=\"colab-df-container\">\n",
              "      <div>\n",
              "<style scoped>\n",
              "    .dataframe tbody tr th:only-of-type {\n",
              "        vertical-align: middle;\n",
              "    }\n",
              "\n",
              "    .dataframe tbody tr th {\n",
              "        vertical-align: top;\n",
              "    }\n",
              "\n",
              "    .dataframe thead th {\n",
              "        text-align: right;\n",
              "    }\n",
              "</style>\n",
              "<table border=\"1\" class=\"dataframe\">\n",
              "  <thead>\n",
              "    <tr style=\"text-align: right;\">\n",
              "      <th></th>\n",
              "      <th>Machine</th>\n",
              "      <th>Date</th>\n",
              "      <th>Tool</th>\n",
              "      <th>Condition</th>\n",
              "      <th>Repeat</th>\n",
              "      <th>Time (s)</th>\n",
              "      <th>X</th>\n",
              "      <th>Y</th>\n",
              "      <th>Z</th>\n",
              "      <th>newcol</th>\n",
              "    </tr>\n",
              "  </thead>\n",
              "  <tbody>\n",
              "    <tr>\n",
              "      <th>0</th>\n",
              "      <td>M01</td>\n",
              "      <td>Aug2019</td>\n",
              "      <td>OP01</td>\n",
              "      <td>bad</td>\n",
              "      <td>0</td>\n",
              "      <td>7.1765</td>\n",
              "      <td>296.0</td>\n",
              "      <td>-111.0</td>\n",
              "      <td>-761.0</td>\n",
              "      <td>M01Aug2019OP01bad0</td>\n",
              "    </tr>\n",
              "    <tr>\n",
              "      <th>1</th>\n",
              "      <td>M01</td>\n",
              "      <td>Aug2019</td>\n",
              "      <td>OP01</td>\n",
              "      <td>bad</td>\n",
              "      <td>0</td>\n",
              "      <td>7.1770</td>\n",
              "      <td>58.0</td>\n",
              "      <td>353.0</td>\n",
              "      <td>-704.0</td>\n",
              "      <td>M01Aug2019OP01bad0</td>\n",
              "    </tr>\n",
              "    <tr>\n",
              "      <th>2</th>\n",
              "      <td>M01</td>\n",
              "      <td>Aug2019</td>\n",
              "      <td>OP01</td>\n",
              "      <td>bad</td>\n",
              "      <td>0</td>\n",
              "      <td>7.1775</td>\n",
              "      <td>142.0</td>\n",
              "      <td>402.0</td>\n",
              "      <td>-917.0</td>\n",
              "      <td>M01Aug2019OP01bad0</td>\n",
              "    </tr>\n",
              "    <tr>\n",
              "      <th>3</th>\n",
              "      <td>M01</td>\n",
              "      <td>Aug2019</td>\n",
              "      <td>OP01</td>\n",
              "      <td>bad</td>\n",
              "      <td>0</td>\n",
              "      <td>7.1780</td>\n",
              "      <td>27.0</td>\n",
              "      <td>253.0</td>\n",
              "      <td>-1171.0</td>\n",
              "      <td>M01Aug2019OP01bad0</td>\n",
              "    </tr>\n",
              "    <tr>\n",
              "      <th>4</th>\n",
              "      <td>M01</td>\n",
              "      <td>Aug2019</td>\n",
              "      <td>OP01</td>\n",
              "      <td>bad</td>\n",
              "      <td>0</td>\n",
              "      <td>7.1785</td>\n",
              "      <td>68.0</td>\n",
              "      <td>46.0</td>\n",
              "      <td>-1255.0</td>\n",
              "      <td>M01Aug2019OP01bad0</td>\n",
              "    </tr>\n",
              "  </tbody>\n",
              "</table>\n",
              "</div>\n",
              "      <button class=\"colab-df-convert\" onclick=\"convertToInteractive('df-87a9888c-7126-4427-bb0c-c6219d2179bd')\"\n",
              "              title=\"Convert this dataframe to an interactive table.\"\n",
              "              style=\"display:none;\">\n",
              "        \n",
              "  <svg xmlns=\"http://www.w3.org/2000/svg\" height=\"24px\"viewBox=\"0 0 24 24\"\n",
              "       width=\"24px\">\n",
              "    <path d=\"M0 0h24v24H0V0z\" fill=\"none\"/>\n",
              "    <path d=\"M18.56 5.44l.94 2.06.94-2.06 2.06-.94-2.06-.94-.94-2.06-.94 2.06-2.06.94zm-11 1L8.5 8.5l.94-2.06 2.06-.94-2.06-.94L8.5 2.5l-.94 2.06-2.06.94zm10 10l.94 2.06.94-2.06 2.06-.94-2.06-.94-.94-2.06-.94 2.06-2.06.94z\"/><path d=\"M17.41 7.96l-1.37-1.37c-.4-.4-.92-.59-1.43-.59-.52 0-1.04.2-1.43.59L10.3 9.45l-7.72 7.72c-.78.78-.78 2.05 0 2.83L4 21.41c.39.39.9.59 1.41.59.51 0 1.02-.2 1.41-.59l7.78-7.78 2.81-2.81c.8-.78.8-2.07 0-2.86zM5.41 20L4 18.59l7.72-7.72 1.47 1.35L5.41 20z\"/>\n",
              "  </svg>\n",
              "      </button>\n",
              "      \n",
              "  <style>\n",
              "    .colab-df-container {\n",
              "      display:flex;\n",
              "      flex-wrap:wrap;\n",
              "      gap: 12px;\n",
              "    }\n",
              "\n",
              "    .colab-df-convert {\n",
              "      background-color: #E8F0FE;\n",
              "      border: none;\n",
              "      border-radius: 50%;\n",
              "      cursor: pointer;\n",
              "      display: none;\n",
              "      fill: #1967D2;\n",
              "      height: 32px;\n",
              "      padding: 0 0 0 0;\n",
              "      width: 32px;\n",
              "    }\n",
              "\n",
              "    .colab-df-convert:hover {\n",
              "      background-color: #E2EBFA;\n",
              "      box-shadow: 0px 1px 2px rgba(60, 64, 67, 0.3), 0px 1px 3px 1px rgba(60, 64, 67, 0.15);\n",
              "      fill: #174EA6;\n",
              "    }\n",
              "\n",
              "    [theme=dark] .colab-df-convert {\n",
              "      background-color: #3B4455;\n",
              "      fill: #D2E3FC;\n",
              "    }\n",
              "\n",
              "    [theme=dark] .colab-df-convert:hover {\n",
              "      background-color: #434B5C;\n",
              "      box-shadow: 0px 1px 3px 1px rgba(0, 0, 0, 0.15);\n",
              "      filter: drop-shadow(0px 1px 2px rgba(0, 0, 0, 0.3));\n",
              "      fill: #FFFFFF;\n",
              "    }\n",
              "  </style>\n",
              "\n",
              "      <script>\n",
              "        const buttonEl =\n",
              "          document.querySelector('#df-87a9888c-7126-4427-bb0c-c6219d2179bd button.colab-df-convert');\n",
              "        buttonEl.style.display =\n",
              "          google.colab.kernel.accessAllowed ? 'block' : 'none';\n",
              "\n",
              "        async function convertToInteractive(key) {\n",
              "          const element = document.querySelector('#df-87a9888c-7126-4427-bb0c-c6219d2179bd');\n",
              "          const dataTable =\n",
              "            await google.colab.kernel.invokeFunction('convertToInteractive',\n",
              "                                                     [key], {});\n",
              "          if (!dataTable) return;\n",
              "\n",
              "          const docLinkHtml = 'Like what you see? Visit the ' +\n",
              "            '<a target=\"_blank\" href=https://colab.research.google.com/notebooks/data_table.ipynb>data table notebook</a>'\n",
              "            + ' to learn more about interactive tables.';\n",
              "          element.innerHTML = '';\n",
              "          dataTable['output_type'] = 'display_data';\n",
              "          await google.colab.output.renderOutput(dataTable, element);\n",
              "          const docLink = document.createElement('div');\n",
              "          docLink.innerHTML = docLinkHtml;\n",
              "          element.appendChild(docLink);\n",
              "        }\n",
              "      </script>\n",
              "    </div>\n",
              "  </div>\n",
              "  "
            ]
          },
          "metadata": {},
          "execution_count": 66
        }
      ],
      "source": [
        "df.head()"
      ]
    },
    {
      "cell_type": "markdown",
      "id": "68b93b56",
      "metadata": {
        "id": "68b93b56"
      },
      "source": [
        "##  Number of segment for each file"
      ]
    },
    {
      "cell_type": "code",
      "execution_count": null,
      "id": "51fad062",
      "metadata": {
        "id": "51fad062"
      },
      "outputs": [],
      "source": [
        "sum1=[]\n",
        "window_size = 2000\n",
        "step_size = 1000\n",
        "for i in df['newcol'].unique():\n",
        "    print (i)\n",
        "    master_data =df[(df['newcol'] == i)]\n",
        "    v = 0\n",
        "    for j in range(0, master_data.shape[0] - window_size, step_size):\n",
        "        v = v+1\n",
        "    print(v)\n",
        "        #num_segments = np.floor(len(master_data )/1000)\n",
        "    sum1.append(v)\n",
        "    #print(num_segments)\n",
        "print(np.sum(sum1))"
      ]
    },
    {
      "cell_type": "code",
      "execution_count": null,
      "id": "ef767a35",
      "metadata": {
        "id": "ef767a35"
      },
      "outputs": [],
      "source": [
        "# def compute_shannon_entropy(signal):\n",
        "#     return -np.nansum(signal**2 * np.log(signal**2)) # nansum to exclude pesky terms like \"0*np.log(0)\""
      ]
    },
    {
      "cell_type": "code",
      "execution_count": null,
      "id": "1e226d29",
      "metadata": {
        "id": "1e226d29"
      },
      "outputs": [],
      "source": [
        "# Function to find the entropy of the signal\n",
        "\n",
        "from scipy.stats import entropy\n",
        "from math import log, e\n",
        "import pandas as pd\n",
        "\n",
        "\n",
        "def entropy2(labels, base=None):\n",
        "  \"\"\" Computes entropy of label distribution. \"\"\"\n",
        "\n",
        "  n_labels = len(labels)\n",
        "\n",
        "  if n_labels <= 1:\n",
        "    return 0\n",
        "\n",
        "  value,counts = np.unique(labels, return_counts=True)\n",
        "  probs = counts / n_labels\n",
        "  n_classes = np.count_nonzero(probs)\n",
        "\n",
        "  if n_classes <= 1:\n",
        "    return 0\n",
        "\n",
        "  ent = 0.\n",
        "\n",
        "  # Compute entropy\n",
        "  base = e if base is None else base\n",
        "  for i in probs:\n",
        "    ent -= i * log(i, base)\n",
        "\n",
        "  return ent"
      ]
    },
    {
      "cell_type": "markdown",
      "id": "ef760a9a",
      "metadata": {
        "id": "ef760a9a"
      },
      "source": [
        "## Wavelet Feature Extraction"
      ]
    },
    {
      "cell_type": "code",
      "execution_count": null,
      "id": "c6e3ec78",
      "metadata": {
        "id": "c6e3ec78"
      },
      "outputs": [],
      "source": [
        "#This will create the data list according to 'newcol'\n",
        "import pywt\n",
        "# w = pywt.Wavelet ('dmey')\n",
        "level = 2  #3\n",
        " \n",
        "#wavelet_feature_test = pd.DataFrame()\n",
        "data = df\n",
        "window_size = 2000\n",
        "step_size = 1000"
      ]
    },
    {
      "cell_type": "code",
      "execution_count": null,
      "id": "09e3f68b",
      "metadata": {
        "id": "09e3f68b",
        "outputId": "888af0b2-372c-4762-abdb-c654651b432e",
        "colab": {
          "base_uri": "https://localhost:8080/"
        }
      },
      "outputs": [
        {
          "output_type": "execute_result",
          "data": {
            "text/plain": [
              "(2151330, 10)"
            ]
          },
          "metadata": {},
          "execution_count": 69
        }
      ],
      "source": [
        "data.shape"
      ]
    },
    {
      "cell_type": "code",
      "source": [
        "b = ['M01Aug2019OP01bad0',\n",
        "'M01Feb2019OP01bad0']\n",
        "for i in b:\n",
        "    print(i)"
      ],
      "metadata": {
        "colab": {
          "base_uri": "https://localhost:8080/"
        },
        "id": "MVcmwajwr5ji",
        "outputId": "2704da97-b705-4197-9327-55d4f5e5d071"
      },
      "id": "MVcmwajwr5ji",
      "execution_count": null,
      "outputs": [
        {
          "output_type": "stream",
          "name": "stdout",
          "text": [
            "M01Aug2019OP01bad0\n",
            "M01Feb2019OP01bad0\n"
          ]
        }
      ]
    },
    {
      "cell_type": "code",
      "source": [
        "#trying new method for fast computation\n",
        "import time\n",
        "# print(w)\n",
        "\n",
        "all_wavelet = pd.DataFrame()\n",
        "\n",
        "for w in wavelets:\n",
        "    start_time = time.time()\n",
        "    wavelet_feature_all = pd.DataFrame()\n",
        "    print(f\"Running for {w}\")\n",
        "\n",
        "    for i in data['newcol'].unique():\n",
        "        master_data = data[(data['newcol'] == i)]\n",
        "        wavelet_feature_j = pd.DataFrame()\n",
        "\n",
        "        for j in range(0, master_data.shape[0] - window_size, step_size):\n",
        "            wavelet_feature = pd.DataFrame()\n",
        "            df1 = pd.DataFrame()\n",
        "            df1['X'] = master_data['X'].values[j: j + window_size]\n",
        "            df1['Y'] = master_data['Y'].values[j: j + window_size]\n",
        "            df1['Z'] = master_data['Z'].values[j: j + window_size]\n",
        "\n",
        "            colvalue = ['X', 'Y', 'Z']\n",
        "            wavelet_feature['Date'] = [max(master_data['Date'].values[j: j + window_size])]\n",
        "            wavelet_feature['Machine'] = [max(master_data['Machine'].values[j: j + window_size])]\n",
        "            wavelet_feature['Operation'] = [max(master_data['Tool'].values[j: j + window_size])]\n",
        "            wavelet_feature['Condition'] = [max(master_data['Condition'].values[j: j + window_size])]\n",
        "            wavelet_feature['Repeat'] = [max(master_data['Repeat'].values[j: j + window_size])]\n",
        "            wavelet_feature['operationcondition'] = wavelet_feature['Operation'] + wavelet_feature['Condition']\n",
        "\n",
        "            for val in colvalue:\n",
        "                data_wave = df1[val].values\n",
        "                wp = pywt.WaveletPacket(data_wave, w, maxlevel=level)  # Wavelet packet transformation\n",
        "                packet_names = [node.path for node in wp.get_level(level, \"freq\")]\n",
        "                for v in range(len(packet_names)):\n",
        "                    new_wp = pywt.WaveletPacket(data=None, wavelet=w, maxlevel=level)\n",
        "                    new_wp[packet_names[v]] = wp[packet_names[v]].data\n",
        "                    reconstructed_signal = new_wp.reconstruct(update=False)  # Signal reconstruction from wavelet packet coefficients\n",
        "\n",
        "                    # Wavelet feature\n",
        "                    wavelet_feature = pd.concat([wavelet_feature,pd.DataFrame({'mean'+val+str(v): [np.mean(reconstructed_signal)],\n",
        "                                                          'std'+val+str(v): [np.std(reconstructed_signal)],\n",
        "                                                          'max'+val+str(v): [max(reconstructed_signal)],\n",
        "                                                          'min'+val+str(v): [min(reconstructed_signal)],\n",
        "                                                          'entropy'+val+str(v): [entropy2(reconstructed_signal, 2)],\n",
        "                                                          'skew'+val+str(v): [stats.skew(reconstructed_signal)],\n",
        "                                                          'kurt'+val+str(v): [stats.kurtosis(reconstructed_signal)]})], axis=1)\n",
        "\n",
        "\n",
        "            wavelet_feature_j = pd.concat([wavelet_feature_j, wavelet_feature], ignore_index=True)\n",
        "\n",
        "        wavelet_feature_all = pd.concat([wavelet_feature_all, wavelet_feature_j], ignore_index=True)\n",
        "        wavelet_feature_all['wavelet'] = w\n",
        "    \n",
        "    end_time = time.time()\n",
        "    print(f'Time taken for  {w}: {end_time-start_time:.6f}')\n",
        "    \n",
        "    all_wavelet = pd.concat([all_wavelet, wavelet_feature_all], ignore_index=True)\n",
        "\n",
        "\n",
        "all_wavelet.to_csv('/content/drive/MyDrive/50L2_wfeature.csv', sep='\\t') # relative position   "
      ],
      "metadata": {
        "id": "esm-gSgVpu94"
      },
      "id": "esm-gSgVpu94",
      "execution_count": null,
      "outputs": []
    },
    {
      "cell_type": "code",
      "source": [
        "all_wavelet.to_csv('/content/drive/MyDrive/All_wavelet_feature.csv', sep='\\t') # relative position"
      ],
      "metadata": {
        "id": "N4Q14zFTqS25"
      },
      "id": "N4Q14zFTqS25",
      "execution_count": null,
      "outputs": []
    },
    {
      "cell_type": "code",
      "execution_count": null,
      "id": "26fe3c8d",
      "metadata": {
        "id": "26fe3c8d",
        "outputId": "7e2b3dac-1dc3-48cd-9e82-e4c97ae58b30",
        "colab": {
          "base_uri": "https://localhost:8080/"
        }
      },
      "outputs": [
        {
          "output_type": "execute_result",
          "data": {
            "text/plain": [
              "OP02bad     1680\n",
              "OP04bad     1680\n",
              "OP10bad     1680\n",
              "OP01good    1656\n",
              "OP02good    1656\n",
              "OP04good    1656\n",
              "OP07good    1656\n",
              "OP10good    1656\n",
              "OP01bad     1648\n",
              "OP07bad     1648\n",
              "Name: operationcondition, dtype: int64"
            ]
          },
          "metadata": {},
          "execution_count": 46
        }
      ],
      "source": [
        "all_wavelet['operationcondition'].value_counts()"
      ]
    },
    {
      "cell_type": "markdown",
      "source": [
        "# Load the file with all wavelet feature"
      ],
      "metadata": {
        "id": "tLeXtx8bYmLi"
      },
      "id": "tLeXtx8bYmLi"
    },
    {
      "cell_type": "code",
      "source": [
        "#read csv to append the data and reset index\n",
        "path1 = '/content/drive/MyDrive/50L3_wfeature.csv'\n",
        "path2 = '/content/drive/MyDrive/50L2_wfeature.csv'\n",
        "\n",
        "df1 = pd.read_csv(path1,sep='\\t')\n",
        "df1 = df1.drop(['Unnamed: 0'], axis = 1)\n",
        "df2 = pd.read_csv(path2,sep='\\t')\n",
        "df2 = df2.drop(['Unnamed: 0'], axis = 1)\n",
        "\n"
      ],
      "metadata": {
        "id": "T9Tb2eyBbT2v"
      },
      "id": "T9Tb2eyBbT2v",
      "execution_count": 4,
      "outputs": []
    },
    {
      "cell_type": "code",
      "source": [
        "df2.shape, df1.shape"
      ],
      "metadata": {
        "colab": {
          "base_uri": "https://localhost:8080/"
        },
        "id": "hB7mRqig9x0y",
        "outputId": "bc1d00c1-137f-42d4-ad40-c3c66de51c7a"
      },
      "id": "hB7mRqig9x0y",
      "execution_count": null,
      "outputs": [
        {
          "output_type": "execute_result",
          "data": {
            "text/plain": [
              "((103850, 91), (103850, 175))"
            ]
          },
          "metadata": {},
          "execution_count": 32
        }
      ]
    },
    {
      "cell_type": "code",
      "source": [
        "df = df1"
      ],
      "metadata": {
        "id": "eCdgCEN2DmIk"
      },
      "id": "eCdgCEN2DmIk",
      "execution_count": 15,
      "outputs": []
    },
    {
      "cell_type": "markdown",
      "source": [
        "# Feature selection_RF and Model_RF"
      ],
      "metadata": {
        "id": "3I_lLh44DEIc"
      },
      "id": "3I_lLh44DEIc"
    },
    {
      "cell_type": "code",
      "source": [
        "from sklearn.model_selection import train_test_split, GridSearchCV\n",
        "from sklearn.ensemble import RandomForestClassifier\n",
        "from sklearn.feature_selection import SelectFromModel\n",
        "from sklearn.metrics import accuracy_score\n",
        "from sklearn.metrics import classification_report\n",
        "from sklearn.pipeline import Pipeline\n",
        "from sklearn.metrics import f1_score\n"
      ],
      "metadata": {
        "id": "D2veC-AZYRDx"
      },
      "id": "D2veC-AZYRDx",
      "execution_count": 6,
      "outputs": []
    },
    {
      "cell_type": "code",
      "source": [
        "rf_l2 = []\n",
        "#Define the parameter grid for RF\n",
        "param_grid = {\n",
        "    'max_features': ['sqrt', 'log2'],\n",
        "    'n_estimators': [100, 200],\n",
        "    'max_depth': [10, 20, 30],\n",
        "    'min_samples_leaf': [1, 2],\n",
        "    'min_samples_split': [2, 5]}\n",
        "\n",
        "# loop over each wavelet\n",
        "for w in wavelets:\n",
        "  # Subset the data for the current wavelet\n",
        "  new = df[df['wavelet'] == w]\n",
        "  print (new.shape)\n",
        "  X = new.drop(['Date', 'Machine', 'Operation', 'Condition', 'Repeat', 'operationcondition', 'wavelet'], axis=1)\n",
        "  y = new['operationcondition']\n",
        "  print (w)\n",
        "\n",
        "  # Split the data into training, validation, and test sets\n",
        "  # X_train_val, X_test, y_train_val, y_test = train_test_split(X, y, test_size=0.3, random_state=42)\n",
        "  # X_train, X_val, y_train, y_val = train_test_split(X_train_val, y_train_val, test_size=0.2, random_state=42)\n",
        "    \n",
        "  X_train, X_test, y_train, y_test = train_test_split(X, y, test_size=0.3, random_state=42)\n",
        "\n",
        "  # Create for feature selection \n",
        "  f_selection = RandomForestClassifier(random_state = 42, verbose=0)\n",
        "  f_selection.fit(X_train, y_train)\n",
        "  y_test_pred = f_selection.predict(X_test)\n",
        "  f1_test = f1_score(y_test, y_test_pred,average='macro')\n",
        "  rf_l2.append(f1_test)\n",
        "\n",
        "  # # Perform feature selection using SelectFromModel\n",
        "  # feature_selector = SelectFromModel(f_selection)\n",
        "  # feature_selector.fit(X_train, y_train)\n",
        "  # X_train_transformed = feature_selector.transform(X_train)\n",
        "  # # X_val_transformed = feature_selector.transform(X_val)\n",
        "  # X_test_transformed = feature_selector.transform(X_test)\n",
        "\n",
        "  # print (X_train_transformed.shape)\n",
        "\n",
        "\n",
        "  # # Create a GridSearchCV object for random forest\n",
        "  # grid_search = GridSearchCV(f_selection, param_grid, cv=5, n_jobs=-1, verbose=0,\n",
        "  #                           scoring='f1_macro', return_train_score=True)\n",
        "  # # Fit the GridSearchCV object on the transformed training data\n",
        "  # grid_search.fit(X_train_transformed, y_train)\n",
        "  \n",
        "  \n",
        "  # # Print the best hyperparameters\n",
        "  # # print(f'Best hyperparameters for {w}: {grid_search.best_params_}')\n",
        "\n",
        "  # # Evaluate the pipeline on the validation set\n",
        "  # # y_val_pred = grid_search.predict(X_val_transformed)\n",
        "  # # f1_val = f1_score(y_val, y_val_pred, average='macro')\n",
        "  # # print(f'F1 score on validation set for {w}: {f1_val}')\n",
        "  \n",
        "  # # Evaluate the pipeline on the test set\n",
        "  # y_test_pred = grid_search.predict(X_test_transformed)\n",
        "  # f1_test = f1_score(y_test, y_test_pred,average='macro')\n",
        "  # # print(f'F1 score on test set for {w}: {f1_test}')\n",
        "  \n",
        "  # # rf_v.append(f1_val)\n",
        "  # rf_t.append(f1_test)\n",
        "\n",
        "# f1 = pd.DataFrame({'wavelet':wavelets, 'L3RF_WF_WT':rf_t })\n",
        "# f1.to_csv('/content/drive/MyDrive/f1_tuned.csv', sep='\\t') # relative position"
      ],
      "metadata": {
        "id": "6Fz4rGVrYVc7"
      },
      "id": "6Fz4rGVrYVc7",
      "execution_count": null,
      "outputs": []
    },
    {
      "cell_type": "code",
      "source": [
        "grid_search.best_params_"
      ],
      "metadata": {
        "id": "iE6mumI5P1M2"
      },
      "id": "iE6mumI5P1M2",
      "execution_count": null,
      "outputs": []
    },
    {
      "cell_type": "markdown",
      "id": "90e3999e",
      "metadata": {
        "id": "90e3999e"
      },
      "source": [
        "# Feature selection_RF and Model_SVC"
      ]
    },
    {
      "cell_type": "code",
      "execution_count": null,
      "id": "77741075",
      "metadata": {
        "id": "77741075"
      },
      "outputs": [],
      "source": [
        "# HYPARAMETER TUNING OF SVC\n",
        "from sklearn.ensemble import RandomForestClassifier\n",
        "from sklearn.pipeline import Pipeline\n",
        "from sklearn.preprocessing import StandardScaler\n",
        "from sklearn.model_selection import train_test_split, GridSearchCV\n",
        "from sklearn.feature_selection import SelectFromModel\n",
        "from sklearn.metrics import accuracy_score\n",
        "from sklearn.svm import SVC\n",
        "from sklearn.metrics import f1_score\n",
        "svc_l2 = []\n",
        "svc_f1 = []\n",
        "svc_ac = []\n",
        "best_params = {}\n",
        "svc_param_grid = {'classification__C': [0.1, 1, 10, 100, 1000], \n",
        "              'classification__gamma': [1, 0.1, 0.01, 0.001, 0.0001],\n",
        "              'classification__kernel': ['linear', 'rbf']} \n",
        "\n",
        "\n",
        "# loop over each wavelet\n",
        "for w in wavelets:\n",
        "  # Subset the data for the current wavelet\n",
        "  new = df[df['wavelet'] == w]\n",
        "  print (new.shape)\n",
        "  X = new.drop(['Date', 'Machine', 'Operation', 'Condition', 'Repeat', 'operationcondition', 'wavelet'], axis=1)\n",
        "  y = new['operationcondition']\n",
        "  print (w)\n",
        "\n",
        "  # Split the data into training, validation, and test sets\n",
        "  # X_train_val, X_test, y_train_val, y_test = train_test_split(X, y, test_size=0.3, random_state=42)\n",
        "  #X_train, X_val, y_train, y_val = train_test_split(X_train_val, y_train_val, test_size=0.2, random_state=42)\n",
        "    \n",
        "  X_train, X_test, y_train, y_test = train_test_split(X, y, test_size=0.3, random_state=42)\n",
        "  \n",
        "  #without feature selection\n",
        "  pipe = Pipeline([('scaler', StandardScaler()), ('classification', SVC())])\n",
        "  pipe.fit(X_train, y_train)\n",
        "  y_test_pred = pipe.predict(X_test)\n",
        "  f1_test = f1_score(y_test, y_test_pred,average='macro')\n",
        "  svc_l2.append(f1_test)\n",
        "\n",
        "#   # Create for feature selection \n",
        "#   f_selection = RandomForestClassifier(random_state = 42, verbose=0)\n",
        "\n",
        "#   # Perform feature selection using SelectFromModel\n",
        "#   feature_selector = SelectFromModel(f_selection)\n",
        "#   feature_selector.fit(X_train, y_train)\n",
        "#   X_train_transformed = feature_selector.transform(X_train)\n",
        "#   # X_val_transformed = feature_selector.transform(X_val)\n",
        "#   X_test_transformed = feature_selector.transform(X_test)\n",
        "\n",
        "#   print (X_train_transformed.shape)\n",
        "\n",
        "#   # creating pipeline\n",
        "#   pipe = Pipeline([('scaler', StandardScaler()), ('classification', SVC())])\n",
        "\n",
        "#   # Create a GridSearchCV object for random forest\n",
        "#   grid_search = GridSearchCV(pipe, svc_param_grid, cv=5, n_jobs=-1, verbose=0,\n",
        "#                             scoring='f1_macro', return_train_score=True)\n",
        "#   # Fit the GridSearchCV object on the transformed training data\n",
        "#   grid_search.fit(X_train_transformed, y_train)\n",
        "\n",
        "#   # Print the best hyperparameters\n",
        "#   # print(f'Best hyperparameters for {w}: {grid_search.best_params_}')\n",
        "\n",
        "#   # Evaluate the pipeline on the validation set\n",
        "#   # y_val_pred = grid_search.predict(X_val_transformed)\n",
        "#   # f1_val = f1_score(y_val, y_val_pred, average='macro')\n",
        "#   # print(f'F1 score on validation set for {w}: {f1_val}')\n",
        "\n",
        "\n",
        "#   # Evaluate the pipeline on the test set\n",
        "#   y_test_pred = grid_search.predict(X_test_transformed)\n",
        "#   f1_test = f1_score(y_test, y_test_pred,average='macro')\n",
        "#   accuracy = accuracy_score(y_test, y_test_pred)\n",
        "#   # print(f'F1 score on test set for {w}: {f1_test}')\n",
        "\n",
        "#   svc_f1.append(f1_test)\n",
        "#   svc_ac.append(accuracy)\n",
        "#   # store the best parameters for this wavelet in the dictionary\n",
        "#   best_params[w] = grid_search.best_params_\n",
        "#   # svc_v.append(f1_val)\n",
        "\n",
        "# # create a dataframe from the dictionary of best parameters\n",
        "# df_best = pd.DataFrame.from_dict(best_params, orient='index')\n",
        "\n",
        "# f1 = pd.concat([f1, pd.DataFrame({'SVC_f1': svc_f1,'SVC_ac': svc_ac})], axis=1)\n",
        "# f1.to_csv('/content/drive/MyDrive/f1_tuned.csv', sep='\\t') # relative position"
      ]
    },
    {
      "cell_type": "markdown",
      "source": [
        "# Feature selection RF and Model_MLP"
      ],
      "metadata": {
        "id": "ek93jQyMeTlY"
      },
      "id": "ek93jQyMeTlY"
    },
    {
      "cell_type": "code",
      "source": [
        "# HYPARAMETER TUNING OF MLP\n",
        "from sklearn.ensemble import RandomForestClassifier\n",
        "from sklearn.pipeline import Pipeline\n",
        "from sklearn.neural_network import MLPClassifier\n",
        "from sklearn.preprocessing import StandardScaler\n",
        "from sklearn.model_selection import train_test_split, GridSearchCV\n",
        "from sklearn.feature_selection import SelectFromModel\n",
        "from sklearn.metrics import accuracy_score\n",
        "from sklearn.metrics import f1_score\n",
        "import time\n",
        "mlp_f1 = []\n",
        "mlp_ac = []\n",
        "mlp_l3 = []\n",
        "MLP_best_params = {}\n",
        "\n",
        "mlp_param_grid = {'classification__alpha': [0.001, 0.01],\n",
        "    'classification__hidden_layer_sizes': [(50,),(100,),(150,)]}\n",
        "    # 'classification__activation': ['relu', 'logistic']}\n",
        "\n",
        "\n",
        "# loop over each wavelet\n",
        "for w in wavelets:\n",
        "  start_time = time.time()\n",
        "  # Subset the data for the current wavelet\n",
        "  new = df[df['wavelet'] == w]\n",
        "  print (new.shape)\n",
        "  X = new.drop(['Date', 'Machine', 'Operation', 'Condition', 'Repeat', 'operationcondition', 'wavelet'], axis=1)\n",
        "  y = new['operationcondition']\n",
        "  print (w)\n",
        "\n",
        "  # Split the data into training, validation, and test sets\n",
        "  # X_train_val, X_test, y_train_val, y_test = train_test_split(X, y, test_size=0.3, random_state=42)\n",
        "  # X_train, X_val, y_train, y_val = train_test_split(X_train_val, y_train_val, test_size=0.2, random_state=42)\n",
        "    \n",
        "  X_train, X_test, y_train, y_test = train_test_split(X, y, test_size=0.3, random_state=42)\n",
        "\n",
        "\n",
        "  #Without feature selection\n",
        "  pipe = Pipeline([('scaler', StandardScaler()), ('classification', MLPClassifier(max_iter=500))])\n",
        "  pipe.fit(X_train, y_train)\n",
        "  y_test_pred = pipe.predict(X_test)\n",
        "  f1_test = f1_score(y_test, y_test_pred,average='macro')\n",
        "  mlp_l3.append(f1_test)\n",
        "\n",
        "#   # Create for feature selection \n",
        "#   f_selection = RandomForestClassifier(random_state = 42, verbose=0)\n",
        "\n",
        "#   # Perform feature selection using SelectFromModel\n",
        "#   feature_selector = SelectFromModel(f_selection)\n",
        "#   feature_selector.fit(X_train, y_train)\n",
        "#   X_train_transformed = feature_selector.transform(X_train)\n",
        "#   # X_val_transformed = feature_selector.transform(X_val)\n",
        "#   X_test_transformed = feature_selector.transform(X_test)\n",
        "\n",
        "#   print (X_train_transformed.shape)\n",
        "\n",
        "#   # creating pipeline\n",
        "#   pipe = Pipeline([('scaler', StandardScaler()), ('classification', MLPClassifier(max_iter=500))])\n",
        "\n",
        "#   # Create a GridSearchCV object for random forest\n",
        "#   grid_search = GridSearchCV(pipe, mlp_param_grid, cv=5, n_jobs=-1, verbose=0,\n",
        "#                             scoring='f1_macro', return_train_score=True)\n",
        "#   # Fit the GridSearchCV object on the transformed training data\n",
        "#   grid_search.fit(X_train_transformed, y_train)\n",
        "\n",
        "#   # Print the best hyperparameters\n",
        "#   # print(f'Best hyperparameters for {w}: {grid_search.best_params_}')\n",
        "\n",
        "#   # Evaluate the pipeline on the validation set\n",
        "#   # y_val_pred = grid_search.predict(X_val_transformed)\n",
        "#   # f1_val = f1_score(y_val, y_val_pred, average='macro')\n",
        "#   # print(f'F1 score on validation set for {w}: {f1_val}')\n",
        "\n",
        "\n",
        "#   # Evaluate the pipeline on the test set\n",
        "#   y_test_pred = grid_search.predict(X_test_transformed)\n",
        "#   f1_test = f1_score(y_test, y_test_pred,average='macro')\n",
        "#   accuracy = accuracy_score(y_test, y_test_pred)\n",
        "#   # print(f1_test)\n",
        "#   # store the best parameters for this wavelet in the dictionary\n",
        "#   MLP_best_params[w] = grid_search.best_params_\n",
        "  \n",
        "  \n",
        "#   mlp_f1.append(f1_test)\n",
        "#   mlp_ac.append(accuracy)\n",
        "#   end_time = time.time()\n",
        "#   print(f'Time taken for  {w}: {end_time-start_time:.6f}')\n",
        "\n",
        "# # create a dataframe from the dictionary of best parameters\n",
        "# df_mlp = pd.DataFrame.from_dict(MLP_best_params, orient='index')\n",
        "# # concatenate the two DataFrames\n",
        "# # df_best = pd.concat([df_best, df_mlp], axis=1)\n",
        "\n",
        "# # f1 = pd.concat([f1, pd.DataFrame({'MLP_f1': mlp_f1,'MLP_ac': mlp_ac})], axis=1)\n",
        "# f1 = pd.DataFrame({'wavelet':wavelets, 'MLP_f1': mlp_f1,'MLP_ac': mlp_ac })\n",
        "# f1.to_csv('/content/drive/MyDrive/f1_MLPtuned.csv', sep='\\t') # relative position\n",
        "# df_mlp.to_csv('/content/drive/MyDrive/bestpara_MLPtuned.csv', sep='\\t')\n"
      ],
      "metadata": {
        "id": "oc5uUZ3oea-q"
      },
      "id": "oc5uUZ3oea-q",
      "execution_count": null,
      "outputs": []
    },
    {
      "cell_type": "markdown",
      "source": [
        "# Feature selection_PCA and Model_RF"
      ],
      "metadata": {
        "id": "ZI5KD4I9asQh"
      },
      "id": "ZI5KD4I9asQh"
    },
    {
      "cell_type": "code",
      "source": [
        "from sklearn.model_selection import GridSearchCV, train_test_split\n",
        "from sklearn.decomposition import IncrementalPCA\n",
        "import matplotlib.pyplot as plt\n",
        "from sklearn.preprocessing import StandardScaler\n",
        "from sklearn.decomposition import PCA\n",
        "from sklearn.pipeline import Pipeline\n",
        "from sklearn.ensemble import RandomForestClassifier\n",
        "from sklearn.metrics import f1_score"
      ],
      "metadata": {
        "id": "PaQTOlaswodo"
      },
      "id": "PaQTOlaswodo",
      "execution_count": null,
      "outputs": []
    },
    {
      "cell_type": "code",
      "source": [
        "w_T_score = []\n",
        "w_V_score = []\n",
        "# loop over each wavelet\n",
        "for w in wavelets:\n",
        "  \n",
        "  # Subset the data for the current wavelet\n",
        "  new = df[df['wavelet'] == w]\n",
        "  X = new.drop(['Date', 'Machine', 'Operation', 'Condition', 'Repeat', 'operationcondition', 'wavelet'], axis=1)\n",
        "  y = new['operationcondition']\n",
        "  print (w)\n",
        "\n",
        "  # Split data into train, validation, and test sets\n",
        "  X_train_val, X_test, y_train_val, y_test = train_test_split(X, y, test_size=0.2, random_state=42)\n",
        "  X_train, X_val, y_train, y_val = train_test_split(X_train_val, y_train_val, test_size=0.2, random_state=42)\n",
        "\n",
        "\n",
        "  # Define pipeline with PCA and random forest classifier\n",
        "  pipeline = Pipeline([\n",
        "      ('scaler', StandardScaler()),\n",
        "      ('pca', PCA(n_components=0.95)),\n",
        "      ('rf', RandomForestClassifier(bootstrap = True, max_depth= 30,min_samples_leaf=1, min_samples_split= 5, n_estimators= 200, random_state = 42, verbose=0))\n",
        "  ])\n",
        "\n",
        "  # # Define parameter grid for hyperparameter tuning\n",
        "  # param_grid = {\n",
        "  #     'pca__n_components': [0.95],\n",
        "  #     'rf__n_estimators': [100, 200, 500],\n",
        "  #     'rf__max_depth': [10, 30, None],\n",
        "  #     'rf__min_samples_split': [2, 5],\n",
        "  #     'rf__min_samples_leaf': [1],\n",
        "  #     'rf__max_features': ['sqrt', 'log2']\n",
        "  # }\n",
        "\n",
        "  # Perform grid search for hyperparameter tuning\n",
        "  # grid = GridSearchCV(pipeline, param_grid=param_grid, cv=5, scoring='f1_macro')\n",
        "  pipeline.fit(X_train, y_train)\n",
        "\n",
        "  # # Print best hyperparameters and corresponding F1 score\n",
        "  # print(\"Best hyperparameters:\", grid.best_params_)\n",
        "  # print(\"Training F1 score:\", grid.best_score_)\n",
        "\n",
        "  # Evaluate model on validation set\n",
        "  y_pred_val = pipeline.predict(X_val)\n",
        "  f1_val = f1_score(y_val, y_pred_val, average='macro')\n",
        "  # print(\"Validation F1 score:\", f1_val)\n",
        "\n",
        "  # Evaluate model on test set\n",
        "  y_pred_test = pipeline.predict(X_test)\n",
        "  f1_test = f1_score(y_test, y_pred_test, average='macro')\n",
        "  # print(\"Test F1 score:\", f1_test)\n",
        "\n",
        "  w_T_score.append(f1_test)\n",
        "  w_V_score.append(f1_val)\n",
        "\n"
      ],
      "metadata": {
        "id": "EzOcP1vrOUR9"
      },
      "id": "EzOcP1vrOUR9",
      "execution_count": null,
      "outputs": []
    },
    {
      "cell_type": "code",
      "source": [
        "# for plotting varaiance plot to check the PCSbased on 0.95 threshold\n",
        "\n",
        "\n",
        "for w in wavelets:\n",
        "    # Subset the data for the current wavelet\n",
        "    wavelet_data = df[df['wavelet'] == w].drop(['Date', 'Machine', 'Operation', 'Condition', 'Repeat', 'operationcondition', 'wavelet'], axis=1)\n",
        "\n",
        "    # Calculate the explained variance ratios for each component\n",
        "    x = StandardScaler().fit_transform(wavelet_data)\n",
        "    pca = IncrementalPCA()  #n_components=20\n",
        "    principalComponents = pca.fit_transform(x)\n",
        "    # principalDf = pd.DataFrame(data = principalComponents)\n",
        "    # Calculate variance ratios and cumulative variance\n",
        "    variance_ratios = pca.explained_variance_ratio_\n",
        "    cumulative_variances = np.cumsum(variance_ratios)\n",
        "\n",
        "    # Find the index where the cumulative variance exceeds 0.95\n",
        "    cum_var_threshold_index = np.argmax(cumulative_variances >= 0.95)\n",
        "    \n",
        "    # Plot individual variance as a bar\n",
        "    fig, ax1 = plt.subplots()\n",
        "    ax1.bar(range(len(variance_ratios)), variance_ratios)\n",
        "    ax1.set_ylabel('Individual Variance')\n",
        "\n",
        "    # Plot cumulative variance as a line\n",
        "    ax2 = ax1.twinx()\n",
        "    ax2.plot(range(len(cumulative_variances)), cumulative_variances, '--', color='red')\n",
        "    ax2.axhline(y=0.95, color='green', linestyle='--')  # add horizontal line at 0.95\n",
        "    ax2.set_ylabel('Cumulative Variance', color='red')\n",
        "    ax2.axvline(x=cum_var_threshold_index, color='green', linestyle='--')\n",
        "    for tl in ax2.get_yticklabels():\n",
        "        tl.set_color('red')\n",
        "\n",
        "    plt.title(f'Variance Explained by Principal Components for {w} wavelet')\n",
        "    plt.xlabel('Principal Components')\n",
        "    plt.show()\n"
      ],
      "metadata": {
        "id": "YX6JHqSBr6r2"
      },
      "id": "YX6JHqSBr6r2",
      "execution_count": null,
      "outputs": []
    },
    {
      "cell_type": "markdown",
      "source": [
        "# Feature selection_PCA and Model_SVC"
      ],
      "metadata": {
        "id": "AhzHmv3pBYYx"
      },
      "id": "AhzHmv3pBYYx"
    },
    {
      "cell_type": "code",
      "source": [
        "w_T_p_svc_score = []\n",
        "w_V_p_svc_score = []\n",
        "\n",
        "# loop over each wavelet\n",
        "for w in wavelets:\n",
        "  \n",
        "  # Subset the data for the current wavelet\n",
        "  new = df[df['wavelet'] == w]\n",
        "  X = new.drop(['Date', 'Machine', 'Operation', 'Condition', 'Repeat', 'operationcondition', 'wavelet'], axis=1)\n",
        "  y = new['operationcondition']\n",
        "  print (w)\n",
        "\n",
        "  # Split data into train, validation, and test sets\n",
        "  X_train_val, X_test, y_train_val, y_test = train_test_split(X, y, test_size=0.2, random_state=42)\n",
        "  X_train, X_val, y_train, y_val = train_test_split(X_train_val, y_train_val, test_size=0.2, random_state=42)\n",
        "\n",
        "\n",
        "  # Define pipeline with PCA and random forest classifier\n",
        "  pipeline = Pipeline([\n",
        "      ('scaler', StandardScaler()),\n",
        "      ('pca', PCA(n_components=0.95)),\n",
        "      ('classifier', SVC(kernel='rbf',C=9,gamma='auto'))\n",
        "  ])\n",
        "\n",
        "  # # Define parameter grid for hyperparameter tuning\n",
        "  # param_grid = {\n",
        "  #     'pca__n_components': [0.95],\n",
        "  #     'rf__n_estimators': [100, 200, 500],\n",
        "  #     'rf__max_depth': [10, 30, None],\n",
        "  #     'rf__min_samples_split': [2, 5],\n",
        "  #     'rf__min_samples_leaf': [1],\n",
        "  #     'rf__max_features': ['sqrt', 'log2']\n",
        "  # }\n",
        "\n",
        "  # Perform grid search for hyperparameter tuning\n",
        "  # grid = GridSearchCV(pipeline, param_grid=param_grid, cv=5, scoring='f1_macro')\n",
        "  pipeline.fit(X_train, y_train)\n",
        "\n",
        "  # # Print best hyperparameters and corresponding F1 score\n",
        "  # print(\"Best hyperparameters:\", grid.best_params_)\n",
        "  # print(\"Training F1 score:\", grid.best_score_)\n",
        "\n",
        "  # Evaluate model on validation set\n",
        "  y_pred_val = pipeline.predict(X_val)\n",
        "  f1_val = f1_score(y_val, y_pred_val, average='macro')\n",
        "  print(\"Validation F1 score:\", f1_val)\n",
        "\n",
        "  # Evaluate model on test set\n",
        "  y_pred_test = pipeline.predict(X_test)\n",
        "  f1_test = f1_score(y_test, y_pred_test, average='macro')\n",
        "  print(\"Test F1 score:\", f1_test)\n",
        "\n",
        "  w_T_p_svc_score.append(f1_test)\n",
        "  w_V_p_svc_score.append(f1_val)\n",
        "\n"
      ],
      "metadata": {
        "id": "D6MZftDMBy8h"
      },
      "id": "D6MZftDMBy8h",
      "execution_count": null,
      "outputs": []
    },
    {
      "cell_type": "markdown",
      "source": [
        "# Ploting f1_score using f1_score csv file"
      ],
      "metadata": {
        "id": "7wZaRyIVDG52"
      },
      "id": "7wZaRyIVDG52"
    },
    {
      "cell_type": "code",
      "source": [
        "#read csv to plot f1-score \n",
        "path1 = '/content/drive/MyDrive/f1_withoutoptimization.csv'\n",
        "df = pd.read_csv(path1,sep='\\t')\n",
        "df = df.drop(['Unnamed: 0'], axis = 1)"
      ],
      "metadata": {
        "id": "GYixQwPlCfrt"
      },
      "id": "GYixQwPlCfrt",
      "execution_count": null,
      "outputs": []
    },
    {
      "cell_type": "code",
      "source": [
        "df = df.rename(columns={'L3RFRF': 'L3RF','L3RFSVC': 'L3SVC','L2RFRF': 'L2RF','L2RFSVC': 'L2SVC','L3RFMLP': 'L3MLP','L2RFMLP': 'L2MLP'})\n"
      ],
      "metadata": {
        "id": "EOXkIxxVDLzL"
      },
      "id": "EOXkIxxVDLzL",
      "execution_count": null,
      "outputs": []
    },
    {
      "cell_type": "markdown",
      "source": [],
      "metadata": {
        "id": "fzg3LRE6tvnk"
      },
      "id": "fzg3LRE6tvnk"
    },
    {
      "cell_type": "code",
      "source": [
        "df.head(50)"
      ],
      "metadata": {
        "id": "A3jP_kW-RXnX",
        "outputId": "e677eb08-5d83-407a-82ae-8eb66849d27f",
        "colab": {
          "base_uri": "https://localhost:8080/",
          "height": 1000
        }
      },
      "id": "A3jP_kW-RXnX",
      "execution_count": null,
      "outputs": [
        {
          "output_type": "execute_result",
          "data": {
            "text/plain": [
              "    wavelet      L3RF     L3SVC      L2RF     L2SVC     L3MLP     L2MLP\n",
              "0       db2  0.923430  0.889147  0.896485  0.849134  0.920947  0.897508\n",
              "1       db3  0.926868  0.916677  0.902937  0.870152  0.934944  0.899978\n",
              "2       db4  0.934902  0.912023  0.896806  0.865027  0.927490  0.897259\n",
              "3       db5  0.932398  0.899072  0.898605  0.859212  0.924502  0.893703\n",
              "4       db6  0.938432  0.905852  0.895626  0.854324  0.933704  0.876305\n",
              "5       db7  0.937235  0.922744  0.908038  0.865916  0.931537  0.897798\n",
              "6       db8  0.941181  0.927643  0.902165  0.861449  0.940805  0.912477\n",
              "7       db9  0.930262  0.907748  0.912326  0.861953  0.922358  0.885803\n",
              "8      db10  0.940574  0.919671  0.895728  0.865023  0.919709  0.887784\n",
              "9      db11  0.943980  0.922107  0.922758  0.882229  0.945408  0.900066\n",
              "10     db12  0.936347  0.923015  0.907069  0.861712  0.935144  0.875417\n",
              "11     db13  0.940749  0.922532  0.895923  0.856355  0.943568  0.869962\n",
              "12     db14  0.935920  0.925080  0.917767  0.869453  0.920801  0.901868\n",
              "13     db15  0.935578  0.907501  0.910148  0.870524  0.929845  0.892922\n",
              "14     db16  0.933567  0.920798  0.905006  0.867364  0.922980  0.889154\n",
              "15  bior1.1  0.923268  0.912561  0.888305  0.843931  0.939329  0.907015\n",
              "16  bior1.3  0.936620  0.916584  0.892906  0.872540  0.937302  0.887158\n",
              "17  bior1.5  0.941701  0.896718  0.899683  0.833019  0.922086  0.874828\n",
              "18  bior2.2  0.919000  0.901399  0.887293  0.847669  0.930370  0.866487\n",
              "19  bior2.4  0.936562  0.918330  0.900556  0.856850  0.933282  0.896161\n",
              "20  bior2.6  0.924982  0.904414  0.902104  0.861862  0.919368  0.888424\n",
              "21  bior2.8  0.938995  0.915926  0.898435  0.849015  0.929914  0.891720\n",
              "22  bior3.1  0.890833  0.867227  0.848856  0.807081  0.918424  0.858430\n",
              "23  bior3.3  0.924400  0.880480  0.898750  0.854312  0.919189  0.880996\n",
              "24  bior3.5  0.942035  0.917447  0.892641  0.874763  0.931307  0.883221\n",
              "25  bior3.7  0.937151  0.910108  0.897281  0.861044  0.929184  0.872925\n",
              "26  bior3.9  0.936004  0.909471  0.919035  0.873436  0.932857  0.882528\n",
              "27  bior4.4  0.938395  0.907895  0.908877  0.861378  0.925086  0.894232\n",
              "28  bior5.5  0.927059  0.914285  0.911200  0.868647  0.937887  0.896428\n",
              "29  bior6.8  0.931371  0.920696  0.899532  0.876520  0.927397  0.875215\n",
              "30     haar  0.923268  0.912561  0.888305  0.843931  0.939329  0.907015\n",
              "31     sym2  0.923430  0.889147  0.892142  0.847029  0.920947  0.897922\n",
              "32     sym3  0.926868  0.916677  0.902937  0.870152  0.934944  0.899978\n",
              "33     sym4  0.930682  0.908614  0.889321  0.851664  0.915010  0.868168\n",
              "34     sym5  0.948160  0.918455  0.911887  0.842957  0.927816  0.879731\n",
              "35     sym6  0.933070  0.901609  0.918024  0.859468  0.924899  0.881728\n",
              "36     sym7  0.935081  0.913752  0.906811  0.857312  0.938244  0.883751\n",
              "37     sym8  0.943555  0.918850  0.885994  0.863536  0.923954  0.882017\n",
              "38     sym9  0.948788  0.923625  0.906335  0.858464  0.926251  0.895171\n",
              "39    sym10  0.943571  0.909698  0.903594  0.859663  0.931504  0.897212\n",
              "40    coif1  0.933708  0.894138  0.906452  0.863765  0.910437  0.882080\n",
              "41    coif2  0.926735  0.910510  0.895271  0.857080  0.921166  0.880941\n",
              "42    coif3  0.944037  0.910272  0.897804  0.861451  0.924308  0.888232\n",
              "43    coif4  0.944788  0.919622  0.895934  0.863652  0.921803  0.882517\n",
              "44    coif5  0.943857  0.930634  0.910849  0.861672  0.937420  0.889105\n",
              "45    coif6  0.945529  0.917869  0.917149  0.859405  0.922622  0.870060\n",
              "46    coif7  0.948568  0.931127  0.901785  0.850891  0.919663  0.892838\n",
              "47    coif8  0.950548  0.924268  0.914065  0.846169  0.937880  0.883250\n",
              "48    coif9  0.940491  0.924648  0.912235  0.863186  0.927931  0.876755\n",
              "49     dmey  0.943231  0.918011  0.908385  0.867796  0.928999  0.891873"
            ],
            "text/html": [
              "\n",
              "  <div id=\"df-a0adde4e-3eaa-42bc-beef-161dbcea8060\">\n",
              "    <div class=\"colab-df-container\">\n",
              "      <div>\n",
              "<style scoped>\n",
              "    .dataframe tbody tr th:only-of-type {\n",
              "        vertical-align: middle;\n",
              "    }\n",
              "\n",
              "    .dataframe tbody tr th {\n",
              "        vertical-align: top;\n",
              "    }\n",
              "\n",
              "    .dataframe thead th {\n",
              "        text-align: right;\n",
              "    }\n",
              "</style>\n",
              "<table border=\"1\" class=\"dataframe\">\n",
              "  <thead>\n",
              "    <tr style=\"text-align: right;\">\n",
              "      <th></th>\n",
              "      <th>wavelet</th>\n",
              "      <th>L3RF</th>\n",
              "      <th>L3SVC</th>\n",
              "      <th>L2RF</th>\n",
              "      <th>L2SVC</th>\n",
              "      <th>L3MLP</th>\n",
              "      <th>L2MLP</th>\n",
              "    </tr>\n",
              "  </thead>\n",
              "  <tbody>\n",
              "    <tr>\n",
              "      <th>0</th>\n",
              "      <td>db2</td>\n",
              "      <td>0.923430</td>\n",
              "      <td>0.889147</td>\n",
              "      <td>0.896485</td>\n",
              "      <td>0.849134</td>\n",
              "      <td>0.920947</td>\n",
              "      <td>0.897508</td>\n",
              "    </tr>\n",
              "    <tr>\n",
              "      <th>1</th>\n",
              "      <td>db3</td>\n",
              "      <td>0.926868</td>\n",
              "      <td>0.916677</td>\n",
              "      <td>0.902937</td>\n",
              "      <td>0.870152</td>\n",
              "      <td>0.934944</td>\n",
              "      <td>0.899978</td>\n",
              "    </tr>\n",
              "    <tr>\n",
              "      <th>2</th>\n",
              "      <td>db4</td>\n",
              "      <td>0.934902</td>\n",
              "      <td>0.912023</td>\n",
              "      <td>0.896806</td>\n",
              "      <td>0.865027</td>\n",
              "      <td>0.927490</td>\n",
              "      <td>0.897259</td>\n",
              "    </tr>\n",
              "    <tr>\n",
              "      <th>3</th>\n",
              "      <td>db5</td>\n",
              "      <td>0.932398</td>\n",
              "      <td>0.899072</td>\n",
              "      <td>0.898605</td>\n",
              "      <td>0.859212</td>\n",
              "      <td>0.924502</td>\n",
              "      <td>0.893703</td>\n",
              "    </tr>\n",
              "    <tr>\n",
              "      <th>4</th>\n",
              "      <td>db6</td>\n",
              "      <td>0.938432</td>\n",
              "      <td>0.905852</td>\n",
              "      <td>0.895626</td>\n",
              "      <td>0.854324</td>\n",
              "      <td>0.933704</td>\n",
              "      <td>0.876305</td>\n",
              "    </tr>\n",
              "    <tr>\n",
              "      <th>5</th>\n",
              "      <td>db7</td>\n",
              "      <td>0.937235</td>\n",
              "      <td>0.922744</td>\n",
              "      <td>0.908038</td>\n",
              "      <td>0.865916</td>\n",
              "      <td>0.931537</td>\n",
              "      <td>0.897798</td>\n",
              "    </tr>\n",
              "    <tr>\n",
              "      <th>6</th>\n",
              "      <td>db8</td>\n",
              "      <td>0.941181</td>\n",
              "      <td>0.927643</td>\n",
              "      <td>0.902165</td>\n",
              "      <td>0.861449</td>\n",
              "      <td>0.940805</td>\n",
              "      <td>0.912477</td>\n",
              "    </tr>\n",
              "    <tr>\n",
              "      <th>7</th>\n",
              "      <td>db9</td>\n",
              "      <td>0.930262</td>\n",
              "      <td>0.907748</td>\n",
              "      <td>0.912326</td>\n",
              "      <td>0.861953</td>\n",
              "      <td>0.922358</td>\n",
              "      <td>0.885803</td>\n",
              "    </tr>\n",
              "    <tr>\n",
              "      <th>8</th>\n",
              "      <td>db10</td>\n",
              "      <td>0.940574</td>\n",
              "      <td>0.919671</td>\n",
              "      <td>0.895728</td>\n",
              "      <td>0.865023</td>\n",
              "      <td>0.919709</td>\n",
              "      <td>0.887784</td>\n",
              "    </tr>\n",
              "    <tr>\n",
              "      <th>9</th>\n",
              "      <td>db11</td>\n",
              "      <td>0.943980</td>\n",
              "      <td>0.922107</td>\n",
              "      <td>0.922758</td>\n",
              "      <td>0.882229</td>\n",
              "      <td>0.945408</td>\n",
              "      <td>0.900066</td>\n",
              "    </tr>\n",
              "    <tr>\n",
              "      <th>10</th>\n",
              "      <td>db12</td>\n",
              "      <td>0.936347</td>\n",
              "      <td>0.923015</td>\n",
              "      <td>0.907069</td>\n",
              "      <td>0.861712</td>\n",
              "      <td>0.935144</td>\n",
              "      <td>0.875417</td>\n",
              "    </tr>\n",
              "    <tr>\n",
              "      <th>11</th>\n",
              "      <td>db13</td>\n",
              "      <td>0.940749</td>\n",
              "      <td>0.922532</td>\n",
              "      <td>0.895923</td>\n",
              "      <td>0.856355</td>\n",
              "      <td>0.943568</td>\n",
              "      <td>0.869962</td>\n",
              "    </tr>\n",
              "    <tr>\n",
              "      <th>12</th>\n",
              "      <td>db14</td>\n",
              "      <td>0.935920</td>\n",
              "      <td>0.925080</td>\n",
              "      <td>0.917767</td>\n",
              "      <td>0.869453</td>\n",
              "      <td>0.920801</td>\n",
              "      <td>0.901868</td>\n",
              "    </tr>\n",
              "    <tr>\n",
              "      <th>13</th>\n",
              "      <td>db15</td>\n",
              "      <td>0.935578</td>\n",
              "      <td>0.907501</td>\n",
              "      <td>0.910148</td>\n",
              "      <td>0.870524</td>\n",
              "      <td>0.929845</td>\n",
              "      <td>0.892922</td>\n",
              "    </tr>\n",
              "    <tr>\n",
              "      <th>14</th>\n",
              "      <td>db16</td>\n",
              "      <td>0.933567</td>\n",
              "      <td>0.920798</td>\n",
              "      <td>0.905006</td>\n",
              "      <td>0.867364</td>\n",
              "      <td>0.922980</td>\n",
              "      <td>0.889154</td>\n",
              "    </tr>\n",
              "    <tr>\n",
              "      <th>15</th>\n",
              "      <td>bior1.1</td>\n",
              "      <td>0.923268</td>\n",
              "      <td>0.912561</td>\n",
              "      <td>0.888305</td>\n",
              "      <td>0.843931</td>\n",
              "      <td>0.939329</td>\n",
              "      <td>0.907015</td>\n",
              "    </tr>\n",
              "    <tr>\n",
              "      <th>16</th>\n",
              "      <td>bior1.3</td>\n",
              "      <td>0.936620</td>\n",
              "      <td>0.916584</td>\n",
              "      <td>0.892906</td>\n",
              "      <td>0.872540</td>\n",
              "      <td>0.937302</td>\n",
              "      <td>0.887158</td>\n",
              "    </tr>\n",
              "    <tr>\n",
              "      <th>17</th>\n",
              "      <td>bior1.5</td>\n",
              "      <td>0.941701</td>\n",
              "      <td>0.896718</td>\n",
              "      <td>0.899683</td>\n",
              "      <td>0.833019</td>\n",
              "      <td>0.922086</td>\n",
              "      <td>0.874828</td>\n",
              "    </tr>\n",
              "    <tr>\n",
              "      <th>18</th>\n",
              "      <td>bior2.2</td>\n",
              "      <td>0.919000</td>\n",
              "      <td>0.901399</td>\n",
              "      <td>0.887293</td>\n",
              "      <td>0.847669</td>\n",
              "      <td>0.930370</td>\n",
              "      <td>0.866487</td>\n",
              "    </tr>\n",
              "    <tr>\n",
              "      <th>19</th>\n",
              "      <td>bior2.4</td>\n",
              "      <td>0.936562</td>\n",
              "      <td>0.918330</td>\n",
              "      <td>0.900556</td>\n",
              "      <td>0.856850</td>\n",
              "      <td>0.933282</td>\n",
              "      <td>0.896161</td>\n",
              "    </tr>\n",
              "    <tr>\n",
              "      <th>20</th>\n",
              "      <td>bior2.6</td>\n",
              "      <td>0.924982</td>\n",
              "      <td>0.904414</td>\n",
              "      <td>0.902104</td>\n",
              "      <td>0.861862</td>\n",
              "      <td>0.919368</td>\n",
              "      <td>0.888424</td>\n",
              "    </tr>\n",
              "    <tr>\n",
              "      <th>21</th>\n",
              "      <td>bior2.8</td>\n",
              "      <td>0.938995</td>\n",
              "      <td>0.915926</td>\n",
              "      <td>0.898435</td>\n",
              "      <td>0.849015</td>\n",
              "      <td>0.929914</td>\n",
              "      <td>0.891720</td>\n",
              "    </tr>\n",
              "    <tr>\n",
              "      <th>22</th>\n",
              "      <td>bior3.1</td>\n",
              "      <td>0.890833</td>\n",
              "      <td>0.867227</td>\n",
              "      <td>0.848856</td>\n",
              "      <td>0.807081</td>\n",
              "      <td>0.918424</td>\n",
              "      <td>0.858430</td>\n",
              "    </tr>\n",
              "    <tr>\n",
              "      <th>23</th>\n",
              "      <td>bior3.3</td>\n",
              "      <td>0.924400</td>\n",
              "      <td>0.880480</td>\n",
              "      <td>0.898750</td>\n",
              "      <td>0.854312</td>\n",
              "      <td>0.919189</td>\n",
              "      <td>0.880996</td>\n",
              "    </tr>\n",
              "    <tr>\n",
              "      <th>24</th>\n",
              "      <td>bior3.5</td>\n",
              "      <td>0.942035</td>\n",
              "      <td>0.917447</td>\n",
              "      <td>0.892641</td>\n",
              "      <td>0.874763</td>\n",
              "      <td>0.931307</td>\n",
              "      <td>0.883221</td>\n",
              "    </tr>\n",
              "    <tr>\n",
              "      <th>25</th>\n",
              "      <td>bior3.7</td>\n",
              "      <td>0.937151</td>\n",
              "      <td>0.910108</td>\n",
              "      <td>0.897281</td>\n",
              "      <td>0.861044</td>\n",
              "      <td>0.929184</td>\n",
              "      <td>0.872925</td>\n",
              "    </tr>\n",
              "    <tr>\n",
              "      <th>26</th>\n",
              "      <td>bior3.9</td>\n",
              "      <td>0.936004</td>\n",
              "      <td>0.909471</td>\n",
              "      <td>0.919035</td>\n",
              "      <td>0.873436</td>\n",
              "      <td>0.932857</td>\n",
              "      <td>0.882528</td>\n",
              "    </tr>\n",
              "    <tr>\n",
              "      <th>27</th>\n",
              "      <td>bior4.4</td>\n",
              "      <td>0.938395</td>\n",
              "      <td>0.907895</td>\n",
              "      <td>0.908877</td>\n",
              "      <td>0.861378</td>\n",
              "      <td>0.925086</td>\n",
              "      <td>0.894232</td>\n",
              "    </tr>\n",
              "    <tr>\n",
              "      <th>28</th>\n",
              "      <td>bior5.5</td>\n",
              "      <td>0.927059</td>\n",
              "      <td>0.914285</td>\n",
              "      <td>0.911200</td>\n",
              "      <td>0.868647</td>\n",
              "      <td>0.937887</td>\n",
              "      <td>0.896428</td>\n",
              "    </tr>\n",
              "    <tr>\n",
              "      <th>29</th>\n",
              "      <td>bior6.8</td>\n",
              "      <td>0.931371</td>\n",
              "      <td>0.920696</td>\n",
              "      <td>0.899532</td>\n",
              "      <td>0.876520</td>\n",
              "      <td>0.927397</td>\n",
              "      <td>0.875215</td>\n",
              "    </tr>\n",
              "    <tr>\n",
              "      <th>30</th>\n",
              "      <td>haar</td>\n",
              "      <td>0.923268</td>\n",
              "      <td>0.912561</td>\n",
              "      <td>0.888305</td>\n",
              "      <td>0.843931</td>\n",
              "      <td>0.939329</td>\n",
              "      <td>0.907015</td>\n",
              "    </tr>\n",
              "    <tr>\n",
              "      <th>31</th>\n",
              "      <td>sym2</td>\n",
              "      <td>0.923430</td>\n",
              "      <td>0.889147</td>\n",
              "      <td>0.892142</td>\n",
              "      <td>0.847029</td>\n",
              "      <td>0.920947</td>\n",
              "      <td>0.897922</td>\n",
              "    </tr>\n",
              "    <tr>\n",
              "      <th>32</th>\n",
              "      <td>sym3</td>\n",
              "      <td>0.926868</td>\n",
              "      <td>0.916677</td>\n",
              "      <td>0.902937</td>\n",
              "      <td>0.870152</td>\n",
              "      <td>0.934944</td>\n",
              "      <td>0.899978</td>\n",
              "    </tr>\n",
              "    <tr>\n",
              "      <th>33</th>\n",
              "      <td>sym4</td>\n",
              "      <td>0.930682</td>\n",
              "      <td>0.908614</td>\n",
              "      <td>0.889321</td>\n",
              "      <td>0.851664</td>\n",
              "      <td>0.915010</td>\n",
              "      <td>0.868168</td>\n",
              "    </tr>\n",
              "    <tr>\n",
              "      <th>34</th>\n",
              "      <td>sym5</td>\n",
              "      <td>0.948160</td>\n",
              "      <td>0.918455</td>\n",
              "      <td>0.911887</td>\n",
              "      <td>0.842957</td>\n",
              "      <td>0.927816</td>\n",
              "      <td>0.879731</td>\n",
              "    </tr>\n",
              "    <tr>\n",
              "      <th>35</th>\n",
              "      <td>sym6</td>\n",
              "      <td>0.933070</td>\n",
              "      <td>0.901609</td>\n",
              "      <td>0.918024</td>\n",
              "      <td>0.859468</td>\n",
              "      <td>0.924899</td>\n",
              "      <td>0.881728</td>\n",
              "    </tr>\n",
              "    <tr>\n",
              "      <th>36</th>\n",
              "      <td>sym7</td>\n",
              "      <td>0.935081</td>\n",
              "      <td>0.913752</td>\n",
              "      <td>0.906811</td>\n",
              "      <td>0.857312</td>\n",
              "      <td>0.938244</td>\n",
              "      <td>0.883751</td>\n",
              "    </tr>\n",
              "    <tr>\n",
              "      <th>37</th>\n",
              "      <td>sym8</td>\n",
              "      <td>0.943555</td>\n",
              "      <td>0.918850</td>\n",
              "      <td>0.885994</td>\n",
              "      <td>0.863536</td>\n",
              "      <td>0.923954</td>\n",
              "      <td>0.882017</td>\n",
              "    </tr>\n",
              "    <tr>\n",
              "      <th>38</th>\n",
              "      <td>sym9</td>\n",
              "      <td>0.948788</td>\n",
              "      <td>0.923625</td>\n",
              "      <td>0.906335</td>\n",
              "      <td>0.858464</td>\n",
              "      <td>0.926251</td>\n",
              "      <td>0.895171</td>\n",
              "    </tr>\n",
              "    <tr>\n",
              "      <th>39</th>\n",
              "      <td>sym10</td>\n",
              "      <td>0.943571</td>\n",
              "      <td>0.909698</td>\n",
              "      <td>0.903594</td>\n",
              "      <td>0.859663</td>\n",
              "      <td>0.931504</td>\n",
              "      <td>0.897212</td>\n",
              "    </tr>\n",
              "    <tr>\n",
              "      <th>40</th>\n",
              "      <td>coif1</td>\n",
              "      <td>0.933708</td>\n",
              "      <td>0.894138</td>\n",
              "      <td>0.906452</td>\n",
              "      <td>0.863765</td>\n",
              "      <td>0.910437</td>\n",
              "      <td>0.882080</td>\n",
              "    </tr>\n",
              "    <tr>\n",
              "      <th>41</th>\n",
              "      <td>coif2</td>\n",
              "      <td>0.926735</td>\n",
              "      <td>0.910510</td>\n",
              "      <td>0.895271</td>\n",
              "      <td>0.857080</td>\n",
              "      <td>0.921166</td>\n",
              "      <td>0.880941</td>\n",
              "    </tr>\n",
              "    <tr>\n",
              "      <th>42</th>\n",
              "      <td>coif3</td>\n",
              "      <td>0.944037</td>\n",
              "      <td>0.910272</td>\n",
              "      <td>0.897804</td>\n",
              "      <td>0.861451</td>\n",
              "      <td>0.924308</td>\n",
              "      <td>0.888232</td>\n",
              "    </tr>\n",
              "    <tr>\n",
              "      <th>43</th>\n",
              "      <td>coif4</td>\n",
              "      <td>0.944788</td>\n",
              "      <td>0.919622</td>\n",
              "      <td>0.895934</td>\n",
              "      <td>0.863652</td>\n",
              "      <td>0.921803</td>\n",
              "      <td>0.882517</td>\n",
              "    </tr>\n",
              "    <tr>\n",
              "      <th>44</th>\n",
              "      <td>coif5</td>\n",
              "      <td>0.943857</td>\n",
              "      <td>0.930634</td>\n",
              "      <td>0.910849</td>\n",
              "      <td>0.861672</td>\n",
              "      <td>0.937420</td>\n",
              "      <td>0.889105</td>\n",
              "    </tr>\n",
              "    <tr>\n",
              "      <th>45</th>\n",
              "      <td>coif6</td>\n",
              "      <td>0.945529</td>\n",
              "      <td>0.917869</td>\n",
              "      <td>0.917149</td>\n",
              "      <td>0.859405</td>\n",
              "      <td>0.922622</td>\n",
              "      <td>0.870060</td>\n",
              "    </tr>\n",
              "    <tr>\n",
              "      <th>46</th>\n",
              "      <td>coif7</td>\n",
              "      <td>0.948568</td>\n",
              "      <td>0.931127</td>\n",
              "      <td>0.901785</td>\n",
              "      <td>0.850891</td>\n",
              "      <td>0.919663</td>\n",
              "      <td>0.892838</td>\n",
              "    </tr>\n",
              "    <tr>\n",
              "      <th>47</th>\n",
              "      <td>coif8</td>\n",
              "      <td>0.950548</td>\n",
              "      <td>0.924268</td>\n",
              "      <td>0.914065</td>\n",
              "      <td>0.846169</td>\n",
              "      <td>0.937880</td>\n",
              "      <td>0.883250</td>\n",
              "    </tr>\n",
              "    <tr>\n",
              "      <th>48</th>\n",
              "      <td>coif9</td>\n",
              "      <td>0.940491</td>\n",
              "      <td>0.924648</td>\n",
              "      <td>0.912235</td>\n",
              "      <td>0.863186</td>\n",
              "      <td>0.927931</td>\n",
              "      <td>0.876755</td>\n",
              "    </tr>\n",
              "    <tr>\n",
              "      <th>49</th>\n",
              "      <td>dmey</td>\n",
              "      <td>0.943231</td>\n",
              "      <td>0.918011</td>\n",
              "      <td>0.908385</td>\n",
              "      <td>0.867796</td>\n",
              "      <td>0.928999</td>\n",
              "      <td>0.891873</td>\n",
              "    </tr>\n",
              "  </tbody>\n",
              "</table>\n",
              "</div>\n",
              "      <button class=\"colab-df-convert\" onclick=\"convertToInteractive('df-a0adde4e-3eaa-42bc-beef-161dbcea8060')\"\n",
              "              title=\"Convert this dataframe to an interactive table.\"\n",
              "              style=\"display:none;\">\n",
              "        \n",
              "  <svg xmlns=\"http://www.w3.org/2000/svg\" height=\"24px\"viewBox=\"0 0 24 24\"\n",
              "       width=\"24px\">\n",
              "    <path d=\"M0 0h24v24H0V0z\" fill=\"none\"/>\n",
              "    <path d=\"M18.56 5.44l.94 2.06.94-2.06 2.06-.94-2.06-.94-.94-2.06-.94 2.06-2.06.94zm-11 1L8.5 8.5l.94-2.06 2.06-.94-2.06-.94L8.5 2.5l-.94 2.06-2.06.94zm10 10l.94 2.06.94-2.06 2.06-.94-2.06-.94-.94-2.06-.94 2.06-2.06.94z\"/><path d=\"M17.41 7.96l-1.37-1.37c-.4-.4-.92-.59-1.43-.59-.52 0-1.04.2-1.43.59L10.3 9.45l-7.72 7.72c-.78.78-.78 2.05 0 2.83L4 21.41c.39.39.9.59 1.41.59.51 0 1.02-.2 1.41-.59l7.78-7.78 2.81-2.81c.8-.78.8-2.07 0-2.86zM5.41 20L4 18.59l7.72-7.72 1.47 1.35L5.41 20z\"/>\n",
              "  </svg>\n",
              "      </button>\n",
              "      \n",
              "  <style>\n",
              "    .colab-df-container {\n",
              "      display:flex;\n",
              "      flex-wrap:wrap;\n",
              "      gap: 12px;\n",
              "    }\n",
              "\n",
              "    .colab-df-convert {\n",
              "      background-color: #E8F0FE;\n",
              "      border: none;\n",
              "      border-radius: 50%;\n",
              "      cursor: pointer;\n",
              "      display: none;\n",
              "      fill: #1967D2;\n",
              "      height: 32px;\n",
              "      padding: 0 0 0 0;\n",
              "      width: 32px;\n",
              "    }\n",
              "\n",
              "    .colab-df-convert:hover {\n",
              "      background-color: #E2EBFA;\n",
              "      box-shadow: 0px 1px 2px rgba(60, 64, 67, 0.3), 0px 1px 3px 1px rgba(60, 64, 67, 0.15);\n",
              "      fill: #174EA6;\n",
              "    }\n",
              "\n",
              "    [theme=dark] .colab-df-convert {\n",
              "      background-color: #3B4455;\n",
              "      fill: #D2E3FC;\n",
              "    }\n",
              "\n",
              "    [theme=dark] .colab-df-convert:hover {\n",
              "      background-color: #434B5C;\n",
              "      box-shadow: 0px 1px 3px 1px rgba(0, 0, 0, 0.15);\n",
              "      filter: drop-shadow(0px 1px 2px rgba(0, 0, 0, 0.3));\n",
              "      fill: #FFFFFF;\n",
              "    }\n",
              "  </style>\n",
              "\n",
              "      <script>\n",
              "        const buttonEl =\n",
              "          document.querySelector('#df-a0adde4e-3eaa-42bc-beef-161dbcea8060 button.colab-df-convert');\n",
              "        buttonEl.style.display =\n",
              "          google.colab.kernel.accessAllowed ? 'block' : 'none';\n",
              "\n",
              "        async function convertToInteractive(key) {\n",
              "          const element = document.querySelector('#df-a0adde4e-3eaa-42bc-beef-161dbcea8060');\n",
              "          const dataTable =\n",
              "            await google.colab.kernel.invokeFunction('convertToInteractive',\n",
              "                                                     [key], {});\n",
              "          if (!dataTable) return;\n",
              "\n",
              "          const docLinkHtml = 'Like what you see? Visit the ' +\n",
              "            '<a target=\"_blank\" href=https://colab.research.google.com/notebooks/data_table.ipynb>data table notebook</a>'\n",
              "            + ' to learn more about interactive tables.';\n",
              "          element.innerHTML = '';\n",
              "          dataTable['output_type'] = 'display_data';\n",
              "          await google.colab.output.renderOutput(dataTable, element);\n",
              "          const docLink = document.createElement('div');\n",
              "          docLink.innerHTML = docLinkHtml;\n",
              "          element.appendChild(docLink);\n",
              "        }\n",
              "      </script>\n",
              "    </div>\n",
              "  </div>\n",
              "  "
            ]
          },
          "metadata": {},
          "execution_count": 25
        }
      ]
    },
    {
      "cell_type": "code",
      "source": [
        "from matplotlib.lines import Line2D\n",
        "\n",
        "# define custom legend lines with correct line styles\n",
        "legend_lines = [Line2D([0], [0], linestyle=line, color=color, linewidth=2) for line, color in zip(line, colors)]\n",
        "\n",
        "# Use your new font on all your plots.\n",
        "plt.rc('font', family='serif ')\n",
        "\n",
        "#ploting dataframe of f1score\n",
        "X = df['wavelet']\n",
        "Y = df.drop(['wavelet'], axis = 1)\n",
        "Y.iloc[:, :] *= 100\n",
        "coly = Y.columns\n",
        "\n",
        "#ploting-----------------------------------------------------------------------\n",
        "k = Y[['L3RF','L3MLP','L3SVC','L2RF','L2MLP','L2SVC']] \n",
        "kcol = k.columns\n",
        "\n",
        "plt.figure(figsize=(12,5))\n",
        "colors = ['red', 'blue','purple','brown','orange','green']\n",
        "line = ['--','--','--',':',':',':']\n",
        "for i, col in enumerate(kcol):\n",
        "  plt.plot(X, k[col],linestyle = line[i] ,linewidth = 2, color=colors[i])\n",
        "  \n",
        "  max_idx = k[col].idxmax()\n",
        "  plt.scatter(X[max_idx], k[col][max_idx], color= colors[i], marker='*', s=100)\n",
        "\n",
        "# add a legend using the column names\n",
        "# set the position of the legend at the top and outside the plot area\n",
        "plt.legend(legend_lines,kcol,fontsize=14,loc='upper center', bbox_to_anchor=(0.5, 1), ncol=6, frameon=False)\n",
        "\n",
        "\n",
        "# add axis labels and a title\n",
        "plt.xlabel('Mother Wavelet',fontsize=14)\n",
        "plt.ylabel('f1_score (%)',fontsize=14)\n",
        "plt.xticks(rotation=90)\n",
        "plt.xticks(fontsize=12)\n",
        "plt.yticks(fontsize=12)\n",
        "plt.ylim(80,100)\n",
        "# plt.title('Line plot of y against x')\n",
        "\n",
        "# show the plot\n",
        "plt.show()\n"
      ],
      "metadata": {
        "id": "qffPQaMXDew8"
      },
      "id": "qffPQaMXDew8",
      "execution_count": null,
      "outputs": []
    },
    {
      "cell_type": "markdown",
      "source": [
        "# Hyperparameter tuning for Random forest, SVC and MLP"
      ],
      "metadata": {
        "id": "17sMNORsovTF"
      },
      "id": "17sMNORsovTF"
    },
    {
      "cell_type": "code",
      "source": [
        "# HYPARAMETER TUNING OF RF\n",
        "\n",
        "from sklearn.model_selection import train_test_split, GridSearchCV\n",
        "from sklearn.ensemble import RandomForestClassifier\n",
        "from sklearn.neural_network import MLPClassifier\n",
        "from sklearn.feature_selection import SelectFromModel\n",
        "from sklearn.metrics import accuracy_score\n",
        "from sklearn.svm import SVC\n",
        "from sklearn.metrics import f1_score\n",
        "\n",
        "\n",
        "score_rf = []\n",
        "\n",
        "#Define the parameter grid for RF\n",
        "rf_param_grid = {\n",
        "    'max_features': ['sqrt', 'log2'],\n",
        "    'n_estimators': [100, 200],\n",
        "    'max_depth': [10, 20, 30],\n",
        "    'min_samples_leaf': [1, 2],\n",
        "    'min_samples_split': [2, 5]}\n",
        "\n",
        "\n",
        "\n",
        "\n",
        "\n",
        "# w = 'db11'  # MLP\n",
        "w = 'coif8' #RF\n",
        "\n",
        "\n",
        "# Subset the data for the current wavelet\n",
        "new = df[df['wavelet'] == w]\n",
        "print (new.shape)\n",
        "X = new.drop(['Date', 'Machine', 'Operation', 'Condition', 'Repeat', 'operationcondition', 'wavelet'], axis=1)\n",
        "y = new['operationcondition']\n",
        "print (w)\n",
        "\n",
        "# Split the data into training, validation, and test sets\n",
        "#X_train_val, X_test, y_train_val, y_test = train_test_split(X, y, test_size=0.2, random_state=42)\n",
        "#X_train, X_val, y_train, y_val = train_test_split(X_train_val, y_train_val, test_size=0.2, random_state=42)\n",
        "  \n",
        "X_train, X_test, y_train, y_test = train_test_split(X, y, test_size=0.2, random_state=42)\n",
        "\n",
        "# Create for feature selection \n",
        "f_selection = RandomForestClassifier(random_state = 42, verbose=0)\n",
        "\n",
        "# Perform feature selection using SelectFromModel\n",
        "feature_selector = SelectFromModel(f_selection)\n",
        "feature_selector.fit(X_train, y_train)\n",
        "X_train_transformed = feature_selector.transform(X_train)\n",
        "\n",
        "print (X_train_transformed.shape)\n",
        "\n",
        "\n",
        "# Create a GridSearchCV object for random forest\n",
        "grid_search = GridSearchCV(f_selection, param_grid, cv=5, n_jobs=-1, verbose=1,\n",
        "                           scoring='f1_macro', return_train_score=True)\n",
        "# Fit the GridSearchCV object on the transformed training data\n",
        "grid_search.fit(X_train_transformed, y_train)\n",
        "\n",
        "# Print the best hyperparameters\n",
        "print(f'Best hyperparameters for {w}: {grid_search.best_params_}')\n",
        "\n",
        "# Evaluate the pipeline on the test set\n",
        "X_test_transformed = feature_selector.transform(X_test)\n",
        "y_test_pred = grid_search.predict(X_test_transformed)\n",
        "f1_test = f1_score(y_test, y_test_pred,average='macro')\n",
        "print(f'F1 score on test set for {w}: {f1_test}')\n",
        "score_rf.append(f1_test)"
      ],
      "metadata": {
        "id": "9cIjUesro9I3"
      },
      "id": "9cIjUesro9I3",
      "execution_count": null,
      "outputs": []
    },
    {
      "cell_type": "code",
      "source": [
        "# HYPARAMETER TUNING OF SVC\n",
        "from sklearn.ensemble import RandomForestClassifier\n",
        "from sklearn.pipeline import Pipeline\n",
        "from sklearn.preprocessing import StandardScaler\n",
        "from sklearn.model_selection import train_test_split, GridSearchCV\n",
        "from sklearn.feature_selection import SelectFromModel\n",
        "from sklearn.metrics import accuracy_score\n",
        "from sklearn.svm import SVC\n",
        "from sklearn.metrics import f1_score\n",
        "score_SVC = []\n",
        "\n",
        "svc_param_grid = {'classification__C': [0.1, 1, 10, 100, 1000], \n",
        "              'classification__gamma': [1, 0.1, 0.01, 0.001, 0.0001],\n",
        "              'classification__kernel': ['linear', 'rbf']} \n",
        "\n",
        "\n",
        "w = 'dmey' #SVC\n",
        "\n",
        "# Subset the data for the current wavelet\n",
        "new = df[df['wavelet'] == w]\n",
        "print (new.shape)\n",
        "X = new.drop(['Date', 'Machine', 'Operation', 'Condition', 'Repeat', 'operationcondition', 'wavelet'], axis=1)\n",
        "y = new['operationcondition']\n",
        "print (w)\n",
        "\n",
        "# Split the data into training, validation, and test sets\n",
        "# X_train_val, X_test, y_train_val, y_test = train_test_split(X, y, test_size=0.3, random_state=42)\n",
        "# X_train, X_val, y_train, y_val = train_test_split(X_train_val, y_train_val, test_size=0.2, random_state=42)\n",
        "  \n",
        "X_train, X_test, y_train, y_test = train_test_split(X, y, test_size=0.3, random_state=42)\n",
        "\n",
        "# Create for feature selection \n",
        "f_selection = RandomForestClassifier(random_state = 42, verbose=0)\n",
        "\n",
        "# Perform feature selection using SelectFromModel\n",
        "feature_selector = SelectFromModel(f_selection)\n",
        "feature_selector.fit(X_train, y_train)\n",
        "X_train_transformed = feature_selector.transform(X_train)\n",
        "# X_val_transformed = feature_selector.transform(X_val)\n",
        "X_test_transformed = feature_selector.transform(X_test)\n",
        "\n",
        "print (X_train_transformed.shape)\n",
        "\n",
        "# creating pipeline\n",
        "pipe = Pipeline([('scaler', StandardScaler()), ('classification', SVC())])\n",
        "\n",
        "# Create a GridSearchCV object for random forest\n",
        "grid_search = GridSearchCV(pipe, svc_param_grid, cv=5, n_jobs=-1, verbose=0,\n",
        "                           scoring='f1_macro', return_train_score=True)\n",
        "# Fit the GridSearchCV object on the transformed training data\n",
        "pipe.fit(X_train_transformed, y_train)\n",
        "\n",
        "# Print the best hyperparameters\n",
        "# print(f'Best hyperparameters for {w}: {grid_search.best_params_}')\n",
        "\n",
        "# # Evaluate the pipeline on the validation set\n",
        "# y_val_pred = grid_search.predict(X_val_transformed)\n",
        "# f1_val = f1_score(y_val, y_val_pred, average='macro')\n",
        "# print(f'F1 score on validation set for {w}: {f1_val}')\n",
        "\n",
        "\n",
        "# Evaluate the pipeline on the test set\n",
        "y_test_pred = pipe.predict(X_test_transformed)\n",
        "f1_test = f1_score(y_test, y_test_pred,average='macro')\n",
        "print(f'F1 score on test set for {w}: {f1_test}')\n",
        "\n",
        "score_SVC.append(f1_test)"
      ],
      "metadata": {
        "id": "BPgFUabl0jfn",
        "outputId": "ccab3b10-8e1b-4824-eec8-8c5c4e5599ed",
        "colab": {
          "base_uri": "https://localhost:8080/"
        }
      },
      "id": "BPgFUabl0jfn",
      "execution_count": null,
      "outputs": [
        {
          "output_type": "stream",
          "name": "stdout",
          "text": [
            "(2077, 175)\n",
            "dmey\n",
            "(1453, 50)\n",
            "F1 score on test set for dmey: 0.9212951913566556\n"
          ]
        }
      ]
    },
    {
      "cell_type": "markdown",
      "id": "043c5b61",
      "metadata": {
        "id": "043c5b61"
      },
      "source": [
        "# CONFUSION MATRIX"
      ]
    },
    {
      "cell_type": "code",
      "execution_count": null,
      "id": "272e9a3d",
      "metadata": {
        "id": "272e9a3d"
      },
      "outputs": [],
      "source": [
        "from sklearn.metrics import confusion_matrix\n",
        "test_confu_matrix = confusion_matrix(y_test,  y_pred)"
      ]
    },
    {
      "cell_type": "code",
      "execution_count": null,
      "id": "8a8e0c6d",
      "metadata": {
        "id": "8a8e0c6d"
      },
      "outputs": [],
      "source": [
        "# confusion matrix\n",
        "import seaborn as sns\n",
        "plt.figure(2,figsize=(3,3))\n",
        "# sns.heatmap(test_confu_matrix, annot = True,\n",
        "# xticklabels=Labels, yticklabels=Labels, cmap = \"Blues\")\n",
        "# plt.title('Test Confusion Matrix')\n",
        "# plt.xlabel('Predicted')\n",
        "# plt.ylabel('True')\n",
        "# plt.show()\n",
        "sns.heatmap(test_confu_matrix, xticklabels=labels, yticklabels=labels, annot=True,linewidths = 0.1, fmt='d', cmap = 'YlGnBu')\n",
        "plt.title('Confusion matrix', fontsize = 15)\n",
        "plt.ylabel('True')\n",
        "plt.xlabel('Predicted')\n",
        "plt.show()"
      ]
    },
    {
      "cell_type": "markdown",
      "source": [
        "# Ploting f1_score"
      ],
      "metadata": {
        "id": "cUn_Oxv689Oq"
      },
      "id": "cUn_Oxv689Oq"
    },
    {
      "cell_type": "code",
      "source": [
        "path1 = '/content/drive/MyDrive/f1_F-WF_T-WT_L2-L3.csv'\n",
        "df1 = pd.read_csv(path1,sep='\\t')\n",
        "df1 = df1.drop(['Unnamed: 0'], axis = 1)"
      ],
      "metadata": {
        "id": "i9Ma_ChuYcLK"
      },
      "id": "i9Ma_ChuYcLK",
      "execution_count": 4,
      "outputs": []
    },
    {
      "cell_type": "code",
      "source": [
        "df1.columns"
      ],
      "metadata": {
        "id": "W0HXzEe5Yq7U",
        "outputId": "0c3bd031-fe92-496f-f1c6-dfc7cbd3656c",
        "colab": {
          "base_uri": "https://localhost:8080/"
        }
      },
      "id": "W0HXzEe5Yq7U",
      "execution_count": 6,
      "outputs": [
        {
          "output_type": "execute_result",
          "data": {
            "text/plain": [
              "Index(['wavelet', 'L3RF_f1_WT', 'L3SVC_f1_WT', 'L2RF_f1_WT', 'L2SVC_f1_WT',\n",
              "       'L3MLP_f1_WT', 'L2MLP_f1_WT', 'L3RF_f1_T', 'L3SVC_f1_T', 'L3SVC_ac_T',\n",
              "       'L3MLP_f1_T', 'L3MLP_ac_T', 'L3RF_WF_WT', 'L2RF_WF_WT', 'L3SVC_WF_WT',\n",
              "       'L2SVC_WF_WT', 'L3MLP_WF_WT', 'L2MLP_WF_WT'],\n",
              "      dtype='object')"
            ]
          },
          "metadata": {},
          "execution_count": 6
        }
      ]
    },
    {
      "cell_type": "code",
      "source": [
        "# ploting subplot of L2 and L3 with and without feature reduction and without tuning\n",
        "\n",
        "import matplotlib.pyplot as plt\n",
        "from matplotlib.lines import Line2D\n",
        "\n",
        "X = df1['wavelet']\n",
        "Y = df1.drop(['wavelet'], axis = 1)\n",
        "Y.iloc[:, :] *= 100\n",
        "# coly = Y.columns\n",
        "\n",
        "#ploting-----------------------------------------------------------------------\n",
        "l3 = Y[['L3RF_f1_WT','L3SVC_f1_WT','L3MLP_f1_WT','L3RF_WF_WT','L3SVC_WF_WT','L3MLP_WF_WT']] \n",
        "l2 = Y[['L2RF_f1_WT','L2SVC_f1_WT','L2MLP_f1_WT','L2RF_WF_WT','L2SVC_WF_WT','L2MLP_WF_WT']] \n",
        "l2l3 = Y[['L2RF_f1_WT','L2SVC_f1_WT','L2MLP_f1_WT','L3RF_f1_WT','L3SVC_f1_WT','L3MLP_f1_WT']] \n",
        "\n",
        "l3col = l3.columns\n",
        "l2col = l2.columns\n",
        "l2l3col = l2l3.columns\n",
        "\n",
        "#linestyle and color\n",
        "line = ['--','--','--',':',':',':']\n",
        "colors = ['red', 'blue','brown','red', 'blue','brown']\n",
        "\n",
        "# define custom legend lines with correct line styles\n",
        "legend_lines = [Line2D([0], [0], linestyle=line, color=color, linewidth=2) for line, color in zip(line, colors)]\n",
        "\n",
        "# Create a figure with 4 subplots arranged vertically\n",
        "fig, axs = plt.subplots(nrows=3, ncols=1, figsize=(16, 20))\n",
        "plt.rc('font', family='serif ')\n",
        "\n",
        "for i, col in enumerate(l2col):\n",
        "  axs[0].plot(X, l2[col],linestyle = line[i] ,linewidth = 2, color=colors[i])\n",
        "axs[0].legend(legend_lines,l2col,fontsize=12,loc='upper center', bbox_to_anchor=(0.5, 1), ncol=6, frameon=False)\n",
        "\n",
        "for i, col in enumerate(l3col):\n",
        "  axs[1].plot(X, l3[col],linestyle = line[i] ,linewidth = 2, color=colors[i])  \n",
        "axs[1].legend(legend_lines,l3col,fontsize=12,loc='upper center', bbox_to_anchor=(0.5, 1), ncol=6, frameon=False)\n",
        "\n",
        "for i, col in enumerate(l2l3col):\n",
        "  axs[2].plot(X, l2l3[col],linestyle = line[i] ,linewidth = 2, color=colors[i])  \n",
        "axs[2].legend(legend_lines,l2l3col,fontsize=12,loc='upper center', bbox_to_anchor=(0.5, 1), ncol=6, frameon=False)\n",
        "\n",
        "\n",
        "# set the axis limit\n",
        "axs[0].set_ylim(70,100)\n",
        "axs[1].set_ylim(83,100)\n",
        "axs[2].set_ylim(80,100)\n",
        "\n",
        "# set label\n",
        "axs[0].set_xlabel('Mother Wavelet', fontsize=14)\n",
        "axs[0].set_ylabel('f1_score (%)', fontsize=14)\n",
        "axs[1].set_xlabel('Mother Wavelet', fontsize=14)\n",
        "axs[1].set_ylabel('f1_score (%)', fontsize=14)\n",
        "axs[2].set_xlabel('Mother Wavelet', fontsize=14)\n",
        "axs[2].set_ylabel('f1_score (%)', fontsize=14)\n",
        "\n",
        "# set font size of tick labels\n",
        "axs[0].tick_params(axis='both', labelsize=12)\n",
        "axs[0].set_xticklabels(X, rotation=90)\n",
        "axs[1].tick_params(axis='both', labelsize=12)\n",
        "axs[1].set_xticklabels(X, rotation=90)\n",
        "axs[2].tick_params(axis='both', labelsize=12)\n",
        "axs[2].set_xticklabels(X, rotation=90)\n",
        "\n",
        "# remove grid lines from subplot\n",
        "axs[0].grid(False)\n",
        "axs[1].grid(False)\n",
        "axs[2].grid(False)\n",
        "\n",
        "# Set the overall title of the figure\n",
        "#fig.suptitle('Three subplots', fontsize=16)\n",
        "\n",
        "# Adjust the spacing between subplots\n",
        "plt.subplots_adjust(hspace=0.5)\n",
        "\n",
        "# Show the plot\n",
        "plt.show()\n",
        "\n",
        "# Save the plot in TIFF format with a resolution of 300 pixels and transparent background\n",
        "# plt.savefig('plotsample.tiff', dpi=300, format='tiff', transparent=True)\n",
        "\n",
        "plt.clf()"
      ],
      "metadata": {
        "id": "2iIeMgeFya5N"
      },
      "id": "2iIeMgeFya5N",
      "execution_count": null,
      "outputs": []
    },
    {
      "cell_type": "code",
      "source": [
        "# ploting l3 tuned vs not tuned models\n",
        "\n",
        "#ploting dataframe of f1score\n",
        "X = df1['wavelet']\n",
        "Y = df1.drop(['wavelet'], axis = 1)\n",
        "Y.iloc[:, :] *= 100\n",
        "coly = Y.columns\n",
        "\n",
        "#ploting-----------------------------------------------------------------------\n",
        "k = Y[['L3RF_f1_WT','L3SVC_f1_WT','L3MLP_f1_WT','L3RF_f1_T','L3SVC_f1_T','L3MLP_f1_T']] \n",
        "\n",
        "kcol = k.columns\n",
        "\n",
        "import matplotlib.pyplot as plt\n",
        "\n",
        "# Create a figure with 4 subplots arranged vertically\n",
        "fig, axs = plt.subplots(nrows=4, ncols=1, figsize=(12, 20))\n",
        "plt.rc('font', family='serif ')\n",
        "# Plot data in each subplot\n",
        "axs[0].plot(X, k['L3RF_f1_WT'],'brown', linestyle = '--')\n",
        "axs[0].plot(X, k['L3RF_f1_T'],'brown',linestyle = ':')\n",
        "\n",
        "axs[1].plot(X, k['L3SVC_f1_WT'],'green', linestyle = '--')\n",
        "axs[1].plot(X, k['L3SVC_f1_T'],'green',linestyle = ':')\n",
        "\n",
        "axs[2].plot(X, k['L3MLP_f1_WT'],'red', linestyle = '--')\n",
        "axs[2].plot(X, k['L3MLP_f1_T'],'red',linestyle = ':')\n",
        "\n",
        "axs[3].plot(X, k['L3RF_f1_T'],'brown', linestyle = '--')\n",
        "axs[3].plot(X, k['L3SVC_f1_T'],'green',linestyle = '--')\n",
        "axs[3].plot(X, k['L3MLP_f1_T'],'red',linestyle = '--')\n",
        "\n",
        "# set the axis limit\n",
        "# axs[0,0].set_xlim(0,15)\n",
        "# axs[0,1].set_xlim(0,15)\n",
        "# axs[1,0].set_xlim(0,15)\n",
        "# axs[1,0].set_xlim(0,15)\n",
        "axs[0].set_ylim(85,100)\n",
        "axs[1].set_ylim(85,100)\n",
        "axs[2].set_ylim(85,100)\n",
        "axs[3].set_ylim(85,100)\n",
        "\n",
        "# set label\n",
        "# axs[0].set_xlabel('Time (sec)', fontsize=14)\n",
        "# axs[0].set_ylabel('X-axis', fontsize=14)\n",
        "# axs[1].set_xlabel('Time (sec)', fontsize=14)\n",
        "# axs[1].set_ylabel('Y-axis', fontsize=14)\n",
        "# axs[2].set_xlabel('Time (sec)', fontsize=14)\n",
        "# axs[2].set_ylabel('Z-axis', fontsize=14)\n",
        "\n",
        "# set font size of tick labels\n",
        "axs[0].tick_params(axis='both', labelsize=12)\n",
        "axs[0].set_xticklabels(X, rotation=90)\n",
        "axs[1].tick_params(axis='both', labelsize=12)\n",
        "axs[1].set_xticklabels(X, rotation=90)\n",
        "axs[2].tick_params(axis='both', labelsize=12)\n",
        "axs[2].set_xticklabels(X, rotation=90)\n",
        "axs[3].tick_params(axis='both', labelsize=12)\n",
        "axs[3].set_xticklabels(X, rotation=90)\n",
        "\n",
        "# remove grid lines from subplot\n",
        "# axs[0].grid(False)\n",
        "# axs[1].grid(False)\n",
        "# axs[2].grid(False)\n",
        "\n",
        "# Set the overall title of the figure\n",
        "#fig.suptitle('Three subplots', fontsize=16)\n",
        "\n",
        "# Adjust the spacing between subplots\n",
        "plt.subplots_adjust(hspace=0.8)\n",
        "\n",
        "# Show the plot\n",
        "plt.show()\n",
        "\n",
        "# Save the plot in TIFF format with a resolution of 300 pixels and transparent background\n",
        "# plt.savefig('plotsample.tiff', dpi=300, format='tiff', transparent=True)\n",
        "\n",
        "plt.clf()\n"
      ],
      "metadata": {
        "id": "zmsvve9uZzyL",
        "outputId": "491ad374-3174-4097-ddc9-1cdec7b93b2a",
        "colab": {
          "base_uri": "https://localhost:8080/",
          "height": 1000
        }
      },
      "id": "zmsvve9uZzyL",
      "execution_count": 25,
      "outputs": [
        {
          "output_type": "stream",
          "name": "stderr",
          "text": [
            "<ipython-input-25-2ac2332a6881>:52: UserWarning: FixedFormatter should only be used together with FixedLocator\n",
            "  axs[0].set_xticklabels(X, rotation=90)\n",
            "<ipython-input-25-2ac2332a6881>:54: UserWarning: FixedFormatter should only be used together with FixedLocator\n",
            "  axs[1].set_xticklabels(X, rotation=90)\n",
            "<ipython-input-25-2ac2332a6881>:56: UserWarning: FixedFormatter should only be used together with FixedLocator\n",
            "  axs[2].set_xticklabels(X, rotation=90)\n",
            "<ipython-input-25-2ac2332a6881>:58: UserWarning: FixedFormatter should only be used together with FixedLocator\n",
            "  axs[3].set_xticklabels(X, rotation=90)\n"
          ]
        },
        {
          "output_type": "display_data",
          "data": {
            "text/plain": [
              "<Figure size 1200x2000 with 4 Axes>"
            ],
            "image/png": "[encoded data removed]"
          },
          "metadata": {}
        },
        {
          "output_type": "display_data",
          "data": {
            "text/plain": [
              "<Figure size 640x480 with 0 Axes>"
            ]
          },
          "metadata": {}
        }
      ]
    }
  ],
  "metadata": {
    "kernelspec": {
      "display_name": "Python 3 (ipykernel)",
      "language": "python",
      "name": "python3"
    },
    "language_info": {
      "codemirror_mode": {
        "name": "ipython",
        "version": 3
      },
      "file_extension": ".py",
      "mimetype": "text/x-python",
      "name": "python",
      "nbconvert_exporter": "python",
      "pygments_lexer": "ipython3",
      "version": "3.9.13"
    },
    "colab": {
      "provenance": [],
      "include_colab_link": true
    }
  },
  "nbformat": 4,
  "nbformat_minor": 5
}